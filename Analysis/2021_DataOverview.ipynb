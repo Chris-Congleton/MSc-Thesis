{
  "nbformat": 4,
  "nbformat_minor": 0,
  "metadata": {
    "colab": {
      "name": "Testset_2021_playground.ipynb",
      "provenance": [],
      "authorship_tag": "ABX9TyMUXNY2Uz+Vr6sO9bz+/A6R",
      "include_colab_link": true
    },
    "kernelspec": {
      "name": "python3",
      "display_name": "Python 3"
    },
    "language_info": {
      "name": "python"
    },
    "accelerator": "TPU"
  },
  "cells": [
    {
      "cell_type": "markdown",
      "metadata": {
        "id": "view-in-github",
        "colab_type": "text"
      },
      "source": [
        "<a href=\"https://colab.research.google.com/github/Chris-Congleton/MSc-Thesis/blob/main/Analysis/2021_DataOverview.ipynb\" target=\"_parent\"><img src=\"https://colab.research.google.com/assets/colab-badge.svg\" alt=\"Open In Colab\"/></a>"
      ]
    },
    {
      "cell_type": "markdown",
      "source": [
        "# Imports\n"
      ],
      "metadata": {
        "id": "xRJGeZYeQyUa"
      }
    },
    {
      "cell_type": "code",
      "execution_count": null,
      "metadata": {
        "colab": {
          "base_uri": "https://localhost:8080/"
        },
        "id": "oBqw7TELQbX0",
        "outputId": "af32311b-e75a-45a4-841a-fd331a827afb"
      },
      "outputs": [
        {
          "output_type": "stream",
          "name": "stdout",
          "text": [
            "Requirement already satisfied: gensim in /usr/local/lib/python3.7/dist-packages (3.6.0)\n",
            "Collecting gensim\n",
            "  Downloading gensim-4.1.2-cp37-cp37m-manylinux_2_12_x86_64.manylinux2010_x86_64.whl (24.1 MB)\n",
            "\u001b[K     |████████████████████████████████| 24.1 MB 2.1 MB/s \n",
            "\u001b[?25hRequirement already satisfied: smart-open>=1.8.1 in /usr/local/lib/python3.7/dist-packages (from gensim) (5.2.1)\n",
            "Requirement already satisfied: scipy>=0.18.1 in /usr/local/lib/python3.7/dist-packages (from gensim) (1.4.1)\n",
            "Requirement already satisfied: numpy>=1.17.0 in /usr/local/lib/python3.7/dist-packages (from gensim) (1.21.5)\n",
            "Installing collected packages: gensim\n",
            "  Attempting uninstall: gensim\n",
            "    Found existing installation: gensim 3.6.0\n",
            "    Uninstalling gensim-3.6.0:\n",
            "      Successfully uninstalled gensim-3.6.0\n",
            "Successfully installed gensim-4.1.2\n",
            "Collecting pyLDAvis\n",
            "  Downloading pyLDAvis-3.3.1.tar.gz (1.7 MB)\n",
            "\u001b[K     |████████████████████████████████| 1.7 MB 5.1 MB/s \n",
            "\u001b[?25h  Installing build dependencies ... \u001b[?25l\u001b[?25hdone\n",
            "  Getting requirements to build wheel ... \u001b[?25l\u001b[?25hdone\n",
            "  Installing backend dependencies ... \u001b[?25l\u001b[?25hdone\n",
            "    Preparing wheel metadata ... \u001b[?25l\u001b[?25hdone\n",
            "Requirement already satisfied: future in /usr/local/lib/python3.7/dist-packages (from pyLDAvis) (0.16.0)\n",
            "Requirement already satisfied: pandas>=1.2.0 in /usr/local/lib/python3.7/dist-packages (from pyLDAvis) (1.3.5)\n",
            "Requirement already satisfied: jinja2 in /usr/local/lib/python3.7/dist-packages (from pyLDAvis) (2.11.3)\n",
            "Requirement already satisfied: sklearn in /usr/local/lib/python3.7/dist-packages (from pyLDAvis) (0.0)\n",
            "Requirement already satisfied: setuptools in /usr/local/lib/python3.7/dist-packages (from pyLDAvis) (57.4.0)\n",
            "Requirement already satisfied: scikit-learn in /usr/local/lib/python3.7/dist-packages (from pyLDAvis) (1.0.2)\n",
            "Collecting funcy\n",
            "  Downloading funcy-1.17-py2.py3-none-any.whl (33 kB)\n",
            "Requirement already satisfied: numpy>=1.20.0 in /usr/local/lib/python3.7/dist-packages (from pyLDAvis) (1.21.5)\n",
            "Requirement already satisfied: gensim in /usr/local/lib/python3.7/dist-packages (from pyLDAvis) (4.1.2)\n",
            "Requirement already satisfied: scipy in /usr/local/lib/python3.7/dist-packages (from pyLDAvis) (1.4.1)\n",
            "Requirement already satisfied: numexpr in /usr/local/lib/python3.7/dist-packages (from pyLDAvis) (2.8.1)\n",
            "Requirement already satisfied: joblib in /usr/local/lib/python3.7/dist-packages (from pyLDAvis) (1.1.0)\n",
            "Requirement already satisfied: python-dateutil>=2.7.3 in /usr/local/lib/python3.7/dist-packages (from pandas>=1.2.0->pyLDAvis) (2.8.2)\n",
            "Requirement already satisfied: pytz>=2017.3 in /usr/local/lib/python3.7/dist-packages (from pandas>=1.2.0->pyLDAvis) (2018.9)\n",
            "Requirement already satisfied: six>=1.5 in /usr/local/lib/python3.7/dist-packages (from python-dateutil>=2.7.3->pandas>=1.2.0->pyLDAvis) (1.15.0)\n",
            "Requirement already satisfied: smart-open>=1.8.1 in /usr/local/lib/python3.7/dist-packages (from gensim->pyLDAvis) (5.2.1)\n",
            "Requirement already satisfied: MarkupSafe>=0.23 in /usr/local/lib/python3.7/dist-packages (from jinja2->pyLDAvis) (2.0.1)\n",
            "Requirement already satisfied: packaging in /usr/local/lib/python3.7/dist-packages (from numexpr->pyLDAvis) (21.3)\n",
            "Requirement already satisfied: pyparsing!=3.0.5,>=2.0.2 in /usr/local/lib/python3.7/dist-packages (from packaging->numexpr->pyLDAvis) (3.0.7)\n",
            "Requirement already satisfied: threadpoolctl>=2.0.0 in /usr/local/lib/python3.7/dist-packages (from scikit-learn->pyLDAvis) (3.1.0)\n",
            "Building wheels for collected packages: pyLDAvis\n",
            "  Building wheel for pyLDAvis (PEP 517) ... \u001b[?25l\u001b[?25hdone\n",
            "  Created wheel for pyLDAvis: filename=pyLDAvis-3.3.1-py2.py3-none-any.whl size=136898 sha256=a9f15aff89c6b10a88acdfec9505fe17ba9d56e3b0d3c2601aab4fe87c566894\n",
            "  Stored in directory: /root/.cache/pip/wheels/c9/21/f6/17bcf2667e8a68532ba2fbf6d5c72fdf4c7f7d9abfa4852d2f\n",
            "Successfully built pyLDAvis\n",
            "Installing collected packages: funcy, pyLDAvis\n",
            "Successfully installed funcy-1.17 pyLDAvis-3.3.1\n",
            "Collecting shap\n",
            "  Downloading shap-0.40.0-cp37-cp37m-manylinux2010_x86_64.whl (564 kB)\n",
            "\u001b[K     |████████████████████████████████| 564 kB 5.3 MB/s \n",
            "\u001b[?25hRequirement already satisfied: cloudpickle in /usr/local/lib/python3.7/dist-packages (from shap) (1.3.0)\n",
            "Requirement already satisfied: tqdm>4.25.0 in /usr/local/lib/python3.7/dist-packages (from shap) (4.63.0)\n",
            "Requirement already satisfied: scipy in /usr/local/lib/python3.7/dist-packages (from shap) (1.4.1)\n",
            "Requirement already satisfied: packaging>20.9 in /usr/local/lib/python3.7/dist-packages (from shap) (21.3)\n",
            "Requirement already satisfied: numba in /usr/local/lib/python3.7/dist-packages (from shap) (0.51.2)\n",
            "Collecting slicer==0.0.7\n",
            "  Downloading slicer-0.0.7-py3-none-any.whl (14 kB)\n",
            "Requirement already satisfied: numpy in /usr/local/lib/python3.7/dist-packages (from shap) (1.21.5)\n",
            "Requirement already satisfied: pandas in /usr/local/lib/python3.7/dist-packages (from shap) (1.3.5)\n",
            "Requirement already satisfied: scikit-learn in /usr/local/lib/python3.7/dist-packages (from shap) (1.0.2)\n",
            "Requirement already satisfied: pyparsing!=3.0.5,>=2.0.2 in /usr/local/lib/python3.7/dist-packages (from packaging>20.9->shap) (3.0.7)\n",
            "Requirement already satisfied: llvmlite<0.35,>=0.34.0.dev0 in /usr/local/lib/python3.7/dist-packages (from numba->shap) (0.34.0)\n",
            "Requirement already satisfied: setuptools in /usr/local/lib/python3.7/dist-packages (from numba->shap) (57.4.0)\n",
            "Requirement already satisfied: pytz>=2017.3 in /usr/local/lib/python3.7/dist-packages (from pandas->shap) (2018.9)\n",
            "Requirement already satisfied: python-dateutil>=2.7.3 in /usr/local/lib/python3.7/dist-packages (from pandas->shap) (2.8.2)\n",
            "Requirement already satisfied: six>=1.5 in /usr/local/lib/python3.7/dist-packages (from python-dateutil>=2.7.3->pandas->shap) (1.15.0)\n",
            "Requirement already satisfied: threadpoolctl>=2.0.0 in /usr/local/lib/python3.7/dist-packages (from scikit-learn->shap) (3.1.0)\n",
            "Requirement already satisfied: joblib>=0.11 in /usr/local/lib/python3.7/dist-packages (from scikit-learn->shap) (1.1.0)\n",
            "Installing collected packages: slicer, shap\n",
            "Successfully installed shap-0.40.0 slicer-0.0.7\n",
            "Collecting datasets\n",
            "  Downloading datasets-2.0.0-py3-none-any.whl (325 kB)\n",
            "\u001b[K     |████████████████████████████████| 325 kB 5.2 MB/s \n",
            "\u001b[?25hRequirement already satisfied: requests>=2.19.0 in /usr/local/lib/python3.7/dist-packages (from datasets) (2.23.0)\n",
            "Requirement already satisfied: tqdm>=4.62.1 in /usr/local/lib/python3.7/dist-packages (from datasets) (4.63.0)\n",
            "Collecting xxhash\n",
            "  Downloading xxhash-3.0.0-cp37-cp37m-manylinux_2_17_x86_64.manylinux2014_x86_64.whl (212 kB)\n",
            "\u001b[K     |████████████████████████████████| 212 kB 61.6 MB/s \n",
            "\u001b[?25hCollecting huggingface-hub<1.0.0,>=0.1.0\n",
            "  Downloading huggingface_hub-0.4.0-py3-none-any.whl (67 kB)\n",
            "\u001b[K     |████████████████████████████████| 67 kB 5.4 MB/s \n",
            "\u001b[?25hRequirement already satisfied: numpy>=1.17 in /usr/local/lib/python3.7/dist-packages (from datasets) (1.21.5)\n",
            "Collecting fsspec[http]>=2021.05.0\n",
            "  Downloading fsspec-2022.3.0-py3-none-any.whl (136 kB)\n",
            "\u001b[K     |████████████████████████████████| 136 kB 77.0 MB/s \n",
            "\u001b[?25hCollecting aiohttp\n",
            "  Downloading aiohttp-3.8.1-cp37-cp37m-manylinux_2_5_x86_64.manylinux1_x86_64.manylinux_2_12_x86_64.manylinux2010_x86_64.whl (1.1 MB)\n",
            "\u001b[K     |████████████████████████████████| 1.1 MB 35.2 MB/s \n",
            "\u001b[?25hRequirement already satisfied: multiprocess in /usr/local/lib/python3.7/dist-packages (from datasets) (0.70.12.2)\n",
            "Requirement already satisfied: importlib-metadata in /usr/local/lib/python3.7/dist-packages (from datasets) (4.11.3)\n",
            "Requirement already satisfied: packaging in /usr/local/lib/python3.7/dist-packages (from datasets) (21.3)\n",
            "Requirement already satisfied: dill in /usr/local/lib/python3.7/dist-packages (from datasets) (0.3.4)\n",
            "Requirement already satisfied: pyarrow>=5.0.0 in /usr/local/lib/python3.7/dist-packages (from datasets) (6.0.1)\n",
            "Collecting responses<0.19\n",
            "  Downloading responses-0.18.0-py3-none-any.whl (38 kB)\n",
            "Requirement already satisfied: pandas in /usr/local/lib/python3.7/dist-packages (from datasets) (1.3.5)\n",
            "Requirement already satisfied: typing-extensions>=3.7.4.3 in /usr/local/lib/python3.7/dist-packages (from huggingface-hub<1.0.0,>=0.1.0->datasets) (3.10.0.2)\n",
            "Requirement already satisfied: filelock in /usr/local/lib/python3.7/dist-packages (from huggingface-hub<1.0.0,>=0.1.0->datasets) (3.6.0)\n",
            "Requirement already satisfied: pyyaml in /usr/local/lib/python3.7/dist-packages (from huggingface-hub<1.0.0,>=0.1.0->datasets) (3.13)\n",
            "Requirement already satisfied: pyparsing!=3.0.5,>=2.0.2 in /usr/local/lib/python3.7/dist-packages (from packaging->datasets) (3.0.7)\n",
            "Requirement already satisfied: urllib3!=1.25.0,!=1.25.1,<1.26,>=1.21.1 in /usr/local/lib/python3.7/dist-packages (from requests>=2.19.0->datasets) (1.24.3)\n",
            "Requirement already satisfied: chardet<4,>=3.0.2 in /usr/local/lib/python3.7/dist-packages (from requests>=2.19.0->datasets) (3.0.4)\n",
            "Requirement already satisfied: certifi>=2017.4.17 in /usr/local/lib/python3.7/dist-packages (from requests>=2.19.0->datasets) (2021.10.8)\n",
            "Requirement already satisfied: idna<3,>=2.5 in /usr/local/lib/python3.7/dist-packages (from requests>=2.19.0->datasets) (2.10)\n",
            "Collecting urllib3!=1.25.0,!=1.25.1,<1.26,>=1.21.1\n",
            "  Downloading urllib3-1.25.11-py2.py3-none-any.whl (127 kB)\n",
            "\u001b[K     |████████████████████████████████| 127 kB 16.6 MB/s \n",
            "\u001b[?25hCollecting aiosignal>=1.1.2\n",
            "  Downloading aiosignal-1.2.0-py3-none-any.whl (8.2 kB)\n",
            "Collecting asynctest==0.13.0\n",
            "  Downloading asynctest-0.13.0-py3-none-any.whl (26 kB)\n",
            "Requirement already satisfied: charset-normalizer<3.0,>=2.0 in /usr/local/lib/python3.7/dist-packages (from aiohttp->datasets) (2.0.12)\n",
            "Requirement already satisfied: attrs>=17.3.0 in /usr/local/lib/python3.7/dist-packages (from aiohttp->datasets) (21.4.0)\n",
            "Collecting yarl<2.0,>=1.0\n",
            "  Downloading yarl-1.7.2-cp37-cp37m-manylinux_2_5_x86_64.manylinux1_x86_64.manylinux_2_12_x86_64.manylinux2010_x86_64.whl (271 kB)\n",
            "\u001b[K     |████████████████████████████████| 271 kB 58.5 MB/s \n",
            "\u001b[?25hCollecting async-timeout<5.0,>=4.0.0a3\n",
            "  Downloading async_timeout-4.0.2-py3-none-any.whl (5.8 kB)\n",
            "Collecting frozenlist>=1.1.1\n",
            "  Downloading frozenlist-1.3.0-cp37-cp37m-manylinux_2_5_x86_64.manylinux1_x86_64.manylinux_2_17_x86_64.manylinux2014_x86_64.whl (144 kB)\n",
            "\u001b[K     |████████████████████████████████| 144 kB 10.5 MB/s \n",
            "\u001b[?25hCollecting multidict<7.0,>=4.5\n",
            "  Downloading multidict-6.0.2-cp37-cp37m-manylinux_2_17_x86_64.manylinux2014_x86_64.whl (94 kB)\n",
            "\u001b[K     |████████████████████████████████| 94 kB 3.0 MB/s \n",
            "\u001b[?25hRequirement already satisfied: zipp>=0.5 in /usr/local/lib/python3.7/dist-packages (from importlib-metadata->datasets) (3.7.0)\n",
            "Requirement already satisfied: pytz>=2017.3 in /usr/local/lib/python3.7/dist-packages (from pandas->datasets) (2018.9)\n",
            "Requirement already satisfied: python-dateutil>=2.7.3 in /usr/local/lib/python3.7/dist-packages (from pandas->datasets) (2.8.2)\n",
            "Requirement already satisfied: six>=1.5 in /usr/local/lib/python3.7/dist-packages (from python-dateutil>=2.7.3->pandas->datasets) (1.15.0)\n",
            "Installing collected packages: multidict, frozenlist, yarl, urllib3, asynctest, async-timeout, aiosignal, fsspec, aiohttp, xxhash, responses, huggingface-hub, datasets\n",
            "  Attempting uninstall: urllib3\n",
            "    Found existing installation: urllib3 1.24.3\n",
            "    Uninstalling urllib3-1.24.3:\n",
            "      Successfully uninstalled urllib3-1.24.3\n",
            "\u001b[31mERROR: pip's dependency resolver does not currently take into account all the packages that are installed. This behaviour is the source of the following dependency conflicts.\n",
            "datascience 0.10.6 requires folium==0.2.1, but you have folium 0.8.3 which is incompatible.\u001b[0m\n",
            "Successfully installed aiohttp-3.8.1 aiosignal-1.2.0 async-timeout-4.0.2 asynctest-0.13.0 datasets-2.0.0 frozenlist-1.3.0 fsspec-2022.3.0 huggingface-hub-0.4.0 multidict-6.0.2 responses-0.18.0 urllib3-1.25.11 xxhash-3.0.0 yarl-1.7.2\n",
            "[nltk_data] Downloading package punkt to /root/nltk_data...\n",
            "[nltk_data]   Unzipping tokenizers/punkt.zip.\n",
            "[nltk_data] Downloading package stopwords to /root/nltk_data...\n",
            "[nltk_data]   Unzipping corpora/stopwords.zip.\n"
          ]
        },
        {
          "output_type": "stream",
          "name": "stderr",
          "text": [
            "/usr/local/lib/python3.7/dist-packages/past/types/oldstr.py:5: DeprecationWarning: Using or importing the ABCs from 'collections' instead of from 'collections.abc' is deprecated since Python 3.3,and in 3.9 it will stop working\n",
            "  from collections import Iterable\n",
            "/usr/local/lib/python3.7/dist-packages/past/builtins/misc.py:4: DeprecationWarning: Using or importing the ABCs from 'collections' instead of from 'collections.abc' is deprecated since Python 3.3,and in 3.9 it will stop working\n",
            "  from collections import Mapping\n",
            "/usr/local/lib/python3.7/dist-packages/numba/core/types/__init__.py:108: DeprecationWarning: `np.long` is a deprecated alias for `np.compat.long`. To silence this warning, use `np.compat.long` by itself. In the likely event your code does not need to work on Python 2 you can use the builtin `int` for which `np.compat.long` is itself an alias. Doing this will not modify any behaviour and is safe. When replacing `np.long`, you may wish to use e.g. `np.int64` or `np.int32` to specify the precision. If you wish to review your current use, check the release note link for additional information.\n",
            "Deprecated in NumPy 1.20; for more details and guidance: https://numpy.org/devdocs/release/1.20.0-notes.html#deprecations\n",
            "  long_ = _make_signed(np.long)\n",
            "/usr/local/lib/python3.7/dist-packages/numba/core/types/__init__.py:109: DeprecationWarning: `np.long` is a deprecated alias for `np.compat.long`. To silence this warning, use `np.compat.long` by itself. In the likely event your code does not need to work on Python 2 you can use the builtin `int` for which `np.compat.long` is itself an alias. Doing this will not modify any behaviour and is safe. When replacing `np.long`, you may wish to use e.g. `np.int64` or `np.int32` to specify the precision. If you wish to review your current use, check the release note link for additional information.\n",
            "Deprecated in NumPy 1.20; for more details and guidance: https://numpy.org/devdocs/release/1.20.0-notes.html#deprecations\n",
            "  ulong = _make_unsigned(np.long)\n"
          ]
        }
      ],
      "source": [
        "!pip install -U gensim\n",
        "!pip install pyLDAvis\n",
        "!pip install shap\n",
        "!pip install datasets\n",
        "\n",
        "import json, os\n",
        "import pandas as pd\n",
        "import numpy as np\n",
        "import nltk\n",
        "import glob\n",
        "import matplotlib.pyplot as plt\n",
        "import datetime\n",
        "from tqdm import tqdm\n",
        "nltk.download('punkt')\n",
        "\n",
        "# regular expression library\n",
        "import re\n",
        "# wordcloud library\n",
        "from wordcloud import WordCloud\n",
        "import pprint\n",
        "\n",
        "import gensim\n",
        "from gensim.utils import simple_preprocess\n",
        "nltk.download('stopwords')\n",
        "from nltk.corpus import stopwords\n",
        "stop_words = stopwords.words('dutch')\n",
        "\n",
        "import gensim.corpora as corpora\n",
        "\n",
        "import pyLDAvis.gensim_models as gensimvis\n",
        "import pickle \n",
        "import pyLDAvis\n",
        "\n",
        "#Visualisation\n",
        "import seaborn as sns\n",
        "import matplotlib.pyplot as plt\n",
        "\n",
        "from sklearn.decomposition import IncrementalPCA    # inital reduction\n",
        "from sklearn.manifold import TSNE                   # final reduction                      \n",
        "import IPython\n",
        "\n",
        "from gensim.parsing.preprocessing import preprocess_string\n",
        "from gensim import utils\n",
        "import gensim.models\n",
        "\n",
        "from sklearn.metrics import classification_report, confusion_matrix, accuracy_score\n",
        "from sklearn.tree import DecisionTreeClassifier\n",
        "\n",
        "import shap\n",
        "import datasets"
      ]
    },
    {
      "cell_type": "markdown",
      "source": [
        "# Loading and cleaning data"
      ],
      "metadata": {
        "id": "o71WpJFFQ2Oi"
      }
    },
    {
      "cell_type": "code",
      "source": [
        "from google.colab import drive\n",
        "drive.mount(\"/content/gdrive\")"
      ],
      "metadata": {
        "colab": {
          "base_uri": "https://localhost:8080/"
        },
        "id": "c2sNutf0Q4PR",
        "outputId": "bc16574b-cece-471f-c5cf-40f851e60a16"
      },
      "execution_count": null,
      "outputs": [
        {
          "output_type": "stream",
          "name": "stdout",
          "text": [
            "Mounted at /content/gdrive\n"
          ]
        }
      ]
    },
    {
      "cell_type": "code",
      "source": [
        "!dir gdrive/MyDrive/CS/Thesis/Testset_2021/"
      ],
      "metadata": {
        "colab": {
          "base_uri": "https://localhost:8080/"
        },
        "id": "m8sOcbnsVmGA",
        "outputId": "fecdfe98-bc4f-40f8-82a9-ce254b542f22"
      },
      "execution_count": null,
      "outputs": [
        {
          "output_type": "stream",
          "name": "stdout",
          "text": [
            "HetParool_2021.json  LDA_HetParool.png\tLDA_Trouw.png\n",
            "LDA_all.html\t     LDA__.html\t\tLDA_Volkskrant.html\n",
            "LDA_All.html\t     LDA_NRC.html\tNRC_2021.json\n",
            "LDA_all.png\t     LDA_NRC.png\tTelegraaf_2021.json\n",
            "LDA_All.png\t     LDA__.png\t\tTrouw_2021.json\n",
            "LDA_HetParool.html   LDA_Trouw.html\tVolkskrant_2021.json\n"
          ]
        }
      ]
    },
    {
      "cell_type": "code",
      "source": [
        "path_NRC = 'gdrive/MyDrive/CS/Thesis/Testset_2021/NRC_2021.json'\n",
        "path_Trouw = 'gdrive/MyDrive/CS/Thesis/Testset_2021/Trouw_2021.json'\n",
        "path_HetParool = 'gdrive/MyDrive/CS/Thesis/Testset_2021/HetParool_2021.json'\n",
        "path_Telegraaf = 'gdrive/MyDrive/CS/Thesis/Testset_2021/Telegraaf_2021.json'\n",
        "path_Volkskrant = 'gdrive/MyDrive/CS/Thesis/Testset_2021/Volkskrant_2021.json'"
      ],
      "metadata": {
        "id": "Zh9O5J1RSKaA"
      },
      "execution_count": null,
      "outputs": []
    },
    {
      "cell_type": "code",
      "source": [
        "df_NRC = pd.read_json(path_NRC)\n",
        "df_Trouw = pd.read_json(path_Trouw)\n",
        "df_HetParool = pd.read_json(path_HetParool)\n",
        "df_Telegraaf = pd.read_json(path_Telegraaf)\n",
        "df_Volkskrant = pd.read_json(path_Volkskrant)"
      ],
      "metadata": {
        "id": "uPP1lTf2VkgY"
      },
      "execution_count": null,
      "outputs": []
    },
    {
      "cell_type": "code",
      "source": [
        "df_NRC[\"Source\"] = \"NRC\"\n",
        "df_Trouw[\"Source\"] = \"Trouw\"\n",
        "df_HetParool[\"Source\"] = \"HetParool\"\n",
        "df_Telegraaf[\"Source\"] = \"Telegraaf\"\n",
        "df_Volkskrant[\"Source\"] = \"Volkskrant\""
      ],
      "metadata": {
        "id": "BrAVWLvkTx0A"
      },
      "execution_count": null,
      "outputs": []
    },
    {
      "cell_type": "code",
      "source": [
        "print(df_NRC.shape)\n",
        "print(df_Trouw.shape)\n",
        "print(df_HetParool.shape)\n",
        "print(df_Volkskrant.shape)"
      ],
      "metadata": {
        "id": "EwhEcBPWXckI",
        "outputId": "4ed3b0e9-59dd-4442-d645-a4ec392ecf16",
        "colab": {
          "base_uri": "https://localhost:8080/"
        }
      },
      "execution_count": null,
      "outputs": [
        {
          "output_type": "stream",
          "name": "stdout",
          "text": [
            "(38334, 7)\n",
            "(21077, 7)\n",
            "(18551, 7)\n",
            "(25773, 7)\n"
          ]
        }
      ]
    },
    {
      "cell_type": "markdown",
      "source": [
        "## Concat data"
      ],
      "metadata": {
        "id": "hcD8v2yKv9vk"
      }
    },
    {
      "cell_type": "code",
      "source": [
        "\n",
        "dfs = [df_NRC, df_Trouw, df_HetParool, df_Volkskrant]\n",
        "df = pd.concat(dfs, ignore_index=True)\n",
        "\n",
        "df.head()"
      ],
      "metadata": {
        "colab": {
          "base_uri": "https://localhost:8080/",
          "height": 206
        },
        "id": "w2CGE6FDc7QI",
        "outputId": "e2f334a8-7e7d-444a-fe3a-e01f6784011d"
      },
      "execution_count": null,
      "outputs": [
        {
          "output_type": "execute_result",
          "data": {
            "text/plain": [
              "                                                 url            timestamp  \\\n",
              "0  https://www.nrc.nl/nieuws/2021/01/31/een-herha...  2021-01-31 20:18:43   \n",
              "1  https://www.nrc.nl/nieuws/2021/01/31/avondklok...  2021-01-31 20:02:10   \n",
              "2  https://www.nrc.nl/nieuws/2021/01/31/school-op...  2021-01-31 19:58:21   \n",
              "3  https://www.nrc.nl/nieuws/2021/01/31/scholen-o...  2021-01-31 19:45:18   \n",
              "4  https://www.nrc.nl/nieuws/2021/01/31/arrestati...  2021-01-31 19:43:49   \n",
              "\n",
              "                                               title          publisherID  \\\n",
              "0  Een herhaling van vorig seizoen is zo goed als...  Fabian van der Poll   \n",
              "1  ‘Avondklok waarschijnlijk niet verlengd als be...         Steven Musch   \n",
              "2  School open? Dan testen, ventilatie en mondkapjes       Karel Berkhout   \n",
              "3  De basisscholen gaan open, met een paar nieuwe...       Claudia Kammer   \n",
              "4                       Arrestatie Russische betoger                 None   \n",
              "\n",
              "                                           cleantext category Source  \n",
              "0  De eerste maand van 2021 is uitstekend verlope...     None    NRC  \n",
              "1  De avondklok wordt waarschijnlijk niet verleng...     None    NRC  \n",
              "2  Door de heropening van de scholen loopt het aa...     None    NRC  \n",
              "3    Het werd alom verwacht, en zondag aan het ei...     None    NRC  \n",
              "4                                                        None    NRC  "
            ],
            "text/html": [
              "\n",
              "  <div id=\"df-64149b4e-372a-4984-838a-ec518d1d4b2d\">\n",
              "    <div class=\"colab-df-container\">\n",
              "      <div>\n",
              "<style scoped>\n",
              "    .dataframe tbody tr th:only-of-type {\n",
              "        vertical-align: middle;\n",
              "    }\n",
              "\n",
              "    .dataframe tbody tr th {\n",
              "        vertical-align: top;\n",
              "    }\n",
              "\n",
              "    .dataframe thead th {\n",
              "        text-align: right;\n",
              "    }\n",
              "</style>\n",
              "<table border=\"1\" class=\"dataframe\">\n",
              "  <thead>\n",
              "    <tr style=\"text-align: right;\">\n",
              "      <th></th>\n",
              "      <th>url</th>\n",
              "      <th>timestamp</th>\n",
              "      <th>title</th>\n",
              "      <th>publisherID</th>\n",
              "      <th>cleantext</th>\n",
              "      <th>category</th>\n",
              "      <th>Source</th>\n",
              "    </tr>\n",
              "  </thead>\n",
              "  <tbody>\n",
              "    <tr>\n",
              "      <th>0</th>\n",
              "      <td>https://www.nrc.nl/nieuws/2021/01/31/een-herha...</td>\n",
              "      <td>2021-01-31 20:18:43</td>\n",
              "      <td>Een herhaling van vorig seizoen is zo goed als...</td>\n",
              "      <td>Fabian van der Poll</td>\n",
              "      <td>De eerste maand van 2021 is uitstekend verlope...</td>\n",
              "      <td>None</td>\n",
              "      <td>NRC</td>\n",
              "    </tr>\n",
              "    <tr>\n",
              "      <th>1</th>\n",
              "      <td>https://www.nrc.nl/nieuws/2021/01/31/avondklok...</td>\n",
              "      <td>2021-01-31 20:02:10</td>\n",
              "      <td>‘Avondklok waarschijnlijk niet verlengd als be...</td>\n",
              "      <td>Steven Musch</td>\n",
              "      <td>De avondklok wordt waarschijnlijk niet verleng...</td>\n",
              "      <td>None</td>\n",
              "      <td>NRC</td>\n",
              "    </tr>\n",
              "    <tr>\n",
              "      <th>2</th>\n",
              "      <td>https://www.nrc.nl/nieuws/2021/01/31/school-op...</td>\n",
              "      <td>2021-01-31 19:58:21</td>\n",
              "      <td>School open? Dan testen, ventilatie en mondkapjes</td>\n",
              "      <td>Karel Berkhout</td>\n",
              "      <td>Door de heropening van de scholen loopt het aa...</td>\n",
              "      <td>None</td>\n",
              "      <td>NRC</td>\n",
              "    </tr>\n",
              "    <tr>\n",
              "      <th>3</th>\n",
              "      <td>https://www.nrc.nl/nieuws/2021/01/31/scholen-o...</td>\n",
              "      <td>2021-01-31 19:45:18</td>\n",
              "      <td>De basisscholen gaan open, met een paar nieuwe...</td>\n",
              "      <td>Claudia Kammer</td>\n",
              "      <td>Het werd alom verwacht, en zondag aan het ei...</td>\n",
              "      <td>None</td>\n",
              "      <td>NRC</td>\n",
              "    </tr>\n",
              "    <tr>\n",
              "      <th>4</th>\n",
              "      <td>https://www.nrc.nl/nieuws/2021/01/31/arrestati...</td>\n",
              "      <td>2021-01-31 19:43:49</td>\n",
              "      <td>Arrestatie Russische betoger</td>\n",
              "      <td>None</td>\n",
              "      <td></td>\n",
              "      <td>None</td>\n",
              "      <td>NRC</td>\n",
              "    </tr>\n",
              "  </tbody>\n",
              "</table>\n",
              "</div>\n",
              "      <button class=\"colab-df-convert\" onclick=\"convertToInteractive('df-64149b4e-372a-4984-838a-ec518d1d4b2d')\"\n",
              "              title=\"Convert this dataframe to an interactive table.\"\n",
              "              style=\"display:none;\">\n",
              "        \n",
              "  <svg xmlns=\"http://www.w3.org/2000/svg\" height=\"24px\"viewBox=\"0 0 24 24\"\n",
              "       width=\"24px\">\n",
              "    <path d=\"M0 0h24v24H0V0z\" fill=\"none\"/>\n",
              "    <path d=\"M18.56 5.44l.94 2.06.94-2.06 2.06-.94-2.06-.94-.94-2.06-.94 2.06-2.06.94zm-11 1L8.5 8.5l.94-2.06 2.06-.94-2.06-.94L8.5 2.5l-.94 2.06-2.06.94zm10 10l.94 2.06.94-2.06 2.06-.94-2.06-.94-.94-2.06-.94 2.06-2.06.94z\"/><path d=\"M17.41 7.96l-1.37-1.37c-.4-.4-.92-.59-1.43-.59-.52 0-1.04.2-1.43.59L10.3 9.45l-7.72 7.72c-.78.78-.78 2.05 0 2.83L4 21.41c.39.39.9.59 1.41.59.51 0 1.02-.2 1.41-.59l7.78-7.78 2.81-2.81c.8-.78.8-2.07 0-2.86zM5.41 20L4 18.59l7.72-7.72 1.47 1.35L5.41 20z\"/>\n",
              "  </svg>\n",
              "      </button>\n",
              "      \n",
              "  <style>\n",
              "    .colab-df-container {\n",
              "      display:flex;\n",
              "      flex-wrap:wrap;\n",
              "      gap: 12px;\n",
              "    }\n",
              "\n",
              "    .colab-df-convert {\n",
              "      background-color: #E8F0FE;\n",
              "      border: none;\n",
              "      border-radius: 50%;\n",
              "      cursor: pointer;\n",
              "      display: none;\n",
              "      fill: #1967D2;\n",
              "      height: 32px;\n",
              "      padding: 0 0 0 0;\n",
              "      width: 32px;\n",
              "    }\n",
              "\n",
              "    .colab-df-convert:hover {\n",
              "      background-color: #E2EBFA;\n",
              "      box-shadow: 0px 1px 2px rgba(60, 64, 67, 0.3), 0px 1px 3px 1px rgba(60, 64, 67, 0.15);\n",
              "      fill: #174EA6;\n",
              "    }\n",
              "\n",
              "    [theme=dark] .colab-df-convert {\n",
              "      background-color: #3B4455;\n",
              "      fill: #D2E3FC;\n",
              "    }\n",
              "\n",
              "    [theme=dark] .colab-df-convert:hover {\n",
              "      background-color: #434B5C;\n",
              "      box-shadow: 0px 1px 3px 1px rgba(0, 0, 0, 0.15);\n",
              "      filter: drop-shadow(0px 1px 2px rgba(0, 0, 0, 0.3));\n",
              "      fill: #FFFFFF;\n",
              "    }\n",
              "  </style>\n",
              "\n",
              "      <script>\n",
              "        const buttonEl =\n",
              "          document.querySelector('#df-64149b4e-372a-4984-838a-ec518d1d4b2d button.colab-df-convert');\n",
              "        buttonEl.style.display =\n",
              "          google.colab.kernel.accessAllowed ? 'block' : 'none';\n",
              "\n",
              "        async function convertToInteractive(key) {\n",
              "          const element = document.querySelector('#df-64149b4e-372a-4984-838a-ec518d1d4b2d');\n",
              "          const dataTable =\n",
              "            await google.colab.kernel.invokeFunction('convertToInteractive',\n",
              "                                                     [key], {});\n",
              "          if (!dataTable) return;\n",
              "\n",
              "          const docLinkHtml = 'Like what you see? Visit the ' +\n",
              "            '<a target=\"_blank\" href=https://colab.research.google.com/notebooks/data_table.ipynb>data table notebook</a>'\n",
              "            + ' to learn more about interactive tables.';\n",
              "          element.innerHTML = '';\n",
              "          dataTable['output_type'] = 'display_data';\n",
              "          await google.colab.output.renderOutput(dataTable, element);\n",
              "          const docLink = document.createElement('div');\n",
              "          docLink.innerHTML = docLinkHtml;\n",
              "          element.appendChild(docLink);\n",
              "        }\n",
              "      </script>\n",
              "    </div>\n",
              "  </div>\n",
              "  "
            ]
          },
          "metadata": {},
          "execution_count": 8
        }
      ]
    },
    {
      "cell_type": "markdown",
      "source": [
        "## Remove missing text"
      ],
      "metadata": {
        "id": "VECep3INyKWU"
      }
    },
    {
      "cell_type": "code",
      "source": [
        "df = df[df['cleantext'].notna()]\n",
        "print(df.shape)"
      ],
      "metadata": {
        "id": "kYx6tNWRxpBr",
        "outputId": "3596f34b-21df-4d6b-cd1a-d4a5d674cb04",
        "colab": {
          "base_uri": "https://localhost:8080/"
        }
      },
      "execution_count": null,
      "outputs": [
        {
          "output_type": "stream",
          "name": "stdout",
          "text": [
            "(103723, 7)\n"
          ]
        }
      ]
    },
    {
      "cell_type": "markdown",
      "source": [
        "# Coverage Bias"
      ],
      "metadata": {
        "id": "B7qDpKBRe7do"
      }
    },
    {
      "cell_type": "code",
      "source": [
        "def visualise_term_mention(frame, words, normalisation=True):\n",
        "  df = frame.copy(deep=True)\n",
        "\n",
        "  for w in words.keys():\n",
        "    df[w] = 0\n",
        "    for term in words[w]:\n",
        "      df[w] += df.cleantext.str.count(term)\n",
        "\n",
        "  df_word_counts = pd.DataFrame()\n",
        "\n",
        "  for w in words:\n",
        "    df_word_counts[w] = df.groupby(\"Source\")[w].agg(\"sum\")\n",
        "\n",
        "  df_word_counts = df_word_counts.reset_index()\n",
        "  df_word_mentions = df_word_counts.melt(\"Source\")\n",
        "\n",
        "  df_word_mentions = df_word_mentions.rename(columns={'variable':'Word','value':'Frequency'})\n",
        "    \n",
        "  if normalisation:\n",
        "    df_norm = df_word_mentions.groupby('Source').sum('Frequency').reset_index().rename(columns={'Frequency':'Total Freq'})\n",
        "    df_word_mentions = df_word_mentions.merge(df_norm, on='Source')\n",
        "    df_word_mentions['Normalised_Freq'] = np.log(df_word_mentions['Frequency']/df_word_mentions['Total Freq'])\n",
        "     \n",
        "  mentions = df_word_mentions.pivot(\"Word\", \"Source\", \"Normalised_Freq\")\n",
        "  mentions = mentions.reindex(words.keys())\n",
        "\n",
        "  # bigger plot elements suitable for giving talks\n",
        "  sns.set_context(\"talk\")\n",
        "  # set figure size\n",
        "  plt.figure(figsize=(15,9))\n",
        "  # Time series plot with Seaborn lineplot()\n",
        "  sns.heatmap(mentions, cmap=\"YlGnBu\")\n",
        "  # axis labels\n",
        "  plt.title(\"Newspaper Normalised Frequency\")"
      ],
      "metadata": {
        "id": "0iw4JpLphKLI"
      },
      "execution_count": null,
      "outputs": []
    },
    {
      "cell_type": "code",
      "source": [
        "zetelverdeling = {'Party': ['VVD','CDA','D66','PvdA',\n",
        "                            'PVV','GL','SP','SGP','BBB',\n",
        "                            'Volt','CU','FVD','BIJ1',\n",
        "                            '50PLUS','PvdD','JA21',],\n",
        "                   'Zetel': [34, 15, 24, 9, 17, 8,\n",
        "                              9, 3, 1, 3, 5, 8, 1, \n",
        "                              1, 6, 3,]}\n",
        "df_zetels = pd.DataFrame(data=zetelverdeling).sort_values('Zetel', ascending=False)\n",
        "\n",
        "df_zetels.head()"
      ],
      "metadata": {
        "id": "jGueByPc3NOj",
        "outputId": "eeb8f622-3633-40df-970c-ed4184bd9362",
        "colab": {
          "base_uri": "https://localhost:8080/",
          "height": 206
        }
      },
      "execution_count": null,
      "outputs": [
        {
          "output_type": "execute_result",
          "data": {
            "text/plain": [
              "  Party  Zetel\n",
              "0   VVD     34\n",
              "2   D66     24\n",
              "4   PVV     17\n",
              "1   CDA     15\n",
              "3  PvdA      9"
            ],
            "text/html": [
              "\n",
              "  <div id=\"df-f5c527fb-4ac4-41b1-b376-1a0f97e44cb6\">\n",
              "    <div class=\"colab-df-container\">\n",
              "      <div>\n",
              "<style scoped>\n",
              "    .dataframe tbody tr th:only-of-type {\n",
              "        vertical-align: middle;\n",
              "    }\n",
              "\n",
              "    .dataframe tbody tr th {\n",
              "        vertical-align: top;\n",
              "    }\n",
              "\n",
              "    .dataframe thead th {\n",
              "        text-align: right;\n",
              "    }\n",
              "</style>\n",
              "<table border=\"1\" class=\"dataframe\">\n",
              "  <thead>\n",
              "    <tr style=\"text-align: right;\">\n",
              "      <th></th>\n",
              "      <th>Party</th>\n",
              "      <th>Zetel</th>\n",
              "    </tr>\n",
              "  </thead>\n",
              "  <tbody>\n",
              "    <tr>\n",
              "      <th>0</th>\n",
              "      <td>VVD</td>\n",
              "      <td>34</td>\n",
              "    </tr>\n",
              "    <tr>\n",
              "      <th>2</th>\n",
              "      <td>D66</td>\n",
              "      <td>24</td>\n",
              "    </tr>\n",
              "    <tr>\n",
              "      <th>4</th>\n",
              "      <td>PVV</td>\n",
              "      <td>17</td>\n",
              "    </tr>\n",
              "    <tr>\n",
              "      <th>1</th>\n",
              "      <td>CDA</td>\n",
              "      <td>15</td>\n",
              "    </tr>\n",
              "    <tr>\n",
              "      <th>3</th>\n",
              "      <td>PvdA</td>\n",
              "      <td>9</td>\n",
              "    </tr>\n",
              "  </tbody>\n",
              "</table>\n",
              "</div>\n",
              "      <button class=\"colab-df-convert\" onclick=\"convertToInteractive('df-f5c527fb-4ac4-41b1-b376-1a0f97e44cb6')\"\n",
              "              title=\"Convert this dataframe to an interactive table.\"\n",
              "              style=\"display:none;\">\n",
              "        \n",
              "  <svg xmlns=\"http://www.w3.org/2000/svg\" height=\"24px\"viewBox=\"0 0 24 24\"\n",
              "       width=\"24px\">\n",
              "    <path d=\"M0 0h24v24H0V0z\" fill=\"none\"/>\n",
              "    <path d=\"M18.56 5.44l.94 2.06.94-2.06 2.06-.94-2.06-.94-.94-2.06-.94 2.06-2.06.94zm-11 1L8.5 8.5l.94-2.06 2.06-.94-2.06-.94L8.5 2.5l-.94 2.06-2.06.94zm10 10l.94 2.06.94-2.06 2.06-.94-2.06-.94-.94-2.06-.94 2.06-2.06.94z\"/><path d=\"M17.41 7.96l-1.37-1.37c-.4-.4-.92-.59-1.43-.59-.52 0-1.04.2-1.43.59L10.3 9.45l-7.72 7.72c-.78.78-.78 2.05 0 2.83L4 21.41c.39.39.9.59 1.41.59.51 0 1.02-.2 1.41-.59l7.78-7.78 2.81-2.81c.8-.78.8-2.07 0-2.86zM5.41 20L4 18.59l7.72-7.72 1.47 1.35L5.41 20z\"/>\n",
              "  </svg>\n",
              "      </button>\n",
              "      \n",
              "  <style>\n",
              "    .colab-df-container {\n",
              "      display:flex;\n",
              "      flex-wrap:wrap;\n",
              "      gap: 12px;\n",
              "    }\n",
              "\n",
              "    .colab-df-convert {\n",
              "      background-color: #E8F0FE;\n",
              "      border: none;\n",
              "      border-radius: 50%;\n",
              "      cursor: pointer;\n",
              "      display: none;\n",
              "      fill: #1967D2;\n",
              "      height: 32px;\n",
              "      padding: 0 0 0 0;\n",
              "      width: 32px;\n",
              "    }\n",
              "\n",
              "    .colab-df-convert:hover {\n",
              "      background-color: #E2EBFA;\n",
              "      box-shadow: 0px 1px 2px rgba(60, 64, 67, 0.3), 0px 1px 3px 1px rgba(60, 64, 67, 0.15);\n",
              "      fill: #174EA6;\n",
              "    }\n",
              "\n",
              "    [theme=dark] .colab-df-convert {\n",
              "      background-color: #3B4455;\n",
              "      fill: #D2E3FC;\n",
              "    }\n",
              "\n",
              "    [theme=dark] .colab-df-convert:hover {\n",
              "      background-color: #434B5C;\n",
              "      box-shadow: 0px 1px 3px 1px rgba(0, 0, 0, 0.15);\n",
              "      filter: drop-shadow(0px 1px 2px rgba(0, 0, 0, 0.3));\n",
              "      fill: #FFFFFF;\n",
              "    }\n",
              "  </style>\n",
              "\n",
              "      <script>\n",
              "        const buttonEl =\n",
              "          document.querySelector('#df-f5c527fb-4ac4-41b1-b376-1a0f97e44cb6 button.colab-df-convert');\n",
              "        buttonEl.style.display =\n",
              "          google.colab.kernel.accessAllowed ? 'block' : 'none';\n",
              "\n",
              "        async function convertToInteractive(key) {\n",
              "          const element = document.querySelector('#df-f5c527fb-4ac4-41b1-b376-1a0f97e44cb6');\n",
              "          const dataTable =\n",
              "            await google.colab.kernel.invokeFunction('convertToInteractive',\n",
              "                                                     [key], {});\n",
              "          if (!dataTable) return;\n",
              "\n",
              "          const docLinkHtml = 'Like what you see? Visit the ' +\n",
              "            '<a target=\"_blank\" href=https://colab.research.google.com/notebooks/data_table.ipynb>data table notebook</a>'\n",
              "            + ' to learn more about interactive tables.';\n",
              "          element.innerHTML = '';\n",
              "          dataTable['output_type'] = 'display_data';\n",
              "          await google.colab.output.renderOutput(dataTable, element);\n",
              "          const docLink = document.createElement('div');\n",
              "          docLink.innerHTML = docLinkHtml;\n",
              "          element.appendChild(docLink);\n",
              "        }\n",
              "      </script>\n",
              "    </div>\n",
              "  </div>\n",
              "  "
            ]
          },
          "metadata": {},
          "execution_count": 117
        }
      ]
    },
    {
      "cell_type": "code",
      "source": [
        "sns.barplot(data=df_zetels, x='Party', y='Zetel')"
      ],
      "metadata": {
        "id": "FG9fZixq4z7C",
        "outputId": "b339c781-bcc2-4852-8a50-ef234c3a32b7",
        "colab": {
          "base_uri": "https://localhost:8080/",
          "height": 319
        }
      },
      "execution_count": null,
      "outputs": [
        {
          "output_type": "execute_result",
          "data": {
            "text/plain": [
              "<matplotlib.axes._subplots.AxesSubplot at 0x7f7212491810>"
            ]
          },
          "metadata": {},
          "execution_count": 118
        },
        {
          "output_type": "display_data",
          "data": {
            "text/plain": [
              "<Figure size 432x288 with 1 Axes>"
            ],
            "image/png": "[encoded data removed]"
          },
          "metadata": {
            "needs_background": "light"
          }
        }
      ]
    },
    {
      "cell_type": "code",
      "source": [
        "partijen_termen = {'VVD':['VVD', 'Volkspartij voor Vrijheid en Democratie',],\n",
        "                   'D66':['D66', 'Democraten 66', \"D'66\"],\n",
        "                   'PVV':['PVV', 'Partij voor de Vrijheid'],\n",
        "                   'CDA':['CDA', 'Christen-Democratisch Appèl'],\n",
        "                   'PvdA':['PvdA','PVDA', 'Partij van de Arbeid'],\n",
        "                   'SP':['SP', 'Socialistische Partij'],\n",
        "                   'GL':['GL', 'GroenLinks'],\n",
        "                   'FVD': ['FVD', 'Forum Voor Democratie'],\n",
        "                   'PvdD':['PvdD','Partij voor de Dieren'],\n",
        "                   'CU':['CU', 'Christen Unie'],\n",
        "                   'SGP':['SGP', 'Staatkundig Gereformeerde Partij'],\n",
        "                   'Volt':['Volt'],\n",
        "                   'JA21':['JA21'],\n",
        "                   'BBB':['BBB', 'Boeren Burger Beweging'],\n",
        "                   'BIJ1':['BIJ1'],\n",
        "                   '50PLUS':['50PLUS'],\n",
        "                   }\n",
        "\n",
        "print(partijen_termen.keys())                "
      ],
      "metadata": {
        "id": "9cJ2Ru33f2wY",
        "outputId": "067e204e-4f96-4a89-b2fa-63c80bc0eb74",
        "colab": {
          "base_uri": "https://localhost:8080/"
        }
      },
      "execution_count": null,
      "outputs": [
        {
          "output_type": "stream",
          "name": "stdout",
          "text": [
            "dict_keys(['VVD', 'D66', 'PVV', 'CDA', 'PvdA', 'SP', 'GL', 'FVD', 'PvdD', 'CU', 'SGP', 'Volt', 'JA21', 'BBB', 'BIJ1', '50PLUS'])\n"
          ]
        }
      ]
    },
    {
      "cell_type": "code",
      "source": [
        "# Rutte 3: VVD, D66, CDA, CU\n",
        "visualise_term_mention(df, partijen_termen)"
      ],
      "metadata": {
        "id": "CahrHcrmh6DA",
        "outputId": "05bd98b7-455f-43f5-a83e-5af603157331",
        "colab": {
          "base_uri": "https://localhost:8080/",
          "height": 593
        }
      },
      "execution_count": null,
      "outputs": [
        {
          "output_type": "display_data",
          "data": {
            "text/plain": [
              "<Figure size 1080x648 with 2 Axes>"
            ],
            "image/png": "[encoded data removed]"
          },
          "metadata": {
            "needs_background": "light"
          }
        }
      ]
    },
    {
      "cell_type": "code",
      "source": [
        "politici_termen = {'Rutte':['Rutte'],\n",
        "                   'Kaag':['Kaag'],\n",
        "                   'Wilders':['Wilders'],\n",
        "                   'Hoekstra':['Hoekstra'],\n",
        "                   'Ploumen':['Ploumen'],\n",
        "                   'Marijnissen':['Marijnissen'],\n",
        "                   'Klaver':['Klaver'],\n",
        "                   'Baudet': ['Baudet'],\n",
        "                   'Ouwehand':['Ouwehand'],\n",
        "                   'Segers':['Segers'],\n",
        "                   'Staaij':['Staaij'],\n",
        "                   'Dassen':['Dassen'],\n",
        "                   'Eerdmans':['Eerdmans'],\n",
        "                   'Plas':['Plas'],\n",
        "                   'Simons':['Simons'],\n",
        "                   'Den Haan':['Den Haan'],\n",
        "                   }\n",
        "\n",
        "print(politici_termen.keys())"
      ],
      "metadata": {
        "id": "mGw_g9HKiK0I",
        "outputId": "2d16c729-9bcc-45b2-84ca-abbebf46101b",
        "colab": {
          "base_uri": "https://localhost:8080/"
        }
      },
      "execution_count": null,
      "outputs": [
        {
          "output_type": "stream",
          "name": "stdout",
          "text": [
            "dict_keys(['Rutte', 'Kaag', 'Wilders', 'Hoekstra', 'Ploumen', 'Marijnissen', 'Klaver', 'Baudet', 'Ouwehand', 'Segers', 'Staaij', 'Dassen', 'Eerdmans', 'Plas', 'Simons', 'Den Haan'])\n"
          ]
        }
      ]
    },
    {
      "cell_type": "code",
      "source": [
        "visualise_term_mention(df, politici_termen)"
      ],
      "metadata": {
        "id": "CGXDSvVB07AI",
        "outputId": "74b83ebb-51af-43d9-e1c8-9f7a4456313d",
        "colab": {
          "base_uri": "https://localhost:8080/",
          "height": 593
        }
      },
      "execution_count": null,
      "outputs": [
        {
          "output_type": "display_data",
          "data": {
            "text/plain": [
              "<Figure size 1080x648 with 2 Axes>"
            ],
            "image/png": "[encoded data removed]"
          },
          "metadata": {
            "needs_background": "light"
          }
        }
      ]
    },
    {
      "cell_type": "code",
      "source": [
        "def visualise_relative_mention(frame, words, normalisation=True):\n",
        "  df = frame.copy(deep=True)\n",
        "\n",
        "  for w in words.keys():\n",
        "    df[w] = 0\n",
        "    for term in words[w]:\n",
        "      df[w] += df.cleantext.str.count(term)\n",
        "\n",
        "  df_word_counts = pd.DataFrame()\n",
        "\n",
        "  for w in words:\n",
        "    df_word_counts[w] = df.groupby(\"Source\")[w].agg(\"sum\")\n",
        "\n",
        "  df_word_counts = df_word_counts.reset_index()\n",
        "  df_word_mentions = df_word_counts.melt(\"Source\")\n",
        "\n",
        "  df_word_mentions = df_word_mentions.rename(columns={'variable':'Word','value':'Frequency'})\n",
        "\n",
        "  df_ave = pd.DataFrame(df_word_mentions.groupby('Word').mean()).reset_index().rename(columns={'Frequency':'Average'})\n",
        "  df_word_mentions = df_word_mentions.merge(df_ave, on='Word')\n",
        "  df_word_mentions['Frequency'] = df_word_mentions['Frequency']/df_word_mentions['Average']\n",
        "    \n",
        "  if normalisation:\n",
        "    df_norm = df_word_mentions.groupby('Source').sum('Frequency').reset_index().rename(columns={'Frequency':'Total Freq'})\n",
        "    df_word_mentions = df_word_mentions.merge(df_norm, on='Source')\n",
        "    df_word_mentions['Normalised_Freq'] = df_word_mentions['Frequency']/df_word_mentions['Total Freq']\n",
        "    \n",
        "  mentions = df_word_mentions.pivot(\"Word\", \"Source\", \"Normalised_Freq\")\n",
        "  mentions = mentions.reindex(words.keys())\n",
        "\n",
        "  # bigger plot elements suitable for giving talks\n",
        "  sns.set_context(\"talk\")\n",
        "  # set figure size\n",
        "  plt.figure(figsize=(15,9))\n",
        "  # Time series plot with Seaborn lineplot()\n",
        "  sns.heatmap(mentions, cmap='coolwarm')\n",
        "  # axis labels\n",
        "  plt.title(\"Newspaper Relative Normalised Frequency\")"
      ],
      "metadata": {
        "id": "p9Le5JKkHBpR"
      },
      "execution_count": null,
      "outputs": []
    },
    {
      "cell_type": "code",
      "source": [
        "visualise_relative_mention(df, partijen_termen)"
      ],
      "metadata": {
        "id": "9JGufEt7vO1V",
        "outputId": "86490b31-1055-4116-93fe-b022173b11f6",
        "colab": {
          "base_uri": "https://localhost:8080/",
          "height": 593
        }
      },
      "execution_count": null,
      "outputs": [
        {
          "output_type": "display_data",
          "data": {
            "text/plain": [
              "<Figure size 1080x648 with 2 Axes>"
            ],
            "image/png": "[encoded data removed]"
          },
          "metadata": {
            "needs_background": "light"
          }
        }
      ]
    },
    {
      "cell_type": "code",
      "source": [
        "visualise_relative_mention(df, politici_termen)"
      ],
      "metadata": {
        "id": "m1O7dDrsARFy",
        "outputId": "2ddf36b0-8a9e-4748-feb7-fefbfdd1a153",
        "colab": {
          "base_uri": "https://localhost:8080/",
          "height": 593
        }
      },
      "execution_count": null,
      "outputs": [
        {
          "output_type": "display_data",
          "data": {
            "text/plain": [
              "<Figure size 1080x648 with 2 Axes>"
            ],
            "image/png": "[encoded data removed]"
          },
          "metadata": {
            "needs_background": "light"
          }
        }
      ]
    }
  ]
}