{
 "cells": [
  {
   "cell_type": "code",
   "execution_count": 56,
   "metadata": {},
   "outputs": [],
   "source": [
    "from datetime import datetime\n",
    "from bs4 import BeautifulSoup\n",
    "import requests as req\n",
    "from lxml import html"
   ]
  },
  {
   "cell_type": "code",
   "execution_count": 57,
   "metadata": {},
   "outputs": [],
   "source": [
    "archive_url_day_example = 'https://www.trouw.nl/archief/2022/02/09'"
   ]
  },
  {
   "cell_type": "code",
   "execution_count": 58,
   "metadata": {},
   "outputs": [],
   "source": [
    "def fetchArchiveURL(url):\n",
    "    document = {}\n",
    "    \n",
    "    try:\n",
    "        r = req.get(url)\n",
    "        r.raise_for_status()\n",
    "    except req.exceptions.HTTPError as err:\n",
    "        # TODO: add error handling\n",
    "        pass\n",
    "    else:        \n",
    "        document['url'] = url\n",
    "        document['raw_html'] = r.content\n",
    "        document['in_cache_date'] = datetime.utcnow()\n",
    "        \n",
    "    return document"
   ]
  },
  {
   "cell_type": "code",
   "execution_count": 59,
   "metadata": {},
   "outputs": [],
   "source": [
    "def parseArchiveURL(url):\n",
    "    doc = fetchArchiveURL(url)\n",
    "    raw_html = doc['raw_html']\n",
    "    soup = BeautifulSoup(raw_html, 'html')\n",
    "    tree = html.fromstring(raw_html)\n",
    "    \n",
    "    try:\n",
    "        article_urls = tree.xpath('/html/body/main/div[2]/*/a[@class=\"teaser__link\"]/@href')\n",
    "    except: \n",
    "        article_urls = None\n",
    "        \n",
    "        \n",
    "    return article_urls"
   ]
  },
  {
   "cell_type": "code",
   "execution_count": 60,
   "metadata": {},
   "outputs": [],
   "source": [
    "article_urls = parseArchiveURL(archive_url_day_example)"
   ]
  },
  {
   "cell_type": "code",
   "execution_count": 61,
   "metadata": {},
   "outputs": [],
   "source": [
    "article_urls = [\"http://trouw.nl\" + x for x in article_urls]"
   ]
  },
  {
   "cell_type": "code",
   "execution_count": 62,
   "metadata": {},
   "outputs": [
    {
     "name": "stdout",
     "output_type": "stream",
     "text": [
      "['http://trouw.nl/nieuws/ten-hag-denkt-later-na-over-gevolgen-zaak-overmars-marc-blijft-een-vriend~bb1228c2/', 'http://trouw.nl/nieuws/russische-media-melden-positieve-dopingtest-kunstrijdster-valieva~b33fe2c6/', 'http://trouw.nl/nieuws/plots-halen-de-zuid-koreaanse-presidentskandidaten-vol-uit-naar-china~b4d0ddf3/', 'http://trouw.nl/cultuur-media/amerikaans-funkicoon-betty-davis-77-overleden~b6fb7f16/', 'http://trouw.nl/nieuws/in-de-kamer-wekt-vijlbrief-vertrouwen-maar-in-het-groninger-aardbevingsgebied-heeft-hij-nog-alles-te-bewijzen~bf73f66e/']\n"
     ]
    }
   ],
   "source": [
    "print(article_urls[:5])"
   ]
  },
  {
   "cell_type": "code",
   "execution_count": null,
   "metadata": {},
   "outputs": [],
   "source": []
  }
 ],
 "metadata": {
  "kernelspec": {
   "display_name": "Python 3",
   "language": "python",
   "name": "python3"
  },
  "language_info": {
   "codemirror_mode": {
    "name": "ipython",
    "version": 3
   },
   "file_extension": ".py",
   "mimetype": "text/x-python",
   "name": "python",
   "nbconvert_exporter": "python",
   "pygments_lexer": "ipython3",
   "version": "3.8.6"
  }
 },
 "nbformat": 4,
 "nbformat_minor": 4
}
