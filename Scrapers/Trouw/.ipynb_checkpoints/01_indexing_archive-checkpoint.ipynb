{
 "cells": [
  {
   "cell_type": "code",
   "execution_count": 1,
   "metadata": {},
   "outputs": [],
   "source": [
    "import pandas as pd"
   ]
  },
  {
   "cell_type": "code",
   "execution_count": 2,
   "metadata": {},
   "outputs": [],
   "source": [
    "# Archive structure\n",
    "# https://www.trouw.nl/archief/2000/1/3\n",
    "# Ranging from 1980-01-01 up to present "
   ]
  },
  {
   "cell_type": "code",
   "execution_count": 3,
   "metadata": {},
   "outputs": [
    {
     "name": "stdout",
     "output_type": "stream",
     "text": [
      "['2022/02/09', '2022/02/10', '2022/02/11', '2022/02/12', '2022/02/13', '2022/02/14', '2022/02/15', '2022/02/16', '2022/02/17', '2022/02/18']\n"
     ]
    }
   ],
   "source": [
    "date_range = list(pd.date_range('1980-01-01', '2022-02-18', freq='D'))\n",
    "\n",
    "dates = []\n",
    "for d in date_range:\n",
    "    dates.append(str(d)[:10].replace('-', '/'))\n",
    "\n",
    "print(dates[-10:])"
   ]
  },
  {
   "cell_type": "code",
   "execution_count": 4,
   "metadata": {},
   "outputs": [
    {
     "name": "stdout",
     "output_type": "stream",
     "text": [
      "['https://www.trouw.nl/archief/2022/02/09', 'https://www.trouw.nl/archief/2022/02/10', 'https://www.trouw.nl/archief/2022/02/11', 'https://www.trouw.nl/archief/2022/02/12', 'https://www.trouw.nl/archief/2022/02/13', 'https://www.trouw.nl/archief/2022/02/14', 'https://www.trouw.nl/archief/2022/02/15', 'https://www.trouw.nl/archief/2022/02/16', 'https://www.trouw.nl/archief/2022/02/17', 'https://www.trouw.nl/archief/2022/02/18']\n"
     ]
    }
   ],
   "source": [
    "#https://www.trouw.nl/archief/2000/1/3\n",
    "daily_archive_urls = [f\"https://www.trouw.nl/archief/{date}\" for date in dates]\n",
    "print(daily_archive_urls[-10:])"
   ]
  },
  {
   "cell_type": "code",
   "execution_count": null,
   "metadata": {},
   "outputs": [],
   "source": []
  }
 ],
 "metadata": {
  "kernelspec": {
   "display_name": "Python 3",
   "language": "python",
   "name": "python3"
  },
  "language_info": {
   "codemirror_mode": {
    "name": "ipython",
    "version": 3
   },
   "file_extension": ".py",
   "mimetype": "text/x-python",
   "name": "python",
   "nbconvert_exporter": "python",
   "pygments_lexer": "ipython3",
   "version": "3.8.6"
  }
 },
 "nbformat": 4,
 "nbformat_minor": 4
}
