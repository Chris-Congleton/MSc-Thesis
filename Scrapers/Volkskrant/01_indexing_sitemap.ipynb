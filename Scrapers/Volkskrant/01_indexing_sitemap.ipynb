{
 "cells": [
  {
   "cell_type": "code",
   "execution_count": 6,
   "metadata": {},
   "outputs": [
    {
     "name": "stdout",
     "output_type": "stream",
     "text": [
      "['https://www.volkskrant.nl/sitemap/sitemap-0.txt', 'https://www.volkskrant.nl/sitemap/sitemap-1.txt', 'https://www.volkskrant.nl/sitemap/sitemap-2.txt', 'https://www.volkskrant.nl/sitemap/sitemap-3.txt', 'https://www.volkskrant.nl/sitemap/sitemap-4.txt', 'https://www.volkskrant.nl/sitemap/sitemap-5.txt', 'https://www.volkskrant.nl/sitemap/sitemap-6.txt', 'https://www.volkskrant.nl/sitemap/sitemap-7.txt', 'https://www.volkskrant.nl/sitemap/sitemap-8.txt', 'https://www.volkskrant.nl/sitemap/sitemap-9.txt', 'https://www.volkskrant.nl/sitemap/sitemap-10.txt', 'https://www.volkskrant.nl/sitemap/sitemap-11.txt', 'https://www.volkskrant.nl/sitemap/sitemap-12.txt', 'https://www.volkskrant.nl/sitemap/sitemap-13.txt', 'https://www.volkskrant.nl/sitemap/sitemap-14.txt', 'https://www.volkskrant.nl/sitemap/sitemap-15.txt', 'https://www.volkskrant.nl/sitemap/sitemap-16.txt', 'https://www.volkskrant.nl/sitemap/sitemap-17.txt', 'https://www.volkskrant.nl/sitemap/sitemap-18.txt', 'https://www.volkskrant.nl/sitemap/sitemap-19.txt', 'https://www.volkskrant.nl/sitemap/sitemap-20.txt', 'https://www.volkskrant.nl/sitemap/sitemap-21.txt', 'https://www.volkskrant.nl/sitemap/sitemap-22.txt', 'https://www.volkskrant.nl/sitemap/sitemap-23.txt', 'https://www.volkskrant.nl/sitemap/sitemap-24.txt']\n"
     ]
    }
   ],
   "source": [
    "# Url lists sitemap-0 up to sitemap-24\n",
    "sitemap_list = []\n",
    "\n",
    "for i in range(0, 25):\n",
    "    sitemap_list.append('https://www.volkskrant.nl/sitemap/sitemap-' + str(i) + '.txt')\n",
    "\n",
    "print(sitemap_list)"
   ]
  },
  {
   "cell_type": "code",
   "execution_count": null,
   "metadata": {},
   "outputs": [],
   "source": []
  }
 ],
 "metadata": {
  "kernelspec": {
   "display_name": "Python 3",
   "language": "python",
   "name": "python3"
  },
  "language_info": {
   "codemirror_mode": {
    "name": "ipython",
    "version": 3
   },
   "file_extension": ".py",
   "mimetype": "text/x-python",
   "name": "python",
   "nbconvert_exporter": "python",
   "pygments_lexer": "ipython3",
   "version": "3.8.6"
  }
 },
 "nbformat": 4,
 "nbformat_minor": 4
}
