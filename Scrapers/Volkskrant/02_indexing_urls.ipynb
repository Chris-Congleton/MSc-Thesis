{
 "cells": [
  {
   "cell_type": "code",
   "execution_count": 1,
   "metadata": {},
   "outputs": [],
   "source": [
    "url = 'https://www.volkskrant.nl/sitemap/sitemap-0.txt'"
   ]
  },
  {
   "cell_type": "code",
   "execution_count": 2,
   "metadata": {},
   "outputs": [],
   "source": [
    "from datetime import datetime\n",
    "from bs4 import BeautifulSoup\n",
    "import requests as req"
   ]
  },
  {
   "cell_type": "code",
   "execution_count": 38,
   "metadata": {},
   "outputs": [],
   "source": [
    "def fetchSitemapURL(url):\n",
    "    document = {}\n",
    "    \n",
    "    try:\n",
    "        r = req.get(url)\n",
    "        r.raise_for_status()\n",
    "    except req.exceptions.HTTPError as err:\n",
    "        # TODO: add error handling\n",
    "        pass\n",
    "    else:        \n",
    "        document['url'] = url\n",
    "        document['txt'] = r.text\n",
    "        document['in_cache_date'] = datetime.utcnow()\n",
    "        \n",
    "    return document"
   ]
  },
  {
   "cell_type": "code",
   "execution_count": 63,
   "metadata": {},
   "outputs": [],
   "source": [
    "def fetchArticleURL(url):\n",
    "    doc = fetchSitemapURL(url)\n",
    "    \n",
    "    article_URLs = []\n",
    "    for line in doc['txt'].split(\"\\n\"):\n",
    "        article_URLs.append(line)\n",
    "    \n",
    "    article_URLs = article_URLs[:-1]\n",
    "    return article_URLs"
   ]
  },
  {
   "cell_type": "code",
   "execution_count": 64,
   "metadata": {},
   "outputs": [],
   "source": [
    "article_URLs = fetchArticleURL(url)"
   ]
  },
  {
   "cell_type": "code",
   "execution_count": 66,
   "metadata": {},
   "outputs": [
    {
     "name": "stdout",
     "output_type": "stream",
     "text": [
      "https://www.volkskrant.nl/nieuws-achtergrond/jacht-op-kosovaren-stelt-navo-voor-dilemma~b34416f7/\r\n"
     ]
    }
   ],
   "source": [
    "print(article_URLs[-1])"
   ]
  }
 ],
 "metadata": {
  "kernelspec": {
   "display_name": "Python 3",
   "language": "python",
   "name": "python3"
  },
  "language_info": {
   "codemirror_mode": {
    "name": "ipython",
    "version": 3
   },
   "file_extension": ".py",
   "mimetype": "text/x-python",
   "name": "python",
   "nbconvert_exporter": "python",
   "pygments_lexer": "ipython3",
   "version": "3.8.6"
  }
 },
 "nbformat": 4,
 "nbformat_minor": 4
}
