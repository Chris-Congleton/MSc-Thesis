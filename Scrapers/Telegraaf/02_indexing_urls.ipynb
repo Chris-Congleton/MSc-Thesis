{
 "cells": [
  {
   "cell_type": "code",
   "execution_count": 2,
   "metadata": {},
   "outputs": [],
   "source": [
    "from datetime import datetime\n",
    "from bs4 import BeautifulSoup\n",
    "import requests as req"
   ]
  },
  {
   "cell_type": "code",
   "execution_count": 14,
   "metadata": {},
   "outputs": [],
   "source": [
    "archive_url_example = 'https://www.telegraaf.nl/sitemap/2009/jan/19'"
   ]
  },
  {
   "cell_type": "code",
   "execution_count": 15,
   "metadata": {},
   "outputs": [],
   "source": [
    "def fetchArchiveURL(url):\n",
    "    document = {}\n",
    "    \n",
    "    try:\n",
    "        r = req.get(url)\n",
    "        r.raise_for_status()\n",
    "    except req.exceptions.HTTPError as err:\n",
    "        # TODO: add error handling\n",
    "        pass\n",
    "    else:        \n",
    "        document['url'] = url\n",
    "        document['raw_xml'] = r.content\n",
    "        document['in_cache_date'] = datetime.utcnow()\n",
    "        \n",
    "    return document"
   ]
  },
  {
   "cell_type": "code",
   "execution_count": 16,
   "metadata": {},
   "outputs": [],
   "source": [
    "def fetchArticleURL(url):\n",
    "    doc = fetchArchiveURL(url)\n",
    "    raw_xml = doc['raw_xml']\n",
    "    soup = BeautifulSoup(raw_xml, 'xml')\n",
    "    \n",
    "    article_urls = []\n",
    "    locs = soup.find_all('loc')\n",
    "    for loc in locs:\n",
    "        article_urls.append(loc.get_text())\n",
    "        \n",
    "    return article_urls"
   ]
  },
  {
   "cell_type": "code",
   "execution_count": 17,
   "metadata": {},
   "outputs": [
    {
     "name": "stdout",
     "output_type": "stream",
     "text": [
      "['https://www.telegraaf.nl/entertainment/1179944/alleen-mien-dobbelsteen-is-onmisbaar', 'https://www.telegraaf.nl/nieuws/1186263/pothuizen-fopt-blom']\n"
     ]
    }
   ],
   "source": [
    "article_urls = fetchArticleURL(archive_url_example)\n",
    "print(article_urls)"
   ]
  },
  {
   "cell_type": "code",
   "execution_count": 18,
   "metadata": {},
   "outputs": [
    {
     "data": {
      "text/plain": [
       "2"
      ]
     },
     "execution_count": 18,
     "metadata": {},
     "output_type": "execute_result"
    }
   ],
   "source": [
    "len(article_urls)"
   ]
  },
  {
   "cell_type": "code",
   "execution_count": null,
   "metadata": {},
   "outputs": [],
   "source": []
  }
 ],
 "metadata": {
  "kernelspec": {
   "display_name": "Python 3",
   "language": "python",
   "name": "python3"
  },
  "language_info": {
   "codemirror_mode": {
    "name": "ipython",
    "version": 3
   },
   "file_extension": ".py",
   "mimetype": "text/x-python",
   "name": "python",
   "nbconvert_exporter": "python",
   "pygments_lexer": "ipython3",
   "version": "3.8.6"
  }
 },
 "nbformat": 4,
 "nbformat_minor": 4
}
