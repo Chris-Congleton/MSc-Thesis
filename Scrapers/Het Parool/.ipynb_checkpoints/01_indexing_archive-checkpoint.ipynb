{
 "cells": [
  {
   "cell_type": "code",
   "execution_count": null,
   "metadata": {},
   "outputs": [],
   "source": [
    "# Archive structure\n",
    "# https://www.parool.nl/archief/2007/1/1\n",
    "# Ranging from 2007-01-01 up to present "
   ]
  },
  {
   "cell_type": "code",
   "execution_count": 2,
   "metadata": {},
   "outputs": [],
   "source": [
    "import pandas as pd"
   ]
  },
  {
   "cell_type": "code",
   "execution_count": 3,
   "metadata": {},
   "outputs": [
    {
     "name": "stdout",
     "output_type": "stream",
     "text": [
      "['2022/02/23', '2022/02/24', '2022/02/25', '2022/02/26', '2022/02/27', '2022/02/28', '2022/03/01', '2022/03/02', '2022/03/03', '2022/03/04']\n"
     ]
    }
   ],
   "source": [
    "date_range = list(pd.date_range('2007-01-01', '2022-03-04', freq='D'))\n",
    "\n",
    "dates = []\n",
    "for d in date_range:\n",
    "    dates.append(str(d)[:10].replace('-', '/'))\n",
    "\n",
    "print(dates[-10:])"
   ]
  },
  {
   "cell_type": "code",
   "execution_count": 4,
   "metadata": {},
   "outputs": [
    {
     "name": "stdout",
     "output_type": "stream",
     "text": [
      "['https://www.parool.nl/archief/2022/02/23', 'https://www.parool.nl/archief/2022/02/24', 'https://www.parool.nl/archief/2022/02/25', 'https://www.parool.nl/archief/2022/02/26', 'https://www.parool.nl/archief/2022/02/27', 'https://www.parool.nl/archief/2022/02/28', 'https://www.parool.nl/archief/2022/03/01', 'https://www.parool.nl/archief/2022/03/02', 'https://www.parool.nl/archief/2022/03/03', 'https://www.parool.nl/archief/2022/03/04']\n"
     ]
    }
   ],
   "source": [
    "#https://www.trouw.nl/archief/2000/1/3\n",
    "daily_archive_urls = [f\"https://www.parool.nl/archief/{date}\" for date in dates]\n",
    "print(daily_archive_urls[-10:])"
   ]
  }
 ],
 "metadata": {
  "kernelspec": {
   "display_name": "Python 3",
   "language": "python",
   "name": "python3"
  },
  "language_info": {
   "codemirror_mode": {
    "name": "ipython",
    "version": 3
   },
   "file_extension": ".py",
   "mimetype": "text/x-python",
   "name": "python",
   "nbconvert_exporter": "python",
   "pygments_lexer": "ipython3",
   "version": "3.8.6"
  }
 },
 "nbformat": 4,
 "nbformat_minor": 4
}
