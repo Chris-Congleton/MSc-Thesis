{
 "cells": [
  {
   "cell_type": "code",
   "execution_count": 14,
   "metadata": {},
   "outputs": [],
   "source": [
    "from datetime import datetime\n",
    "from dateutil.relativedelta import relativedelta\n",
    "\n",
    "import time\n",
    "import random\n",
    "\n",
    "from bs4 import BeautifulSoup\n",
    "import requests as req\n",
    "from fake_useragent import UserAgent\n",
    "import pandas as pd\n",
    "\n",
    "import json\n",
    "import w3lib.html\n",
    "\n",
    "from lxml import html\n",
    "from tqdm import tqdm"
   ]
  },
  {
   "cell_type": "code",
   "execution_count": 15,
   "metadata": {},
   "outputs": [],
   "source": [
    "class Scraper():\n",
    "    def __init__(self):\n",
    "        self.ua = UserAgent()\n",
    "        self.headers = req.utils.default_headers()\n",
    "    \n",
    "    def index_archive(self):\n",
    "        date_range = list(pd.date_range('2007-01-01', '2022-03-04', freq='D'))\n",
    "\n",
    "        dates = []\n",
    "        for d in date_range:\n",
    "            dates.append(str(d)[:10].replace('-', '/'))\n",
    "        \n",
    "        self.archive_urls = [f\"https://www.parool.nl/archief/{date}\" for date in dates]\n",
    "        \n",
    "    def index_urls(self):\n",
    "        \n",
    "        def fetchArchiveURL(url):\n",
    "            document = {}\n",
    "\n",
    "            try:\n",
    "                # Random User Agent\n",
    "                self.headers.update({'User-Agent': self.ua.random,})\n",
    "                r = req.get(url)\n",
    "                r.raise_for_status()\n",
    "            except req.exceptions.HTTPError as err:\n",
    "                pass\n",
    "            else:        \n",
    "                document['url'] = url\n",
    "                document['raw_html'] = r.content\n",
    "                document['in_cache_date'] = datetime.utcnow()\n",
    "\n",
    "            return document\n",
    "        \n",
    "        def parseArchiveURL(url):\n",
    "            doc = fetchArchiveURL(url)\n",
    "            raw_html = doc['raw_html']\n",
    "            soup = BeautifulSoup(raw_html, 'html')\n",
    "            tree = html.fromstring(raw_html)\n",
    "\n",
    "            try:\n",
    "                article_urls = tree.xpath('/html/body/main/div[2]/*/a[@class=\"teaser__link\"]/@href')\n",
    "            except: \n",
    "                article_urls = None\n",
    "\n",
    "\n",
    "            return article_urls\n",
    "        \n",
    "        self.article_urls = []\n",
    "        print('Indexing urls: ')\n",
    "        for url in tqdm(self.archive_urls[:10]):\n",
    "            # Simulate human usage \n",
    "            time.sleep(random.randint(0, 3))\n",
    "            self.article_urls.extend(parseArchiveURL(url))\n",
    "        \n",
    "        self.article_urls = [\"http://parool.nl\" + x for x in self.article_urls]\n",
    "    \n",
    "    def crawl_articles(self):\n",
    "        \n",
    "        def fetchArticle(url):\n",
    "            document = {}\n",
    "\n",
    "            try:\n",
    "                # Random User Agent\n",
    "                self.headers.update({'User-Agent': self.ua.random,})\n",
    "                r = req.get(url)\n",
    "                r.raise_for_status()\n",
    "\n",
    "            except req.exceptions.HTTPError as err:\n",
    "                # TODO: add error handling\n",
    "                pass\n",
    "\n",
    "            else:        \n",
    "                document['url'] = url\n",
    "                document['raw_html'] = r.content\n",
    "                document['in_cache_date'] = datetime.utcnow()\n",
    "                document['parsed'] = 0\n",
    "\n",
    "            return document\n",
    "        \n",
    "        self.articles = []\n",
    "        print('Crawling articles: ')\n",
    "        for url in tqdm(self.article_urls):\n",
    "            # Simulate human usage\n",
    "            time.sleep(random.randint(0, 3))\n",
    "            self.articles.append(fetchArticle(url))\n",
    "    \n",
    "    def clean_articles(self):\n",
    "        \n",
    "        def parse_article(r):\n",
    "            try:\n",
    "                a = {}\n",
    "\n",
    "                a['url']  = r['url']\n",
    "\n",
    "                tree = html.fromstring(r['raw_html'])\n",
    "\n",
    "                try:\n",
    "\n",
    "                    a['timestamp'] = tree.xpath('/html/body/main/article/header/section/time[@class=\"artstyle__production__datetime\"]/@datetime')[0].strip()\n",
    "                except: \n",
    "                    a['timestamp'] = None\n",
    "                try:\n",
    "                    a['title'] = tree.xpath('//h1/text()')[0].strip()\n",
    "                except:\n",
    "                    a['title'] = None\n",
    "                try:\n",
    "                    a['publisherID'] = tree.xpath('/html/body/main/article/header/section/span[1]/a/text()')[0].strip()\n",
    "                except:\n",
    "                    a['publisherID'] = None\n",
    "                try:\n",
    "                    a['cleantext'] = ''.join(tree.xpath('//html/body/main/article/section/section/*/text()')[1:])\n",
    "                except:\n",
    "                    a['cleantext'] = None\n",
    "                try:\n",
    "                    a['category'] = tree.xpath('/html/body/main/section/div[2]/h2/a/span/text()')[0].strip()\n",
    "                except:\n",
    "                    a['category'] = None\n",
    "            except:\n",
    "                pass\n",
    "\n",
    "            return a\n",
    "\n",
    "\n",
    "        print('Cleaning articles:')\n",
    "        self.cleaned_articles = []\n",
    "        for article in tqdm(self.articles):\n",
    "            self.cleaned_articles.append(parse_article(article))\n",
    "    \n",
    "    def save_json(self):\n",
    "        \n",
    "        with open('HetParool.json', 'w') as file:\n",
    "            json.dump(self.cleaned_articles, file, indent=4)\n",
    "            \n",
    "    "
   ]
  },
  {
   "cell_type": "code",
   "execution_count": 16,
   "metadata": {},
   "outputs": [],
   "source": [
    "scraper = Scraper()"
   ]
  },
  {
   "cell_type": "code",
   "execution_count": 17,
   "metadata": {},
   "outputs": [],
   "source": [
    "scraper.index_archive()"
   ]
  },
  {
   "cell_type": "code",
   "execution_count": 18,
   "metadata": {},
   "outputs": [
    {
     "name": "stderr",
     "output_type": "stream",
     "text": [
      "\r",
      "  0%|                                                                                       | 0/10 [00:00<?, ?it/s]"
     ]
    },
    {
     "name": "stdout",
     "output_type": "stream",
     "text": [
      "Indexing urls: \n"
     ]
    },
    {
     "name": "stderr",
     "output_type": "stream",
     "text": [
      "100%|██████████████████████████████████████████████████████████████████████████████| 10/10 [00:12<00:00,  1.29s/it]"
     ]
    },
    {
     "name": "stdout",
     "output_type": "stream",
     "text": [
      "['http://parool.nl/nieuws/amsterdam-danst-naar-2007~b01ec144/', 'http://parool.nl/nieuws/geen-nieuwjaarsduik-scheveningen~b37ff615/', 'http://parool.nl/nieuws/veel-vernielingen-in-zuid-holland~b9a53fad/', 'http://parool.nl/nieuws/veel-autobranden-in-den-haag~be47b517/', 'http://parool.nl/nieuws/vuurwerk-eist-leven~bb994a04/', 'http://parool.nl/nieuws/onderzoek-naar-opnames-executie-saddam~bbcb30a3/', 'http://parool.nl/nieuws/recherche-wil-weer-infiltranten~b0f70b3f/', 'http://parool.nl/nieuws/xaviera-hollander-getrouwd~b58f3d0a/', 'http://parool.nl/nieuws/oud-nieuw-blijft-rustig~b07a0e1a/', 'http://parool.nl/nieuws/veel-meer-asbest-in-otapan~b5e2423a/', 'http://parool.nl/nieuws/aex-opent-nieuw-jaar-boven-500~b4dc55ce/', 'http://parool.nl/sport/van-barneveld-wint-wk-darts~bca085c78/', 'http://parool.nl/nieuws/olieprijs-voor-het-eerst-op-100-dollar-per-vat~bbea2dbc/', 'http://parool.nl/nieuws/cohen-nog-niet-tevreden~bbf39f01/', 'http://parool.nl/nieuws/schietpartij-na-achtervolging~b0815e5e/', 'http://parool.nl/nieuws/agent-schiet-verdachte-neer~b48dbf0e/', 'http://parool.nl/nieuws/politiebonden-verharden-acties-voor-betere-cao~b738942c/', 'http://parool.nl/nieuws/tolerantie-oproep-gemengd-ontvangen~b200a08c/', 'http://parool.nl/nieuws/laat-student-kosten-terugbetalen~b05b0680/', 'http://parool.nl/nieuws/vrouw-samir-a-luidt-de-noodklok~b1104a3b/', 'http://parool.nl/sport/het-gelijk-van-hulzebosch-al-tien-jaar-geen-elfstedentocht~b86f9230/', 'http://parool.nl/nieuws/vier-gezinnen-multimiljonair~bb6f1882/', 'http://parool.nl/nieuws/barney-wint-wk-darten~b69defea/', 'http://parool.nl/nieuws/formatie-zware-werk-begint-nu~be737485/', 'http://parool.nl/nieuws/stam-verbloemt-ajax-malaise~b3c82918/', 'http://parool.nl/nieuws/stad-weer-veiliger-zegt-politie~ba6de500/', 'http://parool.nl/nieuws/wachtlijsten-naschoolse-opvang~b560a197/', 'http://parool.nl/nieuws/30-nederlanders-voor-executie~ba58d355/', 'http://parool.nl/nieuws/agent-wil-niet-in-stad-wonen~b9a4ebe6/', 'http://parool.nl/nieuws/we-keken-meer-tv-in-2006~b720d48a/', 'http://parool.nl/nieuws/benzine-en-diesel-duurder~b2f88406/', 'http://parool.nl/nieuws/22-vn-medewerkers-gedood-in-2006~bb77e344/', 'http://parool.nl/nieuws/fraude-bij-welzijnsclub~b2a2eb1c/', 'http://parool.nl/nieuws/knmi-acht-kans-op-elfstedentocht-steeds-kleiner~b2714457/', 'http://parool.nl/nieuws/opmars-tbc-uit-rusland-kost-miljarden~b833ce78/', 'http://parool.nl/nieuws/fbi-getuige-van-mishandelingen-guantanamo~b1636357/', 'http://parool.nl/nieuws/suv-bestuurder-rijdt-roekelozer~be135a53/', 'http://parool.nl/nieuws/banken-bereid-tot-gesprek-seksbedrijven~b541b665/', 'http://parool.nl/nieuws/banken-willen-praten-over-financiering-seksbedrijven~bf38c6dd/', 'http://parool.nl/nieuws/vissers-na-40-dagen-op-oceaan-gevonden~b41c4054/', 'http://parool.nl/sport/barney-ondersteboven-van-geluk~bd85880f/', 'http://parool.nl/sport/lammers-tevreden-met-progressie-hockeysters~be318149/', 'http://parool.nl/nieuws/politie-zet-jaarverslag-op-internet~b15c068c/', 'http://parool.nl/nieuws/samir-a-medisch-onderzocht~b87d2b03/', 'http://parool.nl/nieuws/begin-kabinetsformatie-op-geheime-plek~b355146f/', 'http://parool.nl/nieuws/agent-kan-wel-maar-wil-niet-in-stad-wonen~b94ae353/', 'http://parool.nl/nieuws/gevel-sandberg-instituut-twee-weken-advertentiezuil~b52c0b60/', 'http://parool.nl/nieuws/krant-op-sint-maarten-verkiest-nicolai-tot-persoon-van-het-jaar~b24746d1/', 'http://parool.nl/nieuws/eerste-rel-rond-nieuwe-vn-chef~b2030c66/', 'http://parool.nl/nieuws/ophef-over-duits-anti-terreurplan~bb8e769f/', 'http://parool.nl/nieuws/bewoners-zo-onwel-door-koolmonoxide~b671158e/', 'http://parool.nl/nieuws/cda-pvda-en-christenunie-formeren-in-het-geheim~b00d6865/', 'http://parool.nl/sport/van-persie-trefzeker-tegen-charlton~b40e435b/', 'http://parool.nl/nieuws/imam-preekt-in-moskee-ondanks-verbod~b040dab5/', 'http://parool.nl/nieuws/vn-personeel-misbruikt-kinderen-in-sudan~beac0cf3/', 'http://parool.nl/nieuws/hectiek-op-de-lokale-markt-in-amsterdam~b5b7b34d/', 'http://parool.nl/nieuws/opels-gezocht-in-zaak-seveke~b1305145/', 'http://parool.nl/nieuws/recordomzet-voor-supermarkten~b99ee842/', 'http://parool.nl/nieuws/onderzoek-naar-wangedrag-militairen~b1afc8fa/', 'http://parool.nl/nieuws/hielprik-moet-veel-meer-ziekten-opsporen~bcfdf0be/', 'http://parool.nl/nieuws/einde-van-tocht-der-tochten~b258deed/', 'http://parool.nl/nieuws/duizend-euro-voor-nieuwe-collega~baf78effa/', 'http://parool.nl/nieuws/woordenboek-wapen-taalachterstand~b5605ad3/', 'http://parool.nl/sport/russische-tennissers-naar-finale-hopman-cup~b7b58196/', 'http://parool.nl/nieuws/formatie-op-fries-landgoed~bd0baaa0/', 'http://parool.nl/nieuws/om-genoeg-bewijs-tegen-holleeder~b9c8f9e4/', 'http://parool.nl/nieuws/executie-medewerkers-saddam-uitgesteld~b99518b3/', 'http://parool.nl/sport/vitesse-wil-lazovic-niet-verkopen~bbe7f31a/', 'http://parool.nl/nieuws/parool-grootste-in-a-dam~bf90c177/', 'http://parool.nl/sport/real-wil-door-met-beckham~b9fb0281/', 'http://parool.nl/nieuws/laatste-pro-formazitting-holleeder~b742170c/', 'http://parool.nl/nieuws/mulisch-krijgt-eredoctoraat~bedf0c41/', 'http://parool.nl/sport/routinier-beers-maakt-met-plezier-overuren~bc50fff4/', 'http://parool.nl/nieuws/jacht-op-erven-mieremet~b6fe50d6/', 'http://parool.nl/nieuws/politie-lokte-uit-tot-moord~b4b44082/', 'http://parool.nl/nieuws/stemcomputers-aangepast~b3dff5eb/', 'http://parool.nl/nieuws/werknemer-voelt-zich-bespioneerd~beee4c91/', 'http://parool.nl/nieuws/imam-respecteert-moskeeverbod~b13fca64/', 'http://parool.nl/nieuws/supers-boekten-recordomzet~bd527ad8/', 'http://parool.nl/nieuws/partijen-praten-vrijdag-verder~b8460ef5/', 'http://parool.nl/nieuws/bouw-moskee-2-keer-zo-duur~bb011707/', 'http://parool.nl/sport/waanzin-in-de-woestijn~b613b35c/', 'http://parool.nl/nieuws/beetsterzwaag-hart-van-de-formatie~b301c3d9/', 'http://parool.nl/nieuws/verkeer-doet-amsterdam-de-das-om~bedef573/', 'http://parool.nl/nieuws/cda-pvda-en-cu-beslissen-vrijdag-of-ze-verder-praten~b012c517/', 'http://parool.nl/nieuws/infiltranten-hingen-saddam-op~b8a8a1f5/', 'http://parool.nl/nieuws/ruzie-ali-b-en-staphorst-bijgelegd~b8c35597/', 'http://parool.nl/nieuws/samir-a-langer-op-afgezonderde-afdeling~b8514340/', 'http://parool.nl/nieuws/scheepvaartmuseum-lange-tijd-dicht-voor-renovatie~b95dee57/', 'http://parool.nl/nieuws/formatiegesprekken-gaan-door~bb9e9dad/', 'http://parool.nl/nieuws/voorhoeve-vs-traden-bewust-niet-op-bij-srebrenica~b4b8d804/', 'http://parool.nl/nieuws/zaak-endstra-loopt~b11e2c1e/', 'http://parool.nl/nieuws/vn-stuurt-medewerkers-sudan-weg~b5f56027/', 'http://parool.nl/sport/handballers-verliezen-van-oostenrijk~b9c7bee6/', 'http://parool.nl/nieuws/jesse-was-willekeurig-slachtoffer~b410d821/', 'http://parool.nl/nieuws/optimisme-over-kabinet-neemt-toe~bace5ee1/', 'http://parool.nl/nieuws/eurozone-is-niet-flexibel~b64a1368d/', 'http://parool.nl/nieuws/goed-jaar-vooor-boeing~b8b42d9b/', 'http://parool.nl/nieuws/schiphol-blijft-bij-streng-beleid~b6acaffe/', 'http://parool.nl/sport/amerikaans-elan-sterkt-astronauts~b95fdfc7/', 'http://parool.nl/sport/zesdaagse-staat-op-scherp~b17d107c/', 'http://parool.nl/nieuws/amsterdam-vermindert-rompslomp-voor-horeca~ba240e62/', 'http://parool.nl/nieuws/kritiek-bush-op-executie-saddam~bce945a2/', 'http://parool.nl/sport/slippens-met-baanploeg-naar-la~b4843e69/', 'http://parool.nl/nieuws/walter-goddijn-overleden~b342e335/', 'http://parool.nl/nieuws/partycentrum-rotterdam-in-as~b43ccbd8/', 'http://parool.nl/nieuws/eis-2-5-jaar-na-ontucht-met-pupillen~b9410ae3/', 'http://parool.nl/sport/hingis-naar-halve-finales-gold-coast~b474027c/', 'http://parool.nl/nieuws/voorarrest-medeverdachte-holleeder-opgeheven~bd48a4ef/', 'http://parool.nl/sport/marlies-schild-beste-op-slalom~bcf4fba1/', 'http://parool.nl/nieuws/taximeter-gaat-niet-uit~b8ca0102/', 'http://parool.nl/nieuws/beleid-voetbalgeweld-faalt~b3fc419c/', 'http://parool.nl/nieuws/vrijspraak-voor-anti-verdonkposter~b6875c95/', 'http://parool.nl/nieuws/enorme-gasbuffer-nuon~bb2828339/', 'http://parool.nl/nieuws/sterke-zaak-tegen-holleeder~b8a95aae/', 'http://parool.nl/sport/wielerlanden-maffioos~bfd4809f/', 'http://parool.nl/nieuws/koningin-hapt-koek-in-brabant~b5761b63/', 'http://parool.nl/sport/klaasen-in-eerste-ronde-uitgeschakeld~b3cbf0d3/', 'http://parool.nl/sport/turbulent-begin-van-seizoen-tennissers~b142d422/', 'http://parool.nl/nieuws/wijffels-sterke-basis-voor-nieuw-kabinet~b927896a/', 'http://parool.nl/sport/bos-en-timmer-op-schema~b50187a9/', 'http://parool.nl/nieuws/dringen-in-delftse-bus-door-gratis-ov~b48ea262/', 'http://parool.nl/nieuws/schooluitval-kost-miljarden-euro-s~b5473a6c/', 'http://parool.nl/nieuws/gvb-ers-hadden-bijbaan~bb8b7022/', 'http://parool.nl/nieuws/kpn-zit-met-duur-personeel-callcentra~bef8f96f/', 'http://parool.nl/nieuws/hypotheekrenteplan-pvda-en-cu-treft-weinig-huizenbezitters~ba24dda2/', 'http://parool.nl/nieuws/fortis-krijgt-schadeclaim-woekerpolis~b512f411/', 'http://parool.nl/nieuws/sanering-otapan-onjuist~ba921143/', 'http://parool.nl/nieuws/afschaffing-wachttarief-luidt-nieuwe-fase-taxioorlog-in~bb78442a/', 'http://parool.nl/sport/stam-en-villa-nemen-de-leiding-over~b34761b1/', 'http://parool.nl/nieuws/topdrukte-op-laatste-dag-scheepvaartmuseum~bdcce0c9/', 'http://parool.nl/nieuws/sprinttitel-naar-erben-wennemars~b6a4ce54/', 'http://parool.nl/nieuws/ministeries-onvoldoende-beveiligd~bef598e6/', 'http://parool.nl/nieuws/timmer-voor-negende-keer-nationaal-kampioene~b53f81b10/', 'http://parool.nl/nieuws/97-inboedels-voor-een-goed-doel~b2f418d2/', 'http://parool.nl/sport/timmer-voor-negende-keer-nationaal-kampioene~b78c1311/', 'http://parool.nl/nieuws/fnv-wil-nieuw-centraal-akkoord~b0538c7d/', 'http://parool.nl/nieuws/proces-rond-belgische-prins-van-start~b7fa16df/', 'http://parool.nl/nieuws/jaakke-ajax-te-conservatief~b3876716/', 'http://parool.nl/nieuws/formatie-pas-woensdag-verder~bfeb7516/', 'http://parool.nl/nieuws/ing-verkoopt-trustkantoor~b11b6f832/', 'http://parool.nl/nieuws/cafe-mag-terras-wel-verwarmen~b02dc244/', 'http://parool.nl/sport/co-stompe-helpt-jelle-klaasen~b3079b99/', 'http://parool.nl/nieuws/internettelevisie-op-xbox~b0fd1e28/', 'http://parool.nl/nieuws/twee-turkse-meisjes-krijgen-verblijfsvergunning~bdd4f242/', 'http://parool.nl/sport/sprinttitel-naar-erben-wennemars~b2f370e0/', 'http://parool.nl/nieuws/riagg-rijnmond-helpt-toch-in-marokko~b20adbd1/', 'http://parool.nl/nieuws/noordzeekust-nieuwe-riviera~b797ba57/', 'http://parool.nl/nieuws/beeld-en-geluid-ontvangt-25-000e-bezoeker~bb13bdbb/', 'http://parool.nl/nieuws/auto-s-niet-naar-depot-slepen~b192d4a8/', 'http://parool.nl/nieuws/monument-reve-nu-al-beschadigd~babd9cd2e/', 'http://parool.nl/nieuws/benzine-alweer-goedkoper~b7326741/', 'http://parool.nl/nieuws/paleis-op-de-dam-klaar-voor-renovatie~b403e335/', 'http://parool.nl/nieuws/winterterras-bij-raad-van-state~ba15daf5/', 'http://parool.nl/nieuws/huis-in-amsterdam-duurder~b2740574/', 'http://parool.nl/sport/nadal-geeft-geblesseerd-op-in-sydney~bf6bf5c9/', 'http://parool.nl/nieuws/30-jaar-cel-voor-plannen-aanslag~b614d3ea/', 'http://parool.nl/nieuws/seksbaas-verkoopt-peeskamers~b00f2316/', 'http://parool.nl/nieuws/gif-op-strand-is-mengsel-irriterende-stoffen~b82c647b/', 'http://parool.nl/nieuws/ns-internationaal-maakt-voor-het-eerst-winst~b31a8428/', 'http://parool.nl/nieuws/criminelen-vaker-spullen-afpakken~ba268290/', 'http://parool.nl/nieuws/dode-vogels-door-giftige-bruine-drab~b777fb5c/', 'http://parool.nl/sport/grygera-bijna-rond-met-juventus~bf326dad/', 'http://parool.nl/nieuws/eredoctoraat-uva-bekroning-voor-mulisch~b1215c27/', 'http://parool.nl/nieuws/de-amsterdammer-van-het-jaar-is-said-bensellam~bb9c761d/', 'http://parool.nl/nieuws/stad-raakt-zijn-voorzieningen-sneller-kwijt~b9ab3f13/', 'http://parool.nl/nieuws/jan-de-rooy-uitgeschakeld~b866e2ea/', 'http://parool.nl/nieuws/amerikaanse-aanval-op-somalie~b5570c57/', 'http://parool.nl/sport/stam-blijft-brommen-in-zesdaagse~b5721331/', 'http://parool.nl/nieuws/verhagen-cda-fractie-heeft-er-zin-in~b4bf762e/', 'http://parool.nl/nieuws/zilveren-harp-voor-a-balladeer-nick-simon-opgezwolle~b1ea8e7a/', 'http://parool.nl/nieuws/muziek-in-de-stad-bedreigd~b76eb12b/', 'http://parool.nl/sport/jan-de-rooy-kansloos-in-dakar-rally~b6d02092/', 'http://parool.nl/nieuws/holleeder-verbreekt-na-vele-jaren-stilzwijgen~b5746312/', 'http://parool.nl/sport/de-ruiter-bereikt-tweede-ronde~b6281c98/', 'http://parool.nl/nieuws/kpn-stopt-alweer-met-kral~b2f94b50/', 'http://parool.nl/nieuws/verdachte-zaak-nicky-verstappen~b1556d9c/', 'http://parool.nl/nieuws/verdachte-ontkent-moord~bb594315/', 'http://parool.nl/sport/symons-verongelukt-in-dakar-rally~bcfc8f0e/', 'http://parool.nl/nieuws/rapport-vuurwerkramp-mag-openbaar~b567cc072/', 'http://parool.nl/nieuws/kliklijn-tegen-wegpiraat~bfdf5914/', 'http://parool.nl/nieuws/beleid-multiculturele-jongeren-faalt~b7339883/', 'http://parool.nl/nieuws/harde-wind-houdt-voc-schip-aan-de-wal~b2571fcb/', 'http://parool.nl/nieuws/moeder-schrijft-boek-over-ontvoering~b0dcb836/', 'http://parool.nl/sport/keisse-en-bartko-winnen-zesdaagse~b63b8bfd/', 'http://parool.nl/nieuws/onderzoek-naar-garage-osdorpplein~bcd5f928/', 'http://parool.nl/sport/federer-en-mauresmo-eensgezind-in-kritiek~b394d090/', 'http://parool.nl/nieuws/partij-wilders-doet-niet-mee-aan-statenverkiezingen~b752508b/', 'http://parool.nl/nieuws/arrestatie-in-zaak-nicky-verstappen~b6296c70/', 'http://parool.nl/nieuws/vos-wil-regels-circusdieren~b3a9b467/', 'http://parool.nl/nieuws/holleeder-heeft-geen-dingen-gezegd-die-niet-mochten~b31b80d1/', 'http://parool.nl/nieuws/amsterdam-betaalt-premie-inburgering~bf78905c/', 'http://parool.nl/nieuws/kopers-sekspanden-geerts-groot-op-wallen~b0039c0e/', 'http://parool.nl/nieuws/pauzesoftware-werkt-niet-altijd~b3b70645/', 'http://parool.nl/nieuws/holleeder-had-geen-toestemming-voor-interview~b4b1a00e/', 'http://parool.nl/nieuws/propvolle-trein-ontruimd~b21ec618/', 'http://parool.nl/sport/wolfie-te-sterk-voor-stompe~b684ad67/', 'http://parool.nl/nieuws/ruzie-over-ontslag-zieke-werknemer~b6be1451/', 'http://parool.nl/nieuws/tekort-personeel-remt-bouwsector~bb9b1d97/', 'http://parool.nl/nieuws/amsterdam-scoort-voldoende-als-fietsstad~ba3ee285/', 'http://parool.nl/nieuws/nederland-leest-theo-thijssen~b6bf9034/', 'http://parool.nl/nieuws/terroristenafdeling-vught-brandonveilig~ba72afc2/', 'http://parool.nl/nieuws/beste-huiswijnen-in-amsterdam~baabe33d/', 'http://parool.nl/nieuws/gevangenis-aan-stadsgrens~b1204770/', 'http://parool.nl/nieuws/van-der-horst-geeft-ex-collega-s-advies~b954fe7f/', 'http://parool.nl/sport/tafeltennissers-naar-a-categorie~b7ac46c7/', 'http://parool.nl/nieuws/metzmacher-alweer-weg-bij-dno~b7164db5/', 'http://parool.nl/nieuws/tv-oorlog-woedt-op-ijsvloer~b5a89b0d/', 'http://parool.nl/sport/geen-toppers-op-abn-amro-toernooi~b969805f/']\n"
     ]
    },
    {
     "name": "stderr",
     "output_type": "stream",
     "text": [
      "\n"
     ]
    }
   ],
   "source": [
    "scraper.index_urls()"
   ]
  },
  {
   "cell_type": "code",
   "execution_count": 19,
   "metadata": {},
   "outputs": [
    {
     "name": "stderr",
     "output_type": "stream",
     "text": [
      "\r",
      "  0%|                                                                                      | 0/209 [00:00<?, ?it/s]"
     ]
    },
    {
     "name": "stdout",
     "output_type": "stream",
     "text": [
      "Crawling articles: \n"
     ]
    },
    {
     "name": "stderr",
     "output_type": "stream",
     "text": [
      "100%|████████████████████████████████████████████████████████████████████████████| 209/209 [07:19<00:00,  2.10s/it]\n"
     ]
    }
   ],
   "source": [
    "scraper.crawl_articles()"
   ]
  },
  {
   "cell_type": "code",
   "execution_count": 20,
   "metadata": {},
   "outputs": [
    {
     "name": "stderr",
     "output_type": "stream",
     "text": [
      " 11%|████████▋                                                                   | 24/209 [00:00<00:00, 235.92it/s]"
     ]
    },
    {
     "name": "stdout",
     "output_type": "stream",
     "text": [
      "Cleaning articles:\n"
     ]
    },
    {
     "name": "stderr",
     "output_type": "stream",
     "text": [
      "100%|███████████████████████████████████████████████████████████████████████████| 209/209 [00:00<00:00, 237.59it/s]\n"
     ]
    }
   ],
   "source": [
    "scraper.clean_articles()"
   ]
  },
  {
   "cell_type": "code",
   "execution_count": 21,
   "metadata": {},
   "outputs": [],
   "source": [
    "scraper.save_json()"
   ]
  },
  {
   "cell_type": "code",
   "execution_count": null,
   "metadata": {},
   "outputs": [],
   "source": []
  }
 ],
 "metadata": {
  "kernelspec": {
   "display_name": "Python 3",
   "language": "python",
   "name": "python3"
  },
  "language_info": {
   "codemirror_mode": {
    "name": "ipython",
    "version": 3
   },
   "file_extension": ".py",
   "mimetype": "text/x-python",
   "name": "python",
   "nbconvert_exporter": "python",
   "pygments_lexer": "ipython3",
   "version": "3.8.6"
  }
 },
 "nbformat": 4,
 "nbformat_minor": 4
}
