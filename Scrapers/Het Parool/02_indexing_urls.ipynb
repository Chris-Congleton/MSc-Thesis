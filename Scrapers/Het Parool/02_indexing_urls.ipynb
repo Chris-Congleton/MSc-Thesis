{
 "cells": [
  {
   "cell_type": "code",
   "execution_count": 1,
   "metadata": {},
   "outputs": [],
   "source": [
    "from datetime import datetime\n",
    "from bs4 import BeautifulSoup\n",
    "import requests as req\n",
    "from lxml import html"
   ]
  },
  {
   "cell_type": "code",
   "execution_count": 2,
   "metadata": {},
   "outputs": [],
   "source": [
    "archive_url_day_example = 'https://www.parool.nl/archief/2022/02/23'"
   ]
  },
  {
   "cell_type": "code",
   "execution_count": 3,
   "metadata": {},
   "outputs": [],
   "source": [
    "def fetchArchiveURL(url):\n",
    "    document = {}\n",
    "    \n",
    "    try:\n",
    "        r = req.get(url)\n",
    "        r.raise_for_status()\n",
    "    except req.exceptions.HTTPError as err:\n",
    "        # TODO: add error handling\n",
    "        pass\n",
    "    else:        \n",
    "        document['url'] = url\n",
    "        document['raw_html'] = r.content\n",
    "        document['in_cache_date'] = datetime.utcnow()\n",
    "        \n",
    "    return document"
   ]
  },
  {
   "cell_type": "code",
   "execution_count": 4,
   "metadata": {},
   "outputs": [],
   "source": [
    "def parseArchiveURL(url):\n",
    "    doc = fetchArchiveURL(url)\n",
    "    raw_html = doc['raw_html']\n",
    "    soup = BeautifulSoup(raw_html, 'html')\n",
    "    tree = html.fromstring(raw_html)\n",
    "    \n",
    "    try:\n",
    "        article_urls = tree.xpath('/html/body/main/div[2]/*/a[@class=\"teaser__link\"]/@href')\n",
    "    except: \n",
    "        article_urls = None\n",
    "        \n",
    "        \n",
    "    return article_urls"
   ]
  },
  {
   "cell_type": "code",
   "execution_count": 8,
   "metadata": {},
   "outputs": [],
   "source": [
    "article_urls = parseArchiveURL(archive_url_day_example)"
   ]
  },
  {
   "cell_type": "code",
   "execution_count": 9,
   "metadata": {},
   "outputs": [],
   "source": [
    "article_urls = [\"http://parool.nl\" + x for x in article_urls]"
   ]
  },
  {
   "cell_type": "code",
   "execution_count": 10,
   "metadata": {},
   "outputs": [
    {
     "name": "stdout",
     "output_type": "stream",
     "text": [
      "['http://parool.nl/amsterdam/advocaat-gijzelnemer-apple-store-overleden~bc7cc889/', 'http://parool.nl/amsterdam/tientallen-mensen-langs-bij-de-nazorgbus-leidseplein~b1e6c7b3/', 'http://parool.nl/wereld/russische-ambassademedewerker-eist-opheldering-van-premier-rutte-waarom-valt-u-poetin-persoonlijk-aan~b1b51049/', 'http://parool.nl/columns-opinie/ineens-namen-de-vier-kistdragers-bij-de-haringkraam-hun-hoed-af~b6abb986/', 'http://parool.nl/columns-opinie/een-oude-koffer-die-nog-steeds-ruikt-naar-het-ene-parfum-dat-er-24-jaar-geleden-in-werd-opgeborgen~bd0a7280/']\n"
     ]
    }
   ],
   "source": [
    "print(article_urls[:5])"
   ]
  },
  {
   "cell_type": "code",
   "execution_count": null,
   "metadata": {},
   "outputs": [],
   "source": []
  }
 ],
 "metadata": {
  "kernelspec": {
   "display_name": "Python 3",
   "language": "python",
   "name": "python3"
  },
  "language_info": {
   "codemirror_mode": {
    "name": "ipython",
    "version": 3
   },
   "file_extension": ".py",
   "mimetype": "text/x-python",
   "name": "python",
   "nbconvert_exporter": "python",
   "pygments_lexer": "ipython3",
   "version": "3.8.6"
  }
 },
 "nbformat": 4,
 "nbformat_minor": 4
}
