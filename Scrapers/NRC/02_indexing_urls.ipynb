{
 "cells": [
  {
   "cell_type": "markdown",
   "metadata": {},
   "source": [
    "Create a list of all article urls in monthly_sitemap_url"
   ]
  },
  {
   "cell_type": "code",
   "execution_count": 12,
   "metadata": {},
   "outputs": [],
   "source": [
    "from datetime import datetime\n",
    "from bs4 import BeautifulSoup\n",
    "import requests as req"
   ]
  },
  {
   "cell_type": "code",
   "execution_count": 13,
   "metadata": {},
   "outputs": [],
   "source": [
    "archive_url_example = 'https://www.nrc.nl/sitemap/2022-02.xml'"
   ]
  },
  {
   "cell_type": "code",
   "execution_count": 14,
   "metadata": {},
   "outputs": [],
   "source": [
    "def fetchArchiveURL(url):\n",
    "    document = {}\n",
    "    \n",
    "    try:\n",
    "        r = req.get(url)\n",
    "        r.raise_for_status()\n",
    "    except req.exceptions.HTTPError as err:\n",
    "        # TODO: add error handling\n",
    "        pass\n",
    "    else:        \n",
    "        document['url'] = url\n",
    "        document['raw_xml'] = r.content\n",
    "        document['in_cache_date'] = datetime.utcnow()\n",
    "        \n",
    "    return document"
   ]
  },
  {
   "cell_type": "code",
   "execution_count": 15,
   "metadata": {},
   "outputs": [],
   "source": [
    "def fetchArticleURL(url):\n",
    "    doc = fetchArchiveURL(url)\n",
    "    raw_xml = doc['raw_xml']\n",
    "    soup = BeautifulSoup(raw_xml, 'xml')\n",
    "    \n",
    "    article_urls = []\n",
    "    locs = soup.find_all('loc')\n",
    "    for loc in locs:\n",
    "        article_urls.append(loc.get_text())\n",
    "        \n",
    "    return article_urls"
   ]
  },
  {
   "cell_type": "code",
   "execution_count": 16,
   "metadata": {},
   "outputs": [
    {
     "name": "stdout",
     "output_type": "stream",
     "text": [
      "https://www.nrc.nl/nieuws/2022/02/01/kunstinstellingen-sluiten-is-niet-een-futiliteit-a4083823\n"
     ]
    }
   ],
   "source": [
    "article_urls = fetchArticleURL(archive_url_example)\n",
    "print(article_urls[-1])"
   ]
  },
  {
   "cell_type": "code",
   "execution_count": 17,
   "metadata": {},
   "outputs": [
    {
     "data": {
      "text/plain": [
       "1759"
      ]
     },
     "execution_count": 17,
     "metadata": {},
     "output_type": "execute_result"
    }
   ],
   "source": [
    "len(article_urls)"
   ]
  },
  {
   "cell_type": "code",
   "execution_count": null,
   "metadata": {},
   "outputs": [],
   "source": []
  }
 ],
 "metadata": {
  "kernelspec": {
   "display_name": "Python 3",
   "language": "python",
   "name": "python3"
  },
  "language_info": {
   "codemirror_mode": {
    "name": "ipython",
    "version": 3
   },
   "file_extension": ".py",
   "mimetype": "text/x-python",
   "name": "python",
   "nbconvert_exporter": "python",
   "pygments_lexer": "ipython3",
   "version": "3.8.6"
  }
 },
 "nbformat": 4,
 "nbformat_minor": 4
}
