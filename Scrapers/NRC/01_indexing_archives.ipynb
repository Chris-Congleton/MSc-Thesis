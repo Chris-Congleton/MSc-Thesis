{
 "cells": [
  {
   "cell_type": "code",
   "execution_count": 33,
   "metadata": {},
   "outputs": [],
   "source": [
    "import datetime\n",
    "from dateutil.relativedelta import relativedelta"
   ]
  },
  {
   "cell_type": "code",
   "execution_count": 34,
   "metadata": {},
   "outputs": [],
   "source": [
    "# Sitemap of the whole archive\n",
    "total_sitemap_url = \"https://www.nrc.nl/sitemap/index.xml\""
   ]
  },
  {
   "cell_type": "code",
   "execution_count": 35,
   "metadata": {},
   "outputs": [],
   "source": [
    "# Create a list of all monthly sitemap urls\n",
    "date_input_format = '%m-%Y'\n",
    "date_nrc_format = '%Y-%m'\n",
    "\n",
    "start_date = '10-1970'\n",
    "end_date = datetime.datetime.today().strftime(date_input_format)\n",
    "\n",
    "def diff_month(d1, d2):\n",
    "    return (d1.year - d2.year) * 12 + d1.month - d2.month\n",
    "\n",
    "start = datetime.datetime.strptime(start_date, date_input_format)\n",
    "end = datetime.datetime.strptime(end_date, date_input_format)\n",
    "\n",
    "date_range= [start + relativedelta(months=x) for x in range(0, diff_month(end, start)+1)]\n",
    "\n",
    "monthly_sitemap_urls = [f\"https://www.nrc.nl/sitemap/{date.strftime(date_nrc_format)}.xml\" for date in date_range]"
   ]
  },
  {
   "cell_type": "code",
   "execution_count": 38,
   "metadata": {},
   "outputs": [
    {
     "name": "stdout",
     "output_type": "stream",
     "text": [
      "['https://www.nrc.nl/sitemap/2021-05.xml', 'https://www.nrc.nl/sitemap/2021-06.xml', 'https://www.nrc.nl/sitemap/2021-07.xml', 'https://www.nrc.nl/sitemap/2021-08.xml', 'https://www.nrc.nl/sitemap/2021-09.xml', 'https://www.nrc.nl/sitemap/2021-10.xml', 'https://www.nrc.nl/sitemap/2021-11.xml', 'https://www.nrc.nl/sitemap/2021-12.xml', 'https://www.nrc.nl/sitemap/2022-01.xml', 'https://www.nrc.nl/sitemap/2022-02.xml']\n"
     ]
    }
   ],
   "source": [
    "print(monthly_sitemap_urls[-10:])"
   ]
  },
  {
   "cell_type": "code",
   "execution_count": null,
   "metadata": {},
   "outputs": [],
   "source": []
  }
 ],
 "metadata": {
  "kernelspec": {
   "display_name": "Python 3",
   "language": "python",
   "name": "python3"
  },
  "language_info": {
   "codemirror_mode": {
    "name": "ipython",
    "version": 3
   },
   "file_extension": ".py",
   "mimetype": "text/x-python",
   "name": "python",
   "nbconvert_exporter": "python",
   "pygments_lexer": "ipython3",
   "version": "3.8.6"
  }
 },
 "nbformat": 4,
 "nbformat_minor": 4
}
