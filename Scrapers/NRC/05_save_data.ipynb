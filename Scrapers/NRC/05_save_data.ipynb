{
 "cells": [
  {
   "cell_type": "code",
   "execution_count": 1,
   "metadata": {},
   "outputs": [],
   "source": [
    "import json"
   ]
  },
  {
   "cell_type": "code",
   "execution_count": 2,
   "metadata": {},
   "outputs": [],
   "source": [
    "a = {'url': 'https://www.nrc.nl/nieuws/2022/02/01/truckers-tractors-en-van-der-plas-bbb-a4083868', 'timestamp': '2022-02-01T00:00:00+02:00', 'title': 'Truckers, tractors  en Van der Plas (BBB)', 'publisherID': 'Tom-Jan Meeus', 'cleantext': 'Je kunt niet zeggen dat de wereld buiten Nederland veel aandacht krijgt in Den Haag. Maar soms denk je een lichtpuntje te zien. Vorige week donderdag vroeg Caroline van der Plas van de BoerBurgerBeweging (BBB) aandacht voor de toestand in Canada. #FreedomTruckers reden daar in „70 kilometer konvooi” naar de hoofdstad Ottawa – eerst tegen vaccinatieplicht voor truckers, later tegen alle coronabeperkingen. „Indrukwekkend”, . Conservatieve Amerikaanse media, FoxNews c.s., waren er erg over te spreken, en je begreep waarom ook Van der Plas in haar nopjes was. Het was alsof Canadese truckers het trekkerprotest van de Nederlandse boeren nadeden. Hollands glorie potverdorie.Wel stond er een voorbehoud in het artikel uit de conservatieve waarnaar Van der Plas verwees: die zeventig kilometer was misschien overdreven. Dit kwam van de truckers, en „onafhankelijke bevestiging” van het getal ontbrak,  de krant tussen haakjes.Maar het BBB-Kamerlid wilde aandacht voor iets anders. Zij is oud-journalist en heeft met haar partij (één zetel) over media-aandacht niet te klagen. Toch had ze een kritische vraag voor de media. Ze  donderdag over dat konvooi van 70 kilometer: „Gek dat je hier weinig van leest en ziet in NL media. Of heb ik iets gemist? Dat kan natuurlijk ook.”Nu had Van der Plas inderdaad : de NOS publiceerde daags tevoren 22 seconden video van het protest. Het konvooi oogde er allerminst als 70 kilometer, maar wat wil je in 22 seconden. En het kon toeval zijn, maar na Van der Plas’ tweet donderdag groeiden op sociale media de klachten dat ‘de MSM’ het „megaprotest”  in Canada negeerden. De mooiste uitwisseling was vrijdag, toen  met veel sterretjes de NOS verweet dat „het #FreedomConvoy2022 van wel 50.000 vrachtwagens en 1,4mln Canadezen (-) onder het tapijt wordt geveegd”. „Ik ben daar gewoon verslag van aan het doen”,  NOS-correspondent Marieke de Vries diezelfde dag, „maar dank voor de belangstelling.”Als je Canadese media natrok, kon je vele andere ontnuchterde feiten vinden. Zaterdag kwamen uiteindelijk  truckers in Ottawa aan. Ruim 80 procent van de Canadezen is volledig gevaccineerd. De Canadian Truckers Association was Maar misschien had het BBB-Kamerlid dit allemaal gemist. Dat kan natuurlijk ook. En wat maakte het ook uit. Zondag   wat de mediakritiek van dit Kamerlid voorstelde: „Truckersprotest waait over naar Nederland: ‘Genoeg is genoeg!’” ', 'category': 'Opinie'}"
   ]
  },
  {
   "cell_type": "code",
   "execution_count": 3,
   "metadata": {},
   "outputs": [],
   "source": [
    "with open('NRC.json', 'w') as file:\n",
    "    json.dump(a, file,  indent=4)"
   ]
  }
 ],
 "metadata": {
  "kernelspec": {
   "display_name": "Python 3",
   "language": "python",
   "name": "python3"
  },
  "language_info": {
   "codemirror_mode": {
    "name": "ipython",
    "version": 3
   },
   "file_extension": ".py",
   "mimetype": "text/x-python",
   "name": "python",
   "nbconvert_exporter": "python",
   "pygments_lexer": "ipython3",
   "version": "3.8.6"
  }
 },
 "nbformat": 4,
 "nbformat_minor": 4
}
