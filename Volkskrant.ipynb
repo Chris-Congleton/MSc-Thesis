{
  "nbformat": 4,
  "nbformat_minor": 0,
  "metadata": {
    "colab": {
      "name": "Volkskrant.ipynb",
      "provenance": [],
      "authorship_tag": "ABX9TyPYBmYeJma6W6uyOi1d+ZOb",
      "include_colab_link": true
    },
    "kernelspec": {
      "name": "python3",
      "display_name": "Python 3"
    },
    "language_info": {
      "name": "python"
    }
  },
  "cells": [
    {
      "cell_type": "markdown",
      "metadata": {
        "id": "view-in-github",
        "colab_type": "text"
      },
      "source": [
        "<a href=\"https://colab.research.google.com/github/Chris-Congleton/MSc-Thesis/blob/main/Volkskrant.ipynb\" target=\"_parent\"><img src=\"https://colab.research.google.com/assets/colab-badge.svg\" alt=\"Open In Colab\"/></a>"
      ]
    },
    {
      "cell_type": "code",
      "metadata": {
        "colab": {
          "base_uri": "https://localhost:8080/"
        },
        "id": "Bw_Rct6hVjou",
        "outputId": "c04909af-d7f8-4205-88ab-ad3cad5dbcba"
      },
      "source": [
        "import json, os\n",
        "import pandas as pd\n",
        "import nltk\n",
        "import glob\n",
        "from tqdm import tqdm\n",
        "nltk.download('punkt')\n",
        "import seaborn as sns\n",
        "from collections import Counter"
      ],
      "execution_count": null,
      "outputs": [
        {
          "output_type": "stream",
          "name": "stdout",
          "text": [
            "[nltk_data] Downloading package punkt to /root/nltk_data...\n",
            "[nltk_data]   Package punkt is already up-to-date!\n"
          ]
        }
      ]
    },
    {
      "cell_type": "code",
      "metadata": {
        "id": "0rQ8MfSRTIO_",
        "colab": {
          "base_uri": "https://localhost:8080/"
        },
        "outputId": "63a66c81-743e-42d4-e679-db4c6345a1eb"
      },
      "source": [
        "from google.colab import drive\n",
        "drive.mount(\"/content/gdrive\")"
      ],
      "execution_count": null,
      "outputs": [
        {
          "output_type": "stream",
          "name": "stdout",
          "text": [
            "Drive already mounted at /content/gdrive; to attempt to forcibly remount, call drive.mount(\"/content/gdrive\", force_remount=True).\n"
          ]
        }
      ]
    },
    {
      "cell_type": "code",
      "metadata": {
        "id": "wLEAzAOaVhyF"
      },
      "source": [
        "!ls gdrive/MyDrive/CS/Thesis/volkskrant-nl/"
      ],
      "execution_count": null,
      "outputs": []
    },
    {
      "cell_type": "code",
      "metadata": {
        "colab": {
          "base_uri": "https://localhost:8080/"
        },
        "id": "Ac0FVOxuVpBV",
        "outputId": "8f7f6cc6-83fd-4c26-b56d-020b54f6a89a"
      },
      "source": [
        "df = pd.read_json('gdrive/MyDrive/CS/Thesis/volkskrant-nl/volkskrant-nl-2002-01.json')\n",
        "print(df.columns)\n",
        "print(df.head())"
      ],
      "execution_count": null,
      "outputs": [
        {
          "output_type": "stream",
          "name": "stdout",
          "text": [
            "Index(['categories', 'cleaned', 'cleantext', 'keywords', 'leading-image',\n",
            "       'leading-image-caption-content', 'leading-image-caption-source',\n",
            "       'leading-image-copyright', 'og-description', 'og-image', 'og-title',\n",
            "       'timestamp', 'title', 'url'],\n",
            "      dtype='object')\n",
            "                 categories  ...                                                url\n",
            "0  Nieuws &amp; Achtergrond  ...  https://www.volkskrant.nl/nieuws-achtergrond/a...\n",
            "1  Nieuws &amp; Achtergrond  ...  https://www.volkskrant.nl/nieuws-achtergrond/c...\n",
            "2  Nieuws &amp; Achtergrond  ...  https://www.volkskrant.nl/nieuws-achtergrond/o...\n",
            "3  Nieuws &amp; Achtergrond  ...  https://www.volkskrant.nl/nieuws-achtergrond/k...\n",
            "4  Nieuws &amp; Achtergrond  ...  https://www.volkskrant.nl/nieuws-achtergrond/h...\n",
            "\n",
            "[5 rows x 14 columns]\n"
          ]
        }
      ]
    },
    {
      "cell_type": "code",
      "metadata": {
        "colab": {
          "base_uri": "https://localhost:8080/"
        },
        "id": "ZcJ2G3TlgSsd",
        "outputId": "1d2f615e-e2ef-481f-fbe7-ccf4e7e1a3a5"
      },
      "source": [
        "path_to_json = \"gdrive/MyDrive/CS/Thesis/volkskrant-nl\"\n",
        "json_files = [\"gdrive/MyDrive/CS/Thesis/volkskrant-nl/\"+pos_json for pos_json in os.listdir(path_to_json) if pos_json.endswith('.json')]\n",
        "print(json_files[:10])"
      ],
      "execution_count": null,
      "outputs": [
        {
          "output_type": "stream",
          "name": "stdout",
          "text": [
            "['gdrive/MyDrive/CS/Thesis/volkskrant-nl/volkskrant-nl-2002-01.json', 'gdrive/MyDrive/CS/Thesis/volkskrant-nl/volkskrant-nl-2002-02.json', 'gdrive/MyDrive/CS/Thesis/volkskrant-nl/volkskrant-nl-2002-03.json', 'gdrive/MyDrive/CS/Thesis/volkskrant-nl/volkskrant-nl-2002-04.json', 'gdrive/MyDrive/CS/Thesis/volkskrant-nl/volkskrant-nl-2002-05.json', 'gdrive/MyDrive/CS/Thesis/volkskrant-nl/volkskrant-nl-2002-06.json', 'gdrive/MyDrive/CS/Thesis/volkskrant-nl/volkskrant-nl-2002-07.json', 'gdrive/MyDrive/CS/Thesis/volkskrant-nl/volkskrant-nl-2002-08.json', 'gdrive/MyDrive/CS/Thesis/volkskrant-nl/volkskrant-nl-2002-09.json', 'gdrive/MyDrive/CS/Thesis/volkskrant-nl/volkskrant-nl-2002-10.json']\n"
          ]
        }
      ]
    },
    {
      "cell_type": "code",
      "metadata": {
        "id": "nxs9IdXmevd8"
      },
      "source": [
        "def readFiles(file_names):\n",
        "  dfs = [] # an empty list to store the data frames\n",
        "  for f in tqdm(file_names):\n",
        "    data = pd.read_json(f) # read data frame from json file\n",
        "    dfs.append(data) # append the data frame to the list\n",
        "\n",
        "  df = pd.concat(dfs, ignore_index=True) # concatenate all the data frames in the list.\n",
        "  return df"
      ],
      "execution_count": null,
      "outputs": []
    },
    {
      "cell_type": "code",
      "metadata": {
        "colab": {
          "base_uri": "https://localhost:8080/"
        },
        "id": "gZPOq0K8fzEn",
        "outputId": "2a5d183f-dabc-46b3-d48b-0f4cec76241a"
      },
      "source": [
        "df = readFiles(json_files)\n",
        "df.shape"
      ],
      "execution_count": null,
      "outputs": [
        {
          "output_type": "stream",
          "name": "stderr",
          "text": [
            "100%|██████████| 214/214 [01:12<00:00,  2.95it/s]\n"
          ]
        },
        {
          "output_type": "execute_result",
          "data": {
            "text/plain": [
              "(862852, 14)"
            ]
          },
          "metadata": {},
          "execution_count": 170
        }
      ]
    },
    {
      "cell_type": "code",
      "metadata": {
        "colab": {
          "base_uri": "https://localhost:8080/",
          "height": 678
        },
        "id": "PAlGKMOOkZNF",
        "outputId": "75a5ec8e-443e-4026-f8e1-01e2de1c2755"
      },
      "source": [
        "df.head()"
      ],
      "execution_count": null,
      "outputs": [
        {
          "output_type": "execute_result",
          "data": {
            "text/html": [
              "<div>\n",
              "<style scoped>\n",
              "    .dataframe tbody tr th:only-of-type {\n",
              "        vertical-align: middle;\n",
              "    }\n",
              "\n",
              "    .dataframe tbody tr th {\n",
              "        vertical-align: top;\n",
              "    }\n",
              "\n",
              "    .dataframe thead th {\n",
              "        text-align: right;\n",
              "    }\n",
              "</style>\n",
              "<table border=\"1\" class=\"dataframe\">\n",
              "  <thead>\n",
              "    <tr style=\"text-align: right;\">\n",
              "      <th></th>\n",
              "      <th>categories</th>\n",
              "      <th>cleaned</th>\n",
              "      <th>cleantext</th>\n",
              "      <th>keywords</th>\n",
              "      <th>leading-image</th>\n",
              "      <th>leading-image-caption-content</th>\n",
              "      <th>leading-image-caption-source</th>\n",
              "      <th>leading-image-copyright</th>\n",
              "      <th>og-description</th>\n",
              "      <th>og-image</th>\n",
              "      <th>og-title</th>\n",
              "      <th>timestamp</th>\n",
              "      <th>title</th>\n",
              "      <th>url</th>\n",
              "    </tr>\n",
              "  </thead>\n",
              "  <tbody>\n",
              "    <tr>\n",
              "      <th>0</th>\n",
              "      <td>Nieuws &amp;amp; Achtergrond</td>\n",
              "      <td>2019-10-16T20:16:07.606000</td>\n",
              "      <td>Beeld ANP Dinsdag begint de dag overal bewolkt...</td>\n",
              "      <td>[weer, weersvoorspelling]</td>\n",
              "      <td>https://images4.persgroep.net/rcs/6j_4vnkesFV2...</td>\n",
              "      <td>None</td>\n",
              "      <td>Beeld ANP</td>\n",
              "      <td>Beeld ANP</td>\n",
              "      <td>Dinsdag begint de dag overal bewolkt. Vooral i...</td>\n",
              "      <td>https://images4.persgroep.net/rcs/6j_4vnkesFV2...</td>\n",
              "      <td>Het weerbericht voor dinsdag: veel regen met l...</td>\n",
              "      <td>2019-10-01 00:00:23</td>\n",
              "      <td>Het weerbericht voor dinsdag: veel regen met l...</td>\n",
              "      <td>https://www.volkskrant.nl/nieuws-achtergrond/h...</td>\n",
              "    </tr>\n",
              "    <tr>\n",
              "      <th>1</th>\n",
              "      <td>Cultuur &amp;amp; Media</td>\n",
              "      <td>2019-10-16T20:16:07.899000</td>\n",
              "      <td>Kevin Spacey en Annette Bening in American Bea...</td>\n",
              "      <td>[Asli Özge, Jane, kunst, cultuur en entertainm...</td>\n",
              "      <td>https://images3.persgroep.net/rcs/_My6hvlnyfmG...</td>\n",
              "      <td>Kevin Spacey en Annette Bening in American Beauty</td>\n",
              "      <td></td>\n",
              "      <td></td>\n",
              "      <td>Elke dag tipt de redactie van de Volkskrant de...</td>\n",
              "      <td>https://images3.persgroep.net/rcs/_My6hvlnyfmG...</td>\n",
              "      <td>De Volkskrant film- en tv-tips voor dinsdag 1 ...</td>\n",
              "      <td>2019-10-01 03:00:29</td>\n",
              "      <td>De Volkskrant film- en tv-tips voor dinsdag 1 ...</td>\n",
              "      <td>https://www.volkskrant.nl/cultuur-media/de-vol...</td>\n",
              "    </tr>\n",
              "    <tr>\n",
              "      <th>2</th>\n",
              "      <td>Nieuws &amp;amp; Achtergrond</td>\n",
              "      <td>2019-10-16T20:16:08.211000</td>\n",
              "      <td>Minister Carola Schouten (Landbouw, Natuur en ...</td>\n",
              "      <td>[Platform Medezeggenschap MBO, onderwijs en op...</td>\n",
              "      <td>https://images4.persgroep.net/rcs/ztZTAtf2q4AU...</td>\n",
              "      <td>Minister Carola Schouten (Landbouw, Natuur en ...</td>\n",
              "      <td>Beeld ANP</td>\n",
              "      <td>Beeld ANP</td>\n",
              "      <td>Ondanks goede voornemens en extra geld is het ...</td>\n",
              "      <td>https://images4.persgroep.net/rcs/ztZTAtf2q4AU...</td>\n",
              "      <td>Aantal mbo-docenten in laagste salarisschaal g...</td>\n",
              "      <td>2019-10-01 03:00:29</td>\n",
              "      <td>Aantal mbo-docenten in laagste salarisschaal g...</td>\n",
              "      <td>https://www.volkskrant.nl/nieuws-achtergrond/a...</td>\n",
              "    </tr>\n",
              "    <tr>\n",
              "      <th>3</th>\n",
              "      <td>Nieuws &amp;amp; Achtergrond</td>\n",
              "      <td>2019-10-16T20:16:08.507000</td>\n",
              "      <td>Beeld ANP Meer dan de helft van de werkzoekend...</td>\n",
              "      <td>[UWV, Astrid Hendriks, werk, politiek, economi...</td>\n",
              "      <td>https://images4.persgroep.net/rcs/L-Pci8qLKG_M...</td>\n",
              "      <td>None</td>\n",
              "      <td>Beeld ANP</td>\n",
              "      <td>Beeld ANP</td>\n",
              "      <td>Een databank van het UWV die mensen met een ar...</td>\n",
              "      <td>https://images4.persgroep.net/rcs/L-Pci8qLKG_M...</td>\n",
              "      <td>UWV-databank voor mensen met arbeidshandicap h...</td>\n",
              "      <td>2019-10-01 05:20:00</td>\n",
              "      <td>UWV-databank voor mensen met arbeidshandicap h...</td>\n",
              "      <td>https://www.volkskrant.nl/nieuws-achtergrond/u...</td>\n",
              "    </tr>\n",
              "    <tr>\n",
              "      <th>4</th>\n",
              "      <td>Nieuws &amp;amp; Achtergrond</td>\n",
              "      <td>2019-10-16T20:16:08.846000</td>\n",
              "      <td>Minister Carola Schouten (Landbouw, Natuur en ...</td>\n",
              "      <td>[China, politiek, Stef Blok, Trump, André Rieu...</td>\n",
              "      <td>https://images4.persgroep.net/rcs/ztZTAtf2q4AU...</td>\n",
              "      <td>Minister Carola Schouten (Landbouw, Natuur en ...</td>\n",
              "      <td>Beeld ANP</td>\n",
              "      <td>Beeld ANP</td>\n",
              "      <td>Aantal mbo-docenten in laagste salarisschaal g...</td>\n",
              "      <td>https://images4.persgroep.net/rcs/ztZTAtf2q4AU...</td>\n",
              "      <td>Volkskrant Ochtend: Aantal mbo-docenten in laa...</td>\n",
              "      <td>2019-10-01 05:21:23</td>\n",
              "      <td>Volkskrant Ochtend: Aantal mbo-docenten in laa...</td>\n",
              "      <td>https://www.volkskrant.nl/nieuws-achtergrond/v...</td>\n",
              "    </tr>\n",
              "  </tbody>\n",
              "</table>\n",
              "</div>"
            ],
            "text/plain": [
              "                 categories  ...                                                url\n",
              "0  Nieuws &amp; Achtergrond  ...  https://www.volkskrant.nl/nieuws-achtergrond/h...\n",
              "1       Cultuur &amp; Media  ...  https://www.volkskrant.nl/cultuur-media/de-vol...\n",
              "2  Nieuws &amp; Achtergrond  ...  https://www.volkskrant.nl/nieuws-achtergrond/a...\n",
              "3  Nieuws &amp; Achtergrond  ...  https://www.volkskrant.nl/nieuws-achtergrond/u...\n",
              "4  Nieuws &amp; Achtergrond  ...  https://www.volkskrant.nl/nieuws-achtergrond/v...\n",
              "\n",
              "[5 rows x 14 columns]"
            ]
          },
          "metadata": {},
          "execution_count": 164
        }
      ]
    },
    {
      "cell_type": "code",
      "metadata": {
        "colab": {
          "base_uri": "https://localhost:8080/",
          "height": 279
        },
        "id": "kkfwKZ2Pf4wV",
        "outputId": "4a1b8ef2-57b7-4293-f912-e1f60acf2415"
      },
      "source": [
        "ax = sns.countplot(x=\"categories\",data=df)"
      ],
      "execution_count": null,
      "outputs": [
        {
          "output_type": "display_data",
          "data": {
            "image/png": "[encoded data removed]",
            "text/plain": [
              "<Figure size 432x288 with 1 Axes>"
            ]
          },
          "metadata": {
            "needs_background": "light"
          }
        }
      ]
    },
    {
      "cell_type": "code",
      "metadata": {
        "id": "4XRJAknelZ2E"
      },
      "source": [
        "partijen = [\"CDA\", \"VVD\", \"D66\", \"PvdA\"]"
      ],
      "execution_count": null,
      "outputs": []
    },
    {
      "cell_type": "code",
      "metadata": {
        "id": "QSZ60Lf95jeU"
      },
      "source": [
        "def occurence(text, words):\n",
        "  "
      ],
      "execution_count": null,
      "outputs": []
    }
  ]
}