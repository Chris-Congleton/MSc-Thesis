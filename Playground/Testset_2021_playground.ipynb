{
  "nbformat": 4,
  "nbformat_minor": 0,
  "metadata": {
    "colab": {
      "name": "Testset_2021_playground.ipynb",
      "provenance": [],
      "authorship_tag": "ABX9TyPU6ijHpgTH8ia3moa8AmAB",
      "include_colab_link": true
    },
    "kernelspec": {
      "name": "python3",
      "display_name": "Python 3"
    },
    "language_info": {
      "name": "python"
    }
  },
  "cells": [
    {
      "cell_type": "markdown",
      "metadata": {
        "id": "view-in-github",
        "colab_type": "text"
      },
      "source": [
        "<a href=\"https://colab.research.google.com/github/Chris-Congleton/MSc-Thesis/blob/main/Playground/Testset_2021_playground.ipynb\" target=\"_parent\"><img src=\"https://colab.research.google.com/assets/colab-badge.svg\" alt=\"Open In Colab\"/></a>"
      ]
    },
    {
      "cell_type": "markdown",
      "source": [
        "# Imports\n"
      ],
      "metadata": {
        "id": "xRJGeZYeQyUa"
      }
    },
    {
      "cell_type": "code",
      "execution_count": 150,
      "metadata": {
        "colab": {
          "base_uri": "https://localhost:8080/"
        },
        "id": "oBqw7TELQbX0",
        "outputId": "d8419c3b-00bc-419b-f454-a62973f0a6d0"
      },
      "outputs": [
        {
          "output_type": "stream",
          "name": "stdout",
          "text": [
            "Requirement already satisfied: gensim in /usr/local/lib/python3.7/dist-packages (4.1.2)\n",
            "Requirement already satisfied: smart-open>=1.8.1 in /usr/local/lib/python3.7/dist-packages (from gensim) (5.2.1)\n",
            "Requirement already satisfied: scipy>=0.18.1 in /usr/local/lib/python3.7/dist-packages (from gensim) (1.4.1)\n",
            "Requirement already satisfied: numpy>=1.17.0 in /usr/local/lib/python3.7/dist-packages (from gensim) (1.21.5)\n",
            "Requirement already satisfied: pyLDAvis in /usr/local/lib/python3.7/dist-packages (3.3.1)\n",
            "Requirement already satisfied: jinja2 in /usr/local/lib/python3.7/dist-packages (from pyLDAvis) (2.11.3)\n",
            "Requirement already satisfied: joblib in /usr/local/lib/python3.7/dist-packages (from pyLDAvis) (1.1.0)\n",
            "Requirement already satisfied: numpy>=1.20.0 in /usr/local/lib/python3.7/dist-packages (from pyLDAvis) (1.21.5)\n",
            "Requirement already satisfied: funcy in /usr/local/lib/python3.7/dist-packages (from pyLDAvis) (1.17)\n",
            "Requirement already satisfied: scipy in /usr/local/lib/python3.7/dist-packages (from pyLDAvis) (1.4.1)\n",
            "Requirement already satisfied: numexpr in /usr/local/lib/python3.7/dist-packages (from pyLDAvis) (2.8.1)\n",
            "Requirement already satisfied: sklearn in /usr/local/lib/python3.7/dist-packages (from pyLDAvis) (0.0)\n",
            "Requirement already satisfied: scikit-learn in /usr/local/lib/python3.7/dist-packages (from pyLDAvis) (1.0.2)\n",
            "Requirement already satisfied: setuptools in /usr/local/lib/python3.7/dist-packages (from pyLDAvis) (57.4.0)\n",
            "Requirement already satisfied: gensim in /usr/local/lib/python3.7/dist-packages (from pyLDAvis) (4.1.2)\n",
            "Requirement already satisfied: pandas>=1.2.0 in /usr/local/lib/python3.7/dist-packages (from pyLDAvis) (1.3.5)\n",
            "Requirement already satisfied: future in /usr/local/lib/python3.7/dist-packages (from pyLDAvis) (0.16.0)\n",
            "Requirement already satisfied: pytz>=2017.3 in /usr/local/lib/python3.7/dist-packages (from pandas>=1.2.0->pyLDAvis) (2018.9)\n",
            "Requirement already satisfied: python-dateutil>=2.7.3 in /usr/local/lib/python3.7/dist-packages (from pandas>=1.2.0->pyLDAvis) (2.8.2)\n",
            "Requirement already satisfied: six>=1.5 in /usr/local/lib/python3.7/dist-packages (from python-dateutil>=2.7.3->pandas>=1.2.0->pyLDAvis) (1.15.0)\n",
            "Requirement already satisfied: smart-open>=1.8.1 in /usr/local/lib/python3.7/dist-packages (from gensim->pyLDAvis) (5.2.1)\n",
            "Requirement already satisfied: MarkupSafe>=0.23 in /usr/local/lib/python3.7/dist-packages (from jinja2->pyLDAvis) (2.0.1)\n",
            "Requirement already satisfied: packaging in /usr/local/lib/python3.7/dist-packages (from numexpr->pyLDAvis) (21.3)\n",
            "Requirement already satisfied: pyparsing!=3.0.5,>=2.0.2 in /usr/local/lib/python3.7/dist-packages (from packaging->numexpr->pyLDAvis) (3.0.7)\n",
            "Requirement already satisfied: threadpoolctl>=2.0.0 in /usr/local/lib/python3.7/dist-packages (from scikit-learn->pyLDAvis) (3.1.0)\n",
            "[nltk_data] Downloading package punkt to /root/nltk_data...\n",
            "[nltk_data]   Package punkt is already up-to-date!\n",
            "[nltk_data] Downloading package stopwords to /root/nltk_data...\n",
            "[nltk_data]   Package stopwords is already up-to-date!\n"
          ]
        }
      ],
      "source": [
        "!pip install -U gensim\n",
        "!pip install pyLDAvis\n",
        "\n",
        "import json, os\n",
        "import pandas as pd\n",
        "import nltk\n",
        "import glob\n",
        "import matplotlib.pyplot as plt\n",
        "import datetime\n",
        "from tqdm import tqdm\n",
        "nltk.download('punkt')\n",
        "\n",
        "# regular expression library\n",
        "import re\n",
        "# wordcloud library\n",
        "from wordcloud import WordCloud\n",
        "\n",
        "import gensim\n",
        "from gensim.utils import simple_preprocess\n",
        "nltk.download('stopwords')\n",
        "from nltk.corpus import stopwords\n",
        "stop_words = stopwords.words('dutch')\n",
        "\n",
        "import gensim.corpora as corpora\n",
        "\n",
        "import pyLDAvis.gensim_models as gensimvis\n",
        "import pickle \n",
        "import pyLDAvis\n",
        "\n",
        "#Visualisation\n",
        "import seaborn as sns\n",
        "import matplotlib.pyplot as plt"
      ]
    },
    {
      "cell_type": "markdown",
      "source": [
        "# Loading and cleaning data"
      ],
      "metadata": {
        "id": "o71WpJFFQ2Oi"
      }
    },
    {
      "cell_type": "code",
      "source": [
        "from google.colab import drive\n",
        "drive.mount(\"/content/gdrive\")"
      ],
      "metadata": {
        "colab": {
          "base_uri": "https://localhost:8080/"
        },
        "id": "c2sNutf0Q4PR",
        "outputId": "c44a2477-4bae-4d40-a121-1aeb0152dbb7"
      },
      "execution_count": 2,
      "outputs": [
        {
          "output_type": "stream",
          "name": "stdout",
          "text": [
            "Mounted at /content/gdrive\n"
          ]
        }
      ]
    },
    {
      "cell_type": "code",
      "source": [
        "!dir gdrive/MyDrive/CS/Thesis/Testset_2021/"
      ],
      "metadata": {
        "colab": {
          "base_uri": "https://localhost:8080/"
        },
        "id": "m8sOcbnsVmGA",
        "outputId": "3beac4a7-ec9d-48bf-fa63-a3852b7cb3d9"
      },
      "execution_count": 3,
      "outputs": [
        {
          "output_type": "stream",
          "name": "stdout",
          "text": [
            "HetParool_2021.json  NRC_2021.json  Telegraaf_2021.json  Trouw_2021.json\n"
          ]
        }
      ]
    },
    {
      "cell_type": "code",
      "source": [
        "path_NRC = 'gdrive/MyDrive/CS/Thesis/Testset_2021/NRC_2021.json'\n",
        "path_Trouw = 'gdrive/MyDrive/CS/Thesis/Testset_2021/Trouw_2021.json'\n",
        "path_HetParool = 'gdrive/MyDrive/CS/Thesis/Testset_2021/HetParool_2021.json'\n",
        "path_Telegraaf = 'gdrive/MyDrive/CS/Thesis/Testset_2021/Telegraaf_2021.json'"
      ],
      "metadata": {
        "id": "Zh9O5J1RSKaA"
      },
      "execution_count": 4,
      "outputs": []
    },
    {
      "cell_type": "code",
      "source": [
        "df_NRC = pd.read_json(path_NRC)\n",
        "df_Trouw = pd.read_json(path_Trouw)\n",
        "df_HetParool = pd.read_json(path_HetParool)\n",
        "df_Telegraaf = pd.read_json(path_Telegraaf)"
      ],
      "metadata": {
        "id": "uPP1lTf2VkgY"
      },
      "execution_count": 5,
      "outputs": []
    },
    {
      "cell_type": "code",
      "source": [
        "df_NRC[\"Bron\"] = \"NRC\"\n",
        "df_Trouw[\"Bron\"] = \"Trouw\"\n",
        "df_HetParool[\"Bron\"] = \"HetParool\"\n",
        "df_Telegraaf[\"Bron\"] = \"Telegraaf\""
      ],
      "metadata": {
        "id": "BrAVWLvkTx0A"
      },
      "execution_count": 11,
      "outputs": []
    },
    {
      "cell_type": "code",
      "source": [
        "df_NRC.isna().sum()"
      ],
      "metadata": {
        "id": "ZqCDjTxpZdZb",
        "outputId": "634e2103-325f-4438-9571-0f0591c2aa61",
        "colab": {
          "base_uri": "https://localhost:8080/"
        }
      },
      "execution_count": 17,
      "outputs": [
        {
          "output_type": "execute_result",
          "data": {
            "text/plain": [
              "url                3\n",
              "timestamp       2174\n",
              "title             21\n",
              "publisherID     8878\n",
              "cleantext          3\n",
              "category       34341\n",
              "Bron               0\n",
              "dtype: int64"
            ]
          },
          "metadata": {},
          "execution_count": 17
        }
      ]
    },
    {
      "cell_type": "code",
      "source": [
        "df_Trouw.isna().sum()"
      ],
      "metadata": {
        "id": "CLtOGZb3Zfn8",
        "outputId": "9f79690a-ce18-49c2-c6a1-1624e16a872c",
        "colab": {
          "base_uri": "https://localhost:8080/"
        }
      },
      "execution_count": 18,
      "outputs": [
        {
          "output_type": "execute_result",
          "data": {
            "text/plain": [
              "url               0\n",
              "timestamp      2308\n",
              "title             0\n",
              "publisherID    2445\n",
              "cleantext         0\n",
              "category        242\n",
              "Bron              0\n",
              "dtype: int64"
            ]
          },
          "metadata": {},
          "execution_count": 18
        }
      ]
    },
    {
      "cell_type": "code",
      "source": [
        "df_HetParool.isna().sum()"
      ],
      "metadata": {
        "id": "d99BzTuOZfwh",
        "outputId": "2bb1a2e2-8d79-4736-9dc1-7d6704772ac8",
        "colab": {
          "base_uri": "https://localhost:8080/"
        }
      },
      "execution_count": 19,
      "outputs": [
        {
          "output_type": "execute_result",
          "data": {
            "text/plain": [
              "url               1\n",
              "timestamp      3256\n",
              "title             1\n",
              "publisherID    3693\n",
              "cleantext         1\n",
              "category        474\n",
              "Bron              0\n",
              "dtype: int64"
            ]
          },
          "metadata": {},
          "execution_count": 19
        }
      ]
    },
    {
      "cell_type": "code",
      "source": [
        "df_Telegraaf.shape"
      ],
      "metadata": {
        "id": "gfaoKMdBZpmq",
        "outputId": "f15ebc8d-84a1-4921-d5a3-9d88078f2a2d",
        "colab": {
          "base_uri": "https://localhost:8080/"
        }
      },
      "execution_count": 25,
      "outputs": [
        {
          "output_type": "execute_result",
          "data": {
            "text/plain": [
              "(143876, 7)"
            ]
          },
          "metadata": {},
          "execution_count": 25
        }
      ]
    },
    {
      "cell_type": "code",
      "source": [
        "df_Telegraaf.head()"
      ],
      "metadata": {
        "id": "dJ23YlfJaHhR",
        "outputId": "befc378a-8c0f-4629-9e89-f3d10a6c5560",
        "colab": {
          "base_uri": "https://localhost:8080/",
          "height": 206
        }
      },
      "execution_count": 26,
      "outputs": [
        {
          "output_type": "execute_result",
          "data": {
            "text/plain": [
              "                                                 url timestamp  \\\n",
              "0  https://www.telegraaf.nl/sport/366918834/micha...       NaT   \n",
              "1  https://www.telegraaf.nl/images/300x200/filter...       NaT   \n",
              "2  https://www.telegraaf.nl/nieuws/731353708/twee...       NaT   \n",
              "3  https://www.telegraaf.nl/images/300x200/filter...       NaT   \n",
              "4  https://www.telegraaf.nl/nieuws/451924999/rech...       NaT   \n",
              "\n",
              "                                               title             publisherID  \\\n",
              "0  Michael Smith gooit titelverdediger Gerwyn Pri...  onze Telesportredactie   \n",
              "1                                               None                    None   \n",
              "2  Twee doden en meerdere gewonden bij Duitse vuu...                    None   \n",
              "3                                               None                    None   \n",
              "4  Rechter moet zich na conflict in ’horrorflat’ ...        Connie Vertegaal   \n",
              "\n",
              "   cleantext    category       Bron  \n",
              "0        NaN       Darts  Telegraaf  \n",
              "1        NaN        None  Telegraaf  \n",
              "2        NaN  Buitenland  Telegraaf  \n",
              "3        NaN        None  Telegraaf  \n",
              "4        NaN  Binnenland  Telegraaf  "
            ],
            "text/html": [
              "\n",
              "  <div id=\"df-e359b579-56cc-4a59-8aa5-202a942acac2\">\n",
              "    <div class=\"colab-df-container\">\n",
              "      <div>\n",
              "<style scoped>\n",
              "    .dataframe tbody tr th:only-of-type {\n",
              "        vertical-align: middle;\n",
              "    }\n",
              "\n",
              "    .dataframe tbody tr th {\n",
              "        vertical-align: top;\n",
              "    }\n",
              "\n",
              "    .dataframe thead th {\n",
              "        text-align: right;\n",
              "    }\n",
              "</style>\n",
              "<table border=\"1\" class=\"dataframe\">\n",
              "  <thead>\n",
              "    <tr style=\"text-align: right;\">\n",
              "      <th></th>\n",
              "      <th>url</th>\n",
              "      <th>timestamp</th>\n",
              "      <th>title</th>\n",
              "      <th>publisherID</th>\n",
              "      <th>cleantext</th>\n",
              "      <th>category</th>\n",
              "      <th>Bron</th>\n",
              "    </tr>\n",
              "  </thead>\n",
              "  <tbody>\n",
              "    <tr>\n",
              "      <th>0</th>\n",
              "      <td>https://www.telegraaf.nl/sport/366918834/micha...</td>\n",
              "      <td>NaT</td>\n",
              "      <td>Michael Smith gooit titelverdediger Gerwyn Pri...</td>\n",
              "      <td>onze Telesportredactie</td>\n",
              "      <td>NaN</td>\n",
              "      <td>Darts</td>\n",
              "      <td>Telegraaf</td>\n",
              "    </tr>\n",
              "    <tr>\n",
              "      <th>1</th>\n",
              "      <td>https://www.telegraaf.nl/images/300x200/filter...</td>\n",
              "      <td>NaT</td>\n",
              "      <td>None</td>\n",
              "      <td>None</td>\n",
              "      <td>NaN</td>\n",
              "      <td>None</td>\n",
              "      <td>Telegraaf</td>\n",
              "    </tr>\n",
              "    <tr>\n",
              "      <th>2</th>\n",
              "      <td>https://www.telegraaf.nl/nieuws/731353708/twee...</td>\n",
              "      <td>NaT</td>\n",
              "      <td>Twee doden en meerdere gewonden bij Duitse vuu...</td>\n",
              "      <td>None</td>\n",
              "      <td>NaN</td>\n",
              "      <td>Buitenland</td>\n",
              "      <td>Telegraaf</td>\n",
              "    </tr>\n",
              "    <tr>\n",
              "      <th>3</th>\n",
              "      <td>https://www.telegraaf.nl/images/300x200/filter...</td>\n",
              "      <td>NaT</td>\n",
              "      <td>None</td>\n",
              "      <td>None</td>\n",
              "      <td>NaN</td>\n",
              "      <td>None</td>\n",
              "      <td>Telegraaf</td>\n",
              "    </tr>\n",
              "    <tr>\n",
              "      <th>4</th>\n",
              "      <td>https://www.telegraaf.nl/nieuws/451924999/rech...</td>\n",
              "      <td>NaT</td>\n",
              "      <td>Rechter moet zich na conflict in ’horrorflat’ ...</td>\n",
              "      <td>Connie Vertegaal</td>\n",
              "      <td>NaN</td>\n",
              "      <td>Binnenland</td>\n",
              "      <td>Telegraaf</td>\n",
              "    </tr>\n",
              "  </tbody>\n",
              "</table>\n",
              "</div>\n",
              "      <button class=\"colab-df-convert\" onclick=\"convertToInteractive('df-e359b579-56cc-4a59-8aa5-202a942acac2')\"\n",
              "              title=\"Convert this dataframe to an interactive table.\"\n",
              "              style=\"display:none;\">\n",
              "        \n",
              "  <svg xmlns=\"http://www.w3.org/2000/svg\" height=\"24px\"viewBox=\"0 0 24 24\"\n",
              "       width=\"24px\">\n",
              "    <path d=\"M0 0h24v24H0V0z\" fill=\"none\"/>\n",
              "    <path d=\"M18.56 5.44l.94 2.06.94-2.06 2.06-.94-2.06-.94-.94-2.06-.94 2.06-2.06.94zm-11 1L8.5 8.5l.94-2.06 2.06-.94-2.06-.94L8.5 2.5l-.94 2.06-2.06.94zm10 10l.94 2.06.94-2.06 2.06-.94-2.06-.94-.94-2.06-.94 2.06-2.06.94z\"/><path d=\"M17.41 7.96l-1.37-1.37c-.4-.4-.92-.59-1.43-.59-.52 0-1.04.2-1.43.59L10.3 9.45l-7.72 7.72c-.78.78-.78 2.05 0 2.83L4 21.41c.39.39.9.59 1.41.59.51 0 1.02-.2 1.41-.59l7.78-7.78 2.81-2.81c.8-.78.8-2.07 0-2.86zM5.41 20L4 18.59l7.72-7.72 1.47 1.35L5.41 20z\"/>\n",
              "  </svg>\n",
              "      </button>\n",
              "      \n",
              "  <style>\n",
              "    .colab-df-container {\n",
              "      display:flex;\n",
              "      flex-wrap:wrap;\n",
              "      gap: 12px;\n",
              "    }\n",
              "\n",
              "    .colab-df-convert {\n",
              "      background-color: #E8F0FE;\n",
              "      border: none;\n",
              "      border-radius: 50%;\n",
              "      cursor: pointer;\n",
              "      display: none;\n",
              "      fill: #1967D2;\n",
              "      height: 32px;\n",
              "      padding: 0 0 0 0;\n",
              "      width: 32px;\n",
              "    }\n",
              "\n",
              "    .colab-df-convert:hover {\n",
              "      background-color: #E2EBFA;\n",
              "      box-shadow: 0px 1px 2px rgba(60, 64, 67, 0.3), 0px 1px 3px 1px rgba(60, 64, 67, 0.15);\n",
              "      fill: #174EA6;\n",
              "    }\n",
              "\n",
              "    [theme=dark] .colab-df-convert {\n",
              "      background-color: #3B4455;\n",
              "      fill: #D2E3FC;\n",
              "    }\n",
              "\n",
              "    [theme=dark] .colab-df-convert:hover {\n",
              "      background-color: #434B5C;\n",
              "      box-shadow: 0px 1px 3px 1px rgba(0, 0, 0, 0.15);\n",
              "      filter: drop-shadow(0px 1px 2px rgba(0, 0, 0, 0.3));\n",
              "      fill: #FFFFFF;\n",
              "    }\n",
              "  </style>\n",
              "\n",
              "      <script>\n",
              "        const buttonEl =\n",
              "          document.querySelector('#df-e359b579-56cc-4a59-8aa5-202a942acac2 button.colab-df-convert');\n",
              "        buttonEl.style.display =\n",
              "          google.colab.kernel.accessAllowed ? 'block' : 'none';\n",
              "\n",
              "        async function convertToInteractive(key) {\n",
              "          const element = document.querySelector('#df-e359b579-56cc-4a59-8aa5-202a942acac2');\n",
              "          const dataTable =\n",
              "            await google.colab.kernel.invokeFunction('convertToInteractive',\n",
              "                                                     [key], {});\n",
              "          if (!dataTable) return;\n",
              "\n",
              "          const docLinkHtml = 'Like what you see? Visit the ' +\n",
              "            '<a target=\"_blank\" href=https://colab.research.google.com/notebooks/data_table.ipynb>data table notebook</a>'\n",
              "            + ' to learn more about interactive tables.';\n",
              "          element.innerHTML = '';\n",
              "          dataTable['output_type'] = 'display_data';\n",
              "          await google.colab.output.renderOutput(dataTable, element);\n",
              "          const docLink = document.createElement('div');\n",
              "          docLink.innerHTML = docLinkHtml;\n",
              "          element.appendChild(docLink);\n",
              "        }\n",
              "      </script>\n",
              "    </div>\n",
              "  </div>\n",
              "  "
            ]
          },
          "metadata": {},
          "execution_count": 26
        }
      ]
    },
    {
      "cell_type": "code",
      "source": [
        "df_Telegraaf.isna().sum()"
      ],
      "metadata": {
        "id": "GX8zVPMrZf3k",
        "outputId": "dee7b8a2-8adf-43a1-b7ff-b9d17e20314c",
        "colab": {
          "base_uri": "https://localhost:8080/"
        }
      },
      "execution_count": 20,
      "outputs": [
        {
          "output_type": "execute_result",
          "data": {
            "text/plain": [
              "url                62\n",
              "timestamp      143876\n",
              "title           76831\n",
              "publisherID    109987\n",
              "cleantext      143876\n",
              "category        71968\n",
              "Bron                0\n",
              "dtype: int64"
            ]
          },
          "metadata": {},
          "execution_count": 20
        }
      ]
    },
    {
      "cell_type": "markdown",
      "source": [
        "## Concat data"
      ],
      "metadata": {
        "id": "hcD8v2yKv9vk"
      }
    },
    {
      "cell_type": "code",
      "source": [
        "dfs = [df_NRC, df_Trouw, df_HetParool]\n",
        "df = pd.concat(dfs, ignore_index=True)\n",
        "\n",
        "df.head()"
      ],
      "metadata": {
        "colab": {
          "base_uri": "https://localhost:8080/",
          "height": 206
        },
        "id": "w2CGE6FDc7QI",
        "outputId": "ff29b184-85aa-43e1-d7a1-bcc8df586d8f"
      },
      "execution_count": 27,
      "outputs": [
        {
          "output_type": "execute_result",
          "data": {
            "text/plain": [
              "                                                 url            timestamp  \\\n",
              "0  https://www.nrc.nl/nieuws/2021/01/31/een-herha...  2021-01-31 20:18:43   \n",
              "1  https://www.nrc.nl/nieuws/2021/01/31/avondklok...  2021-01-31 20:02:10   \n",
              "2  https://www.nrc.nl/nieuws/2021/01/31/school-op...  2021-01-31 19:58:21   \n",
              "3  https://www.nrc.nl/nieuws/2021/01/31/scholen-o...  2021-01-31 19:45:18   \n",
              "4  https://www.nrc.nl/nieuws/2021/01/31/arrestati...  2021-01-31 19:43:49   \n",
              "\n",
              "                                               title          publisherID  \\\n",
              "0  Een herhaling van vorig seizoen is zo goed als...  Fabian van der Poll   \n",
              "1  ‘Avondklok waarschijnlijk niet verlengd als be...         Steven Musch   \n",
              "2  School open? Dan testen, ventilatie en mondkapjes       Karel Berkhout   \n",
              "3  De basisscholen gaan open, met een paar nieuwe...       Claudia Kammer   \n",
              "4                       Arrestatie Russische betoger                 None   \n",
              "\n",
              "                                           cleantext category Bron  \n",
              "0  De eerste maand van 2021 is uitstekend verlope...     None  NRC  \n",
              "1  De avondklok wordt waarschijnlijk niet verleng...     None  NRC  \n",
              "2  Door de heropening van de scholen loopt het aa...     None  NRC  \n",
              "3    Het werd alom verwacht, en zondag aan het ei...     None  NRC  \n",
              "4                                                        None  NRC  "
            ],
            "text/html": [
              "\n",
              "  <div id=\"df-0a0c4aa4-bc0c-45da-be50-92e606295790\">\n",
              "    <div class=\"colab-df-container\">\n",
              "      <div>\n",
              "<style scoped>\n",
              "    .dataframe tbody tr th:only-of-type {\n",
              "        vertical-align: middle;\n",
              "    }\n",
              "\n",
              "    .dataframe tbody tr th {\n",
              "        vertical-align: top;\n",
              "    }\n",
              "\n",
              "    .dataframe thead th {\n",
              "        text-align: right;\n",
              "    }\n",
              "</style>\n",
              "<table border=\"1\" class=\"dataframe\">\n",
              "  <thead>\n",
              "    <tr style=\"text-align: right;\">\n",
              "      <th></th>\n",
              "      <th>url</th>\n",
              "      <th>timestamp</th>\n",
              "      <th>title</th>\n",
              "      <th>publisherID</th>\n",
              "      <th>cleantext</th>\n",
              "      <th>category</th>\n",
              "      <th>Bron</th>\n",
              "    </tr>\n",
              "  </thead>\n",
              "  <tbody>\n",
              "    <tr>\n",
              "      <th>0</th>\n",
              "      <td>https://www.nrc.nl/nieuws/2021/01/31/een-herha...</td>\n",
              "      <td>2021-01-31 20:18:43</td>\n",
              "      <td>Een herhaling van vorig seizoen is zo goed als...</td>\n",
              "      <td>Fabian van der Poll</td>\n",
              "      <td>De eerste maand van 2021 is uitstekend verlope...</td>\n",
              "      <td>None</td>\n",
              "      <td>NRC</td>\n",
              "    </tr>\n",
              "    <tr>\n",
              "      <th>1</th>\n",
              "      <td>https://www.nrc.nl/nieuws/2021/01/31/avondklok...</td>\n",
              "      <td>2021-01-31 20:02:10</td>\n",
              "      <td>‘Avondklok waarschijnlijk niet verlengd als be...</td>\n",
              "      <td>Steven Musch</td>\n",
              "      <td>De avondklok wordt waarschijnlijk niet verleng...</td>\n",
              "      <td>None</td>\n",
              "      <td>NRC</td>\n",
              "    </tr>\n",
              "    <tr>\n",
              "      <th>2</th>\n",
              "      <td>https://www.nrc.nl/nieuws/2021/01/31/school-op...</td>\n",
              "      <td>2021-01-31 19:58:21</td>\n",
              "      <td>School open? Dan testen, ventilatie en mondkapjes</td>\n",
              "      <td>Karel Berkhout</td>\n",
              "      <td>Door de heropening van de scholen loopt het aa...</td>\n",
              "      <td>None</td>\n",
              "      <td>NRC</td>\n",
              "    </tr>\n",
              "    <tr>\n",
              "      <th>3</th>\n",
              "      <td>https://www.nrc.nl/nieuws/2021/01/31/scholen-o...</td>\n",
              "      <td>2021-01-31 19:45:18</td>\n",
              "      <td>De basisscholen gaan open, met een paar nieuwe...</td>\n",
              "      <td>Claudia Kammer</td>\n",
              "      <td>Het werd alom verwacht, en zondag aan het ei...</td>\n",
              "      <td>None</td>\n",
              "      <td>NRC</td>\n",
              "    </tr>\n",
              "    <tr>\n",
              "      <th>4</th>\n",
              "      <td>https://www.nrc.nl/nieuws/2021/01/31/arrestati...</td>\n",
              "      <td>2021-01-31 19:43:49</td>\n",
              "      <td>Arrestatie Russische betoger</td>\n",
              "      <td>None</td>\n",
              "      <td></td>\n",
              "      <td>None</td>\n",
              "      <td>NRC</td>\n",
              "    </tr>\n",
              "  </tbody>\n",
              "</table>\n",
              "</div>\n",
              "      <button class=\"colab-df-convert\" onclick=\"convertToInteractive('df-0a0c4aa4-bc0c-45da-be50-92e606295790')\"\n",
              "              title=\"Convert this dataframe to an interactive table.\"\n",
              "              style=\"display:none;\">\n",
              "        \n",
              "  <svg xmlns=\"http://www.w3.org/2000/svg\" height=\"24px\"viewBox=\"0 0 24 24\"\n",
              "       width=\"24px\">\n",
              "    <path d=\"M0 0h24v24H0V0z\" fill=\"none\"/>\n",
              "    <path d=\"M18.56 5.44l.94 2.06.94-2.06 2.06-.94-2.06-.94-.94-2.06-.94 2.06-2.06.94zm-11 1L8.5 8.5l.94-2.06 2.06-.94-2.06-.94L8.5 2.5l-.94 2.06-2.06.94zm10 10l.94 2.06.94-2.06 2.06-.94-2.06-.94-.94-2.06-.94 2.06-2.06.94z\"/><path d=\"M17.41 7.96l-1.37-1.37c-.4-.4-.92-.59-1.43-.59-.52 0-1.04.2-1.43.59L10.3 9.45l-7.72 7.72c-.78.78-.78 2.05 0 2.83L4 21.41c.39.39.9.59 1.41.59.51 0 1.02-.2 1.41-.59l7.78-7.78 2.81-2.81c.8-.78.8-2.07 0-2.86zM5.41 20L4 18.59l7.72-7.72 1.47 1.35L5.41 20z\"/>\n",
              "  </svg>\n",
              "      </button>\n",
              "      \n",
              "  <style>\n",
              "    .colab-df-container {\n",
              "      display:flex;\n",
              "      flex-wrap:wrap;\n",
              "      gap: 12px;\n",
              "    }\n",
              "\n",
              "    .colab-df-convert {\n",
              "      background-color: #E8F0FE;\n",
              "      border: none;\n",
              "      border-radius: 50%;\n",
              "      cursor: pointer;\n",
              "      display: none;\n",
              "      fill: #1967D2;\n",
              "      height: 32px;\n",
              "      padding: 0 0 0 0;\n",
              "      width: 32px;\n",
              "    }\n",
              "\n",
              "    .colab-df-convert:hover {\n",
              "      background-color: #E2EBFA;\n",
              "      box-shadow: 0px 1px 2px rgba(60, 64, 67, 0.3), 0px 1px 3px 1px rgba(60, 64, 67, 0.15);\n",
              "      fill: #174EA6;\n",
              "    }\n",
              "\n",
              "    [theme=dark] .colab-df-convert {\n",
              "      background-color: #3B4455;\n",
              "      fill: #D2E3FC;\n",
              "    }\n",
              "\n",
              "    [theme=dark] .colab-df-convert:hover {\n",
              "      background-color: #434B5C;\n",
              "      box-shadow: 0px 1px 3px 1px rgba(0, 0, 0, 0.15);\n",
              "      filter: drop-shadow(0px 1px 2px rgba(0, 0, 0, 0.3));\n",
              "      fill: #FFFFFF;\n",
              "    }\n",
              "  </style>\n",
              "\n",
              "      <script>\n",
              "        const buttonEl =\n",
              "          document.querySelector('#df-0a0c4aa4-bc0c-45da-be50-92e606295790 button.colab-df-convert');\n",
              "        buttonEl.style.display =\n",
              "          google.colab.kernel.accessAllowed ? 'block' : 'none';\n",
              "\n",
              "        async function convertToInteractive(key) {\n",
              "          const element = document.querySelector('#df-0a0c4aa4-bc0c-45da-be50-92e606295790');\n",
              "          const dataTable =\n",
              "            await google.colab.kernel.invokeFunction('convertToInteractive',\n",
              "                                                     [key], {});\n",
              "          if (!dataTable) return;\n",
              "\n",
              "          const docLinkHtml = 'Like what you see? Visit the ' +\n",
              "            '<a target=\"_blank\" href=https://colab.research.google.com/notebooks/data_table.ipynb>data table notebook</a>'\n",
              "            + ' to learn more about interactive tables.';\n",
              "          element.innerHTML = '';\n",
              "          dataTable['output_type'] = 'display_data';\n",
              "          await google.colab.output.renderOutput(dataTable, element);\n",
              "          const docLink = document.createElement('div');\n",
              "          docLink.innerHTML = docLinkHtml;\n",
              "          element.appendChild(docLink);\n",
              "        }\n",
              "      </script>\n",
              "    </div>\n",
              "  </div>\n",
              "  "
            ]
          },
          "metadata": {},
          "execution_count": 27
        }
      ]
    },
    {
      "cell_type": "markdown",
      "source": [
        "## Remove missing text"
      ],
      "metadata": {
        "id": "VECep3INyKWU"
      }
    },
    {
      "cell_type": "code",
      "source": [
        "df.isna().sum()"
      ],
      "metadata": {
        "id": "B-ML93yjZPCy",
        "outputId": "34dbee5d-f208-4f70-9dc9-dd7e5475d442",
        "colab": {
          "base_uri": "https://localhost:8080/"
        }
      },
      "execution_count": 28,
      "outputs": [
        {
          "output_type": "execute_result",
          "data": {
            "text/plain": [
              "url                4\n",
              "timestamp       7738\n",
              "title             22\n",
              "publisherID    15016\n",
              "cleantext          4\n",
              "category       35057\n",
              "Bron               0\n",
              "dtype: int64"
            ]
          },
          "metadata": {},
          "execution_count": 28
        }
      ]
    },
    {
      "cell_type": "code",
      "source": [
        "df = df[df['cleantext'].notna()]"
      ],
      "metadata": {
        "id": "kYx6tNWRxpBr"
      },
      "execution_count": 29,
      "outputs": []
    },
    {
      "cell_type": "code",
      "source": [
        "df.isna().sum()\n"
      ],
      "metadata": {
        "colab": {
          "base_uri": "https://localhost:8080/"
        },
        "id": "xUbaVsj-xPmq",
        "outputId": "1bdaf986-98fe-4ee2-b153-de67f13c7c0c"
      },
      "execution_count": 30,
      "outputs": [
        {
          "output_type": "execute_result",
          "data": {
            "text/plain": [
              "url                0\n",
              "timestamp       7734\n",
              "title             18\n",
              "publisherID    15012\n",
              "cleantext          0\n",
              "category       35053\n",
              "Bron               0\n",
              "dtype: int64"
            ]
          },
          "metadata": {},
          "execution_count": 30
        }
      ]
    },
    {
      "cell_type": "code",
      "source": [
        "df.shape"
      ],
      "metadata": {
        "id": "zFzRQsASZ6ox",
        "outputId": "49a0c3bd-aa1f-40f6-fe64-39a1292f386f",
        "colab": {
          "base_uri": "https://localhost:8080/"
        }
      },
      "execution_count": 32,
      "outputs": [
        {
          "output_type": "execute_result",
          "data": {
            "text/plain": [
              "(68597, 7)"
            ]
          },
          "metadata": {},
          "execution_count": 32
        }
      ]
    },
    {
      "cell_type": "code",
      "source": [
        "df_NRC.head()"
      ],
      "metadata": {
        "id": "b6jcOczLfRLg",
        "outputId": "24fc75b2-4667-4205-a5e8-2aa8ca9f9fd4",
        "colab": {
          "base_uri": "https://localhost:8080/",
          "height": 206
        }
      },
      "execution_count": 45,
      "outputs": [
        {
          "output_type": "execute_result",
          "data": {
            "text/plain": [
              "                                                 url           timestamp  \\\n",
              "0  https://www.nrc.nl/nieuws/2021/01/31/een-herha... 2021-01-31 20:18:43   \n",
              "1  https://www.nrc.nl/nieuws/2021/01/31/avondklok... 2021-01-31 20:02:10   \n",
              "2  https://www.nrc.nl/nieuws/2021/01/31/school-op... 2021-01-31 19:58:21   \n",
              "3  https://www.nrc.nl/nieuws/2021/01/31/scholen-o... 2021-01-31 19:45:18   \n",
              "4  https://www.nrc.nl/nieuws/2021/01/31/arrestati... 2021-01-31 19:43:49   \n",
              "\n",
              "                                               title          publisherID  \\\n",
              "0  Een herhaling van vorig seizoen is zo goed als...  Fabian van der Poll   \n",
              "1  ‘Avondklok waarschijnlijk niet verlengd als be...         Steven Musch   \n",
              "2  School open? Dan testen, ventilatie en mondkapjes       Karel Berkhout   \n",
              "3  De basisscholen gaan open, met een paar nieuwe...       Claudia Kammer   \n",
              "4                       Arrestatie Russische betoger                 None   \n",
              "\n",
              "                                           cleantext category Bron  \n",
              "0  De eerste maand van 2021 is uitstekend verlope...     None  NRC  \n",
              "1  De avondklok wordt waarschijnlijk niet verleng...     None  NRC  \n",
              "2  Door de heropening van de scholen loopt het aa...     None  NRC  \n",
              "3    Het werd alom verwacht, en zondag aan het ei...     None  NRC  \n",
              "4                                                        None  NRC  "
            ],
            "text/html": [
              "\n",
              "  <div id=\"df-d014a037-0cdc-4198-b099-e1f17939825d\">\n",
              "    <div class=\"colab-df-container\">\n",
              "      <div>\n",
              "<style scoped>\n",
              "    .dataframe tbody tr th:only-of-type {\n",
              "        vertical-align: middle;\n",
              "    }\n",
              "\n",
              "    .dataframe tbody tr th {\n",
              "        vertical-align: top;\n",
              "    }\n",
              "\n",
              "    .dataframe thead th {\n",
              "        text-align: right;\n",
              "    }\n",
              "</style>\n",
              "<table border=\"1\" class=\"dataframe\">\n",
              "  <thead>\n",
              "    <tr style=\"text-align: right;\">\n",
              "      <th></th>\n",
              "      <th>url</th>\n",
              "      <th>timestamp</th>\n",
              "      <th>title</th>\n",
              "      <th>publisherID</th>\n",
              "      <th>cleantext</th>\n",
              "      <th>category</th>\n",
              "      <th>Bron</th>\n",
              "    </tr>\n",
              "  </thead>\n",
              "  <tbody>\n",
              "    <tr>\n",
              "      <th>0</th>\n",
              "      <td>https://www.nrc.nl/nieuws/2021/01/31/een-herha...</td>\n",
              "      <td>2021-01-31 20:18:43</td>\n",
              "      <td>Een herhaling van vorig seizoen is zo goed als...</td>\n",
              "      <td>Fabian van der Poll</td>\n",
              "      <td>De eerste maand van 2021 is uitstekend verlope...</td>\n",
              "      <td>None</td>\n",
              "      <td>NRC</td>\n",
              "    </tr>\n",
              "    <tr>\n",
              "      <th>1</th>\n",
              "      <td>https://www.nrc.nl/nieuws/2021/01/31/avondklok...</td>\n",
              "      <td>2021-01-31 20:02:10</td>\n",
              "      <td>‘Avondklok waarschijnlijk niet verlengd als be...</td>\n",
              "      <td>Steven Musch</td>\n",
              "      <td>De avondklok wordt waarschijnlijk niet verleng...</td>\n",
              "      <td>None</td>\n",
              "      <td>NRC</td>\n",
              "    </tr>\n",
              "    <tr>\n",
              "      <th>2</th>\n",
              "      <td>https://www.nrc.nl/nieuws/2021/01/31/school-op...</td>\n",
              "      <td>2021-01-31 19:58:21</td>\n",
              "      <td>School open? Dan testen, ventilatie en mondkapjes</td>\n",
              "      <td>Karel Berkhout</td>\n",
              "      <td>Door de heropening van de scholen loopt het aa...</td>\n",
              "      <td>None</td>\n",
              "      <td>NRC</td>\n",
              "    </tr>\n",
              "    <tr>\n",
              "      <th>3</th>\n",
              "      <td>https://www.nrc.nl/nieuws/2021/01/31/scholen-o...</td>\n",
              "      <td>2021-01-31 19:45:18</td>\n",
              "      <td>De basisscholen gaan open, met een paar nieuwe...</td>\n",
              "      <td>Claudia Kammer</td>\n",
              "      <td>Het werd alom verwacht, en zondag aan het ei...</td>\n",
              "      <td>None</td>\n",
              "      <td>NRC</td>\n",
              "    </tr>\n",
              "    <tr>\n",
              "      <th>4</th>\n",
              "      <td>https://www.nrc.nl/nieuws/2021/01/31/arrestati...</td>\n",
              "      <td>2021-01-31 19:43:49</td>\n",
              "      <td>Arrestatie Russische betoger</td>\n",
              "      <td>None</td>\n",
              "      <td></td>\n",
              "      <td>None</td>\n",
              "      <td>NRC</td>\n",
              "    </tr>\n",
              "  </tbody>\n",
              "</table>\n",
              "</div>\n",
              "      <button class=\"colab-df-convert\" onclick=\"convertToInteractive('df-d014a037-0cdc-4198-b099-e1f17939825d')\"\n",
              "              title=\"Convert this dataframe to an interactive table.\"\n",
              "              style=\"display:none;\">\n",
              "        \n",
              "  <svg xmlns=\"http://www.w3.org/2000/svg\" height=\"24px\"viewBox=\"0 0 24 24\"\n",
              "       width=\"24px\">\n",
              "    <path d=\"M0 0h24v24H0V0z\" fill=\"none\"/>\n",
              "    <path d=\"M18.56 5.44l.94 2.06.94-2.06 2.06-.94-2.06-.94-.94-2.06-.94 2.06-2.06.94zm-11 1L8.5 8.5l.94-2.06 2.06-.94-2.06-.94L8.5 2.5l-.94 2.06-2.06.94zm10 10l.94 2.06.94-2.06 2.06-.94-2.06-.94-.94-2.06-.94 2.06-2.06.94z\"/><path d=\"M17.41 7.96l-1.37-1.37c-.4-.4-.92-.59-1.43-.59-.52 0-1.04.2-1.43.59L10.3 9.45l-7.72 7.72c-.78.78-.78 2.05 0 2.83L4 21.41c.39.39.9.59 1.41.59.51 0 1.02-.2 1.41-.59l7.78-7.78 2.81-2.81c.8-.78.8-2.07 0-2.86zM5.41 20L4 18.59l7.72-7.72 1.47 1.35L5.41 20z\"/>\n",
              "  </svg>\n",
              "      </button>\n",
              "      \n",
              "  <style>\n",
              "    .colab-df-container {\n",
              "      display:flex;\n",
              "      flex-wrap:wrap;\n",
              "      gap: 12px;\n",
              "    }\n",
              "\n",
              "    .colab-df-convert {\n",
              "      background-color: #E8F0FE;\n",
              "      border: none;\n",
              "      border-radius: 50%;\n",
              "      cursor: pointer;\n",
              "      display: none;\n",
              "      fill: #1967D2;\n",
              "      height: 32px;\n",
              "      padding: 0 0 0 0;\n",
              "      width: 32px;\n",
              "    }\n",
              "\n",
              "    .colab-df-convert:hover {\n",
              "      background-color: #E2EBFA;\n",
              "      box-shadow: 0px 1px 2px rgba(60, 64, 67, 0.3), 0px 1px 3px 1px rgba(60, 64, 67, 0.15);\n",
              "      fill: #174EA6;\n",
              "    }\n",
              "\n",
              "    [theme=dark] .colab-df-convert {\n",
              "      background-color: #3B4455;\n",
              "      fill: #D2E3FC;\n",
              "    }\n",
              "\n",
              "    [theme=dark] .colab-df-convert:hover {\n",
              "      background-color: #434B5C;\n",
              "      box-shadow: 0px 1px 3px 1px rgba(0, 0, 0, 0.15);\n",
              "      filter: drop-shadow(0px 1px 2px rgba(0, 0, 0, 0.3));\n",
              "      fill: #FFFFFF;\n",
              "    }\n",
              "  </style>\n",
              "\n",
              "      <script>\n",
              "        const buttonEl =\n",
              "          document.querySelector('#df-d014a037-0cdc-4198-b099-e1f17939825d button.colab-df-convert');\n",
              "        buttonEl.style.display =\n",
              "          google.colab.kernel.accessAllowed ? 'block' : 'none';\n",
              "\n",
              "        async function convertToInteractive(key) {\n",
              "          const element = document.querySelector('#df-d014a037-0cdc-4198-b099-e1f17939825d');\n",
              "          const dataTable =\n",
              "            await google.colab.kernel.invokeFunction('convertToInteractive',\n",
              "                                                     [key], {});\n",
              "          if (!dataTable) return;\n",
              "\n",
              "          const docLinkHtml = 'Like what you see? Visit the ' +\n",
              "            '<a target=\"_blank\" href=https://colab.research.google.com/notebooks/data_table.ipynb>data table notebook</a>'\n",
              "            + ' to learn more about interactive tables.';\n",
              "          element.innerHTML = '';\n",
              "          dataTable['output_type'] = 'display_data';\n",
              "          await google.colab.output.renderOutput(dataTable, element);\n",
              "          const docLink = document.createElement('div');\n",
              "          docLink.innerHTML = docLinkHtml;\n",
              "          element.appendChild(docLink);\n",
              "        }\n",
              "      </script>\n",
              "    </div>\n",
              "  </div>\n",
              "  "
            ]
          },
          "metadata": {},
          "execution_count": 45
        }
      ]
    },
    {
      "cell_type": "markdown",
      "source": [
        "# Coverage Bias"
      ],
      "metadata": {
        "id": "B7qDpKBRe7do"
      }
    },
    {
      "cell_type": "code",
      "source": [
        "zetelverdeling = {'Party': ['VVD','CDA','D66','PvdA',\n",
        "                            'PVV','GL','SP','SGP','BBB',\n",
        "                            'Volt','CU','FVD','BIJ1',\n",
        "                            '50PLUS','PvdD','JA21',],\n",
        "                   'Zetel': [34, 15, 24, 9, 17, 8,\n",
        "                              9, 3, 1, 3, 5, 8, 1, \n",
        "                              1, 6, 3,]}\n",
        "df_zetels = pd.DataFrame(data=zetelverdeling).sort_values('Zetel', ascending=False)\n",
        "\n",
        "df_zetels.head()"
      ],
      "metadata": {
        "id": "jGueByPc3NOj",
        "outputId": "70c21fdd-048b-4c7b-e60f-a966365a69a2",
        "colab": {
          "base_uri": "https://localhost:8080/",
          "height": 206
        }
      },
      "execution_count": 168,
      "outputs": [
        {
          "output_type": "execute_result",
          "data": {
            "text/plain": [
              "  Party  Zetel\n",
              "0   VVD     34\n",
              "2   D66     24\n",
              "4   PVV     17\n",
              "1   CDA     15\n",
              "3  PvdA      9"
            ],
            "text/html": [
              "\n",
              "  <div id=\"df-c7af9efa-b5e2-409f-a579-41cd24fcb6fc\">\n",
              "    <div class=\"colab-df-container\">\n",
              "      <div>\n",
              "<style scoped>\n",
              "    .dataframe tbody tr th:only-of-type {\n",
              "        vertical-align: middle;\n",
              "    }\n",
              "\n",
              "    .dataframe tbody tr th {\n",
              "        vertical-align: top;\n",
              "    }\n",
              "\n",
              "    .dataframe thead th {\n",
              "        text-align: right;\n",
              "    }\n",
              "</style>\n",
              "<table border=\"1\" class=\"dataframe\">\n",
              "  <thead>\n",
              "    <tr style=\"text-align: right;\">\n",
              "      <th></th>\n",
              "      <th>Party</th>\n",
              "      <th>Zetel</th>\n",
              "    </tr>\n",
              "  </thead>\n",
              "  <tbody>\n",
              "    <tr>\n",
              "      <th>0</th>\n",
              "      <td>VVD</td>\n",
              "      <td>34</td>\n",
              "    </tr>\n",
              "    <tr>\n",
              "      <th>2</th>\n",
              "      <td>D66</td>\n",
              "      <td>24</td>\n",
              "    </tr>\n",
              "    <tr>\n",
              "      <th>4</th>\n",
              "      <td>PVV</td>\n",
              "      <td>17</td>\n",
              "    </tr>\n",
              "    <tr>\n",
              "      <th>1</th>\n",
              "      <td>CDA</td>\n",
              "      <td>15</td>\n",
              "    </tr>\n",
              "    <tr>\n",
              "      <th>3</th>\n",
              "      <td>PvdA</td>\n",
              "      <td>9</td>\n",
              "    </tr>\n",
              "  </tbody>\n",
              "</table>\n",
              "</div>\n",
              "      <button class=\"colab-df-convert\" onclick=\"convertToInteractive('df-c7af9efa-b5e2-409f-a579-41cd24fcb6fc')\"\n",
              "              title=\"Convert this dataframe to an interactive table.\"\n",
              "              style=\"display:none;\">\n",
              "        \n",
              "  <svg xmlns=\"http://www.w3.org/2000/svg\" height=\"24px\"viewBox=\"0 0 24 24\"\n",
              "       width=\"24px\">\n",
              "    <path d=\"M0 0h24v24H0V0z\" fill=\"none\"/>\n",
              "    <path d=\"M18.56 5.44l.94 2.06.94-2.06 2.06-.94-2.06-.94-.94-2.06-.94 2.06-2.06.94zm-11 1L8.5 8.5l.94-2.06 2.06-.94-2.06-.94L8.5 2.5l-.94 2.06-2.06.94zm10 10l.94 2.06.94-2.06 2.06-.94-2.06-.94-.94-2.06-.94 2.06-2.06.94z\"/><path d=\"M17.41 7.96l-1.37-1.37c-.4-.4-.92-.59-1.43-.59-.52 0-1.04.2-1.43.59L10.3 9.45l-7.72 7.72c-.78.78-.78 2.05 0 2.83L4 21.41c.39.39.9.59 1.41.59.51 0 1.02-.2 1.41-.59l7.78-7.78 2.81-2.81c.8-.78.8-2.07 0-2.86zM5.41 20L4 18.59l7.72-7.72 1.47 1.35L5.41 20z\"/>\n",
              "  </svg>\n",
              "      </button>\n",
              "      \n",
              "  <style>\n",
              "    .colab-df-container {\n",
              "      display:flex;\n",
              "      flex-wrap:wrap;\n",
              "      gap: 12px;\n",
              "    }\n",
              "\n",
              "    .colab-df-convert {\n",
              "      background-color: #E8F0FE;\n",
              "      border: none;\n",
              "      border-radius: 50%;\n",
              "      cursor: pointer;\n",
              "      display: none;\n",
              "      fill: #1967D2;\n",
              "      height: 32px;\n",
              "      padding: 0 0 0 0;\n",
              "      width: 32px;\n",
              "    }\n",
              "\n",
              "    .colab-df-convert:hover {\n",
              "      background-color: #E2EBFA;\n",
              "      box-shadow: 0px 1px 2px rgba(60, 64, 67, 0.3), 0px 1px 3px 1px rgba(60, 64, 67, 0.15);\n",
              "      fill: #174EA6;\n",
              "    }\n",
              "\n",
              "    [theme=dark] .colab-df-convert {\n",
              "      background-color: #3B4455;\n",
              "      fill: #D2E3FC;\n",
              "    }\n",
              "\n",
              "    [theme=dark] .colab-df-convert:hover {\n",
              "      background-color: #434B5C;\n",
              "      box-shadow: 0px 1px 3px 1px rgba(0, 0, 0, 0.15);\n",
              "      filter: drop-shadow(0px 1px 2px rgba(0, 0, 0, 0.3));\n",
              "      fill: #FFFFFF;\n",
              "    }\n",
              "  </style>\n",
              "\n",
              "      <script>\n",
              "        const buttonEl =\n",
              "          document.querySelector('#df-c7af9efa-b5e2-409f-a579-41cd24fcb6fc button.colab-df-convert');\n",
              "        buttonEl.style.display =\n",
              "          google.colab.kernel.accessAllowed ? 'block' : 'none';\n",
              "\n",
              "        async function convertToInteractive(key) {\n",
              "          const element = document.querySelector('#df-c7af9efa-b5e2-409f-a579-41cd24fcb6fc');\n",
              "          const dataTable =\n",
              "            await google.colab.kernel.invokeFunction('convertToInteractive',\n",
              "                                                     [key], {});\n",
              "          if (!dataTable) return;\n",
              "\n",
              "          const docLinkHtml = 'Like what you see? Visit the ' +\n",
              "            '<a target=\"_blank\" href=https://colab.research.google.com/notebooks/data_table.ipynb>data table notebook</a>'\n",
              "            + ' to learn more about interactive tables.';\n",
              "          element.innerHTML = '';\n",
              "          dataTable['output_type'] = 'display_data';\n",
              "          await google.colab.output.renderOutput(dataTable, element);\n",
              "          const docLink = document.createElement('div');\n",
              "          docLink.innerHTML = docLinkHtml;\n",
              "          element.appendChild(docLink);\n",
              "        }\n",
              "      </script>\n",
              "    </div>\n",
              "  </div>\n",
              "  "
            ]
          },
          "metadata": {},
          "execution_count": 168
        }
      ]
    },
    {
      "cell_type": "code",
      "source": [
        "sns.barplot(data=df_zetels, x='Party', y='Zetel')"
      ],
      "metadata": {
        "id": "FG9fZixq4z7C",
        "outputId": "e97420de-9fdb-464e-d866-ae859ac7ef1a",
        "colab": {
          "base_uri": "https://localhost:8080/",
          "height": 591
        }
      },
      "execution_count": 169,
      "outputs": [
        {
          "output_type": "execute_result",
          "data": {
            "text/plain": [
              "<matplotlib.axes._subplots.AxesSubplot at 0x7fce8f570290>"
            ]
          },
          "metadata": {},
          "execution_count": 169
        },
        {
          "output_type": "display_data",
          "data": {
            "text/plain": [
              "<Figure size 1080x648 with 1 Axes>"
            ],
            "image/png": "[encoded data removed]"
          },
          "metadata": {}
        }
      ]
    },
    {
      "cell_type": "code",
      "source": [
        "df.head()"
      ],
      "metadata": {
        "id": "mfj2gV2lhboY",
        "outputId": "7d9f90cb-2e5b-44be-f103-e33012a8a491",
        "colab": {
          "base_uri": "https://localhost:8080/",
          "height": 206
        }
      },
      "execution_count": 57,
      "outputs": [
        {
          "output_type": "execute_result",
          "data": {
            "text/plain": [
              "                                                 url            timestamp  \\\n",
              "0  https://www.nrc.nl/nieuws/2021/01/31/een-herha...  2021-01-31 20:18:43   \n",
              "1  https://www.nrc.nl/nieuws/2021/01/31/avondklok...  2021-01-31 20:02:10   \n",
              "2  https://www.nrc.nl/nieuws/2021/01/31/school-op...  2021-01-31 19:58:21   \n",
              "3  https://www.nrc.nl/nieuws/2021/01/31/scholen-o...  2021-01-31 19:45:18   \n",
              "4  https://www.nrc.nl/nieuws/2021/01/31/arrestati...  2021-01-31 19:43:49   \n",
              "\n",
              "                                               title          publisherID  \\\n",
              "0  Een herhaling van vorig seizoen is zo goed als...  Fabian van der Poll   \n",
              "1  ‘Avondklok waarschijnlijk niet verlengd als be...         Steven Musch   \n",
              "2  School open? Dan testen, ventilatie en mondkapjes       Karel Berkhout   \n",
              "3  De basisscholen gaan open, met een paar nieuwe...       Claudia Kammer   \n",
              "4                       Arrestatie Russische betoger                 None   \n",
              "\n",
              "                                           cleantext category Bron  \n",
              "0  De eerste maand van 2021 is uitstekend verlope...     None  NRC  \n",
              "1  De avondklok wordt waarschijnlijk niet verleng...     None  NRC  \n",
              "2  Door de heropening van de scholen loopt het aa...     None  NRC  \n",
              "3    Het werd alom verwacht, en zondag aan het ei...     None  NRC  \n",
              "4                                                        None  NRC  "
            ],
            "text/html": [
              "\n",
              "  <div id=\"df-b23893dc-cba8-4cbb-867c-f1f921d968cf\">\n",
              "    <div class=\"colab-df-container\">\n",
              "      <div>\n",
              "<style scoped>\n",
              "    .dataframe tbody tr th:only-of-type {\n",
              "        vertical-align: middle;\n",
              "    }\n",
              "\n",
              "    .dataframe tbody tr th {\n",
              "        vertical-align: top;\n",
              "    }\n",
              "\n",
              "    .dataframe thead th {\n",
              "        text-align: right;\n",
              "    }\n",
              "</style>\n",
              "<table border=\"1\" class=\"dataframe\">\n",
              "  <thead>\n",
              "    <tr style=\"text-align: right;\">\n",
              "      <th></th>\n",
              "      <th>url</th>\n",
              "      <th>timestamp</th>\n",
              "      <th>title</th>\n",
              "      <th>publisherID</th>\n",
              "      <th>cleantext</th>\n",
              "      <th>category</th>\n",
              "      <th>Bron</th>\n",
              "    </tr>\n",
              "  </thead>\n",
              "  <tbody>\n",
              "    <tr>\n",
              "      <th>0</th>\n",
              "      <td>https://www.nrc.nl/nieuws/2021/01/31/een-herha...</td>\n",
              "      <td>2021-01-31 20:18:43</td>\n",
              "      <td>Een herhaling van vorig seizoen is zo goed als...</td>\n",
              "      <td>Fabian van der Poll</td>\n",
              "      <td>De eerste maand van 2021 is uitstekend verlope...</td>\n",
              "      <td>None</td>\n",
              "      <td>NRC</td>\n",
              "    </tr>\n",
              "    <tr>\n",
              "      <th>1</th>\n",
              "      <td>https://www.nrc.nl/nieuws/2021/01/31/avondklok...</td>\n",
              "      <td>2021-01-31 20:02:10</td>\n",
              "      <td>‘Avondklok waarschijnlijk niet verlengd als be...</td>\n",
              "      <td>Steven Musch</td>\n",
              "      <td>De avondklok wordt waarschijnlijk niet verleng...</td>\n",
              "      <td>None</td>\n",
              "      <td>NRC</td>\n",
              "    </tr>\n",
              "    <tr>\n",
              "      <th>2</th>\n",
              "      <td>https://www.nrc.nl/nieuws/2021/01/31/school-op...</td>\n",
              "      <td>2021-01-31 19:58:21</td>\n",
              "      <td>School open? Dan testen, ventilatie en mondkapjes</td>\n",
              "      <td>Karel Berkhout</td>\n",
              "      <td>Door de heropening van de scholen loopt het aa...</td>\n",
              "      <td>None</td>\n",
              "      <td>NRC</td>\n",
              "    </tr>\n",
              "    <tr>\n",
              "      <th>3</th>\n",
              "      <td>https://www.nrc.nl/nieuws/2021/01/31/scholen-o...</td>\n",
              "      <td>2021-01-31 19:45:18</td>\n",
              "      <td>De basisscholen gaan open, met een paar nieuwe...</td>\n",
              "      <td>Claudia Kammer</td>\n",
              "      <td>Het werd alom verwacht, en zondag aan het ei...</td>\n",
              "      <td>None</td>\n",
              "      <td>NRC</td>\n",
              "    </tr>\n",
              "    <tr>\n",
              "      <th>4</th>\n",
              "      <td>https://www.nrc.nl/nieuws/2021/01/31/arrestati...</td>\n",
              "      <td>2021-01-31 19:43:49</td>\n",
              "      <td>Arrestatie Russische betoger</td>\n",
              "      <td>None</td>\n",
              "      <td></td>\n",
              "      <td>None</td>\n",
              "      <td>NRC</td>\n",
              "    </tr>\n",
              "  </tbody>\n",
              "</table>\n",
              "</div>\n",
              "      <button class=\"colab-df-convert\" onclick=\"convertToInteractive('df-b23893dc-cba8-4cbb-867c-f1f921d968cf')\"\n",
              "              title=\"Convert this dataframe to an interactive table.\"\n",
              "              style=\"display:none;\">\n",
              "        \n",
              "  <svg xmlns=\"http://www.w3.org/2000/svg\" height=\"24px\"viewBox=\"0 0 24 24\"\n",
              "       width=\"24px\">\n",
              "    <path d=\"M0 0h24v24H0V0z\" fill=\"none\"/>\n",
              "    <path d=\"M18.56 5.44l.94 2.06.94-2.06 2.06-.94-2.06-.94-.94-2.06-.94 2.06-2.06.94zm-11 1L8.5 8.5l.94-2.06 2.06-.94-2.06-.94L8.5 2.5l-.94 2.06-2.06.94zm10 10l.94 2.06.94-2.06 2.06-.94-2.06-.94-.94-2.06-.94 2.06-2.06.94z\"/><path d=\"M17.41 7.96l-1.37-1.37c-.4-.4-.92-.59-1.43-.59-.52 0-1.04.2-1.43.59L10.3 9.45l-7.72 7.72c-.78.78-.78 2.05 0 2.83L4 21.41c.39.39.9.59 1.41.59.51 0 1.02-.2 1.41-.59l7.78-7.78 2.81-2.81c.8-.78.8-2.07 0-2.86zM5.41 20L4 18.59l7.72-7.72 1.47 1.35L5.41 20z\"/>\n",
              "  </svg>\n",
              "      </button>\n",
              "      \n",
              "  <style>\n",
              "    .colab-df-container {\n",
              "      display:flex;\n",
              "      flex-wrap:wrap;\n",
              "      gap: 12px;\n",
              "    }\n",
              "\n",
              "    .colab-df-convert {\n",
              "      background-color: #E8F0FE;\n",
              "      border: none;\n",
              "      border-radius: 50%;\n",
              "      cursor: pointer;\n",
              "      display: none;\n",
              "      fill: #1967D2;\n",
              "      height: 32px;\n",
              "      padding: 0 0 0 0;\n",
              "      width: 32px;\n",
              "    }\n",
              "\n",
              "    .colab-df-convert:hover {\n",
              "      background-color: #E2EBFA;\n",
              "      box-shadow: 0px 1px 2px rgba(60, 64, 67, 0.3), 0px 1px 3px 1px rgba(60, 64, 67, 0.15);\n",
              "      fill: #174EA6;\n",
              "    }\n",
              "\n",
              "    [theme=dark] .colab-df-convert {\n",
              "      background-color: #3B4455;\n",
              "      fill: #D2E3FC;\n",
              "    }\n",
              "\n",
              "    [theme=dark] .colab-df-convert:hover {\n",
              "      background-color: #434B5C;\n",
              "      box-shadow: 0px 1px 3px 1px rgba(0, 0, 0, 0.15);\n",
              "      filter: drop-shadow(0px 1px 2px rgba(0, 0, 0, 0.3));\n",
              "      fill: #FFFFFF;\n",
              "    }\n",
              "  </style>\n",
              "\n",
              "      <script>\n",
              "        const buttonEl =\n",
              "          document.querySelector('#df-b23893dc-cba8-4cbb-867c-f1f921d968cf button.colab-df-convert');\n",
              "        buttonEl.style.display =\n",
              "          google.colab.kernel.accessAllowed ? 'block' : 'none';\n",
              "\n",
              "        async function convertToInteractive(key) {\n",
              "          const element = document.querySelector('#df-b23893dc-cba8-4cbb-867c-f1f921d968cf');\n",
              "          const dataTable =\n",
              "            await google.colab.kernel.invokeFunction('convertToInteractive',\n",
              "                                                     [key], {});\n",
              "          if (!dataTable) return;\n",
              "\n",
              "          const docLinkHtml = 'Like what you see? Visit the ' +\n",
              "            '<a target=\"_blank\" href=https://colab.research.google.com/notebooks/data_table.ipynb>data table notebook</a>'\n",
              "            + ' to learn more about interactive tables.';\n",
              "          element.innerHTML = '';\n",
              "          dataTable['output_type'] = 'display_data';\n",
              "          await google.colab.output.renderOutput(dataTable, element);\n",
              "          const docLink = document.createElement('div');\n",
              "          docLink.innerHTML = docLinkHtml;\n",
              "          element.appendChild(docLink);\n",
              "        }\n",
              "      </script>\n",
              "    </div>\n",
              "  </div>\n",
              "  "
            ]
          },
          "metadata": {},
          "execution_count": 57
        }
      ]
    },
    {
      "cell_type": "code",
      "source": [
        "def visualise_term_mention(frame, words, normalisation=True):\n",
        "  df = frame.copy(deep=True)\n",
        "\n",
        "  for w in words.keys():\n",
        "    df[w] = 0\n",
        "    for term in words[w]:\n",
        "      df[w] += df.cleantext.str.count(term)\n",
        "\n",
        "  df_word_counts = pd.DataFrame()\n",
        "\n",
        "  for w in words:\n",
        "    df_word_counts[w] = df.groupby(\"Bron\")[w].agg(\"sum\")\n",
        "\n",
        "  df_word_counts = df_word_counts.reset_index()\n",
        "  df_word_mentions = df_word_counts.melt(\"Bron\")\n",
        "\n",
        "  df_word_mentions = df_word_mentions.rename(columns={'variable':'Word','value':'Frequency'})\n",
        "\n",
        "  if normalisation:\n",
        "    df_norm = df_word_mentions.groupby('Bron').sum('Frequency').reset_index().rename(columns={'Frequency':'Total Freq'})\n",
        "    df_word_mentions = df_word_mentions.merge(df_norm, on='Bron')\n",
        "    df_word_mentions['Normalised_Freq'] = df_word_mentions['Frequency']/df_word_mentions['Total Freq']\n",
        "\n",
        "  mentions = df_word_mentions.pivot(\"Word\", \"Bron\", \"Normalised_Freq\")\n",
        "\n",
        "  # bigger plot elements suitable for giving talks\n",
        "  sns.set_context(\"talk\")\n",
        "  # set figure size\n",
        "  plt.figure(figsize=(15,9))\n",
        "  # Time series plot with Seaborn lineplot()\n",
        "  sns.heatmap(mentions)\n",
        "  # axis labels\n",
        "  plt.legend(title=\"Newspaper Normalised Frequency\")"
      ],
      "metadata": {
        "id": "0iw4JpLphKLI"
      },
      "execution_count": 159,
      "outputs": []
    },
    {
      "cell_type": "code",
      "source": [
        "partijen_termen = {'VVD':['VVD', 'Volkspartij voor Vrijheid en Democratie',],\n",
        "                   'CDA':['CDA', 'Christen-Democratisch Appèl'],\n",
        "                   'D66':['D66', 'Democraten 66', \"D'66\"],\n",
        "                   'PvdA':['PvdA','PVDA', 'Partij van de Arbeid'],\n",
        "                   'PVV':['PVV', 'Partij voor de Vrijheid'],\n",
        "                   'GL':['GL', 'GroenLinks'],\n",
        "                   'SP':['SP', 'Socialistische Partij'],\n",
        "                   'SGP':['SGP', 'Staatkundig Gereformeerde Partij'],\n",
        "                   'BBB':['BBB', 'Boeren Burger Beweging'],\n",
        "                   'Volt':['Volt'],\n",
        "                   'CU':['CU', 'Christen Unie'],\n",
        "                   'FVD': ['FVD', 'Forum Voor Democratie'],\n",
        "                   'BIJ1':['BIJ1'],\n",
        "                   '50PLUS':['50PLUS'],\n",
        "                   'PvdD':['PvdD','Partij voor de Dieren'],\n",
        "                   'JA21':['JA21']}"
      ],
      "metadata": {
        "id": "9cJ2Ru33f2wY"
      },
      "execution_count": 160,
      "outputs": []
    },
    {
      "cell_type": "code",
      "source": [
        "visualise_term_mention(df, partijen_termen)"
      ],
      "metadata": {
        "id": "CahrHcrmh6DA",
        "outputId": "2fc40f70-4313-4075-a327-502ead9b6ec7",
        "colab": {
          "base_uri": "https://localhost:8080/",
          "height": 591
        }
      },
      "execution_count": 161,
      "outputs": [
        {
          "output_type": "stream",
          "name": "stderr",
          "text": [
            "No handles with labels found to put in legend.\n"
          ]
        },
        {
          "output_type": "display_data",
          "data": {
            "text/plain": [
              "<Figure size 1080x648 with 2 Axes>"
            ],
            "image/png": "[encoded data removed]"
          },
          "metadata": {}
        }
      ]
    },
    {
      "cell_type": "code",
      "source": [
        "politici_termen = {'Rutte':['Rutte'],\n",
        "                   'Hoekstra':['Hoekstra'],\n",
        "                   'Kaag':['Kaag'],\n",
        "                   'Marijnissen':['Marijnissen'],\n",
        "                   'Wilders':['Wilders'],\n",
        "                   'Klaver':['Klaver'],\n",
        "                   'Ploumen':['Ploumen'],\n",
        "                   'Staaij':['Staaij'],\n",
        "                   'Plas':['Plas'],\n",
        "                   'Dassen':['Dassen'],\n",
        "                   'Segers':['Segers'],\n",
        "                   'Baudet': ['Baudet'],\n",
        "                   'Simons':['Simons'],\n",
        "                   'Den Haan':['Den Haan'],\n",
        "                   'Ouwehand':['Ouwehand'],\n",
        "                   'Eerdmans':['Eerdmans']}"
      ],
      "metadata": {
        "id": "mGw_g9HKiK0I"
      },
      "execution_count": 162,
      "outputs": []
    },
    {
      "cell_type": "code",
      "source": [
        "visualise_term_mention(df, politici_termen)"
      ],
      "metadata": {
        "id": "CGXDSvVB07AI",
        "outputId": "76665d33-e20b-4f6d-a054-d7181ec5ff07",
        "colab": {
          "base_uri": "https://localhost:8080/",
          "height": 591
        }
      },
      "execution_count": 163,
      "outputs": [
        {
          "output_type": "stream",
          "name": "stderr",
          "text": [
            "No handles with labels found to put in legend.\n"
          ]
        },
        {
          "output_type": "display_data",
          "data": {
            "text/plain": [
              "<Figure size 1080x648 with 2 Axes>"
            ],
            "image/png": "[encoded data removed]"
          },
          "metadata": {}
        }
      ]
    },
    {
      "cell_type": "markdown",
      "source": [
        "# LDA"
      ],
      "metadata": {
        "id": "qtLKtrDEwy8K"
      }
    },
    {
      "cell_type": "code",
      "source": [
        "# Remove the columns\n",
        "articles = df.drop(columns=['url', 'publisherID', 'category',], axis=1)# Print out the first rows of papers\n",
        "articles.head()"
      ],
      "metadata": {
        "colab": {
          "base_uri": "https://localhost:8080/",
          "height": 206
        },
        "id": "1UsBSFaWW3kZ",
        "outputId": "fd483622-41ff-44b7-f258-d77331f4e5c5"
      },
      "execution_count": 35,
      "outputs": [
        {
          "output_type": "execute_result",
          "data": {
            "text/plain": [
              "             timestamp                                              title  \\\n",
              "0  2021-01-31 20:18:43  Een herhaling van vorig seizoen is zo goed als...   \n",
              "1  2021-01-31 20:02:10  ‘Avondklok waarschijnlijk niet verlengd als be...   \n",
              "2  2021-01-31 19:58:21  School open? Dan testen, ventilatie en mondkapjes   \n",
              "3  2021-01-31 19:45:18  De basisscholen gaan open, met een paar nieuwe...   \n",
              "4  2021-01-31 19:43:49                       Arrestatie Russische betoger   \n",
              "\n",
              "                                           cleantext Bron  \n",
              "0  De eerste maand van 2021 is uitstekend verlope...  NRC  \n",
              "1  De avondklok wordt waarschijnlijk niet verleng...  NRC  \n",
              "2  Door de heropening van de scholen loopt het aa...  NRC  \n",
              "3    Het werd alom verwacht, en zondag aan het ei...  NRC  \n",
              "4                                                     NRC  "
            ],
            "text/html": [
              "\n",
              "  <div id=\"df-cfc0f2b8-2cc7-4ea6-b72b-91da26a9a54f\">\n",
              "    <div class=\"colab-df-container\">\n",
              "      <div>\n",
              "<style scoped>\n",
              "    .dataframe tbody tr th:only-of-type {\n",
              "        vertical-align: middle;\n",
              "    }\n",
              "\n",
              "    .dataframe tbody tr th {\n",
              "        vertical-align: top;\n",
              "    }\n",
              "\n",
              "    .dataframe thead th {\n",
              "        text-align: right;\n",
              "    }\n",
              "</style>\n",
              "<table border=\"1\" class=\"dataframe\">\n",
              "  <thead>\n",
              "    <tr style=\"text-align: right;\">\n",
              "      <th></th>\n",
              "      <th>timestamp</th>\n",
              "      <th>title</th>\n",
              "      <th>cleantext</th>\n",
              "      <th>Bron</th>\n",
              "    </tr>\n",
              "  </thead>\n",
              "  <tbody>\n",
              "    <tr>\n",
              "      <th>0</th>\n",
              "      <td>2021-01-31 20:18:43</td>\n",
              "      <td>Een herhaling van vorig seizoen is zo goed als...</td>\n",
              "      <td>De eerste maand van 2021 is uitstekend verlope...</td>\n",
              "      <td>NRC</td>\n",
              "    </tr>\n",
              "    <tr>\n",
              "      <th>1</th>\n",
              "      <td>2021-01-31 20:02:10</td>\n",
              "      <td>‘Avondklok waarschijnlijk niet verlengd als be...</td>\n",
              "      <td>De avondklok wordt waarschijnlijk niet verleng...</td>\n",
              "      <td>NRC</td>\n",
              "    </tr>\n",
              "    <tr>\n",
              "      <th>2</th>\n",
              "      <td>2021-01-31 19:58:21</td>\n",
              "      <td>School open? Dan testen, ventilatie en mondkapjes</td>\n",
              "      <td>Door de heropening van de scholen loopt het aa...</td>\n",
              "      <td>NRC</td>\n",
              "    </tr>\n",
              "    <tr>\n",
              "      <th>3</th>\n",
              "      <td>2021-01-31 19:45:18</td>\n",
              "      <td>De basisscholen gaan open, met een paar nieuwe...</td>\n",
              "      <td>Het werd alom verwacht, en zondag aan het ei...</td>\n",
              "      <td>NRC</td>\n",
              "    </tr>\n",
              "    <tr>\n",
              "      <th>4</th>\n",
              "      <td>2021-01-31 19:43:49</td>\n",
              "      <td>Arrestatie Russische betoger</td>\n",
              "      <td></td>\n",
              "      <td>NRC</td>\n",
              "    </tr>\n",
              "  </tbody>\n",
              "</table>\n",
              "</div>\n",
              "      <button class=\"colab-df-convert\" onclick=\"convertToInteractive('df-cfc0f2b8-2cc7-4ea6-b72b-91da26a9a54f')\"\n",
              "              title=\"Convert this dataframe to an interactive table.\"\n",
              "              style=\"display:none;\">\n",
              "        \n",
              "  <svg xmlns=\"http://www.w3.org/2000/svg\" height=\"24px\"viewBox=\"0 0 24 24\"\n",
              "       width=\"24px\">\n",
              "    <path d=\"M0 0h24v24H0V0z\" fill=\"none\"/>\n",
              "    <path d=\"M18.56 5.44l.94 2.06.94-2.06 2.06-.94-2.06-.94-.94-2.06-.94 2.06-2.06.94zm-11 1L8.5 8.5l.94-2.06 2.06-.94-2.06-.94L8.5 2.5l-.94 2.06-2.06.94zm10 10l.94 2.06.94-2.06 2.06-.94-2.06-.94-.94-2.06-.94 2.06-2.06.94z\"/><path d=\"M17.41 7.96l-1.37-1.37c-.4-.4-.92-.59-1.43-.59-.52 0-1.04.2-1.43.59L10.3 9.45l-7.72 7.72c-.78.78-.78 2.05 0 2.83L4 21.41c.39.39.9.59 1.41.59.51 0 1.02-.2 1.41-.59l7.78-7.78 2.81-2.81c.8-.78.8-2.07 0-2.86zM5.41 20L4 18.59l7.72-7.72 1.47 1.35L5.41 20z\"/>\n",
              "  </svg>\n",
              "      </button>\n",
              "      \n",
              "  <style>\n",
              "    .colab-df-container {\n",
              "      display:flex;\n",
              "      flex-wrap:wrap;\n",
              "      gap: 12px;\n",
              "    }\n",
              "\n",
              "    .colab-df-convert {\n",
              "      background-color: #E8F0FE;\n",
              "      border: none;\n",
              "      border-radius: 50%;\n",
              "      cursor: pointer;\n",
              "      display: none;\n",
              "      fill: #1967D2;\n",
              "      height: 32px;\n",
              "      padding: 0 0 0 0;\n",
              "      width: 32px;\n",
              "    }\n",
              "\n",
              "    .colab-df-convert:hover {\n",
              "      background-color: #E2EBFA;\n",
              "      box-shadow: 0px 1px 2px rgba(60, 64, 67, 0.3), 0px 1px 3px 1px rgba(60, 64, 67, 0.15);\n",
              "      fill: #174EA6;\n",
              "    }\n",
              "\n",
              "    [theme=dark] .colab-df-convert {\n",
              "      background-color: #3B4455;\n",
              "      fill: #D2E3FC;\n",
              "    }\n",
              "\n",
              "    [theme=dark] .colab-df-convert:hover {\n",
              "      background-color: #434B5C;\n",
              "      box-shadow: 0px 1px 3px 1px rgba(0, 0, 0, 0.15);\n",
              "      filter: drop-shadow(0px 1px 2px rgba(0, 0, 0, 0.3));\n",
              "      fill: #FFFFFF;\n",
              "    }\n",
              "  </style>\n",
              "\n",
              "      <script>\n",
              "        const buttonEl =\n",
              "          document.querySelector('#df-cfc0f2b8-2cc7-4ea6-b72b-91da26a9a54f button.colab-df-convert');\n",
              "        buttonEl.style.display =\n",
              "          google.colab.kernel.accessAllowed ? 'block' : 'none';\n",
              "\n",
              "        async function convertToInteractive(key) {\n",
              "          const element = document.querySelector('#df-cfc0f2b8-2cc7-4ea6-b72b-91da26a9a54f');\n",
              "          const dataTable =\n",
              "            await google.colab.kernel.invokeFunction('convertToInteractive',\n",
              "                                                     [key], {});\n",
              "          if (!dataTable) return;\n",
              "\n",
              "          const docLinkHtml = 'Like what you see? Visit the ' +\n",
              "            '<a target=\"_blank\" href=https://colab.research.google.com/notebooks/data_table.ipynb>data table notebook</a>'\n",
              "            + ' to learn more about interactive tables.';\n",
              "          element.innerHTML = '';\n",
              "          dataTable['output_type'] = 'display_data';\n",
              "          await google.colab.output.renderOutput(dataTable, element);\n",
              "          const docLink = document.createElement('div');\n",
              "          docLink.innerHTML = docLinkHtml;\n",
              "          element.appendChild(docLink);\n",
              "        }\n",
              "      </script>\n",
              "    </div>\n",
              "  </div>\n",
              "  "
            ]
          },
          "metadata": {},
          "execution_count": 35
        }
      ]
    },
    {
      "cell_type": "code",
      "source": [
        "articles.size"
      ],
      "metadata": {
        "colab": {
          "base_uri": "https://localhost:8080/"
        },
        "id": "4hVRDViT2DUx",
        "outputId": "8255f280-2127-4147-ad66-ad3f3c6d0303"
      },
      "execution_count": 34,
      "outputs": [
        {
          "output_type": "execute_result",
          "data": {
            "text/plain": [
              "274388"
            ]
          },
          "metadata": {},
          "execution_count": 34
        }
      ]
    },
    {
      "cell_type": "code",
      "source": [
        "# Remove punctuation\n",
        "articles['cleantext_processed'] = articles['cleantext'].map(lambda x: re.sub('[,\\\\.!?]', '', x))\n",
        "# Save D66\n",
        "articles['cleantext_processed'] = articles['cleantext_processed'].map(lambda x: re.sub('D66', 'dzeszes', x))\n",
        "# Save BIJ1\n",
        "articles['cleantext_processed'] = articles['cleantext_processed'].map(lambda x: re.sub('BIJ1', 'bijeen', x))\n",
        "# Save 50PLUS\n",
        "articles['cleantext_processed'] = articles['cleantext_processed'].map(lambda x: re.sub('50PLUS', 'vijfplus', x))\n",
        "# Save JA21\n",
        "articles['cleantext_processed'] = articles['cleantext_processed'].map(lambda x: re.sub('JA21', 'jatweeeen', x))\n",
        "# Convert the titles to lowercase\n",
        "articles['cleantext_processed'] = articles['cleantext_processed'].map(lambda x: x.lower())\n",
        "# Print out the first rows of papers\n",
        "articles['cleantext_processed'].head()"
      ],
      "metadata": {
        "colab": {
          "base_uri": "https://localhost:8080/"
        },
        "id": "EA4kCBBbwcC7",
        "outputId": "728f9157-efa8-4dd2-ccb0-7a82bda50901"
      },
      "execution_count": 36,
      "outputs": [
        {
          "output_type": "execute_result",
          "data": {
            "text/plain": [
              "0    de eerste maand van 2021 is uitstekend verlope...\n",
              "1    de avondklok wordt waarschijnlijk niet verleng...\n",
              "2    door de heropening van de scholen loopt het aa...\n",
              "3      het werd alom verwacht en zondag aan het ein...\n",
              "4                                                     \n",
              "Name: cleantext_processed, dtype: object"
            ]
          },
          "metadata": {},
          "execution_count": 36
        }
      ]
    },
    {
      "cell_type": "code",
      "source": [
        "stop_words.extend(['nbsp', 'rsquo', 'lsquo','euml', 'rdquo', 'quot', 'ldquo' ])\n",
        "\n",
        "def sent_to_words(sentences):\n",
        "    for sentence in sentences:\n",
        "        # deacc=True removes punctuations\n",
        "        yield(gensim.utils.simple_preprocess(str(sentence), deacc=True))\n",
        "\n",
        "def remove_stopwords(texts):\n",
        "    return [[word for word in simple_preprocess(str(doc)) \n",
        "             if word not in stop_words] for doc in texts]\n",
        "\n",
        "data = articles.cleantext_processed.values.tolist()\n",
        "data_words = list(sent_to_words(data))# remove stop words\n",
        "data_words = remove_stopwords(data_words)\n",
        "print(data_words[:1][0][:30])"
      ],
      "metadata": {
        "colab": {
          "base_uri": "https://localhost:8080/"
        },
        "id": "BJGDMQStw0s7",
        "outputId": "347cf67a-465e-484a-ba2c-d970c5425947"
      },
      "execution_count": 37,
      "outputs": [
        {
          "output_type": "stream",
          "name": "stdout",
          "text": [
            "['eerste', 'maand', 'uitstekend', 'verlopen', 'nadat', 'veld', 'alkmaar', 'even', 'vuisten', 'gebald', 'zit', 'erik', 'ten', 'hag', 'alweer', 'koel', 'achter', 'microfoon', 'superjanuari', 'gesproken', 'zegt', 'trainer', 'ajax', 'staat', 'superfebruari', 'deur', 'weer', 'blik', 'vooruit', 'ten']\n"
          ]
        }
      ]
    },
    {
      "cell_type": "code",
      "source": [
        "# Create Dictionary\n",
        "id2word = corpora.Dictionary(data_words)\n",
        "\n",
        "# Create Corpus\n",
        "texts = data_words\n",
        "\n",
        "# Term Document Frequency\n",
        "corpus = [id2word.doc2bow(text) for text in texts]\n",
        "\n",
        "# View\n",
        "print(corpus[:1][0][:30])"
      ],
      "metadata": {
        "colab": {
          "base_uri": "https://localhost:8080/"
        },
        "id": "aGC54QKCzSci",
        "outputId": "a34755f9-8f17-441c-e664-6bf56f6d3bfe"
      },
      "execution_count": 38,
      "outputs": [
        {
          "output_type": "stream",
          "name": "stdout",
          "text": [
            "[(0, 1), (1, 1), (2, 1), (3, 1), (4, 1), (5, 1), (6, 2), (7, 1), (8, 1), (9, 1), (10, 1), (11, 1), (12, 2), (13, 10), (14, 1), (15, 1), (16, 1), (17, 1), (18, 1), (19, 1), (20, 2), (21, 11), (22, 1), (23, 4), (24, 2), (25, 1), (26, 2), (27, 1), (28, 1), (29, 1)]\n"
          ]
        }
      ]
    },
    {
      "cell_type": "code",
      "source": [
        "# number of topics\n",
        "num_topics = 7\n",
        "# Build LDA model\n",
        "lda_model = gensim.models.LdaMulticore(corpus=corpus,\n",
        "                                       id2word=id2word,\n",
        "                                       num_topics=num_topics)\n",
        "doc_lda = lda_model[corpus]"
      ],
      "metadata": {
        "id": "ZA1FlBbIzWaz"
      },
      "execution_count": 39,
      "outputs": []
    },
    {
      "cell_type": "code",
      "source": [
        "def terms_topics_frame(terms):\n",
        "\n",
        "  df = pd.DataFrame(data=None)\n",
        "\n",
        "  for t in terms:\n",
        "    df_t_topics = pd.DataFrame(lda_model.get_term_topics(t, minimum_probability=0.000000001))\n",
        "    df_t_topics = df_t_topics.drop(columns=0)\n",
        "    df_t_topics = df_t_topics.rename(columns={1:t})\n",
        "    df = pd.concat([df, df_t_topics], axis=1)\n",
        "  \n",
        "  return df\n"
      ],
      "metadata": {
        "id": "7OdtVetKzZhK"
      },
      "execution_count": 40,
      "outputs": []
    },
    {
      "cell_type": "code",
      "source": [
        "df_tt = terms_topics_frame(['pvv', 'groenlinks', 'pvda', 'sp',\n",
        "                            'dzeszes', 'vvd', 'sgp',\n",
        "                            'bbb', 'volt', 'cu', 'cda',\n",
        "                            'fvd', 'bijeen', 'vijfplus', 'pvdd',\n",
        "                            'jatweeeen']\n",
        ")\n",
        "df_tt['topic'] = df_tt.index\n",
        "df_tt.head()"
      ],
      "metadata": {
        "colab": {
          "base_uri": "https://localhost:8080/",
          "height": 206
        },
        "id": "Je1xAMzlzbnS",
        "outputId": "cb061a23-e16f-494d-9e76-8305155c0a2d"
      },
      "execution_count": 41,
      "outputs": [
        {
          "output_type": "execute_result",
          "data": {
            "text/plain": [
              "            pvv    groenlinks          pvda            sp       dzeszes  \\\n",
              "0  5.350083e-04  1.545048e-03  1.944745e-03  8.501534e-04  2.760884e-03   \n",
              "1  1.134897e-06  8.214344e-07  1.221967e-06  6.242612e-06  3.015536e-06   \n",
              "2  2.290431e-06  4.280129e-08  1.189592e-07  2.099953e-07  5.745858e-07   \n",
              "3  1.321943e-04  7.160293e-05  1.160726e-04  1.759220e-04  3.648742e-04   \n",
              "4  3.781410e-08  2.034043e-08  4.526929e-08  1.642494e-08  6.778495e-08   \n",
              "\n",
              "            vvd           sgp       bbb          volt            cu  \\\n",
              "0  2.986805e-03  2.525789e-04  0.000059  1.735110e-04  2.321237e-04   \n",
              "1  4.199382e-06  9.303142e-08  0.000015  4.594981e-05  1.305527e-07   \n",
              "2  3.554482e-06  1.056632e-07       NaN  2.767372e-08  2.516037e-05   \n",
              "3  2.915534e-04  3.401439e-05       NaN  3.349067e-06  4.448508e-08   \n",
              "4  1.427292e-07  5.481169e-08       NaN  3.438037e-07  2.774287e-07   \n",
              "\n",
              "            cda           fvd    bijeen  vijfplus          pvdd     jatweeeen  \\\n",
              "0  2.492584e-03  3.300483e-04  0.000108  0.000002  4.866244e-05  1.999333e-04   \n",
              "1  7.064085e-06  3.830630e-07  0.000055  0.000002  1.916663e-05  2.245306e-07   \n",
              "2  7.030314e-06  1.378559e-05  0.000124       NaN  1.627134e-08  1.183514e-05   \n",
              "3  5.927408e-04  7.046480e-05  0.000120       NaN           NaN  1.607901e-08   \n",
              "4  7.057736e-08  2.157531e-08  0.000017       NaN           NaN           NaN   \n",
              "\n",
              "   topic  \n",
              "0      0  \n",
              "1      1  \n",
              "2      2  \n",
              "3      3  \n",
              "4      4  "
            ],
            "text/html": [
              "\n",
              "  <div id=\"df-24febb4a-b545-4921-8548-653dd5e4a863\">\n",
              "    <div class=\"colab-df-container\">\n",
              "      <div>\n",
              "<style scoped>\n",
              "    .dataframe tbody tr th:only-of-type {\n",
              "        vertical-align: middle;\n",
              "    }\n",
              "\n",
              "    .dataframe tbody tr th {\n",
              "        vertical-align: top;\n",
              "    }\n",
              "\n",
              "    .dataframe thead th {\n",
              "        text-align: right;\n",
              "    }\n",
              "</style>\n",
              "<table border=\"1\" class=\"dataframe\">\n",
              "  <thead>\n",
              "    <tr style=\"text-align: right;\">\n",
              "      <th></th>\n",
              "      <th>pvv</th>\n",
              "      <th>groenlinks</th>\n",
              "      <th>pvda</th>\n",
              "      <th>sp</th>\n",
              "      <th>dzeszes</th>\n",
              "      <th>vvd</th>\n",
              "      <th>sgp</th>\n",
              "      <th>bbb</th>\n",
              "      <th>volt</th>\n",
              "      <th>cu</th>\n",
              "      <th>cda</th>\n",
              "      <th>fvd</th>\n",
              "      <th>bijeen</th>\n",
              "      <th>vijfplus</th>\n",
              "      <th>pvdd</th>\n",
              "      <th>jatweeeen</th>\n",
              "      <th>topic</th>\n",
              "    </tr>\n",
              "  </thead>\n",
              "  <tbody>\n",
              "    <tr>\n",
              "      <th>0</th>\n",
              "      <td>5.350083e-04</td>\n",
              "      <td>1.545048e-03</td>\n",
              "      <td>1.944745e-03</td>\n",
              "      <td>8.501534e-04</td>\n",
              "      <td>2.760884e-03</td>\n",
              "      <td>2.986805e-03</td>\n",
              "      <td>2.525789e-04</td>\n",
              "      <td>0.000059</td>\n",
              "      <td>1.735110e-04</td>\n",
              "      <td>2.321237e-04</td>\n",
              "      <td>2.492584e-03</td>\n",
              "      <td>3.300483e-04</td>\n",
              "      <td>0.000108</td>\n",
              "      <td>0.000002</td>\n",
              "      <td>4.866244e-05</td>\n",
              "      <td>1.999333e-04</td>\n",
              "      <td>0</td>\n",
              "    </tr>\n",
              "    <tr>\n",
              "      <th>1</th>\n",
              "      <td>1.134897e-06</td>\n",
              "      <td>8.214344e-07</td>\n",
              "      <td>1.221967e-06</td>\n",
              "      <td>6.242612e-06</td>\n",
              "      <td>3.015536e-06</td>\n",
              "      <td>4.199382e-06</td>\n",
              "      <td>9.303142e-08</td>\n",
              "      <td>0.000015</td>\n",
              "      <td>4.594981e-05</td>\n",
              "      <td>1.305527e-07</td>\n",
              "      <td>7.064085e-06</td>\n",
              "      <td>3.830630e-07</td>\n",
              "      <td>0.000055</td>\n",
              "      <td>0.000002</td>\n",
              "      <td>1.916663e-05</td>\n",
              "      <td>2.245306e-07</td>\n",
              "      <td>1</td>\n",
              "    </tr>\n",
              "    <tr>\n",
              "      <th>2</th>\n",
              "      <td>2.290431e-06</td>\n",
              "      <td>4.280129e-08</td>\n",
              "      <td>1.189592e-07</td>\n",
              "      <td>2.099953e-07</td>\n",
              "      <td>5.745858e-07</td>\n",
              "      <td>3.554482e-06</td>\n",
              "      <td>1.056632e-07</td>\n",
              "      <td>NaN</td>\n",
              "      <td>2.767372e-08</td>\n",
              "      <td>2.516037e-05</td>\n",
              "      <td>7.030314e-06</td>\n",
              "      <td>1.378559e-05</td>\n",
              "      <td>0.000124</td>\n",
              "      <td>NaN</td>\n",
              "      <td>1.627134e-08</td>\n",
              "      <td>1.183514e-05</td>\n",
              "      <td>2</td>\n",
              "    </tr>\n",
              "    <tr>\n",
              "      <th>3</th>\n",
              "      <td>1.321943e-04</td>\n",
              "      <td>7.160293e-05</td>\n",
              "      <td>1.160726e-04</td>\n",
              "      <td>1.759220e-04</td>\n",
              "      <td>3.648742e-04</td>\n",
              "      <td>2.915534e-04</td>\n",
              "      <td>3.401439e-05</td>\n",
              "      <td>NaN</td>\n",
              "      <td>3.349067e-06</td>\n",
              "      <td>4.448508e-08</td>\n",
              "      <td>5.927408e-04</td>\n",
              "      <td>7.046480e-05</td>\n",
              "      <td>0.000120</td>\n",
              "      <td>NaN</td>\n",
              "      <td>NaN</td>\n",
              "      <td>1.607901e-08</td>\n",
              "      <td>3</td>\n",
              "    </tr>\n",
              "    <tr>\n",
              "      <th>4</th>\n",
              "      <td>3.781410e-08</td>\n",
              "      <td>2.034043e-08</td>\n",
              "      <td>4.526929e-08</td>\n",
              "      <td>1.642494e-08</td>\n",
              "      <td>6.778495e-08</td>\n",
              "      <td>1.427292e-07</td>\n",
              "      <td>5.481169e-08</td>\n",
              "      <td>NaN</td>\n",
              "      <td>3.438037e-07</td>\n",
              "      <td>2.774287e-07</td>\n",
              "      <td>7.057736e-08</td>\n",
              "      <td>2.157531e-08</td>\n",
              "      <td>0.000017</td>\n",
              "      <td>NaN</td>\n",
              "      <td>NaN</td>\n",
              "      <td>NaN</td>\n",
              "      <td>4</td>\n",
              "    </tr>\n",
              "  </tbody>\n",
              "</table>\n",
              "</div>\n",
              "      <button class=\"colab-df-convert\" onclick=\"convertToInteractive('df-24febb4a-b545-4921-8548-653dd5e4a863')\"\n",
              "              title=\"Convert this dataframe to an interactive table.\"\n",
              "              style=\"display:none;\">\n",
              "        \n",
              "  <svg xmlns=\"http://www.w3.org/2000/svg\" height=\"24px\"viewBox=\"0 0 24 24\"\n",
              "       width=\"24px\">\n",
              "    <path d=\"M0 0h24v24H0V0z\" fill=\"none\"/>\n",
              "    <path d=\"M18.56 5.44l.94 2.06.94-2.06 2.06-.94-2.06-.94-.94-2.06-.94 2.06-2.06.94zm-11 1L8.5 8.5l.94-2.06 2.06-.94-2.06-.94L8.5 2.5l-.94 2.06-2.06.94zm10 10l.94 2.06.94-2.06 2.06-.94-2.06-.94-.94-2.06-.94 2.06-2.06.94z\"/><path d=\"M17.41 7.96l-1.37-1.37c-.4-.4-.92-.59-1.43-.59-.52 0-1.04.2-1.43.59L10.3 9.45l-7.72 7.72c-.78.78-.78 2.05 0 2.83L4 21.41c.39.39.9.59 1.41.59.51 0 1.02-.2 1.41-.59l7.78-7.78 2.81-2.81c.8-.78.8-2.07 0-2.86zM5.41 20L4 18.59l7.72-7.72 1.47 1.35L5.41 20z\"/>\n",
              "  </svg>\n",
              "      </button>\n",
              "      \n",
              "  <style>\n",
              "    .colab-df-container {\n",
              "      display:flex;\n",
              "      flex-wrap:wrap;\n",
              "      gap: 12px;\n",
              "    }\n",
              "\n",
              "    .colab-df-convert {\n",
              "      background-color: #E8F0FE;\n",
              "      border: none;\n",
              "      border-radius: 50%;\n",
              "      cursor: pointer;\n",
              "      display: none;\n",
              "      fill: #1967D2;\n",
              "      height: 32px;\n",
              "      padding: 0 0 0 0;\n",
              "      width: 32px;\n",
              "    }\n",
              "\n",
              "    .colab-df-convert:hover {\n",
              "      background-color: #E2EBFA;\n",
              "      box-shadow: 0px 1px 2px rgba(60, 64, 67, 0.3), 0px 1px 3px 1px rgba(60, 64, 67, 0.15);\n",
              "      fill: #174EA6;\n",
              "    }\n",
              "\n",
              "    [theme=dark] .colab-df-convert {\n",
              "      background-color: #3B4455;\n",
              "      fill: #D2E3FC;\n",
              "    }\n",
              "\n",
              "    [theme=dark] .colab-df-convert:hover {\n",
              "      background-color: #434B5C;\n",
              "      box-shadow: 0px 1px 3px 1px rgba(0, 0, 0, 0.15);\n",
              "      filter: drop-shadow(0px 1px 2px rgba(0, 0, 0, 0.3));\n",
              "      fill: #FFFFFF;\n",
              "    }\n",
              "  </style>\n",
              "\n",
              "      <script>\n",
              "        const buttonEl =\n",
              "          document.querySelector('#df-24febb4a-b545-4921-8548-653dd5e4a863 button.colab-df-convert');\n",
              "        buttonEl.style.display =\n",
              "          google.colab.kernel.accessAllowed ? 'block' : 'none';\n",
              "\n",
              "        async function convertToInteractive(key) {\n",
              "          const element = document.querySelector('#df-24febb4a-b545-4921-8548-653dd5e4a863');\n",
              "          const dataTable =\n",
              "            await google.colab.kernel.invokeFunction('convertToInteractive',\n",
              "                                                     [key], {});\n",
              "          if (!dataTable) return;\n",
              "\n",
              "          const docLinkHtml = 'Like what you see? Visit the ' +\n",
              "            '<a target=\"_blank\" href=https://colab.research.google.com/notebooks/data_table.ipynb>data table notebook</a>'\n",
              "            + ' to learn more about interactive tables.';\n",
              "          element.innerHTML = '';\n",
              "          dataTable['output_type'] = 'display_data';\n",
              "          await google.colab.output.renderOutput(dataTable, element);\n",
              "          const docLink = document.createElement('div');\n",
              "          docLink.innerHTML = docLinkHtml;\n",
              "          element.appendChild(docLink);\n",
              "        }\n",
              "      </script>\n",
              "    </div>\n",
              "  </div>\n",
              "  "
            ]
          },
          "metadata": {},
          "execution_count": 41
        }
      ]
    },
    {
      "cell_type": "code",
      "source": [
        "sns.set_theme(style=\"whitegrid\")\n",
        "\n",
        "# Plot the topic dist per term\n",
        "df_tt.set_index('topic').plot(kind='bar', stacked=True)\n",
        "sns.set(rc={'figure.figsize':(15,9)})"
      ],
      "metadata": {
        "colab": {
          "base_uri": "https://localhost:8080/",
          "height": 321
        },
        "id": "yIpmcQYxzdVr",
        "outputId": "f7ed8efd-b30e-4cd4-8619-bb2669af13b4"
      },
      "execution_count": 42,
      "outputs": [
        {
          "output_type": "display_data",
          "data": {
            "text/plain": [
              "<Figure size 432x288 with 1 Axes>"
            ],
            "image/png": "[encoded data removed]"
          },
          "metadata": {}
        }
      ]
    },
    {
      "cell_type": "code",
      "source": [
        "# Visualize the topics\n",
        "pyLDAvis.enable_notebook()\n",
        "LDAvis_data_filepath = os.path.join('./results/ldavis_prepared_'+str(num_topics))\n",
        "LDAvis = gensimvis.prepare(lda_model, corpus, id2word)\n",
        "\n",
        "LDAvis"
      ],
      "metadata": {
        "colab": {
          "base_uri": "https://localhost:8080/",
          "height": 897
        },
        "id": "XX3-k4GHzfEC",
        "outputId": "e6796583-0928-48b8-fe91-ae9caa29764d"
      },
      "execution_count": 43,
      "outputs": [
        {
          "output_type": "stream",
          "name": "stderr",
          "text": [
            "/usr/local/lib/python3.7/dist-packages/pyLDAvis/_prepare.py:247: FutureWarning: In a future version of pandas all arguments of DataFrame.drop except for the argument 'labels' will be keyword-only\n",
            "  by='saliency', ascending=False).head(R).drop('saliency', 1)\n"
          ]
        },
        {
          "output_type": "execute_result",
          "data": {
            "text/plain": [
              "PreparedData(topic_coordinates=              x         y  topics  cluster       Freq\n",
              "topic                                                \n",
              "5     -0.120960 -0.049391       1        1  26.319974\n",
              "4     -0.154624  0.055064       2        1  17.366795\n",
              "0     -0.055526 -0.021321       3        1  15.891118\n",
              "6      0.084231 -0.014100       4        1  15.501616\n",
              "3      0.114217 -0.121632       5        1  11.188387\n",
              "1      0.028948 -0.009840       6        1   9.132954\n",
              "2      0.103715  0.161220       7        1   4.599156, topic_info=           Term          Freq          Total Category  logprob  loglift\n",
              "634      mensen  76787.000000   76787.000000  Default  30.0000  30.0000\n",
              "479     procent  29332.000000   29332.000000  Default  29.0000  29.0000\n",
              "992   president   9465.000000    9465.000000  Default  28.0000  28.0000\n",
              "13         ajax  10270.000000   10270.000000  Default  27.0000  27.0000\n",
              "1185    volgens  41951.000000   41951.000000  Default  26.0000  26.0000\n",
              "...         ...           ...            ...      ...      ...      ...\n",
              "227       staat   1768.309887   30116.605697   Topic7  -6.0316   0.2442\n",
              "527          we   1906.995359  139597.058228   Topic7  -5.9561  -1.2139\n",
              "896        twee   1668.071126   44832.216506   Topic7  -6.0900  -0.2120\n",
              "538   afgelopen   1536.452549   23391.385236   Topic7  -6.1722   0.3564\n",
              "726      werden   1524.959372   18640.084611   Topic7  -6.1797   0.5760\n",
              "\n",
              "[731 rows x 6 columns], token_table=        Topic      Freq      Term\n",
              "term                             \n",
              "7036        2  0.024969  aandelen\n",
              "7036        3  0.005202  aandelen\n",
              "7036        4  0.963389  aandelen\n",
              "7036        5  0.001040  aandelen\n",
              "7036        6  0.004162  aandelen\n",
              "...       ...       ...       ...\n",
              "2774        2  0.000832      zout\n",
              "2774        3  0.021628      zout\n",
              "2774        4  0.007487      zout\n",
              "2774        5  0.002496      zout\n",
              "127525      1  0.993446    zwanen\n",
              "\n",
              "[2747 rows x 3 columns], R=30, lambda_step=0.01, plot_opts={'xlab': 'PC1', 'ylab': 'PC2'}, topic_order=[6, 5, 1, 7, 4, 2, 3])"
            ],
            "text/html": [
              "\n",
              "<link rel=\"stylesheet\" type=\"text/css\" href=\"https://cdn.jsdelivr.net/gh/bmabey/pyLDAvis@3.3.1/pyLDAvis/js/ldavis.v1.0.0.css\">\n",
              "\n",
              "\n",
              "<div id=\"ldavis_el591405239486480164813387746\"></div>\n",
              "<script type=\"text/javascript\">\n",
              "\n",
              "var ldavis_el591405239486480164813387746_data = {\"mdsDat\": {\"x\": [-0.12096026930886893, -0.15462435331727087, -0.05552632865633905, 0.08423100451212884, 0.11421730807581439, 0.028948016858072075, 0.10371462183646363], \"y\": [-0.04939135329614389, 0.05506382317201365, -0.021320806766776227, -0.014099996788828537, -0.1216317013380291, -0.009840353732449791, 0.16122038875021352], \"topics\": [1, 2, 3, 4, 5, 6, 7], \"cluster\": [1, 1, 1, 1, 1, 1, 1], \"Freq\": [26.319974117427776, 17.36679451851418, 15.891117874615615, 15.501615725895126, 11.188387452994743, 9.132954333478041, 4.599155977074515]}, \"tinfo\": {\"Term\": [\"mensen\", \"procent\", \"president\", \"ajax\", \"volgens\", \"politie\", \"kabinet\", \"aantal\", \"euro\", \"amerikaanse\", \"land\", \"rutte\", \"we\", \"film\", \"week\", \"partij\", \"trump\", \"besmettingen\", \"biden\", \"vvd\", \"virus\", \"regering\", \"bedrijven\", \"media\", \"zei\", \"maatregelen\", \"moeten\", \"dzeszes\", \"ggd\", \"afgelopen\", \"elektroden\", \"snijd\", \"puree\", \"serveer\", \"falafel\", \"ui\", \"kerstbomen\", \"knoflook\", \"mayo\", \"gr\", \"mayonaise\", \"prints\", \"koekenpan\", \"knapperig\", \"croissants\", \"zwanen\", \"huisgemaakte\", \"champignons\", \"gebit\", \"prothese\", \"noordermarkt\", \"bereiding\", \"bediening\", \"omgetoverd\", \"sojasaus\", \"eitjes\", \"kook\", \"noedels\", \"pompoen\", \"snij\", \"peper\", \"saus\", \"olijfolie\", \"pasta\", \"groenten\", \"giet\", \"oven\", \"blokjes\", \"broodje\", \"voeg\", \"garnalen\", \"tuindorp\", \"gerechten\", \"zout\", \"vogels\", \"gram\", \"fietsers\", \"menu\", \"koken\", \"planten\", \"eten\", \"tuin\", \"bomen\", \"keuken\", \"water\", \"wandelen\", \"eet\", \"plastic\", \"smaak\", \"fietsen\", \"fiets\", \"lekker\", \"bak\", \"boom\", \"leuk\", \"fijn\", \"we\", \"vind\", \"restaurant\", \"kom\", \"doe\", \"ga\", \"heel\", \"beetje\", \"winkel\", \"kunt\", \"even\", \"echt\", \"hebt\", \"gewoon\", \"buurt\", \"weer\", \"wel\", \"zie\", \"kun\", \"zit\", \"goed\", \"waar\", \"stad\", \"mensen\", \"dingen\", \"paar\", \"weet\", \"gaan\", \"huis\", \"zegt\", \"onze\", \"allemaal\", \"elkaar\", \"leven\", \"mee\", \"kinderen\", \"zien\", \"vaak\", \"maken\", \"gaat\", \"amsterdam\", \"jaar\", \"alleen\", \"komen\", \"tijd\", \"twee\", \"dag\", \"komt\", \"hamilton\", \"album\", \"songs\", \"idfa\", \"benzema\", \"most\", \"nft\", \"haaland\", \"filmfestival\", \"tuschinski\", \"galgut\", \"gospel\", \"sobibor\", \"haitink\", \"kane\", \"sangare\", \"baldwin\", \"magritte\", \"breitner\", \"beyer\", \"producer\", \"orchestra\", \"albums\", \"cannes\", \"freddie\", \"ducournau\", \"campion\", \"eilish\", \"lil\", \"componisten\", \"verstappen\", \"dirigent\", \"jazz\", \"zangeres\", \"regisseur\", \"orkest\", \"lennon\", \"componist\", \"films\", \"song\", \"pianist\", \"film\", \"zanger\", \"opera\", \"muzikale\", \"cinema\", \"filmmaker\", \"premiere\", \"liedjes\", \"acteur\", \"muziek\", \"actrice\", \"personages\", \"acteurs\", \"wereldkampioen\", \"cd\", \"personage\", \"musici\", \"the\", \"won\", \"serie\", \"concert\", \"titel\", \"artiesten\", \"roman\", \"gouden\", \"festival\", \"finale\", \"documentaire\", \"vader\", \"verhaal\", \"podium\", \"tentoonstelling\", \"nummer\", \"kunstenaar\", \"maakte\", \"schrijver\", \"speelde\", \"eerste\", \"spelen\", \"publiek\", \"boek\", \"jaar\", \"beste\", \"jaren\", \"waarin\", \"twee\", \"leven\", \"ging\", \"kwam\", \"moeder\", \"waar\", \"laatste\", \"man\", \"zien\", \"wereld\", \"wel\", \"eigen\", \"later\", \"nooit\", \"grote\", \"werk\", \"tijd\", \"drie\", \"tijdens\", \"we\", \"goed\", \"heel\", \"weer\", \"keer\", \"vooral\", \"alleen\", \"gaat\", \"staat\", \"verkenners\", \"gario\", \"informateurs\", \"kockelmann\", \"wassink\", \"gerichtheid\", \"tjeenk\", \"asscher\", \"homofoob\", \"jfvd\", \"eerdmans\", \"lubbers\", \"drees\", \"timman\", \"graaff\", \"gepolst\", \"galen\", \"lpf\", \"gl\", \"ceder\", \"fractieleiders\", \"uyl\", \"armoedebeleid\", \"bestuurscultuur\", \"segers\", \"roelvink\", \"samsom\", \"pechtold\", \"zandschulp\", \"informateur\", \"omtzigt\", \"formatie\", \"thijn\", \"klaver\", \"groenlinks\", \"liander\", \"willink\", \"ruttes\", \"kaag\", \"pvda\", \"ploumen\", \"vvd\", \"regeerakkoord\", \"afkeuring\", \"iv\", \"dzeszes\", \"christenunie\", \"baudet\", \"hoekstra\", \"wilders\", \"sigrid\", \"cda\", \"hamer\", \"rutte\", \"debat\", \"partijen\", \"sp\", \"wopke\", \"kamerleden\", \"kamerlid\", \"lijsttrekker\", \"partij\", \"motie\", \"leider\", \"politiek\", \"kamer\", \"coalitie\", \"samenleving\", \"politieke\", \"we\", \"kabinet\", \"wel\", \"moeten\", \"willen\", \"wij\", \"gaat\", \"onze\", \"gaan\", \"tweede\", \"mensen\", \"goed\", \"maken\", \"alleen\", \"waar\", \"zegt\", \"nieuwe\", \"jaar\", \"heel\", \"elkaar\", \"eigen\", \"komen\", \"alle\", \"datacenters\", \"afghanen\", \"tplf\", \"energieprijzen\", \"islamabad\", \"gasprijzen\", \"gasprijs\", \"lira\", \"deelnemingen\", \"prijsstijging\", \"frost\", \"belarus\", \"maatschappijen\", \"ilt\", \"ecb\", \"evacuatielijst\", \"xinjiang\", \"frontex\", \"amhara\", \"vattenfall\", \"morawiecki\", \"everhardt\", \"brievenbusfirma\", \"prometheus\", \"spaarders\", \"kabul\", \"kavala\", \"avr\", \"adyen\", \"zeijl\", \"taliban\", \"afghaanse\", \"rente\", \"brandstoffen\", \"dnb\", \"tarieven\", \"uitstoot\", \"evacues\", \"tigray\", \"beleggers\", \"abiy\", \"tolken\", \"luchtvaart\", \"klm\", \"inflatie\", \"shell\", \"fossiele\", \"broeikasgassen\", \"eu\", \"afghanistan\", \"miljard\", \"tarief\", \"aandelen\", \"bedrijven\", \"luchthaven\", \"waterstof\", \"investeringen\", \"abn\", \"china\", \"schiphol\", \"bedrijf\", \"euro\", \"co\", \"economie\", \"europese\", \"gas\", \"landen\", \"woningen\", \"financiele\", \"miljoen\", \"chinese\", \"geld\", \"betalen\", \"procent\", \"kosten\", \"europa\", \"buitenlandse\", \"commissie\", \"volgens\", \"jaar\", \"land\", \"nederland\", \"economische\", \"nieuwe\", \"overheid\", \"moeten\", \"nederlandse\", \"regering\", \"grote\", \"gaat\", \"zegt\", \"jaren\", \"per\", \"maken\", \"wel\", \"we\", \"komen\", \"alle\", \"gaan\", \"mensen\", \"alleen\", \"waar\", \"amsterdam\", \"boosterprik\", \"boostercampagne\", \"omikron\", \"baidjoe\", \"covidzorg\", \"boosterprikken\", \"rosendaal\", \"boosteren\", \"boosters\", \"janssenvaccin\", \"gezondheidsraad\", \"deltavariant\", \"zeijst\", \"bloedplaatjes\", \"rijkers\", \"baerbock\", \"cbg\", \"herstelbewijs\", \"trombose\", \"sanquin\", \"avondlockdown\", \"omt\", \"ecdc\", \"novavax\", \"openingsplan\", \"lareb\", \"outbreak\", \"amrish\", \"immunoloog\", \"fdp\", \"besmettingen\", \"gevaccineerden\", \"omikronvariant\", \"vaccin\", \"vaccinatiegraad\", \"pfizer\", \"gevaccineerd\", \"antistoffen\", \"ggd\", \"astrazeneca\", \"ema\", \"huisartsen\", \"moderna\", \"besmettelijker\", \"vaccineren\", \"vaccinatie\", \"rivm\", \"prik\", \"ic\", \"dissel\", \"vaccins\", \"versoepelingen\", \"besmetting\", \"plussers\", \"ziekenhuizen\", \"coronapatienten\", \"volksgezondheid\", \"virus\", \"vaccinaties\", \"prikken\", \"testen\", \"patienten\", \"coronavirus\", \"test\", \"covid\", \"maatregelen\", \"aantal\", \"besmet\", \"variant\", \"zorg\", \"kabinet\", \"procent\", \"week\", \"mensen\", \"horeca\", \"corona\", \"weken\", \"jonge\", \"afgelopen\", \"moeten\", \"nieuwe\", \"volgens\", \"we\", \"nederland\", \"wel\", \"minder\", \"weer\", \"jaar\", \"gaan\", \"zegt\", \"gaat\", \"alle\", \"eerder\", \"rensch\", \"anis\", \"aeb\", \"kroongetuige\", \"onana\", \"mazraoui\", \"timber\", \"jurrien\", \"razzouki\", \"noussair\", \"besiktas\", \"devyne\", \"winterstop\", \"basisplaats\", \"kukenheim\", \"bergwijn\", \"youssef\", \"rechtsback\", \"ridouan\", \"ziyech\", \"wiersum\", \"nec\", \"psv\", \"raiola\", \"marengoproces\", \"strafeis\", \"ebi\", \"steekpartij\", \"amfi\", \"sporting\", \"hag\", \"taghi\", \"feyenoord\", \"ajax\", \"haller\", \"verdachten\", \"az\", \"eredivisie\", \"tadic\", \"berghuis\", \"recherche\", \"nabil\", \"klaassen\", \"overvallers\", \"neres\", \"knvb\", \"verdachte\", \"league\", \"champions\", \"fc\", \"politie\", \"goals\", \"duels\", \"aangehouden\", \"rechtbank\", \"trainer\", \"advocaat\", \"spelers\", \"elftal\", \"aangifte\", \"justitie\", \"wedstrijd\", \"club\", \"wedstrijden\", \"halsema\", \"agenten\", \"voetbal\", \"slachtoffer\", \"seizoen\", \"jarige\", \"volgens\", \"gemeente\", \"twee\", \"onderzoek\", \"oranje\", \"amsterdam\", \"zaak\", \"jaar\", \"burgemeester\", \"zegt\", \"leerlingen\", \"drie\", \"werden\", \"uur\", \"man\", \"ten\", \"wel\", \"mensen\", \"gaat\", \"eerder\", \"we\", \"moeten\", \"eerste\", \"gaan\", \"waar\", \"manchin\", \"cuomo\", \"raisi\", \"mcconnell\", \"republikeinen\", \"republikeinse\", \"impeachment\", \"pence\", \"naftali\", \"sloveen\", \"desantis\", \"republikeins\", \"liz\", \"suu\", \"israels\", \"parler\", \"trumps\", \"netanyahu\", \"kyi\", \"cheney\", \"capitool\", \"republikein\", \"congreslid\", \"assange\", \"pelosi\", \"ncsc\", \"brunswijk\", \"yair\", \"weisselberg\", \"obrador\", \"trump\", \"bolsonaro\", \"bestorming\", \"hamas\", \"navalny\", \"gazastrook\", \"palestijnen\", \"palestijnse\", \"gaza\", \"presidentschap\", \"aung\", \"lapid\", \"zemmour\", \"biden\", \"buk\", \"israelische\", \"democraten\", \"afgevaardigden\", \"senaat\", \"raketten\", \"senatoren\", \"poetin\", \"president\", \"aanhangers\", \"donald\", \"israel\", \"joe\", \"hooggerechtshof\", \"texas\", \"facebook\", \"washington\", \"leger\", \"russische\", \"iran\", \"oekraine\", \"amerikaanse\", \"vs\", \"staten\", \"rusland\", \"amerikanen\", \"media\", \"verkiezingen\", \"democratische\", \"militaire\", \"regering\", \"land\", \"zei\", \"politieke\", \"volgens\", \"geweld\", \"partij\", \"mensen\", \"jaar\", \"twitter\", \"sinds\", \"staat\", \"we\", \"twee\", \"afgelopen\", \"werden\"], \"Freq\": [76787.0, 29332.0, 9465.0, 10270.0, 41951.0, 11451.0, 19404.0, 23751.0, 22673.0, 10514.0, 21375.0, 12870.0, 139597.0, 10182.0, 25627.0, 11442.0, 4737.0, 6364.0, 4385.0, 8335.0, 6986.0, 8481.0, 9678.0, 9256.0, 25958.0, 9615.0, 43769.0, 7875.0, 5547.0, 23391.0, 272.2136328256427, 825.492682895106, 268.4929572819052, 350.92092658807536, 164.1473801238204, 658.9073354635698, 224.29201122415122, 707.77975174491, 146.71273607574958, 151.62728561118854, 363.91185026033685, 143.98179205061368, 259.69825978794626, 210.1964923589668, 156.8682147662692, 132.9231473251295, 140.87641053595783, 153.35778282233375, 129.89137789696653, 126.21889818828389, 128.06566171971338, 167.9145192731722, 286.6304419283956, 120.31958388060394, 141.02535160892006, 203.29522894981667, 521.4719450582114, 130.00962938284866, 213.2956807701359, 113.01074834533371, 887.6719937622416, 581.193452291117, 638.0608585845002, 468.26058528802133, 951.4867131748593, 360.52416133525776, 786.590427413071, 328.0850225201532, 645.0326375283998, 988.5187740396246, 240.34516396969465, 210.81040673628166, 864.486731208028, 1163.1888195069766, 1145.7492853598656, 807.8268245403772, 570.8960994105742, 647.3895119711538, 1081.4817948962998, 1306.6161908303543, 5716.416509618023, 1719.9190224827935, 1688.845585622218, 1823.9399829096053, 5864.791005588001, 765.0543086041512, 948.6302208389411, 1353.7266998286575, 1608.8011333673658, 1372.5494421782726, 2047.453502630122, 3399.059217809227, 1406.6223032978105, 1574.6515022917351, 4200.562086557556, 2526.833559957081, 75569.22492493833, 7509.863735766251, 2600.2818051378954, 3390.6415024958246, 4049.166827714621, 5851.669474881812, 20844.482331839696, 6492.125163662118, 2284.248837933206, 6921.130885135429, 10497.791632486185, 12771.905119315205, 4696.098663206322, 7881.253237284995, 3894.1243827787293, 20904.54047410371, 32473.44026919241, 5428.408991272754, 4850.747202233318, 9418.428614796612, 17175.198264556187, 20761.672812172674, 9251.493939537711, 26578.257190763085, 5120.231822546298, 6588.405971087686, 8097.195105473391, 17091.236950276354, 7561.502691088312, 17400.465352331285, 10204.059479076383, 7448.0788826687185, 10519.148887108267, 10489.863478937514, 10433.943556159738, 9647.442468863303, 12652.997532370639, 8946.889394390948, 13415.307989540901, 15191.202611414994, 12081.620087788078, 20328.970850321362, 12521.530086283628, 11910.516779386213, 10971.574595889722, 12114.650300079025, 9157.49415636665, 9713.83940584059, 1097.9643094831918, 2550.6456863038597, 555.9823062292386, 361.93565999750615, 295.80052150468777, 300.4486777648391, 291.2341542480521, 279.82662135057814, 381.3985702053745, 272.9218735088865, 242.1793433071379, 233.76043683691745, 330.1209716465298, 407.3764003801516, 196.94682805760817, 186.9063832827122, 217.07260749085333, 186.96417976627495, 179.33467979993506, 170.5408750331149, 352.0988481954988, 210.63508666504055, 361.15851274075163, 273.2568382183133, 152.58330326937443, 145.19547837859727, 143.9588116524243, 181.8204950269951, 268.5756264964394, 376.0751438642552, 1980.4845290545597, 608.2176635272489, 668.1072820432199, 825.063920001447, 2111.8640078752674, 1094.2417870703973, 305.77337858214474, 899.4421074805477, 2802.819937149457, 284.6834680288021, 344.7689917414207, 9729.020733039533, 1117.7996904139716, 909.0600735145529, 592.9679288341462, 405.9048456698528, 514.265666182285, 775.486472675218, 905.2216749177026, 1094.0414313219878, 6238.086260698943, 768.9049967296878, 1438.946569487762, 903.1497407747205, 741.6587997623244, 586.6110034547856, 907.764396517973, 558.679664273455, 4971.429451018705, 2789.84536497661, 2720.879614873867, 1082.3604322485246, 2231.779674548493, 1047.856113629573, 2263.2110894736447, 1843.2984558096343, 2144.1986420507205, 1869.801086956265, 1587.3004527284397, 6295.116116490949, 5852.662004586664, 1738.2008607681662, 1795.664604897398, 2775.757021995562, 2349.9008787513117, 5949.3810718002605, 2205.7432993882658, 2328.1331491646283, 11655.45581943836, 4539.7825734983335, 3092.3498537491846, 4917.118477757618, 18994.756829870035, 3870.2033726087616, 7682.223953761811, 5823.087036180094, 9946.277573143549, 6928.98797416076, 6059.867394915063, 6268.223131495236, 4213.41276963412, 9567.835018958882, 5638.505337920879, 5084.281849288392, 7068.917853026472, 4728.459103055008, 9945.842551938602, 5895.014426182589, 4968.221493308712, 5006.227586973066, 6125.871505118055, 5105.669744511975, 5854.780790901831, 5294.307756566129, 5185.329118550018, 8497.290558880892, 5857.969004345826, 5785.746421382832, 5868.3887979690835, 5217.548200217908, 5251.491182880996, 5385.362161497151, 5413.303534649726, 5229.019295086454, 451.44681894651904, 261.0577016699177, 234.85796866436004, 173.87817630812856, 516.0588439437693, 147.03744092766127, 332.52086356277914, 410.6678244224018, 118.80937415853, 119.55602711185904, 205.32624872640622, 174.47128190307143, 130.55877359624048, 132.9444219660743, 107.34389387487943, 104.26756931021687, 102.77423563730954, 100.91263820051874, 88.93098334319748, 88.9146012561364, 161.13352343208285, 152.89319480910746, 89.77036631362543, 514.4649131498071, 1566.0820604349167, 86.144593953267, 88.65676386554436, 174.39264788517818, 78.84696651420145, 1061.7598989866985, 2428.8281453335867, 2255.006093870621, 1072.2143731132694, 1343.0225264044534, 3988.0306917661524, 326.99056714427996, 458.26254461891233, 302.9238929390735, 4127.692408051007, 5019.575728529033, 883.201443703964, 7708.950361862067, 1259.4418216304114, 518.75191096995, 703.5829840896289, 7125.889929510069, 2972.597187731612, 1876.2874856439037, 2715.8957699291473, 1375.778259586863, 1318.3389972057737, 6433.449726355237, 1015.5763336207139, 10356.980976009456, 3266.9410504988946, 7170.821200012939, 2194.6319019214975, 1168.3826663467319, 1493.7766741587868, 2731.6963206658197, 866.3513287454117, 7942.0660168964405, 1943.3335740942737, 4135.162491664202, 5154.804322479326, 7058.293106761121, 1733.8473673934877, 3381.9418948444622, 4199.347101531237, 28006.40791279995, 7534.817032234108, 17403.66349606831, 10658.76619357737, 7228.048994639694, 6435.0745332183715, 9619.231585188545, 6293.712189699079, 8931.13328298405, 5776.8630812798165, 10830.620173293064, 7779.7677733513965, 7699.512502674926, 7434.278627541063, 8108.684244565744, 7901.121831700082, 7338.329132351739, 9046.848793563806, 6490.789474498992, 5832.33456808696, 5780.541553981263, 6074.8661654823945, 5916.817416810165, 584.1205556020807, 1626.7530558723408, 350.38941506764877, 320.26725029169893, 310.2926418339272, 268.29214258591503, 245.08818401826946, 418.76017076318493, 229.66415352459927, 268.187140434939, 197.7866200297018, 923.4080201157008, 294.24430448422174, 190.63930508681733, 316.382766590536, 168.5983153125699, 281.54872283227587, 172.42776091292885, 158.02439105240882, 299.99880155722076, 158.52249669895625, 687.8177907668429, 139.6264161463188, 157.96068553415543, 131.4284296373655, 1459.1185573801486, 205.53292574682123, 130.22990637530495, 206.37808923373996, 144.61595945804578, 3552.0610840689033, 1790.7109803394387, 915.304923770699, 698.6780648309898, 575.3285801410456, 702.4044042779399, 2483.0648640284453, 379.72519228125896, 649.0929974868887, 1058.077224223091, 343.06938377496454, 763.1975258113465, 452.45735632311334, 1932.9797038380182, 1241.11003987052, 1680.5427596496436, 1024.4679407217957, 571.1109786959092, 5047.935703083845, 3211.0484784546907, 5650.7216505060105, 559.8359687068066, 926.3460579456242, 8371.709434832872, 1279.1623137848765, 563.1354017301325, 1430.9357272585107, 705.235905101714, 3915.0507933679132, 2997.3382777151965, 6488.6176523503345, 16211.276419251317, 2277.611534065202, 3228.1036446838666, 7484.139307930154, 1702.6598421262493, 8342.584600891438, 3931.2857329924573, 3319.7760299074316, 10040.191916472495, 2365.5697864547246, 8359.430015618338, 3742.502735923634, 13275.18529128692, 3046.7763601050506, 4652.910641063879, 3279.0995509033, 2814.723303817309, 13621.996399174806, 21414.130652687283, 8479.25301706202, 11252.609915446223, 2838.879974076725, 9842.921495323266, 4472.527238245307, 9767.458336385811, 5818.364527501737, 4039.75643997478, 6963.291658108004, 7596.600782820114, 7565.8164273510265, 5752.955572805631, 5332.548845526729, 6224.587315038548, 7697.50743459431, 8324.979920395968, 5864.909137033053, 5822.7623751155825, 6209.808212631595, 6857.348658967852, 5822.058580818688, 5663.150149300675, 5499.996994543758, 1177.356481215501, 495.4804138361372, 2458.0821375351056, 330.5509918831222, 311.0415888341567, 307.6973103918545, 297.1244203109608, 272.5500392429901, 254.45516833309384, 225.72904629234105, 1298.7379772316303, 1615.9376603654023, 199.68338810728926, 175.57491797614682, 178.41855296751842, 179.94738309858693, 207.9565165724241, 172.62000861126438, 310.17180327086714, 170.02149524287148, 211.88694691782422, 3401.335374332018, 162.4270778985289, 196.25878828246806, 126.12130471924141, 202.95519093573648, 686.3992442440478, 118.13711427949139, 215.075196219851, 233.1693633564784, 6222.926727244815, 1519.650425337523, 1818.7355058441938, 4973.137171358589, 1402.4692567154043, 1619.0323860196995, 4625.497782537079, 841.232439144605, 5374.2754230879345, 1841.8017529283359, 816.3842902750451, 1470.8960368889136, 892.7859163432345, 570.0104721913199, 3592.1993104249573, 3428.1934475261087, 5300.114611107817, 3961.8677409263582, 4555.439499532276, 1306.61575454656, 5136.655293316436, 1457.8605920089012, 1527.6650995860857, 1108.3399911740344, 5426.302096580009, 3214.7057552754086, 3435.470984439725, 6237.407983075846, 1431.8621648298933, 1933.9818714218143, 3804.33346421989, 5642.259772347666, 3385.642377326058, 2789.2348816287854, 3652.098235308517, 6657.678024396896, 13348.052833551814, 1906.6491943877413, 2809.0414594569493, 5501.4926070495085, 9372.161341550542, 11974.592693928278, 10594.463911597077, 21930.652717226603, 3035.051102758155, 5798.138357274933, 5599.957055914495, 5750.092850967809, 7345.198405523925, 9271.365995619068, 8747.465913902253, 8694.947537486332, 12519.528819308289, 7650.230213758461, 10168.45983846942, 6403.926785726729, 7305.355871913301, 7944.12426263397, 6703.410149772225, 6660.386769511734, 6255.050901218747, 5708.398611689765, 5420.861251504076, 568.6142409233594, 525.0570451930989, 539.2622020299174, 919.0736005324937, 632.7133871735106, 404.4878759375617, 1102.191026944834, 462.11614011026154, 298.32888982291064, 231.43227072030726, 272.4850220600937, 240.83479915305966, 284.7158113342964, 249.97044870122068, 383.52791516759646, 239.24448356101516, 189.57409537531296, 259.0016914338918, 513.9494536737153, 202.1361693687286, 360.2591743795325, 241.0636983829436, 1919.7857986785095, 242.00472145787174, 145.55339891779923, 140.52727567169, 210.26268778889784, 182.20440402402002, 139.41847188684835, 408.7703213733992, 2033.0421928720214, 1364.2836665126233, 1872.178333418388, 9983.788643343416, 1558.3284247050299, 2717.1056051624732, 969.2332134804864, 962.3829178440751, 1264.8736544009287, 1295.0029889502657, 853.3349672717943, 656.2080909492457, 985.8885155039617, 445.3347924428159, 473.96149440125663, 979.4430808590201, 1888.1189796198387, 2430.5719407417673, 1418.8196420930242, 1592.2749592393175, 10242.56332921088, 743.8379844121487, 916.3125115509378, 1383.1630230723792, 3298.264026023445, 1850.578654834174, 3113.4043441231124, 2860.564442080994, 1310.6504364727982, 1106.445088705949, 3074.6224569780697, 3307.337950653787, 3109.675571838422, 1888.9171268508674, 1833.8330527241, 1676.2751466765314, 1704.7682708914128, 1870.58323047491, 2766.64077726657, 3326.751192645431, 7947.35130338884, 3810.7446777230616, 7299.2714117520445, 4228.251766523165, 2162.461706807388, 6024.016311297198, 2958.6274424390645, 8487.611019240603, 2304.810388844107, 5383.346303486621, 2079.66750638912, 3824.9983038335067, 3542.7493402230916, 3428.735310430239, 3290.9940605217953, 2958.9079599559623, 4873.835596953775, 4510.630435441758, 3914.522882054051, 3225.3951753687256, 4772.63073231967, 3417.6089099390006, 3127.716865294751, 3083.0192586216276, 3012.581786735945, 623.2467359946826, 451.3340646564043, 238.68227442629933, 263.9172785458936, 974.0475995541427, 1089.393989299838, 124.80737603104988, 224.09621579376227, 103.42953203396205, 96.88375597086784, 90.44978770658459, 148.88298631469428, 101.19276532036581, 332.5195866416211, 132.55104381424613, 101.50235559720754, 473.8532589500843, 648.814688417128, 338.8017598809159, 87.63891714362667, 1028.6340634339235, 179.782740329196, 112.34561200246664, 111.44492437660685, 156.77089526584385, 80.87340420099103, 129.79561106164257, 58.65669098678703, 58.31709957562132, 77.06537093594008, 4583.260261609173, 699.8503037558502, 637.3594838744957, 679.1299346174721, 1209.998120694573, 345.4777408669761, 733.8962338681434, 1083.1724397812593, 372.5696009074077, 418.2083121925904, 228.1808059438261, 208.94671442923934, 271.110800528424, 3959.098833887715, 448.12475760024233, 1574.7336539722517, 1111.0803521046846, 518.5006470396763, 843.0725903287707, 607.4082371510281, 346.73680275702657, 2180.486728542626, 7084.411628565302, 799.4703131827358, 1072.678042994734, 2356.6809903365684, 1390.1162737055108, 595.1031433317609, 629.0415836656477, 1935.0628777930053, 1002.1449476114423, 2146.1422871438094, 2717.7329843419498, 773.3389823164496, 1435.9015191024846, 4183.098274593901, 2373.815581041782, 1887.3029577348277, 2147.412278018506, 1333.22212257353, 2887.4775165613983, 2047.354723476887, 1094.1968280349995, 1323.4809256935896, 2366.6218233360532, 3601.6965207316084, 3089.8061950525857, 1810.683146502362, 3147.5396922054247, 1584.2640714541844, 1908.6980523841519, 2939.9671583045133, 2579.6423917951447, 1285.2356510924433, 1756.2333163600451, 1768.3098872532903, 1906.9953594349765, 1668.0711258603544, 1536.4525494449697, 1524.959372038036], \"Total\": [76787.0, 29332.0, 9465.0, 10270.0, 41951.0, 11451.0, 19404.0, 23751.0, 22673.0, 10514.0, 21375.0, 12870.0, 139597.0, 10182.0, 25627.0, 11442.0, 4737.0, 6364.0, 4385.0, 8335.0, 6986.0, 8481.0, 9678.0, 9256.0, 25958.0, 9615.0, 43769.0, 7875.0, 5547.0, 23391.0, 273.17898315710187, 829.4330862234796, 269.79153565048244, 352.7489625392039, 165.11525409546888, 662.9549321622668, 225.69820888755305, 712.2839692570326, 147.66370697394217, 152.6249741537668, 366.36131952511295, 144.95704499068913, 261.47392456935916, 211.67214248595832, 157.98299894455644, 133.87743277715776, 141.8886399742722, 154.4823064349972, 130.8494444888411, 127.1840515241374, 129.0510042875806, 169.25608097304755, 289.0327697502729, 121.3282205526027, 142.20886693564307, 205.00683966889386, 525.9184879863332, 131.1311873469939, 215.13574270889492, 113.98668344629222, 899.2552526422753, 586.8149478000679, 645.5078098928111, 472.9077888000145, 968.6849609411763, 363.6802491085872, 800.0094994481545, 331.19247129348753, 656.0307290291634, 1010.8985345556239, 242.99715003669908, 212.97941444252393, 887.8407069119091, 1202.120241492502, 1187.029956237574, 832.7589406327328, 584.8220284531533, 666.3835595427754, 1133.3093975574016, 1377.5513232300414, 6330.5269334669165, 1859.4392274425484, 1824.5771393167752, 1992.9333018424438, 6854.99453569706, 803.8645065563685, 1010.8791259033653, 1476.608060050157, 1792.9806218936708, 1512.4114783185107, 2333.563915676814, 4116.790631968825, 1564.1334511511236, 1770.8168739426387, 5328.183343806359, 3058.4899652423965, 139597.0582280781, 10680.608616710531, 3193.678711203571, 4355.684841220289, 5358.63686512702, 8346.743155661821, 38424.23675619035, 9589.94013558238, 2806.645787455318, 10704.881262063522, 17981.126662234175, 23297.200535539392, 6826.720122882058, 13303.011591393097, 5559.261918841646, 47252.6405926581, 84036.7760621007, 8566.030291030149, 7476.271541980907, 17868.968572874837, 39542.471736246385, 51388.85808566765, 17696.315281126357, 76787.71185896889, 8272.036731313263, 11867.492389445275, 15879.928235888745, 46518.69336838786, 14548.85754867477, 48875.622490909096, 22733.051238785374, 14275.68445613036, 24288.943735480352, 24192.352765604202, 24165.990041639627, 21640.82004982375, 33995.53325962364, 19448.424715784127, 38834.699935269535, 48681.40068494324, 33679.99050890949, 88796.0848001122, 38132.32334552652, 34837.96022543894, 31491.984630045234, 44832.216505881566, 22075.212405572267, 29752.705764219576, 1100.1034233400962, 2556.601113063656, 557.3086195638781, 362.97379732300226, 296.751952658662, 301.416881184813, 292.19682617449524, 280.7976729522293, 382.80015450065054, 273.9773920207073, 243.1335682559061, 234.7493327225339, 331.59104739270737, 409.2528719944353, 197.89416841845278, 187.85855736424006, 218.2614218732684, 187.99626474065946, 180.32573164898992, 171.51164324697325, 354.16839572212956, 211.9147817349689, 363.41998887522635, 274.9700643091795, 153.5521655127216, 146.13584836292037, 144.89954764748637, 183.01339365492586, 270.39397272244236, 378.6427748825505, 1995.0659817297335, 613.3912644369219, 674.8359653558988, 835.7566766426745, 2159.7120436491314, 1112.7753813476056, 307.8861555467071, 915.9165467804003, 2887.7543661116574, 286.68358730441037, 347.9705654046501, 10182.514887616486, 1144.13982928946, 931.8008742542114, 604.6833857283476, 411.24862376339473, 525.1951310965635, 803.6042214264477, 944.8450685580576, 1154.1401811431733, 7080.690645886171, 801.7401656147287, 1541.067623365258, 954.7099542654132, 777.3992567420911, 609.2410986532884, 980.7489831600514, 581.0409125034454, 6280.301258122998, 3393.3805193357957, 3310.7013576972713, 1206.4306787334006, 2766.047315910108, 1180.3452174782485, 2866.0432379935583, 2315.6780426944406, 2782.352393212455, 2362.2395058416455, 1944.6969364487013, 11204.78982892034, 10328.284140908107, 2238.596572373765, 2349.5584649256857, 4129.280055034909, 3347.3408010809762, 11627.209042915341, 3136.5362124312715, 3545.351174815491, 35823.84113024052, 9555.617697070818, 5388.946109169989, 11062.536572258727, 88796.0848001122, 8026.382252144089, 24345.077071494034, 16316.798353568794, 44832.216505881566, 24192.352765604202, 19180.618855831144, 21066.10631992283, 10598.648910051128, 51388.85808566765, 19010.63378296251, 16342.65909755707, 33995.53325962364, 14355.969965161306, 84036.7760621007, 24847.530540779044, 17204.865616929404, 17610.624264189824, 31440.65320043663, 19549.932998885142, 31491.984630045234, 23317.037033358953, 21786.0847841059, 139597.0582280781, 39542.471736246385, 38424.23675619035, 47252.6405926581, 23409.68932824429, 25045.471705263095, 38132.32334552652, 48681.40068494324, 30116.605697363495, 452.76952569244065, 262.0787879002207, 235.89957529930905, 174.8456119213033, 519.0462789368236, 147.9574106001638, 334.65397034594787, 413.3408264517475, 119.73933659479266, 120.50404946485386, 207.05251752178864, 175.95177774081665, 131.68875589229737, 134.13497351732786, 108.30739421181256, 105.26554170459107, 103.76009730247551, 101.90760212486725, 89.84544609692621, 89.83778934434004, 162.85926284675395, 154.53124053891364, 90.73364680729455, 520.1091754089325, 1583.7280012286437, 87.11990892033529, 89.66992137027167, 176.39570592338512, 79.78233548764085, 1074.6342971150207, 2487.735325765672, 2316.6706233822424, 1094.4073052165531, 1374.54312234927, 4136.604460477473, 331.0705861800529, 466.03926545533966, 308.0964429956806, 4312.758535347153, 5256.796906516971, 911.7596582507596, 8335.550114108331, 1314.8226868198433, 532.4260730115708, 731.5965713682101, 7875.264225463537, 3203.4135700463125, 1995.8124519815494, 2973.235020603509, 1486.3365791673868, 1425.4202977457355, 7574.231333325406, 1088.7987199601832, 12870.936314057437, 3801.584635842237, 8998.992545218101, 2531.999233409517, 1285.1000949513636, 1680.1336767939517, 3281.214357645572, 932.7078211550736, 11442.950373530222, 2318.7437402495266, 5630.130827332708, 7482.891219515626, 11458.126340706716, 2083.267251459086, 5040.466896626085, 7463.196913893889, 139597.0582280781, 19404.45627633085, 84036.7760621007, 43769.53468321999, 23987.01291924722, 20619.566103015328, 48681.40068494324, 22733.051238785374, 46518.69336838786, 19588.975702277545, 76787.71185896889, 39542.471736246385, 38834.699935269535, 38132.32334552652, 51388.85808566765, 48875.622490909096, 41792.99775053218, 88796.0848001122, 38424.23675619035, 24288.943735480352, 24847.530540779044, 34837.96022543894, 34036.429274188136, 585.1906327842214, 1630.3260124450553, 351.29025426991905, 321.16592517015107, 311.1746911627249, 269.1803594397193, 245.96701072377422, 420.35084273580446, 230.6013924634249, 269.3746987160451, 198.68800687207664, 927.8510993700706, 295.6698324322949, 191.5729747754745, 317.96994789886907, 169.47961939081517, 283.14718921018704, 173.42284537105462, 158.95626705391138, 301.7789944901011, 159.48136379925262, 691.9846527550019, 140.50575757040187, 158.97119143809007, 132.32740290034369, 1469.1499358321742, 206.94910355831, 131.13281451225797, 207.82833104447081, 145.64656158088079, 3603.9520225186934, 1819.2469730496728, 924.2319605253023, 704.4460802288249, 579.5486661036643, 710.6636119748754, 2546.009280407829, 382.69679161554643, 657.9137986568943, 1077.9643846687736, 346.0222557149714, 776.7039074222656, 458.08650553032015, 1995.1080800104016, 1273.094676989812, 1739.261406207285, 1050.9694935411121, 580.0112324012224, 5449.781651476547, 3437.1124355037564, 6189.2107008513185, 571.3055485703783, 961.1902794628776, 9678.793632444182, 1368.2441694149693, 578.8814431855541, 1561.5885413812466, 736.211182018924, 4670.11107511193, 3512.269827853815, 8136.948139943631, 22673.983282951503, 2647.2881868410554, 3927.968571934123, 10157.194133236322, 1988.6978568868021, 12730.7499380133, 5321.289512900075, 4489.607822866834, 17033.461081212532, 3052.5879626183596, 15227.208293657488, 5540.752566185417, 29332.696077026063, 4418.67279965946, 7989.025002031149, 5027.868617946347, 4110.023745287353, 41951.61663358813, 88796.0848001122, 21375.29496920595, 34553.46759479304, 4168.939922056295, 41792.99775053218, 9708.736881045299, 43769.53468321999, 17170.038696865133, 8481.827886004894, 31440.65320043663, 48681.40068494324, 48875.622490909096, 24345.077071494034, 19533.604413344496, 38834.699935269535, 84036.7760621007, 139597.0582280781, 34837.96022543894, 34036.429274188136, 46518.69336838786, 76787.71185896889, 38132.32334552652, 51388.85808566765, 33679.99050890949, 1179.3683787612704, 496.4444210240925, 2463.707122790923, 331.45171951283095, 311.95350325991245, 308.6040284451591, 298.0438193324727, 273.5528395188066, 255.3987222613094, 226.62095767423926, 1304.4859398519654, 1623.932798396896, 200.70030943790468, 176.5116068663133, 179.3761935731379, 180.92252638751592, 209.13582440111645, 173.6140692225269, 311.9609466652928, 171.03778426206236, 213.16003019216473, 3422.2082290829862, 163.52242118272702, 197.61333921436776, 127.0267397095415, 204.42899517488064, 691.4675056110988, 119.03344280237765, 216.72002636134962, 235.0901958812155, 6364.214292248861, 1536.8764972321562, 1842.977287688295, 5091.465299877275, 1424.5838658171801, 1647.2002698801027, 4759.150993405435, 852.2234482531948, 5547.7148931816855, 1882.2430202518128, 828.1080125478389, 1502.5472748297182, 908.6695202857309, 578.3251021759484, 3721.5312510704275, 3553.4205526017804, 5549.801375562832, 4128.814534542255, 4825.012951463839, 1349.9982952388264, 5472.165986568684, 1513.249833241306, 1592.6318458028604, 1144.8891427423152, 5945.654318051862, 3450.0840382637825, 3711.5590026807654, 6986.11680356667, 1492.242353835644, 2054.9055615955444, 4266.85085033857, 6633.723140870598, 3921.2325111093655, 3241.966243894953, 4569.280097386159, 9615.50504910719, 23751.633805165173, 2093.00477522192, 3457.7652915091435, 8944.071255115114, 19404.45627633085, 29332.696077026063, 25627.663160780656, 76787.71185896889, 4367.209480440779, 13365.07118222565, 12930.447936352328, 13699.3947520216, 23391.385236047176, 43769.53468321999, 41792.99775053218, 41951.61663358813, 139597.0582280781, 34553.46759479304, 84036.7760621007, 22370.59407061994, 47252.6405926581, 88796.0848001122, 46518.69336838786, 48875.622490909096, 48681.40068494324, 34036.429274188136, 21366.99380630262, 569.6312773262522, 526.1080003432827, 540.3486345678974, 921.0810339976898, 634.1168322135948, 405.4501046049941, 1105.1066110418974, 463.59724718532664, 299.30735147735163, 232.3943662128719, 273.6361241619428, 241.87319667079754, 285.9773362689874, 251.10428499984002, 385.5038751577125, 240.50017237297723, 190.60369812773106, 260.4084637815578, 516.9880777832178, 203.34354710452988, 362.44327877013603, 242.5436143027179, 1931.8697143712375, 243.59546037975855, 146.51484580247597, 141.49467587183514, 211.7176987255949, 183.5141585428038, 140.42089567318376, 411.73131925728194, 2049.6711486904023, 1374.3726419558202, 1893.2162403322964, 10270.716140051089, 1576.765484219531, 2766.307893093234, 977.6252167329467, 971.1338751650171, 1281.5531222692953, 1313.1912701906608, 861.9315175189621, 661.960890686998, 1002.9377123079792, 449.52363965284593, 478.94070841334195, 1005.1990081423709, 1964.7436568302958, 2549.5866697839997, 1478.0862029976872, 1664.945269035462, 11451.008431085635, 766.0794373043807, 959.3822542133299, 1496.1931775507323, 3810.105704361781, 2062.9968567638603, 3679.9711051091012, 3453.291307717586, 1457.95673478803, 1203.4308828485316, 3968.2742324658925, 4488.604223507496, 4186.352649896506, 2341.6133292070404, 2313.676930929655, 2089.015269237266, 2259.335197492023, 2672.3747304055373, 5125.120019233087, 7393.995000486797, 41951.61663358813, 11085.266558999936, 44832.216505881566, 14716.712848046749, 3743.1291264835045, 33679.99050890949, 7293.849575829224, 88796.0848001122, 4337.546035160788, 48875.622490909096, 3515.092079484919, 23317.037033358953, 18640.084610647078, 16921.792564349147, 16342.65909755707, 12136.925090071763, 84036.7760621007, 76787.71185896889, 48681.40068494324, 21366.99380630262, 139597.0582280781, 43769.53468321999, 35823.84113024052, 46518.69336838786, 51388.85808566765, 624.2380780647455, 452.84025513320455, 239.66712382264092, 265.03026676566714, 979.6321238556466, 1096.517578727534, 125.78880970752725, 225.91257464836684, 104.3399525373277, 97.77571342118053, 91.30862180333298, 150.3094053223827, 102.18525692500806, 335.8141089082437, 133.88676136740204, 102.557020609163, 478.8358489708958, 655.7380930232208, 342.4742160540749, 88.61122113049416, 1040.4129452016352, 181.90747949641724, 113.67587411632927, 112.8158830562977, 158.7073743781876, 81.91885102610966, 131.52064800212727, 59.50820303858816, 59.16936353677735, 78.19532728211473, 4737.456120674248, 713.7425687429433, 650.1708620303505, 694.3039323320378, 1246.8532771482296, 351.6400836887083, 754.9898008232965, 1135.0386993212549, 383.431211207142, 431.44000482558965, 232.75385575094293, 212.96904373895757, 277.97412967855524, 4385.230546303468, 466.3416770779931, 1727.1956162171923, 1210.640928543816, 547.3239560685556, 911.0906851265764, 648.3940665067208, 361.2720723716167, 2611.5342740221745, 9465.200504163058, 901.1420273864135, 1265.6316320725791, 3153.4788629327004, 1728.1867258219465, 665.7104711102445, 712.7912775575783, 2775.633356339269, 1267.6826147967872, 3395.051210119789, 4959.901284993211, 944.8350110875366, 2244.469119241635, 10514.75650418533, 5155.376392575599, 4048.4741909817903, 5119.48708090213, 2330.949805634071, 9256.593245570759, 5198.535746270067, 1679.9036407192157, 2448.942572093787, 8481.827886004894, 21375.29496920595, 25958.31380741883, 7463.196913893889, 41951.61663358813, 4979.007911993453, 11442.950373530222, 76787.71185896889, 88796.0848001122, 2849.2821977772046, 18789.545175614378, 30116.605697363495, 139597.0582280781, 44832.216505881566, 23391.385236047176, 18640.084610647078], \"Category\": [\"Default\", \"Default\", \"Default\", \"Default\", \"Default\", \"Default\", \"Default\", \"Default\", \"Default\", \"Default\", \"Default\", \"Default\", \"Default\", \"Default\", \"Default\", \"Default\", \"Default\", \"Default\", \"Default\", \"Default\", \"Default\", \"Default\", \"Default\", \"Default\", \"Default\", \"Default\", \"Default\", \"Default\", \"Default\", \"Default\", \"Topic1\", \"Topic1\", \"Topic1\", \"Topic1\", \"Topic1\", \"Topic1\", \"Topic1\", \"Topic1\", \"Topic1\", \"Topic1\", \"Topic1\", \"Topic1\", \"Topic1\", \"Topic1\", \"Topic1\", \"Topic1\", \"Topic1\", \"Topic1\", \"Topic1\", \"Topic1\", \"Topic1\", \"Topic1\", \"Topic1\", \"Topic1\", \"Topic1\", \"Topic1\", \"Topic1\", \"Topic1\", \"Topic1\", \"Topic1\", \"Topic1\", \"Topic1\", \"Topic1\", \"Topic1\", \"Topic1\", \"Topic1\", \"Topic1\", \"Topic1\", \"Topic1\", \"Topic1\", \"Topic1\", \"Topic1\", \"Topic1\", \"Topic1\", \"Topic1\", \"Topic1\", \"Topic1\", \"Topic1\", \"Topic1\", \"Topic1\", \"Topic1\", \"Topic1\", \"Topic1\", \"Topic1\", \"Topic1\", \"Topic1\", \"Topic1\", \"Topic1\", \"Topic1\", \"Topic1\", \"Topic1\", \"Topic1\", \"Topic1\", \"Topic1\", \"Topic1\", \"Topic1\", \"Topic1\", \"Topic1\", \"Topic1\", \"Topic1\", \"Topic1\", \"Topic1\", \"Topic1\", \"Topic1\", \"Topic1\", \"Topic1\", \"Topic1\", \"Topic1\", \"Topic1\", \"Topic1\", \"Topic1\", \"Topic1\", \"Topic1\", \"Topic1\", \"Topic1\", \"Topic1\", \"Topic1\", \"Topic1\", \"Topic1\", \"Topic1\", \"Topic1\", \"Topic1\", \"Topic1\", \"Topic1\", \"Topic1\", \"Topic1\", \"Topic1\", \"Topic1\", \"Topic1\", \"Topic1\", \"Topic1\", \"Topic1\", \"Topic1\", \"Topic1\", \"Topic1\", \"Topic1\", \"Topic1\", \"Topic1\", \"Topic1\", \"Topic1\", \"Topic1\", \"Topic1\", \"Topic1\", \"Topic1\", \"Topic2\", \"Topic2\", \"Topic2\", \"Topic2\", \"Topic2\", \"Topic2\", \"Topic2\", \"Topic2\", \"Topic2\", \"Topic2\", \"Topic2\", \"Topic2\", \"Topic2\", \"Topic2\", \"Topic2\", \"Topic2\", \"Topic2\", \"Topic2\", \"Topic2\", \"Topic2\", \"Topic2\", \"Topic2\", \"Topic2\", \"Topic2\", \"Topic2\", \"Topic2\", \"Topic2\", \"Topic2\", \"Topic2\", \"Topic2\", \"Topic2\", \"Topic2\", \"Topic2\", \"Topic2\", \"Topic2\", \"Topic2\", \"Topic2\", \"Topic2\", \"Topic2\", \"Topic2\", \"Topic2\", \"Topic2\", \"Topic2\", \"Topic2\", \"Topic2\", \"Topic2\", \"Topic2\", \"Topic2\", \"Topic2\", \"Topic2\", \"Topic2\", \"Topic2\", \"Topic2\", \"Topic2\", \"Topic2\", \"Topic2\", \"Topic2\", \"Topic2\", \"Topic2\", \"Topic2\", \"Topic2\", \"Topic2\", \"Topic2\", \"Topic2\", \"Topic2\", \"Topic2\", \"Topic2\", \"Topic2\", \"Topic2\", \"Topic2\", \"Topic2\", \"Topic2\", \"Topic2\", \"Topic2\", \"Topic2\", \"Topic2\", \"Topic2\", \"Topic2\", \"Topic2\", \"Topic2\", \"Topic2\", \"Topic2\", \"Topic2\", \"Topic2\", \"Topic2\", \"Topic2\", \"Topic2\", \"Topic2\", \"Topic2\", \"Topic2\", \"Topic2\", \"Topic2\", \"Topic2\", \"Topic2\", \"Topic2\", \"Topic2\", \"Topic2\", \"Topic2\", \"Topic2\", \"Topic2\", \"Topic2\", \"Topic2\", \"Topic2\", \"Topic2\", \"Topic2\", \"Topic2\", \"Topic2\", \"Topic2\", \"Topic2\", \"Topic2\", \"Topic2\", \"Topic2\", \"Topic2\", \"Topic2\", \"Topic3\", \"Topic3\", \"Topic3\", \"Topic3\", \"Topic3\", \"Topic3\", \"Topic3\", \"Topic3\", \"Topic3\", \"Topic3\", \"Topic3\", \"Topic3\", \"Topic3\", \"Topic3\", \"Topic3\", \"Topic3\", \"Topic3\", \"Topic3\", \"Topic3\", \"Topic3\", \"Topic3\", \"Topic3\", \"Topic3\", \"Topic3\", \"Topic3\", \"Topic3\", \"Topic3\", \"Topic3\", \"Topic3\", \"Topic3\", \"Topic3\", \"Topic3\", \"Topic3\", \"Topic3\", \"Topic3\", \"Topic3\", \"Topic3\", \"Topic3\", \"Topic3\", \"Topic3\", \"Topic3\", \"Topic3\", \"Topic3\", \"Topic3\", \"Topic3\", \"Topic3\", \"Topic3\", \"Topic3\", \"Topic3\", \"Topic3\", \"Topic3\", \"Topic3\", \"Topic3\", \"Topic3\", \"Topic3\", \"Topic3\", \"Topic3\", \"Topic3\", \"Topic3\", \"Topic3\", \"Topic3\", \"Topic3\", \"Topic3\", \"Topic3\", \"Topic3\", \"Topic3\", \"Topic3\", \"Topic3\", \"Topic3\", \"Topic3\", \"Topic3\", \"Topic3\", \"Topic3\", \"Topic3\", \"Topic3\", \"Topic3\", \"Topic3\", \"Topic3\", \"Topic3\", \"Topic3\", \"Topic3\", \"Topic3\", \"Topic3\", \"Topic3\", \"Topic3\", \"Topic3\", \"Topic3\", \"Topic3\", \"Topic3\", \"Topic3\", \"Topic3\", \"Topic3\", \"Topic4\", \"Topic4\", \"Topic4\", \"Topic4\", \"Topic4\", \"Topic4\", \"Topic4\", \"Topic4\", \"Topic4\", \"Topic4\", \"Topic4\", \"Topic4\", \"Topic4\", \"Topic4\", \"Topic4\", \"Topic4\", \"Topic4\", \"Topic4\", \"Topic4\", \"Topic4\", \"Topic4\", \"Topic4\", \"Topic4\", \"Topic4\", \"Topic4\", \"Topic4\", \"Topic4\", \"Topic4\", \"Topic4\", \"Topic4\", \"Topic4\", \"Topic4\", \"Topic4\", \"Topic4\", \"Topic4\", \"Topic4\", \"Topic4\", \"Topic4\", \"Topic4\", \"Topic4\", \"Topic4\", \"Topic4\", \"Topic4\", \"Topic4\", \"Topic4\", \"Topic4\", \"Topic4\", \"Topic4\", \"Topic4\", \"Topic4\", \"Topic4\", \"Topic4\", \"Topic4\", \"Topic4\", \"Topic4\", \"Topic4\", \"Topic4\", \"Topic4\", \"Topic4\", \"Topic4\", \"Topic4\", \"Topic4\", \"Topic4\", \"Topic4\", \"Topic4\", \"Topic4\", \"Topic4\", \"Topic4\", \"Topic4\", \"Topic4\", \"Topic4\", \"Topic4\", \"Topic4\", \"Topic4\", \"Topic4\", \"Topic4\", \"Topic4\", \"Topic4\", \"Topic4\", \"Topic4\", \"Topic4\", \"Topic4\", \"Topic4\", \"Topic4\", \"Topic4\", \"Topic4\", \"Topic4\", \"Topic4\", \"Topic4\", \"Topic4\", \"Topic4\", \"Topic4\", \"Topic4\", \"Topic4\", \"Topic4\", \"Topic4\", \"Topic4\", \"Topic4\", \"Topic4\", \"Topic4\", \"Topic4\", \"Topic4\", \"Topic4\", \"Topic5\", \"Topic5\", \"Topic5\", \"Topic5\", \"Topic5\", \"Topic5\", \"Topic5\", \"Topic5\", \"Topic5\", \"Topic5\", \"Topic5\", \"Topic5\", \"Topic5\", \"Topic5\", \"Topic5\", \"Topic5\", \"Topic5\", \"Topic5\", \"Topic5\", \"Topic5\", \"Topic5\", \"Topic5\", \"Topic5\", \"Topic5\", \"Topic5\", \"Topic5\", \"Topic5\", \"Topic5\", \"Topic5\", \"Topic5\", \"Topic5\", \"Topic5\", \"Topic5\", \"Topic5\", \"Topic5\", \"Topic5\", \"Topic5\", \"Topic5\", \"Topic5\", \"Topic5\", \"Topic5\", \"Topic5\", \"Topic5\", \"Topic5\", \"Topic5\", \"Topic5\", \"Topic5\", \"Topic5\", \"Topic5\", \"Topic5\", \"Topic5\", \"Topic5\", \"Topic5\", \"Topic5\", \"Topic5\", \"Topic5\", \"Topic5\", \"Topic5\", \"Topic5\", \"Topic5\", \"Topic5\", \"Topic5\", \"Topic5\", \"Topic5\", \"Topic5\", \"Topic5\", \"Topic5\", \"Topic5\", \"Topic5\", \"Topic5\", \"Topic5\", \"Topic5\", \"Topic5\", \"Topic5\", \"Topic5\", \"Topic5\", \"Topic5\", \"Topic5\", \"Topic5\", \"Topic5\", \"Topic5\", \"Topic5\", \"Topic5\", \"Topic5\", \"Topic5\", \"Topic5\", \"Topic5\", \"Topic5\", \"Topic5\", \"Topic5\", \"Topic5\", \"Topic5\", \"Topic5\", \"Topic6\", \"Topic6\", \"Topic6\", \"Topic6\", \"Topic6\", \"Topic6\", \"Topic6\", \"Topic6\", \"Topic6\", \"Topic6\", \"Topic6\", \"Topic6\", \"Topic6\", \"Topic6\", \"Topic6\", \"Topic6\", \"Topic6\", \"Topic6\", \"Topic6\", \"Topic6\", \"Topic6\", \"Topic6\", \"Topic6\", \"Topic6\", \"Topic6\", \"Topic6\", \"Topic6\", \"Topic6\", \"Topic6\", \"Topic6\", \"Topic6\", \"Topic6\", \"Topic6\", \"Topic6\", \"Topic6\", \"Topic6\", \"Topic6\", \"Topic6\", \"Topic6\", \"Topic6\", \"Topic6\", \"Topic6\", \"Topic6\", \"Topic6\", \"Topic6\", \"Topic6\", \"Topic6\", \"Topic6\", \"Topic6\", \"Topic6\", \"Topic6\", \"Topic6\", \"Topic6\", \"Topic6\", \"Topic6\", \"Topic6\", \"Topic6\", \"Topic6\", \"Topic6\", \"Topic6\", \"Topic6\", \"Topic6\", \"Topic6\", \"Topic6\", \"Topic6\", \"Topic6\", \"Topic6\", \"Topic6\", \"Topic6\", \"Topic6\", \"Topic6\", \"Topic6\", \"Topic6\", \"Topic6\", \"Topic6\", \"Topic6\", \"Topic6\", \"Topic6\", \"Topic6\", \"Topic6\", \"Topic6\", \"Topic6\", \"Topic6\", \"Topic6\", \"Topic6\", \"Topic6\", \"Topic6\", \"Topic6\", \"Topic6\", \"Topic6\", \"Topic6\", \"Topic6\", \"Topic6\", \"Topic6\", \"Topic6\", \"Topic7\", \"Topic7\", \"Topic7\", \"Topic7\", \"Topic7\", \"Topic7\", \"Topic7\", \"Topic7\", \"Topic7\", \"Topic7\", \"Topic7\", \"Topic7\", \"Topic7\", \"Topic7\", \"Topic7\", \"Topic7\", \"Topic7\", \"Topic7\", \"Topic7\", \"Topic7\", \"Topic7\", \"Topic7\", \"Topic7\", \"Topic7\", \"Topic7\", \"Topic7\", \"Topic7\", \"Topic7\", \"Topic7\", \"Topic7\", \"Topic7\", \"Topic7\", \"Topic7\", \"Topic7\", \"Topic7\", \"Topic7\", \"Topic7\", \"Topic7\", \"Topic7\", \"Topic7\", \"Topic7\", \"Topic7\", \"Topic7\", \"Topic7\", \"Topic7\", \"Topic7\", \"Topic7\", \"Topic7\", \"Topic7\", \"Topic7\", \"Topic7\", \"Topic7\", \"Topic7\", \"Topic7\", \"Topic7\", \"Topic7\", \"Topic7\", \"Topic7\", \"Topic7\", \"Topic7\", \"Topic7\", \"Topic7\", \"Topic7\", \"Topic7\", \"Topic7\", \"Topic7\", \"Topic7\", \"Topic7\", \"Topic7\", \"Topic7\", \"Topic7\", \"Topic7\", \"Topic7\", \"Topic7\", \"Topic7\", \"Topic7\", \"Topic7\", \"Topic7\", \"Topic7\", \"Topic7\", \"Topic7\", \"Topic7\", \"Topic7\", \"Topic7\", \"Topic7\", \"Topic7\", \"Topic7\", \"Topic7\", \"Topic7\", \"Topic7\"], \"logprob\": [30.0, 29.0, 28.0, 27.0, 26.0, 25.0, 24.0, 23.0, 22.0, 21.0, 20.0, 19.0, 18.0, 17.0, 16.0, 15.0, 14.0, 13.0, 12.0, 11.0, 10.0, 9.0, 8.0, 7.0, 6.0, 5.0, 4.0, 3.0, 2.0, 1.0, -9.6473, -8.5379, -9.661, -9.3933, -10.1531, -8.7633, -9.8409, -8.6917, -10.2654, -10.2324, -9.3569, -10.2842, -9.6943, -9.9058, -10.1985, -10.3641, -10.306, -10.2211, -10.3872, -10.4158, -10.4013, -10.1304, -9.5957, -10.4637, -10.3049, -9.9392, -8.9972, -10.3863, -9.8912, -10.5264, -8.4653, -8.8888, -8.7954, -9.1048, -8.3958, -9.3663, -8.5862, -9.4606, -8.7846, -8.3577, -9.7718, -9.9029, -8.4917, -8.1949, -8.21, -8.5595, -8.9067, -8.7809, -8.2678, -8.0787, -6.6028, -7.8038, -7.8221, -7.7451, -6.5771, -8.6139, -8.3988, -8.0432, -7.8706, -8.0294, -7.6295, -7.1226, -8.0049, -7.8921, -6.9109, -7.4191, -4.0211, -6.3299, -7.3905, -7.1251, -6.9476, -6.5794, -5.309, -6.4755, -7.5201, -6.4115, -5.9949, -5.7989, -6.7994, -6.2816, -6.9866, -5.3061, -4.8657, -6.6545, -6.767, -6.1034, -5.5026, -5.313, -6.1213, -5.066, -6.7129, -6.4608, -6.2546, -5.5075, -6.323, -5.4896, -6.0233, -6.3381, -5.9929, -5.9957, -6.001, -6.0794, -5.8082, -6.1548, -5.7497, -5.6254, -5.8544, -5.3341, -5.8187, -5.8687, -5.9508, -5.8517, -6.1315, -6.0726, -7.8369, -6.994, -8.5174, -8.9466, -9.1484, -9.1328, -9.164, -9.2039, -8.8942, -9.2289, -9.3484, -9.3838, -9.0386, -8.8284, -9.5552, -9.6075, -9.4579, -9.6072, -9.6488, -9.6991, -8.9742, -9.488, -8.9488, -9.2277, -9.8104, -9.86, -9.8686, -9.6351, -9.245, -8.9083, -7.247, -8.4276, -8.3336, -8.1226, -7.1828, -7.8403, -9.1152, -8.0363, -6.8997, -9.1867, -8.9952, -5.6552, -7.819, -8.0257, -8.453, -8.832, -8.5954, -8.1846, -8.0299, -7.8405, -6.0997, -8.1931, -7.5664, -8.0322, -8.2292, -8.4637, -8.0271, -8.5125, -6.3266, -6.9043, -6.9294, -7.8512, -7.1275, -7.8836, -7.1136, -7.3188, -7.1676, -7.3045, -7.4683, -6.0906, -6.1634, -7.3775, -7.345, -6.9094, -7.076, -6.147, -7.1393, -7.0853, -5.4746, -6.4175, -6.8014, -6.3376, -4.9862, -6.577, -5.8914, -6.1685, -5.6331, -5.9946, -6.1286, -6.0948, -6.4921, -5.6719, -6.2007, -6.3042, -5.9746, -6.3767, -5.6332, -6.1562, -6.3273, -6.3197, -6.1178, -6.3, -6.1631, -6.2637, -6.2845, -5.7906, -6.1625, -6.1749, -6.1608, -6.2783, -6.2718, -6.2467, -6.2415, -6.2761, -8.6368, -9.1845, -9.2903, -9.5909, -8.5031, -9.7586, -8.9426, -8.7315, -9.9718, -9.9655, -9.4247, -9.5875, -9.8775, -9.8594, -10.0733, -10.1023, -10.1168, -10.135, -10.2614, -10.2616, -9.6671, -9.7196, -10.252, -8.5062, -7.393, -10.2933, -10.2645, -9.588, -10.3818, -7.7816, -6.9541, -7.0284, -7.7718, -7.5466, -6.4582, -8.9594, -8.6218, -9.0358, -6.4238, -6.2282, -7.9657, -5.7992, -7.6109, -8.4979, -8.1931, -5.8778, -6.7521, -7.2122, -6.8424, -7.5225, -7.5652, -5.98, -7.8261, -5.5039, -6.6577, -5.8715, -7.0555, -7.6859, -7.4402, -6.8366, -7.985, -5.7694, -7.1771, -6.422, -6.2016, -5.8873, -7.2912, -6.6231, -6.4066, -4.5091, -5.822, -4.9849, -5.4752, -5.8636, -5.9798, -5.5778, -6.002, -5.652, -6.0877, -5.4592, -5.79, -5.8004, -5.8354, -5.7486, -5.7745, -5.8484, -5.6391, -5.9712, -6.0781, -6.087, -6.0374, -6.0637, -8.3544, -7.3301, -8.8654, -8.9553, -8.987, -9.1324, -9.2229, -8.6872, -9.2879, -9.1328, -9.4373, -7.8964, -9.0401, -9.4741, -8.9675, -9.597, -9.0842, -9.5745, -9.6617, -9.0207, -9.6586, -8.191, -9.7855, -9.6621, -9.846, -7.4389, -9.3989, -9.8552, -9.3948, -9.7504, -6.5492, -7.2341, -7.9052, -8.1753, -8.3695, -8.17, -6.9072, -8.785, -8.2489, -7.7603, -8.8865, -8.087, -8.6098, -7.1577, -7.6007, -7.2976, -7.7925, -8.3769, -6.1977, -6.6501, -6.0849, -8.3968, -7.8932, -5.6919, -7.5705, -8.391, -7.4584, -8.1659, -6.4519, -6.719, -5.9467, -5.031, -6.9936, -6.6448, -5.8039, -7.2845, -5.6953, -6.4478, -6.6168, -5.5101, -6.9557, -5.6933, -6.497, -5.2308, -6.7026, -6.2792, -6.6292, -6.7819, -5.205, -4.7527, -5.6791, -5.3961, -6.7733, -5.53, -6.3188, -5.5377, -6.0557, -6.4205, -5.8761, -5.789, -5.7931, -6.067, -6.1429, -5.9882, -5.7758, -5.6975, -6.0477, -6.0549, -5.9906, -5.8914, -6.0551, -6.0827, -6.112, -7.3274, -8.1929, -6.5913, -8.5976, -8.6585, -8.6693, -8.7043, -8.7906, -8.8593, -8.9791, -7.2293, -7.0107, -9.1017, -9.2303, -9.2143, -9.2057, -9.0611, -9.2473, -8.6613, -9.2625, -9.0424, -6.2665, -9.3082, -9.119, -9.5612, -9.0854, -7.8669, -9.6266, -9.0274, -8.9466, -5.6624, -7.0722, -6.8925, -5.8866, -7.1524, -7.0088, -5.9591, -7.6635, -5.809, -6.8799, -7.6935, -7.1048, -7.6041, -8.0528, -6.2119, -6.2586, -5.8229, -6.1139, -5.9743, -7.2232, -5.8542, -7.1137, -7.0669, -7.3878, -5.7994, -6.3229, -6.2565, -5.6601, -7.1317, -6.8311, -6.1545, -5.7604, -6.2711, -6.4649, -6.1954, -5.5949, -4.8993, -6.8453, -6.4578, -5.7856, -5.2529, -5.0079, -5.1303, -4.4028, -6.3804, -5.7331, -5.7679, -5.7414, -5.4966, -5.2637, -5.3219, -5.3279, -4.9634, -5.4559, -5.1714, -5.6337, -5.502, -5.4182, -5.588, -5.5945, -5.6573, -5.7487, -5.8004, -7.8522, -7.9319, -7.9052, -7.3721, -7.7454, -8.1928, -7.1904, -8.0596, -8.4972, -8.7511, -8.5878, -8.7113, -8.5439, -8.6741, -8.246, -8.7179, -8.9506, -8.6386, -7.9533, -8.8865, -8.3086, -8.7104, -6.6355, -8.7065, -9.2149, -9.25, -8.8471, -8.9903, -9.2579, -8.1823, -6.5781, -6.977, -6.6606, -4.9867, -6.8441, -6.2881, -7.3189, -7.326, -7.0527, -7.0292, -7.4463, -7.7089, -7.3019, -8.0966, -8.0343, -7.3084, -6.6521, -6.3995, -6.9378, -6.8225, -4.9611, -7.5836, -7.3751, -6.9633, -6.0943, -6.6722, -6.1519, -6.2366, -7.0171, -7.1865, -6.1645, -6.0915, -6.1531, -6.6517, -6.6813, -6.7711, -6.7542, -6.6614, -6.27, -6.0857, -5.2148, -5.9498, -5.2999, -5.8459, -6.5164, -5.4919, -6.2029, -5.1491, -6.4527, -5.6044, -6.5555, -5.9461, -6.0228, -6.0555, -6.0965, -6.2028, -5.7038, -5.7812, -5.923, -6.1166, -5.7248, -6.0587, -6.1474, -6.1618, -6.1849, -7.0745, -7.3972, -8.0343, -7.9338, -6.6279, -6.516, -8.6826, -8.0973, -8.8705, -8.9359, -9.0046, -8.5062, -8.8924, -7.7027, -8.6224, -8.8893, -7.3485, -7.0343, -7.684, -9.0362, -6.5734, -8.3177, -8.7878, -8.7959, -8.4546, -9.1165, -8.6434, -9.4377, -9.4435, -9.1647, -5.0792, -6.9585, -7.0521, -6.9886, -6.411, -7.6645, -6.911, -6.5218, -7.589, -7.4734, -8.0793, -8.1673, -7.9069, -5.2256, -7.4043, -6.1476, -6.4963, -7.2585, -6.7724, -7.1002, -7.6608, -5.8221, -4.6438, -6.8255, -6.5315, -5.7444, -6.2723, -7.1207, -7.0652, -5.9415, -6.5995, -5.838, -5.6019, -6.8587, -6.2399, -5.1706, -5.7371, -5.9665, -5.8374, -6.314, -5.5413, -5.8851, -6.5116, -6.3214, -5.7402, -5.3202, -5.4735, -6.0079, -5.455, -6.1415, -5.9552, -5.5233, -5.654, -6.3507, -6.0385, -6.0316, -5.9561, -6.09, -6.1722, -6.1797], \"loglift\": [30.0, 29.0, 28.0, 27.0, 26.0, 25.0, 24.0, 23.0, 22.0, 21.0, 20.0, 19.0, 18.0, 17.0, 16.0, 15.0, 14.0, 13.0, 12.0, 11.0, 10.0, 9.0, 8.0, 7.0, 6.0, 5.0, 4.0, 3.0, 2.0, 1.0, 1.3313, 1.3301, 1.33, 1.3296, 1.329, 1.3287, 1.3286, 1.3285, 1.3284, 1.3283, 1.3281, 1.3281, 1.328, 1.3278, 1.3278, 1.3277, 1.3277, 1.3275, 1.3275, 1.3272, 1.3272, 1.3269, 1.3265, 1.3265, 1.3265, 1.3265, 1.3264, 1.3263, 1.3263, 1.3262, 1.3219, 1.3252, 1.3232, 1.325, 1.3169, 1.3261, 1.3179, 1.3254, 1.3179, 1.3125, 1.3239, 1.3246, 1.3082, 1.3019, 1.2994, 1.3044, 1.3107, 1.3059, 1.288, 1.282, 1.2328, 1.2568, 1.2575, 1.2462, 1.1788, 1.2854, 1.2713, 1.248, 1.2265, 1.2378, 1.204, 1.1433, 1.2287, 1.2174, 1.0971, 1.1439, 0.7211, 0.9826, 1.1293, 1.0844, 1.0546, 0.9797, 0.7232, 0.9447, 1.1289, 0.8987, 0.7967, 0.7338, 0.9607, 0.8113, 0.9788, 0.5193, 0.384, 0.8787, 0.9022, 0.6944, 0.5009, 0.4285, 0.6863, 0.2739, 0.8552, 0.7464, 0.6613, 0.3336, 0.6804, 0.3021, 0.5338, 0.6842, 0.498, 0.4992, 0.495, 0.527, 0.3465, 0.5584, 0.2719, 0.1703, 0.3096, -0.1395, 0.2212, 0.2616, 0.2804, 0.0263, 0.455, 0.2155, 1.7487, 1.7483, 1.7482, 1.7477, 1.7474, 1.7474, 1.7473, 1.7471, 1.7469, 1.7468, 1.7467, 1.7464, 1.7462, 1.746, 1.7458, 1.7455, 1.7451, 1.7451, 1.7451, 1.7449, 1.7447, 1.7446, 1.7444, 1.7444, 1.7443, 1.7442, 1.7441, 1.7441, 1.7439, 1.7438, 1.7433, 1.7421, 1.7406, 1.7377, 1.7282, 1.7338, 1.7437, 1.7325, 1.7208, 1.7436, 1.7414, 1.7051, 1.7273, 1.7259, 1.731, 1.7375, 1.7296, 1.715, 1.7078, 1.6971, 1.6239, 1.7088, 1.682, 1.6951, 1.7035, 1.7128, 1.6733, 1.7114, 1.5169, 1.5548, 1.5544, 1.6421, 1.536, 1.6315, 1.5145, 1.5225, 1.4901, 1.5168, 1.5475, 1.174, 1.1826, 1.4976, 1.4818, 1.3534, 1.3968, 1.0805, 1.3986, 1.33, 0.6278, 1.0064, 1.1952, 0.9398, 0.2084, 1.0212, 0.5972, 0.7202, 0.2449, 0.5003, 0.5984, 0.5384, 0.8282, 0.0696, 0.5352, 0.583, 0.1801, 0.64, -0.3835, 0.312, 0.5085, 0.4928, 0.115, 0.408, 0.0681, 0.2681, 0.3152, -1.0484, -0.159, -0.1427, -0.3353, 0.2495, 0.1884, -0.2068, -0.4458, -0.0002, 1.8365, 1.8355, 1.835, 1.8339, 1.8336, 1.8332, 1.833, 1.8329, 1.8316, 1.8315, 1.831, 1.831, 1.8308, 1.8305, 1.8305, 1.8299, 1.8299, 1.8296, 1.8292, 1.8291, 1.8288, 1.8288, 1.8287, 1.8285, 1.8282, 1.8282, 1.828, 1.828, 1.8276, 1.8274, 1.8154, 1.8124, 1.8189, 1.8162, 1.8028, 1.827, 1.8226, 1.8225, 1.7956, 1.7932, 1.8076, 1.7613, 1.7964, 1.8134, 1.8004, 1.7394, 1.7646, 1.7777, 1.7489, 1.7621, 1.7613, 1.6762, 1.7698, 1.6221, 1.6878, 1.6123, 1.6964, 1.7442, 1.7218, 1.6561, 1.7656, 1.4742, 1.6628, 1.5308, 1.4667, 1.3549, 1.6558, 1.4404, 1.2644, 0.2331, 0.8934, 0.2648, 0.4269, 0.6399, 0.6749, 0.2179, 0.5551, 0.1891, 0.6183, -0.1193, 0.2136, 0.2213, 0.2044, -0.0071, 0.0171, 0.0998, -0.4445, 0.0611, 0.4128, 0.3811, 0.0929, 0.0898, 1.8624, 1.862, 1.8617, 1.8614, 1.8614, 1.8609, 1.8606, 1.8604, 1.8602, 1.8598, 1.8597, 1.8594, 1.8594, 1.8593, 1.8592, 1.859, 1.8586, 1.8585, 1.8583, 1.8583, 1.8582, 1.8582, 1.8579, 1.8578, 1.8574, 1.8574, 1.8574, 1.8573, 1.8572, 1.8571, 1.8497, 1.8484, 1.8545, 1.856, 1.8569, 1.8525, 1.8392, 1.8564, 1.8507, 1.8456, 1.8557, 1.8467, 1.8519, 1.8326, 1.8388, 1.8299, 1.8387, 1.8488, 1.7876, 1.7962, 1.7732, 1.8439, 1.8273, 1.7191, 1.7969, 1.8366, 1.7769, 1.8212, 1.6879, 1.7057, 1.6379, 1.5287, 1.7138, 1.668, 1.5588, 1.7089, 1.4416, 1.5615, 1.5624, 1.3356, 1.6093, 1.2645, 1.4719, 1.0714, 1.4925, 1.3237, 1.4368, 1.4857, 0.7394, 0.4419, 0.9396, 0.7423, 1.48, 0.4182, 1.0892, 0.3643, 0.7821, 1.1225, 0.3568, 0.0066, -0.0014, 0.4216, 0.5659, 0.0334, -0.5261, -0.9553, 0.0825, 0.0986, -0.1495, -0.5515, -0.0152, -0.3412, 0.0521, 2.1886, 2.1884, 2.188, 2.1876, 2.1874, 2.1874, 2.1872, 2.1866, 2.1866, 2.1864, 2.1859, 2.1854, 2.1852, 2.185, 2.1849, 2.1849, 2.1846, 2.1846, 2.1845, 2.1843, 2.1843, 2.1842, 2.1836, 2.1834, 2.1831, 2.1831, 2.1829, 2.1827, 2.1827, 2.1821, 2.1678, 2.179, 2.1771, 2.1668, 2.1746, 2.173, 2.1618, 2.1773, 2.1585, 2.1686, 2.176, 2.169, 2.1727, 2.1758, 2.1549, 2.1544, 2.1443, 2.149, 2.1328, 2.1576, 2.127, 2.153, 2.1486, 2.1578, 2.0989, 2.1196, 2.113, 2.0769, 2.149, 2.1296, 2.0756, 2.0284, 2.0434, 2.0399, 1.9662, 1.8227, 1.614, 2.097, 1.9825, 1.7043, 1.4625, 1.2944, 1.307, 0.9371, 1.8264, 1.3552, 1.3535, 1.3222, 1.032, 0.6383, 0.6263, 0.6165, -0.2212, 0.6825, 0.0783, 0.9395, 0.3234, -0.2236, 0.2531, 0.1972, 0.1384, 0.4048, 0.8187, 2.3915, 2.3913, 2.3913, 2.3911, 2.3911, 2.3909, 2.3906, 2.3901, 2.39, 2.3891, 2.3891, 2.389, 2.3889, 2.3888, 2.3881, 2.388, 2.3879, 2.3879, 2.3874, 2.3873, 2.3872, 2.3872, 2.387, 2.3867, 2.3867, 2.3864, 2.3864, 2.3861, 2.3861, 2.3861, 2.3851, 2.3859, 2.3821, 2.3649, 2.3815, 2.3753, 2.3847, 2.3842, 2.3802, 2.3793, 2.3833, 2.3846, 2.3761, 2.3839, 2.3828, 2.3673, 2.3535, 2.3455, 2.3524, 2.3487, 2.2818, 2.3638, 2.3473, 2.3147, 2.249, 2.2846, 2.2261, 2.205, 2.2868, 2.3093, 2.1381, 2.0879, 2.096, 2.1784, 2.1609, 2.1732, 2.1116, 2.0366, 1.7768, 1.5946, 0.7296, 1.3255, 0.5781, 1.1461, 1.8446, 0.6721, 1.491, 0.0455, 1.761, 0.1873, 1.8684, 0.5857, 0.7329, 0.7969, 0.7907, 0.9818, -0.4541, -0.4413, -0.1273, 0.5025, -0.9826, -0.1567, -0.045, -0.3207, -0.4433, 3.0777, 3.076, 3.0752, 3.0751, 3.0736, 3.0728, 3.0715, 3.0712, 3.0705, 3.0701, 3.0698, 3.0698, 3.0695, 3.0694, 3.0693, 3.069, 3.0688, 3.0687, 3.0685, 3.0683, 3.0679, 3.0675, 3.0675, 3.0671, 3.067, 3.0665, 3.0661, 3.0649, 3.0648, 3.0647, 3.0462, 3.0596, 3.0594, 3.0572, 3.0493, 3.0616, 3.051, 3.0325, 3.0506, 3.0481, 3.0595, 3.0602, 3.0543, 2.9771, 3.0395, 2.9869, 2.9935, 3.0252, 3.0017, 3.014, 3.0382, 2.8989, 2.7896, 2.9596, 2.9139, 2.788, 2.8616, 2.9672, 2.9543, 2.7186, 2.8442, 2.6207, 2.4777, 2.879, 2.6326, 2.1576, 2.3038, 2.3161, 2.2105, 2.5206, 1.9143, 2.1475, 2.6506, 2.4639, 1.8028, 1.2985, 0.9509, 1.663, 0.4894, 1.9342, 1.2883, -0.1833, -0.4594, 2.2832, 0.7092, 0.2442, -1.2139, -0.212, 0.3564, 0.576]}, \"token.table\": {\"Topic\": [2, 3, 4, 5, 6, 7, 1, 2, 3, 4, 5, 6, 7, 1, 2, 3, 4, 5, 6, 7, 1, 2, 3, 4, 5, 6, 7, 1, 2, 3, 4, 5, 6, 7, 1, 4, 1, 2, 3, 4, 5, 6, 1, 2, 3, 4, 5, 6, 7, 1, 2, 3, 4, 7, 1, 2, 3, 4, 6, 7, 1, 2, 3, 4, 5, 6, 7, 4, 6, 1, 2, 3, 4, 5, 6, 7, 2, 3, 4, 5, 6, 7, 1, 2, 3, 4, 6, 7, 1, 4, 6, 7, 1, 2, 3, 4, 5, 6, 7, 3, 4, 5, 6, 7, 1, 2, 3, 4, 5, 6, 7, 1, 2, 3, 5, 6, 7, 1, 2, 3, 1, 2, 3, 1, 2, 3, 4, 5, 6, 7, 1, 2, 3, 4, 5, 6, 7, 1, 2, 3, 4, 5, 6, 7, 1, 2, 3, 4, 5, 6, 7, 1, 2, 3, 4, 5, 6, 7, 6, 4, 5, 1, 2, 3, 4, 5, 6, 7, 6, 1, 4, 5, 7, 3, 1, 2, 3, 4, 5, 6, 7, 4, 7, 3, 4, 5, 1, 2, 3, 4, 5, 6, 7, 4, 7, 5, 4, 1, 2, 3, 5, 6, 7, 5, 5, 1, 2, 3, 4, 5, 6, 7, 2, 6, 1, 2, 3, 5, 6, 7, 1, 2, 3, 1, 2, 3, 4, 5, 6, 7, 1, 2, 3, 4, 5, 6, 7, 1, 2, 3, 4, 5, 6, 7, 2, 4, 1, 2, 3, 4, 6, 2, 1, 2, 3, 6, 6, 6, 1, 2, 3, 4, 5, 6, 7, 1, 3, 4, 5, 6, 7, 1, 2, 3, 4, 5, 6, 7, 1, 2, 3, 4, 5, 6, 7, 1, 2, 3, 4, 5, 6, 7, 1, 2, 3, 4, 5, 6, 7, 3, 4, 5, 1, 2, 3, 4, 5, 6, 7, 2, 1, 2, 3, 4, 5, 6, 7, 5, 1, 2, 3, 1, 2, 3, 4, 5, 6, 7, 3, 4, 5, 7, 1, 2, 3, 4, 5, 6, 7, 1, 2, 3, 4, 5, 6, 7, 5, 5, 5, 7, 5, 5, 1, 3, 4, 2, 4, 1, 3, 4, 1, 2, 3, 4, 6, 7, 6, 7, 1, 2, 3, 4, 5, 6, 7, 1, 4, 6, 7, 1, 2, 3, 4, 5, 6, 7, 1, 2, 3, 4, 5, 6, 7, 2, 1, 2, 1, 2, 3, 4, 5, 6, 7, 5, 1, 2, 3, 4, 6, 7, 1, 2, 3, 4, 5, 6, 7, 3, 1, 1, 2, 3, 6, 7, 7, 1, 2, 3, 4, 5, 6, 7, 1, 2, 3, 4, 5, 6, 7, 3, 4, 5, 6, 1, 2, 3, 1, 2, 3, 4, 5, 6, 7, 1, 2, 3, 4, 5, 6, 7, 3, 4, 5, 6, 7, 1, 2, 3, 4, 5, 6, 7, 1, 2, 3, 1, 2, 3, 1, 2, 3, 4, 5, 6, 7, 7, 1, 2, 3, 4, 5, 6, 7, 1, 4, 5, 6, 7, 1, 2, 3, 4, 5, 6, 7, 1, 2, 3, 4, 5, 6, 7, 5, 1, 6, 7, 1, 2, 3, 4, 5, 6, 7, 4, 1, 2, 3, 4, 5, 6, 7, 4, 4, 5, 6, 7, 2, 3, 4, 5, 7, 1, 2, 3, 4, 5, 6, 7, 7, 6, 1, 2, 3, 4, 5, 6, 7, 1, 2, 3, 1, 3, 5, 6, 7, 2, 3, 4, 7, 1, 2, 3, 4, 5, 6, 7, 1, 2, 3, 4, 5, 6, 7, 1, 2, 3, 4, 5, 6, 7, 3, 1, 2, 3, 4, 5, 6, 7, 2, 2, 6, 1, 2, 3, 4, 5, 6, 7, 6, 4, 5, 1, 2, 3, 4, 5, 6, 7, 1, 2, 3, 4, 5, 6, 7, 1, 2, 3, 4, 5, 6, 7, 1, 2, 3, 4, 5, 6, 7, 3, 5, 7, 1, 2, 3, 4, 5, 6, 7, 1, 2, 3, 4, 5, 6, 7, 1, 2, 3, 4, 5, 6, 7, 2, 1, 3, 1, 1, 2, 3, 5, 6, 7, 1, 2, 3, 4, 5, 6, 7, 1, 2, 4, 5, 6, 7, 4, 1, 2, 3, 5, 6, 1, 2, 3, 4, 5, 6, 7, 1, 2, 3, 4, 5, 6, 7, 1, 2, 3, 4, 5, 6, 7, 1, 2, 3, 4, 5, 6, 7, 1, 2, 3, 4, 5, 6, 7, 4, 4, 6, 1, 2, 3, 4, 5, 6, 7, 4, 6, 1, 2, 3, 4, 5, 6, 7, 1, 1, 2, 3, 5, 6, 7, 3, 5, 1, 2, 3, 4, 5, 6, 7, 1, 2, 3, 4, 6, 7, 1, 2, 3, 4, 5, 6, 7, 1, 2, 3, 4, 5, 6, 7, 1, 2, 3, 4, 5, 6, 7, 1, 2, 3, 4, 5, 6, 7, 1, 2, 3, 4, 5, 6, 7, 2, 1, 2, 3, 1, 2, 3, 4, 5, 6, 7, 1, 2, 3, 4, 5, 6, 7, 1, 2, 3, 4, 5, 6, 7, 2, 3, 4, 5, 6, 1, 2, 3, 4, 7, 3, 5, 2, 4, 4, 1, 2, 3, 4, 5, 6, 7, 1, 2, 3, 4, 5, 6, 7, 1, 2, 3, 4, 5, 6, 7, 3, 2, 3, 1, 3, 4, 1, 2, 3, 4, 5, 6, 7, 4, 4, 1, 2, 3, 4, 5, 7, 4, 5, 7, 1, 1, 2, 3, 4, 5, 6, 7, 1, 2, 3, 4, 5, 6, 7, 3, 1, 2, 3, 7, 3, 1, 2, 3, 4, 5, 6, 7, 1, 3, 4, 5, 6, 7, 1, 2, 3, 4, 5, 6, 7, 1, 2, 3, 4, 5, 6, 7, 1, 4, 5, 6, 7, 1, 2, 3, 4, 5, 6, 7, 1, 3, 4, 5, 1, 2, 3, 4, 5, 6, 7, 3, 1, 2, 3, 6, 1, 2, 3, 4, 5, 6, 7, 2, 1, 2, 3, 4, 5, 6, 7, 1, 3, 1, 2, 3, 4, 5, 6, 7, 1, 3, 4, 5, 6, 1, 2, 3, 4, 7, 1, 2, 3, 4, 5, 6, 7, 2, 2, 6, 2, 3, 2, 6, 1, 2, 3, 4, 5, 6, 7, 2, 4, 5, 7, 1, 2, 3, 4, 5, 6, 2, 3, 1, 2, 3, 4, 5, 6, 7, 1, 2, 3, 4, 5, 6, 7, 5, 1, 3, 4, 5, 6, 3, 2, 3, 4, 5, 6, 7, 1, 2, 3, 4, 5, 6, 7, 1, 2, 3, 4, 5, 6, 7, 1, 3, 4, 5, 6, 7, 1, 1, 2, 3, 4, 5, 6, 7, 2, 4, 1, 5, 7, 3, 4, 5, 7, 3, 5, 3, 1, 2, 3, 4, 5, 6, 7, 1, 2, 3, 4, 5, 7, 4, 1, 2, 3, 4, 5, 6, 7, 1, 2, 3, 4, 5, 6, 7, 5, 7, 1, 2, 3, 4, 5, 1, 2, 3, 4, 5, 6, 7, 5, 1, 2, 3, 4, 5, 6, 7, 1, 2, 3, 4, 5, 6, 7, 1, 2, 3, 5, 3, 1, 2, 3, 4, 5, 6, 7, 1, 2, 3, 4, 5, 6, 7, 2, 6, 1, 2, 3, 4, 5, 6, 7, 3, 4, 5, 6, 7, 1, 2, 3, 4, 5, 6, 7, 1, 3, 4, 6, 7, 1, 2, 3, 4, 5, 6, 7, 3, 4, 5, 6, 3, 4, 5, 6, 7, 2, 2, 4, 1, 2, 3, 4, 5, 6, 7, 1, 1, 2, 3, 4, 5, 6, 7, 1, 2, 3, 4, 5, 6, 7, 1, 2, 3, 6, 2, 3, 5, 6, 1, 2, 3, 4, 5, 6, 1, 3, 1, 3, 1, 2, 3, 4, 5, 6, 3, 1, 3, 1, 2, 3, 4, 7, 1, 2, 3, 4, 5, 6, 7, 1, 2, 3, 4, 5, 6, 7, 1, 2, 3, 4, 5, 6, 7, 1, 3, 4, 1, 2, 3, 4, 5, 6, 7, 2, 3, 6, 3, 6, 1, 2, 3, 4, 5, 6, 7, 1, 2, 3, 4, 5, 6, 7, 1, 2, 3, 4, 5, 6, 7, 1, 2, 3, 4, 5, 6, 7, 4, 7, 1, 2, 3, 4, 5, 6, 7, 1, 2, 3, 4, 5, 6, 7, 1, 2, 3, 4, 5, 6, 7, 5, 7, 5, 1, 2, 3, 4, 5, 6, 7, 1, 2, 3, 4, 5, 6, 7, 1, 2, 3, 4, 5, 6, 7, 1, 2, 3, 4, 5, 6, 7, 1, 2, 3, 4, 5, 6, 7, 1, 2, 3, 4, 5, 6, 7, 1, 2, 1, 2, 3, 4, 5, 6, 7, 1, 2, 3, 4, 5, 6, 7, 3, 4, 1, 2, 3, 5, 3, 5, 7, 1, 2, 4, 7, 3, 3, 1, 2, 3, 4, 5, 6, 7, 1, 2, 3, 4, 1, 2, 3, 4, 5, 6, 7, 1, 2, 3, 4, 5, 6, 7, 4, 2, 1, 2, 3, 4, 5, 6, 7, 1, 2, 3, 4, 5, 6, 7, 7, 6, 1, 1, 3, 6, 7, 1, 2, 3, 4, 5, 6, 7, 1, 2, 3, 4, 5, 6, 7, 1, 2, 3, 4, 5, 6, 7, 1, 2, 3, 1, 2, 3, 4, 5, 6, 7, 1, 2, 3, 4, 5, 6, 7, 1, 2, 3, 4, 5, 6, 7, 1, 2, 3, 4, 5, 6, 7, 1, 4, 5, 6, 7, 1, 2, 3, 4, 5, 6, 7, 1, 2, 3, 4, 5, 6, 7, 4, 2, 1, 3, 4, 5, 6, 7, 1, 2, 3, 1, 2, 3, 4, 5, 6, 7, 1, 2, 3, 2, 3, 6, 7, 1, 2, 3, 4, 5, 6, 7, 7, 6, 1, 2, 3, 4, 5, 6, 7, 1, 2, 3, 4, 5, 6, 7, 2, 6, 3, 4, 5, 7, 2, 1, 2, 3, 4, 5, 6, 7, 1, 1, 2, 3, 4, 5, 6, 7, 1, 6, 5, 1, 2, 3, 4, 5, 6, 7, 7, 1, 2, 3, 4, 5, 6, 7, 1, 3, 5, 1, 1, 4, 5, 6, 4, 5, 6, 1, 3, 4, 5, 6, 7, 3, 4, 5, 6, 1, 2, 3, 4, 5, 6, 7, 1, 2, 3, 4, 5, 6, 7, 5, 1, 2, 3, 5, 1, 2, 3, 4, 5, 6, 7, 2, 1, 2, 3, 1, 3, 4, 5, 6, 7, 1, 3, 5, 1, 2, 3, 4, 5, 6, 7, 1, 6, 1, 2, 3, 4, 5, 6, 7, 2, 3, 4, 5, 7, 1, 2, 3, 4, 5, 6, 7, 7, 1, 2, 3, 4, 5, 6, 7, 1, 2, 3, 4, 5, 6, 7, 1, 2, 3, 1, 2, 3, 4, 5, 6, 7, 3, 5, 2, 7, 2, 7, 1, 3, 1, 2, 3, 4, 5, 6, 7, 1, 2, 3, 1, 2, 3, 1, 2, 3, 4, 5, 6, 7, 1, 2, 3, 1, 2, 3, 4, 5, 7, 1, 2, 3, 4, 5, 6, 7, 3, 5, 1, 2, 3, 4, 5, 6, 7, 1, 2, 3, 4, 5, 6, 7, 1, 2, 3, 4, 5, 7, 1, 2, 3, 4, 5, 6, 7, 1, 2, 3, 4, 5, 6, 7, 1, 2, 3, 4, 5, 6, 7, 1, 3, 1, 2, 3, 1, 2, 3, 4, 5, 6, 7, 2, 4, 5, 6, 7, 4, 1, 2, 3, 4, 5, 6, 7, 1, 2, 3, 4, 5, 6, 7, 1, 1, 2, 3, 4, 5, 6, 7, 2, 3, 4, 1, 1, 2, 3, 6, 7, 1, 2, 3, 4, 5, 6, 7, 1, 1, 3, 4, 5, 6, 7, 3, 6, 7, 1, 2, 4, 5, 7, 6, 1, 2, 3, 4, 6, 7, 1, 2, 3, 4, 5, 6, 7, 6, 3, 4, 5, 1, 2, 3, 4, 5, 6, 7, 1, 2, 3, 4, 6, 7, 6, 2, 3, 4, 6, 4, 7, 2, 3, 4, 5, 7, 7, 2, 3, 4, 5, 6, 7, 1, 2, 3, 4, 5, 6, 7, 2, 6, 5, 1, 3, 4, 5, 6, 7, 3, 1, 2, 3, 4, 5, 6, 7, 5, 1, 2, 3, 4, 5, 6, 7, 1, 2, 3, 4, 5, 6, 7, 1, 2, 3, 4, 5, 6, 7, 3, 5, 1, 2, 3, 4, 5, 6, 7, 3, 2, 5, 1, 3, 1, 2, 3, 4, 5, 6, 7, 1, 2, 3, 4, 5, 6, 7, 3, 5, 1, 2, 3, 4, 5, 6, 7, 2, 3, 4, 5, 6, 7, 3, 4, 5, 7, 1, 2, 3, 4, 5, 6, 7, 1, 3, 1, 2, 3, 4, 5, 6, 3, 4, 5, 7, 1, 2, 3, 4, 5, 6, 7, 1, 2, 3, 4, 5, 6, 7, 7, 1, 2, 3, 4, 5, 7, 1, 1, 3, 2, 1, 1, 2, 3, 2, 1, 3, 4, 5, 6, 7, 4, 1, 2, 3, 4, 5, 6, 7, 1, 2, 3, 4, 5, 6, 7, 1, 2, 3, 4, 5, 6, 7, 2, 6, 1, 2, 3, 4, 5, 6, 7, 1, 2, 3, 4, 5, 6, 7, 1, 2, 3, 4, 5, 6, 7, 6, 6, 4, 7, 2, 6, 2, 3, 6, 1, 2, 3, 4, 6, 7, 1, 3, 4, 5, 6, 7, 2, 3, 4, 6, 7, 1, 2, 3, 4, 5, 6, 7, 1, 2, 3, 4, 1, 2, 3, 4, 5, 6, 7, 1, 2, 3, 4, 5, 6, 7, 1, 2, 4, 7, 1, 2, 3, 4, 5, 6, 7, 2, 3, 6, 1, 4, 1, 2, 3, 4, 5, 6, 7, 1, 2, 3, 4, 5, 6, 7, 2, 6, 3, 1, 2, 3, 4, 5, 6, 7, 3, 5, 3, 4, 5, 6, 4, 1, 2, 3, 6, 7, 1, 5, 1, 2, 3, 4, 5, 6, 7, 2, 4, 7, 1, 2, 3, 4, 5, 6, 7, 1, 3, 2, 1, 2, 3, 4, 5, 6, 7, 1, 2, 3, 4, 5, 6, 7, 1, 2, 3, 4, 5, 6, 7, 1, 3, 1, 2, 3, 4, 5, 6, 7, 1, 2, 3, 4, 5, 6, 7, 3, 1, 2, 3, 4, 5, 6, 7, 1, 2, 3, 4, 5, 6, 7, 1, 2, 3, 4, 5, 6, 7, 1, 3, 4, 5, 6, 7, 1, 2, 3, 4, 5, 6, 7, 1, 2, 3, 4, 5, 6, 7, 1, 2, 3, 4, 5, 6, 7, 1, 2, 3, 4, 5, 6, 7, 1, 2, 3, 4, 5, 6, 7, 3, 4, 1, 2, 3, 4, 5, 6, 7, 1, 2, 3, 4, 5, 6, 7, 1, 2, 3, 4, 5, 6, 7, 3, 1, 2, 3, 4, 5, 6, 7, 1, 2, 3, 4, 5, 6, 7, 1, 2, 3, 6, 1, 2, 3, 4, 5, 6, 7, 1, 2, 3, 4, 5, 6, 7, 1, 3, 4, 5, 1, 2, 3, 4, 5, 6, 7, 1, 2, 3, 4, 7, 1, 2, 3, 4, 5, 6, 7, 1, 2, 3, 4, 5, 6, 7, 1, 2, 3, 4, 5, 6, 7, 1, 2, 3, 4, 5, 6, 7, 1, 2, 3, 4, 5, 6, 7, 1, 2, 3, 4, 5, 6, 7, 1, 2, 3, 4, 5, 6, 7, 1, 2, 3, 4, 5, 6, 7, 1, 2, 3, 4, 5, 6, 7, 1, 3, 1, 2, 3, 4, 5, 6, 7, 1, 3, 4, 5, 1, 2, 3, 4, 5, 6, 7, 1, 2, 3, 4, 5, 6, 7, 1, 2, 3, 4, 5, 6, 7, 1, 2, 3, 4, 5, 6, 7, 1, 2, 3, 4, 5, 6, 7, 1, 2, 3, 4, 5, 6, 7, 7, 1, 2, 3, 4, 5, 6, 7, 1, 2, 3, 4, 5, 6, 7, 1, 2, 3, 4, 5, 6, 7, 1, 2, 3, 4, 5, 6, 7, 1, 2, 3, 4, 5, 6, 1, 2, 3, 4, 5, 6, 7, 3, 6, 1, 2, 3, 4, 5, 6, 7, 1, 2, 3, 4, 5, 6, 7, 1, 2, 3, 4, 5, 6, 7, 1, 2, 3, 5, 1, 2, 3, 4, 5, 6, 7, 6, 1, 2, 3, 4, 5, 6, 7, 1, 2, 3, 4, 5, 6, 7, 3, 4, 5, 4, 7, 6, 1, 2, 3, 4, 5, 6, 7, 3, 1, 2, 3, 5, 6, 1, 2, 3, 1, 2, 3, 4, 5, 6, 7, 1, 2, 3, 4, 5, 6, 7, 4, 5, 2, 3, 5, 7, 1, 2, 3, 4, 5, 6, 7, 1, 2, 3, 4, 5, 6, 7, 1, 2, 3, 4, 5, 6, 7, 1, 2, 3, 4, 5, 6, 7, 6, 1, 2, 3, 4, 5, 6, 7, 1, 2, 3, 4, 5, 1], \"Freq\": [0.024969041523611155, 0.005201883650752324, 0.9633888521193303, 0.0010403767301504648, 0.004161506920601859, 0.0010403767301504648, 0.00802035471090972, 0.01938252388469849, 0.0006683628925758101, 0.01403562074409201, 0.014703983636667821, 0.9243458804323453, 0.01871416099212268, 0.004154787841379769, 0.016619151365519075, 0.02492872704827861, 0.021604896775174798, 0.011633405955863353, 0.9190390705132049, 0.0008309575682759538, 0.0044388119502108, 0.0133164358506324, 0.0510463374274242, 0.0088776239004216, 0.0055485149377635, 0.0288522776763702, 0.8866526870546073, 0.09510924673774418, 0.03174518461277517, 0.033766098222076504, 0.13855888933772292, 0.5619823928532135, 0.10651898815692463, 0.03233461774882139, 0.005779975036193794, 0.9912657187072357, 0.00543322364247543, 0.02173289456990172, 0.00543322364247543, 0.9576056669862946, 0.0013583059106188574, 0.0067915295530942875, 0.02426048452127025, 0.9478917880810591, 0.016462471639433384, 0.0008664458757596518, 0.0008664458757596518, 0.006931567006077215, 0.0034657835030386074, 0.02409108640508205, 0.9458370010343082, 0.02828084056248762, 0.0010474385393513933, 0.0010474385393513933, 0.012472868927968166, 0.9591636205607519, 0.02494573785593633, 0.0012472868927968165, 0.0012472868927968165, 0.0012472868927968165, 0.009510944243939204, 0.04538079110679563, 0.030435021580605456, 0.04809820374792112, 0.0010869650564501948, 0.8459305551823642, 0.01929362975199096, 0.9912026862012399, 0.9975041399540578, 0.09999407800763745, 0.08674133573214894, 0.10999776088655457, 0.197123853652508, 0.31400449036600986, 0.12645681177708062, 0.06566520043596884, 0.0018270714974418989, 0.0018270714974418989, 0.03836850144627987, 0.009135357487209495, 0.0036541429948837977, 0.9482501071723455, 0.002748389896517629, 0.002748389896517629, 0.004397423834428206, 0.9844732609326148, 0.0016490339379105774, 0.0038477458551246808, 0.0006133742529816267, 0.9979599096011066, 0.0006133742529816267, 0.0012267485059632534, 0.005527895975627369, 0.006982605442897729, 0.008728256803622162, 0.9342144198810254, 0.0005818837869081441, 0.0026184770410866485, 0.04102280697702416, 0.9747832165024739, 0.0018781950221627628, 0.016903755199464864, 0.0018781950221627628, 0.0037563900443255255, 0.013882138836921179, 0.02345602768997027, 0.002872166655914727, 0.020105166591403087, 0.006701722197134362, 0.8022918858855136, 0.13068358284412007, 0.0019472838823778958, 0.02482786950031817, 0.0009736419411889479, 9.736419411889478e-05, 0.9720841140830456, 9.736419411889478e-05, 0.0007822886369643079, 0.9978091564479747, 0.0011734329554464618, 0.002751637308379677, 0.9933410683250634, 0.002751637308379677, 0.24655935357955297, 0.13297517091289998, 0.17384314765612666, 0.17108140084529755, 0.1677026680448151, 0.08135400977857271, 0.026471636984649334, 0.32838282332117624, 0.14121877524233623, 0.1949527159055761, 0.15267886898066507, 0.10526502577952415, 0.05111149358353079, 0.026381817621873766, 0.521726297809954, 0.16069282051235695, 0.17365191894077284, 0.04420103301800228, 0.04350054121106088, 0.04251985268134292, 0.013799688596745562, 0.029577479980274244, 0.24784216343599574, 0.011032114719330586, 0.2763734946066783, 0.029006853356860592, 0.008369190476733549, 0.39782186095655037, 0.014157319012291326, 0.10467835875754798, 0.0030030676692739174, 0.294729641255883, 0.007293164339665228, 0.0038610870033521797, 0.5718698861631617, 0.9898811664291705, 0.9939840871226105, 0.991318046609024, 0.358729317242649, 0.10846202581421924, 0.08583731635064544, 0.16330170872658248, 0.10406772528848575, 0.17885990788526052, 0.0007422804942117386, 0.9978939678876586, 0.009387209441840197, 0.0011734011802300246, 0.9868303925734506, 0.0011734011802300246, 0.9919142806102271, 0.01779140516607972, 0.8878758387643593, 0.02456908332458628, 0.00169441953962664, 0.06608236204543895, 0.00169441953962664, 0.00084720976981332, 0.008864000111588695, 0.9839040123863452, 0.9943368128625427, 0.0024193109802008337, 0.0024193109802008337, 0.0026564051220819953, 0.000531281024416399, 0.000531281024416399, 0.01593843073249197, 0.978619646975007, 0.000531281024416399, 0.001062562048832798, 0.017185537000427523, 0.9795756090243688, 0.9945579375686945, 0.9913613193122452, 0.0010228868720692638, 0.00511443436034632, 0.0010228868720692638, 0.0010228868720692638, 0.9911773790351167, 0.0010228868720692638, 0.9949009865938973, 0.9986371483801777, 0.8995396134290963, 0.03132725021892375, 0.03772056659013268, 0.008311311282571607, 0.014704627653780536, 0.007671979645450714, 0.0006393316371208929, 0.9942205916994308, 0.9956022853220496, 0.0005010490835484799, 0.0010020981670969598, 0.9399680807369484, 0.04359127026871776, 0.0005010490835484799, 0.01453042342290592, 0.9929669921094787, 0.0034598153035173473, 0.0034598153035173473, 0.08836236727016683, 0.03158432321061596, 0.023718966457777747, 0.7974734370182373, 0.01573071350567643, 0.023841862657040844, 0.019417599483569345, 0.018907314997043397, 0.007748899588952212, 0.06064805411619931, 0.8649838314494388, 0.033371927563087524, 0.008678767539626478, 0.005682526365231622, 0.6769593874639711, 0.1548497674651875, 0.12304560647065403, 0.0185611169082851, 0.017414081593728155, 0.006152280323532702, 0.0030240021929228535, 0.0043110365474758276, 0.9947716833300472, 0.0009276744336105967, 0.003710697734442387, 0.012987442070548354, 0.9814795507600114, 0.0009276744336105967, 0.9974660565771343, 0.9925788133234187, 0.01218405906527004, 0.001523007383158755, 0.9861472805952939, 0.9937622815061824, 0.9940208034777802, 0.04204481568402987, 0.006688947949732025, 0.0023889099820471518, 0.004300037967684873, 0.9111302671527837, 0.022455753831243225, 0.010988985917416897, 0.0034582624763735818, 0.0017291312381867909, 0.0034582624763735818, 0.9856048057664709, 0.0017291312381867909, 0.0034582624763735818, 0.01883674502620329, 0.0012557830017468862, 0.0012557830017468862, 0.0031394575043672155, 0.9594182133346211, 0.011929938516595419, 0.004395240506114102, 0.0040853432656512, 0.00015712858714043076, 0.0003142571742808615, 0.0029854431556681845, 0.9778111977749006, 0.009741972402706706, 0.004870986201353353, 0.2773354084158362, 0.4821599418550252, 0.13567756503362335, 0.02454405905566924, 0.019062137236128904, 0.05643887691481302, 0.004983565290491217, 0.0015380572375655298, 0.007690286187827649, 0.0015380572375655298, 0.0030761144751310595, 0.0015380572375655298, 0.0046141717126965895, 0.9797424603292424, 0.9882540518456934, 0.0019226732526180805, 0.007690693010472322, 0.10431795917534169, 0.03808146952594653, 0.08013351881289223, 0.6755400020645397, 0.02310155497308605, 0.07092899300330326, 0.00794115952199833, 0.9970168599793747, 0.000228038181673926, 0.001596267271717482, 0.000456076363347852, 0.09144331085124432, 0.002964496361761038, 0.000228038181673926, 0.902803161247073, 0.9971015681325661, 0.9903606767357387, 0.0030193923071211545, 0.006038784614242309, 0.2656714380832027, 0.44447310685781144, 0.2814905948251423, 0.004610154250508112, 0.00045197590691255994, 0.0008135566324426078, 0.0025310650787103354, 0.0014010653753792754, 0.012609588378413477, 0.004203196126137826, 0.9807457627654927, 0.9256939394913482, 0.013153732710356634, 0.012057588317826915, 0.04658613668251308, 0.0005480721962648598, 0.0005480721962648598, 0.002192288785059439, 0.8894200316113648, 0.06042409103645463, 0.02597671203436367, 0.0067765335741818275, 0.001129422262363638, 0.014117778279545473, 0.002258844524727276, 0.9970904678088378, 0.997979039370313, 0.9979918244342298, 0.0008479114905983261, 0.9980427071927662, 0.9945233779992122, 0.0028391101265697167, 0.004258665189854575, 0.992268989236116, 0.9926481282684021, 0.9964004494965378, 0.0034482090833311677, 0.010344627249993504, 0.9844636932910484, 0.9831856519198615, 0.004572956520557495, 0.007621594200929159, 0.001524318840185832, 0.001524318840185832, 0.001524318840185832, 0.0076033688640571905, 0.9884379523274347, 0.009546788837852687, 0.04256276690209323, 0.07279426488862674, 0.6521650124858117, 0.05668405872475033, 0.025855886435851027, 0.14041735249008327, 0.027876556265473612, 0.008577401927838034, 0.0021443504819595085, 0.9606690159178598, 0.0740049782522022, 0.02097960442663676, 0.17290882769206123, 0.030201408570213358, 0.10213148089011083, 0.5314064637736015, 0.06824135066246682, 0.7004526962117612, 0.04928711832614858, 0.038314438698794334, 0.061878717898522305, 0.013311119547937938, 0.1145835561086009, 0.022125239248599545, 0.9937919223207321, 0.003636759523304284, 0.9928353498620696, 0.001922313644042937, 0.003844627288085874, 0.0009611568220214685, 0.0009611568220214685, 0.0009611568220214685, 0.0028834704660644053, 0.9890303698600911, 0.9945689629963255, 0.019696635743264346, 0.9634937651080142, 0.008206931559693478, 0.003282772623877391, 0.003282772623877391, 0.0016413863119386955, 0.00026405319721359977, 0.00013202659860679988, 0.8493271088375436, 0.008449702310835193, 0.13968414132599427, 0.0014522925846747986, 0.0007921595916407992, 0.9906744216386618, 0.9904046847227715, 0.0006765505272777144, 0.03382752636388572, 0.004735853690944001, 0.9600251982070767, 0.0006765505272777144, 0.993102215242085, 0.025909447988257953, 0.07430230125558274, 0.0032119150398666886, 0.8383098254052057, 0.004282553386488918, 0.0010706383466222295, 0.05310366199246259, 0.05306972378317458, 0.1388985363213952, 0.003603499763055064, 0.7750800399443892, 0.003603499763055064, 0.0013103635502018415, 0.024241725678734068, 0.9280724873613552, 0.003121669987761033, 0.06805240573319052, 0.0006243339975522067, 0.0024316190795943765, 0.9872373463153169, 0.00729485723878313, 0.05613478358203044, 0.12325765246096897, 0.04299685550964034, 0.021259556335322168, 0.011226956716406089, 0.7428901146387858, 0.002149842775482017, 0.07630449945120697, 0.020775977573348432, 0.037396759632027175, 0.8605032165834132, 0.0022664702807289197, 0.0022664702807289197, 0.0003777450467881533, 0.8323464014449107, 0.05232165960639865, 0.05232165960639865, 0.00048001522574677666, 0.06288199457282774, 0.003406306354325256, 0.003406306354325256, 0.12919633386762222, 0.684910884816114, 0.07153243344083038, 0.03600952431715271, 0.0717757410375679, 0.009826222740091883, 0.9815304714825114, 0.006550815160061256, 0.0026410117037362867, 0.9930204006048439, 0.0026410117037362867, 0.05553572300593476, 0.896860481976439, 0.00497334832888968, 0.00082889138814828, 0.040615678019265716, 0.00082889138814828, 0.00082889138814828, 0.985257433651979, 0.3239788206858571, 0.04332187925568389, 0.08454874535219827, 0.06344896996341959, 0.43381736774517304, 0.03905703103880309, 0.011747038071057635, 0.0002898480120800881, 0.0005796960241601762, 0.9318613588374832, 0.06202747458513885, 0.005217264217441586, 0.014536245896796869, 0.007650655735156247, 0.002805240436223957, 0.034427950808203114, 0.8635040106413018, 0.044883846979583315, 0.03238777594549478, 0.046177952654008196, 0.0240738141798147, 0.004158204267422539, 0.04048777839332472, 0.799250630769848, 0.047709922647269136, 0.03808039697534325, 0.9969434442955494, 0.9937778181758569, 0.002208284242985082, 0.995936193586272, 0.41480914574070293, 0.10989701731647322, 0.08271721089030508, 0.04951254737300298, 0.2021724601333141, 0.09236604217159476, 0.04851595447071015, 0.9979653932966142, 0.0007891446034675362, 0.002104385609246763, 0.8593784731761469, 0.02235909709824686, 0.09285601500801342, 0.002104385609246763, 0.020517759690155943, 0.9973920692455477, 0.001231578056662411, 0.9951150697832281, 0.0006157890283312055, 0.002463156113324822, 0.0008260087499295276, 0.0627766649946441, 0.002478026249788583, 0.016520174998590553, 0.9176957211717052, 0.0005952722380980559, 0.0035716334285883357, 0.22739399495345738, 0.09702937480998312, 0.017858167142941677, 0.0023810889523922236, 0.6512278284792732, 0.9856681463646272, 0.996389857649312, 0.618952764150402, 0.12101010095987351, 0.22823883178046073, 0.006407128222650645, 0.007495131128383774, 0.011847142751316288, 0.005923571375658144, 0.003260561595763759, 0.9912107251121828, 0.003260561595763759, 0.008148158437528993, 0.0022222250284169983, 0.9681493707136722, 0.017037058551196985, 0.004444450056833997, 0.003450961268612873, 0.0017254806343064365, 0.992151364726201, 0.0017254806343064365, 0.02879626071827116, 0.8160654599981487, 0.1486092740639351, 0.0005142189413976993, 0.0005142189413976993, 0.003599532589783895, 0.0010284378827953985, 0.755602609751393, 0.06232928418299957, 0.15507675196428936, 0.003918907089350272, 0.012503179761260393, 0.007464584932095757, 0.0031724485961406967, 0.006320954531532467, 0.044246681720727266, 0.007111073847974024, 0.0908637213907792, 0.0031604772657662333, 0.0007901193164415583, 0.847798026541792, 0.9947698200379335, 0.2725046064347512, 0.22704428493320317, 0.08435891735240095, 0.11077736833820623, 0.11013406190186356, 0.16404314126737857, 0.03117891861474097, 0.9922274488043512, 0.04377817060462409, 0.9547810541389445, 0.00012697986649979864, 0.00012697986649979864, 0.9048585286775651, 0.011555167851481677, 0.08266389309136891, 0.0006348993324989931, 0.00012697986649979864, 0.991886843962813, 0.9938046098007488, 0.9906898321849956, 0.5482203743971977, 0.135939079683364, 0.19581751863451424, 0.03172054937985665, 0.062153390395172425, 0.020560410220502482, 0.005622993191828444, 0.026985959296462966, 0.005346274954959644, 0.09725128727593257, 0.8217988359337968, 0.02418552955815077, 0.0020366761733179597, 0.022403437906497556, 0.012952933121992546, 0.014871886177102552, 0.17006721450912435, 0.6809884654321636, 0.06884244085207149, 0.004077775242108764, 0.04821369550963892, 0.0972060000030209, 0.1357233509912184, 0.10460058257426659, 0.204989061152254, 0.25370906404254995, 0.1509337265333377, 0.052838504575546744, 0.9900869714294942, 0.004829692543558508, 0.004829692543558508, 0.21854161231725616, 0.3253419966225087, 0.10984305076873202, 0.09630458072480952, 0.13387732439309752, 0.08731615319049396, 0.02877971673254453, 0.9387868199889206, 0.014838569335968187, 0.032644852539130007, 0.005935427734387274, 0.004946189778656062, 0.002967713867193637, 0.0009892379557312125, 0.2673505115165349, 0.23724691636157957, 0.23265893528181367, 0.14512508573364816, 0.041613793302438216, 0.04519563818050108, 0.030828013220181503, 0.9944627350234452, 0.990210864807559, 0.004877886033534774, 0.9956842098778007, 0.002057674228883181, 0.08162107774569952, 0.015089611011809993, 0.001371782819255454, 0.8992036380219501, 0.000685891409627727, 0.4330777045950438, 0.18699866282637978, 0.24010924738076772, 0.04125333777015248, 0.03886542001499395, 0.03956532694323007, 0.020132616935733094, 0.002415143881830828, 0.001207571940915414, 0.008453003586407899, 0.9853787037869779, 0.001207571940915414, 0.001207571940915414, 0.9963697108604116, 0.0010297241457364237, 0.004118896582945695, 0.0020594482914728473, 0.0010297241457364237, 0.9905946281984396, 0.9029264167224117, 0.026222145762057444, 0.03364648823685684, 0.017692050152713454, 0.009951778210901319, 0.003475224137140143, 0.006002659873242065, 0.000550480770029968, 0.0020184294901098823, 0.008991185910489476, 0.926275642370426, 0.060185897523276494, 0.0003669871800199786, 0.0016514423100899038, 0.07665172803169511, 0.04353006649440913, 0.054247195327379163, 0.7149603930505233, 0.028093872702065467, 0.08132668958023348, 0.0011907920925522254, 0.053072809246710484, 0.14795297294719761, 0.04944282936898736, 0.5824240127946789, 0.0952556788602516, 0.06108379932168565, 0.010764767913247882, 0.0108297624872659, 0.06399405106111668, 0.028354287239387085, 0.7368176586790727, 0.11154655361883876, 0.04371285949405509, 0.004627262153649976, 0.9971700468024466, 0.9929531899022148, 0.005226069420537972, 0.583834383528869, 0.18858662550451466, 0.12696646004919107, 0.022301160963524146, 0.03320147904045864, 0.035370419882297645, 0.009732426854405798, 0.9942417035708266, 0.004335356265570465, 0.09367231425079468, 0.026660581748303103, 0.033145588119511966, 0.11276705523268744, 0.004323337580805909, 0.03242503185604431, 0.6971381849049527, 0.9932456022820033, 0.009609925501796908, 0.03003101719311534, 0.0012012406877246135, 0.0012012406877246135, 0.9561875874287924, 0.0006006203438623067, 0.0042536865318929425, 0.9911089619310556, 0.04887950222688248, 0.770570976282618, 0.0035940810460943005, 0.0007188162092188601, 0.17179707400330754, 0.0035940810460943005, 0.00035940810460943003, 0.0010564033613238819, 0.006338420167943291, 0.0031692100839716456, 0.0005282016806619409, 0.9887935461991534, 0.0005282016806619409, 0.8771990285966946, 0.06213671673010294, 0.02913997750101379, 0.002142645404486308, 0.00042852908089726163, 0.027425861177424744, 0.001285587242691785, 0.9078217268798386, 0.04958967918134588, 0.011240327281105066, 0.014546305893194791, 0.0006611957224179451, 0.01586869733803068, 0.0006611957224179451, 0.9763654107050099, 0.0017099219101663922, 0.0017099219101663922, 0.011969453371164744, 0.0034198438203327844, 0.0051297657304991764, 0.0017099219101663922, 0.8262247150448722, 0.07814313687998593, 0.08566318770944065, 0.002942628585438801, 0.0026156698537233786, 0.0035965460488696453, 0.0006539174634308447, 0.026810665441011065, 0.9554614068703174, 0.016597078606340184, 0.0004910378285899463, 0.0001964151314359785, 0.0002946226971539678, 0.0001964151314359785, 0.9952974039339175, 0.007616216836679987, 0.9786838635133783, 0.01142432525501998, 0.01869965140861709, 0.970650424043587, 0.00865724602250791, 0.0010388695227009494, 0.00034628984090031645, 0.00034628984090031645, 0.00034628984090031645, 0.0012699813006180024, 0.7916216773852215, 0.010159850404944019, 0.0012699813006180024, 0.0008466542004120015, 0.19388381189434836, 0.0012699813006180024, 0.02115997738513781, 0.03274228079595008, 0.1075817797581217, 0.7394855254595529, 0.031183124567571507, 0.0663755080081165, 0.0015591562283785755, 0.003453231512177736, 0.9733796324950994, 0.001726615756088868, 0.005611501207288821, 0.015107887865777596, 0.007612019234778154, 0.0009515024043472692, 0.015224038469556308, 0.9743384620516037, 0.0009515024043472692, 0.9885836223604705, 0.006140270946338326, 0.996404052584489, 0.9917955136302238, 0.9965372501193813, 0.7011117858623013, 0.09213174356256147, 0.1712045013665804, 0.0041932523077888835, 0.014017443428894268, 0.014257057846482204, 0.0031149874286431705, 0.3674006891090867, 0.0761199368167618, 0.1919873356990962, 0.13349472116127953, 0.1440926112631331, 0.06627443242193636, 0.020615368372571184, 0.3120493614863972, 0.11119236348666107, 0.1975908635466826, 0.15605549333237836, 0.12848849687956124, 0.08042085775914984, 0.014194332748805246, 0.9926744738850839, 0.9953376727695906, 0.9958837267645202, 0.98766590457441, 0.004115274602393374, 0.004115274602393374, 0.0784432886372239, 0.02966765403587314, 0.02061650534696269, 0.8563392342896942, 0.0005028415938283583, 0.013576723033365674, 0.001508524781485075, 0.9960685348781988, 0.9956149867613813, 0.002608029734594995, 0.007824089203784985, 0.002608029734594995, 0.007824089203784985, 0.007824089203784985, 0.9727950910039331, 0.005687633727702424, 0.011375267455404847, 0.981116818028668, 0.9935082300719011, 0.1273378522580296, 0.06797043686800444, 0.15780962298919293, 0.5489515765986949, 0.013200055855525502, 0.07860928785603992, 0.006041816610489284, 0.22787002789294086, 0.0016237769208523102, 0.09499094986986015, 0.2564665436657288, 0.07270912212260901, 0.3437896580760086, 0.002525875210214705, 0.9879776260673926, 0.9731475401766247, 0.0022526563430014463, 0.02252656343001446, 0.0011263281715007231, 0.9935291473655816, 0.010085832550072834, 0.0006303645343795521, 0.0012607290687591042, 0.006093523832335671, 0.9718119905018096, 0.0033619441833576116, 0.006513766855255372, 0.0039040222235200575, 0.0013013407411733525, 0.0032533518529333813, 0.9890189632917479, 0.0006506703705866763, 0.0019520111117600288, 0.030929856453741363, 0.124924485157319, 0.07973475981906053, 0.0837516242935724, 0.0034143348033350857, 0.3591076840213608, 0.3181356663813397, 0.5924222455837684, 0.11283159378520956, 0.18161301171556715, 0.022025087927425982, 0.044726714391871876, 0.04029162842696357, 0.006088846833179197, 0.0022997564851794747, 0.000766585495059825, 0.9957945580827127, 0.000766585495059825, 0.000766585495059825, 0.005047123101876211, 0.00018025439649557896, 0.0007210175859823159, 0.0016222895684602106, 0.9686871267672413, 0.022892308354938527, 0.0009012719824778948, 0.9926302043755284, 0.0027496681561648985, 0.0027496681561648985, 0.0027496681561648985, 0.3296035465549139, 0.3159439247267919, 0.13023563101774357, 0.0668904381888571, 0.044524110844336676, 0.08930890149455355, 0.02346118252921722, 0.9905899950008136, 0.0013053476588781971, 0.024801605518685748, 0.0013053476588781971, 0.9711786582053787, 0.4343431061811099, 0.14814450748232558, 0.19675047255249112, 0.07515969208560458, 0.08299936387111514, 0.05424547090296831, 0.008345457061995125, 0.9968079452501806, 0.11832387531782412, 0.7958792051487221, 0.057434581814856236, 0.007341262337237264, 0.0008636779220279133, 0.017705397401572225, 0.002159194805069783, 0.9959051645562466, 0.9879288554458642, 0.9702687783646959, 0.008405793871971375, 0.007204966175975465, 0.007204966175975465, 0.0012008276959959109, 0.006004138479979554, 0.0012008276959959109, 0.00024174416711927386, 0.9640757384716642, 0.004109650841027656, 0.030943253391267054, 0.0004834883342385477, 0.9817433307481169, 0.002064654743949773, 0.010323273719748864, 0.004129309487899546, 0.0010323273719748864, 0.24764116541611395, 0.19484328016171512, 0.14910631691121784, 0.22146486447372224, 0.0929051944747584, 0.06367552185500387, 0.030374686998765582, 0.9971592608163637, 0.007806130271298833, 0.9918664275969079, 0.9944951589870189, 0.0024434770491081545, 0.01078156528040356, 0.9880987474628673, 0.012534161365540154, 0.002161062304403475, 0.15300321115176602, 0.00086442492176139, 0.03760248409662047, 0.7926776532551946, 0.00086442492176139, 0.005761165699529807, 0.0028805828497649034, 0.011522331399059614, 0.9779578774951847, 0.020205754834837174, 0.030308632252255763, 0.9331384960088441, 0.001836886803167016, 0.012858207622169111, 0.001836886803167016, 0.9980879767343057, 0.0009090054432917174, 0.6878852385144325, 0.06987249973836973, 0.19716642483825086, 0.012890524060747456, 0.01816392026741687, 0.01010734272944971, 0.00395504715500206, 0.5424701115668074, 0.15058204114016252, 0.16892983564479688, 0.04158833421050461, 0.060300482081188475, 0.02867981495618028, 0.007469244004014283, 0.9964630215438368, 0.0010090019723335085, 0.9134831189526029, 0.03497873504089496, 0.049777430635119746, 0.0006726679815556723, 0.9938254493818132, 0.0015021545302302984, 0.0015021545302302984, 0.0931335808742785, 0.004506463590690895, 0.0060086181209211935, 0.8937819454870276, 0.17837477306478464, 0.0029767292039052638, 0.00664039591640405, 0.09754512622028018, 0.6949517795271135, 0.01763139605390041, 0.001831833356249393, 0.5197658974046941, 0.14200427718038852, 0.05911117055911623, 0.08914789327345785, 0.021582450646002903, 0.06543469113055657, 0.10289467712441511, 0.008651974029551432, 0.0013310729276232972, 0.0006655364638116486, 0.9790041382669351, 0.007320901101928135, 0.003327682319058243, 0.993737060455063, 0.012642453111238485, 0.00020725332969243418, 0.0014507733078470393, 0.0008290133187697367, 0.9440389167490377, 0.03606207936648355, 0.00497407991261842, 0.9973171690899338, 0.9970091043575116, 0.004614248239028188, 0.9920633713910604, 0.9937290947472885, 0.023564626058239405, 0.9747900312758367, 0.0007854875352746468, 0.0007854875352746468, 0.9882431659319464, 0.011166589445558716, 0.9961866175546621, 0.003842241308131601, 0.0025614942054210674, 0.06403735513552669, 0.9163745519893869, 0.005122988410842135, 0.007044109064907936, 0.0012807471027105337, 0.010583858433113805, 0.08255409577828768, 0.002116771686622761, 0.08361248162159907, 0.002116771686622761, 0.8181322568796972, 0.9962249784571631, 0.005073761612316684, 0.06278779995241895, 0.013635734333101087, 0.016172615139259428, 0.1525299584702703, 0.002219770705388549, 0.7474285075144015, 0.002894866078314118, 0.03300147329278095, 0.0040528125096397655, 0.00636870537229106, 0.03763325901808354, 0.0040528125096397655, 0.9118828146689472, 0.0074689983519421665, 0.9933767808083082, 0.0013668735463451254, 0.005467494185380502, 0.9622789766269683, 0.023236850287867133, 0.008201241278070752, 0.2289402741772046, 0.21391708928112557, 0.10188512275474298, 0.24115928138278614, 0.08946340390888452, 0.09558980014836503, 0.029055335106359777, 0.9972599282934288, 0.20751628697513766, 0.31554634135847337, 0.16615268820554865, 0.2363106094552587, 0.007147235537148447, 0.03963840398476007, 0.02768526868987387, 0.0777658086003769, 0.35001376114395727, 0.0175818349879113, 0.01609414125816496, 0.01636463102720975, 0.4499597308060069, 0.07222076833495873, 0.004445524770479361, 0.9898701822267377, 0.002963683180319574, 0.001481841590159787, 0.9958171574557677, 0.0028932058818018865, 0.06017868234147924, 0.0017359235290811319, 0.12325057056476037, 0.00636505293996415, 0.0005786411763603773, 0.8043112351409245, 0.1458458593366074, 0.20752741646345088, 0.14365598156879048, 0.014453193267591724, 0.4197265721649112, 0.05299504198116966, 0.01576711992828188, 0.00215704473240809, 0.9965546663725375, 0.0015119922788883443, 0.004283978123516975, 0.03175183785665523, 0.1040754685301477, 0.03830380439850472, 0.7748960429302765, 0.04535976836665033, 0.957160009346018, 0.011361637707837907, 0.031070601078577134, 0.00023187015730281442, 0.00023187015730281442, 0.0006699492021251391, 0.00010306910801925217, 0.38831286446253255, 0.12260070398890045, 0.48298184017821566, 0.004431971644827843, 0.0008760874181636435, 0.0013613314415503379, 0.0006806657207751689, 0.9930912866109715, 0.0006806657207751689, 0.0034033286038758445, 0.07383406107108959, 0.010647465071717412, 0.6159820366900122, 0.06170293283364107, 0.22246220055580068, 0.014051162922512322, 0.0013091145579980424, 0.8892149598779938, 0.006547098098164613, 0.10356318809824024, 0.000595190736196783, 0.8326185680719563, 0.009752486888104905, 0.1557350249944252, 0.0015238260762663915, 0.0003047652152532783, 0.9954815827793266, 0.004832105975845602, 0.995413831024194, 0.3639945785063978, 0.2228991562781814, 0.11136414342990014, 0.06493037898482862, 0.08859579343061484, 0.11751544249162076, 0.030671060599412468, 0.9924757538133626, 0.9152338406477192, 0.046163110383547236, 0.020572690497015617, 0.0015053188168548013, 0.0005017729389516004, 0.015554961107499612, 0.0005017729389516004, 0.4457779316028539, 0.10078176312074472, 0.13298941506717255, 0.028233680544142607, 0.19564877810785564, 0.08021877156240845, 0.01631176633728697, 0.005982425355401869, 0.008973638033102804, 0.0009970708925669783, 0.9831119000710405, 0.01091271692834422, 0.9770519223177525, 0.01091271692834422, 0.0007275144618896146, 0.007518389680383529, 0.0035085818508456467, 0.0035085818508456467, 0.9688698168120908, 0.010525745552536941, 0.0060147117443068235, 0.9921003186044227, 0.004724287231449632, 0.993985587993085, 0.00421180333895375, 0.0009948278817425629, 0.010943106699168191, 0.005968967290455377, 0.0009948278817425629, 0.00696379517219794, 0.973936496225969, 0.995163665178604, 0.9943630150815739, 0.0038244731349291305, 0.9538436744015862, 0.006176601036828033, 0.03441249149089904, 0.002647114730069157, 0.000882371576689719, 0.778522809526774, 0.07943641760432434, 0.11594043609879708, 0.0075763057252679275, 0.00803547576922356, 0.007805890747245744, 0.002984605285711608, 0.34189716972299944, 0.0771572153652441, 0.17437875124399474, 0.16835084379358506, 0.13290100712093755, 0.07919522216990642, 0.02612093228510868, 0.3264913139994816, 0.1174346974587388, 0.18771401983602068, 0.16432118943210475, 0.12798835945131007, 0.059019842225971765, 0.017040466975266334, 0.9906478131142236, 0.005704306025609732, 0.0019014353418699108, 0.08735654742975049, 0.016294485530937916, 0.08192505225277119, 0.689573575177331, 0.09595641479330105, 0.024441728296406874, 0.004526245980816087, 0.001085680806671032, 0.001085680806671032, 0.9977406613306783, 0.0025940076467218195, 0.9960989363411787, 0.6488528369736932, 0.06433688200048371, 0.20063476715327558, 0.03263658879026616, 0.03865563180486443, 0.010566764403405848, 0.004280208365936546, 0.2727538228868598, 0.7020498179453675, 0.023899568270480596, 0.00029874460338100747, 0.00029874460338100747, 0.00029874460338100747, 0.00029874460338100747, 0.6465274887753287, 0.06978125041398216, 0.22382312716452646, 0.02017771096307918, 0.02372749344732459, 0.009715194167408493, 0.006258827011695857, 0.2862892605026069, 0.2975395597463671, 0.1295445849629604, 0.08990745471595712, 0.03769087594744982, 0.1276932698975315, 0.031329947261104385, 0.008759783538058572, 0.9898555398006187, 0.2196665323037555, 0.29662346160461617, 0.11183214743241958, 0.11619812496623465, 0.11867042549743112, 0.09594630146600815, 0.0410822705290309, 0.09932026683414069, 0.08088777265955217, 0.09426770497917734, 0.39667288859476163, 0.13422037001749865, 0.0261516858974492, 0.16851229445905547, 0.02709973895330781, 0.04414508200509852, 0.018930542283325167, 0.6553423828621654, 0.21978281040972536, 0.012725094812857581, 0.021993991034568658, 0.014086554305409702, 0.9813632832768759, 0.9930098214607072, 0.2803857994248578, 0.28875552478082367, 0.11676929333427431, 0.0685852494447206, 0.06928272655771776, 0.1446102547614109, 0.031618962455871195, 0.00039222043786600114, 0.0364765007215381, 0.002745543065062008, 0.0007844408757320023, 0.00039222043786600114, 0.9534878844522487, 0.006275527005856018, 0.16187342667944504, 0.036983383951367056, 0.11749336593780457, 0.0005689751377133393, 0.09132050960299096, 0.5917341432218729, 0.00028448756885666966, 0.025920080303264426, 0.05566926337860201, 0.008541844645393959, 0.26214626670346974, 0.010309122847889261, 0.005301834607485905, 0.6320965037591529, 0.001243310362526029, 0.05665942937797189, 0.7344411927207328, 0.028418522572023517, 0.03339176402212764, 0.006394167578705292, 0.13925076060291525, 0.8256431535782165, 0.11489532557884566, 0.05562585530138617, 0.000728722995214666, 0.000728722995214666, 0.0017003536555008872, 0.000728722995214666, 0.0032479537711733765, 0.9938738539790531, 0.7884488443670711, 0.1422623718234325, 0.06493770534420533, 0.00075072491727405, 0.000375362458637025, 0.00225217475182215, 0.00075072491727405, 0.43360809515452736, 0.2864128209080763, 0.16980572496613902, 0.03864857664151412, 0.013847350989205592, 0.0255039270457906, 0.03215892259582672, 0.987704778527685, 0.009061511729611789, 0.03280961189468827, 0.9578289924094479, 0.00846699661798407, 0.0010583745772480087, 0.9284794019712819, 0.06861741538817787, 0.0010721471154402792, 0.003698307288182394, 0.994844660521064, 0.9967863922265204, 0.9884009008669626, 0.9910938722338382, 0.9889073144592395, 0.004385182216830105, 0.015348137758905365, 0.0007308637028050174, 0.9347746758876173, 0.021925911084150523, 0.01388641035329533, 0.00877036443366021, 0.00654898139059334, 0.0021829937968644466, 0.0021829937968644466, 0.9867131961827299, 0.14646679127504525, 0.5116447100970313, 0.08824129644638663, 0.0801568111969126, 0.03930435913840028, 0.1074204476233303, 0.02666160029081857, 0.038479518039913556, 0.0019759752506982634, 0.025687678259077425, 0.18719765532930918, 0.6924233273236337, 0.033799576656680826, 0.020383744691413665, 0.9943523746790187, 0.994700614174256, 0.34543848728998533, 0.12133478584498032, 0.19827628416942877, 0.16029478817593432, 0.0891470773759172, 0.05739712174203335, 0.028119182118573536, 0.3429674428464243, 0.31108768589317054, 0.10867264558345217, 0.010218655299795334, 0.005629438847791442, 0.2013748179139308, 0.020008983730736972, 0.9980166572526562, 0.9964860502725432, 0.9955052802916611, 0.9935546702141652, 0.0027295457972916627, 0.9964234696488563, 0.9961126448754698, 0.07594586705388427, 0.09247462617087474, 0.2634878659237891, 0.08123939121553482, 0.04288834881990335, 0.13212204183058388, 0.3118858011160226, 0.4317638127807516, 0.16572877805126607, 0.17657046091005052, 0.08648518005671563, 0.050897976779789585, 0.07249858155950516, 0.01609700241247004, 0.34612308866311997, 0.04089195945527115, 0.14105121428663756, 0.08929814203337398, 0.2856055932527235, 0.05874637869513637, 0.038287376050476815, 0.9709123082867245, 0.01800764713978469, 0.009003823569892344, 0.005716753083364603, 0.031033802452550704, 0.0049000740714553745, 0.41283124052011533, 0.004083395059546145, 0.0012250185178638436, 0.540233166377955, 0.006786002614876716, 0.00969428944982388, 0.03603044245517875, 0.9130404946825791, 0.02003486486296935, 0.006786002614876716, 0.007593860069028706, 0.026125048683782976, 0.07743581845822414, 0.03381579335249212, 0.5894280646858002, 0.18258180091362933, 0.0646961879764693, 0.02594892476007208, 0.22686031421334357, 0.05618983546131485, 0.1432684348874416, 0.21304753843168384, 0.2862686605364044, 0.06334208182075031, 0.011041280317378494, 0.0022010202338151505, 0.013206121402890902, 0.9827555343984647, 0.0011005101169075753, 0.0011005101169075753, 0.5353512554434289, 0.3975034965074314, 0.0546296046707341, 0.001037868137095121, 0.0003774065953073168, 0.008397296745587798, 0.002547494518324388, 0.1890812881584685, 0.032762514163755904, 0.24352554984063748, 0.22314607798982142, 0.2118139949875739, 0.07809084617274593, 0.02159035975226592, 0.9969816924825239, 0.9952992639986071, 0.00043126801062216006, 0.837953744638857, 0.06210259352959105, 0.07978458196509962, 0.0025876080637329602, 0.016819452414264243, 0.013768393632612855, 0.9620665050788232, 0.022373639652995887, 0.09871918361609454, 0.8809875070060054, 0.015252749399911603, 0.0005649166444411705, 0.0024008957388749743, 0.001835979094433804, 0.0004236874833308779, 0.008268790110674938, 0.9806785071260476, 0.009922548132809926, 0.004531989793062445, 0.0030213265287082967, 0.9909951014163213, 0.9871578191791075, 0.003208075940698248, 0.002406056955523686, 0.001604037970349124, 0.01203028477761843, 0.009624227822094744, 0.000802018985174562, 0.97044297206122, 0.9887833994910793, 0.9936357248276537, 0.1201037200858352, 0.10655949333880607, 0.1461792506394105, 0.3256691956929888, 0.22139601413412993, 0.07512994152839232, 0.004948852080645257, 0.07350012555477893, 0.2589976690507939, 0.12195662671292161, 0.33884606218518526, 0.10390192075255594, 0.0975536531729435, 0.005183447840234013, 0.008351764487197997, 0.9896840917329626, 0.0015249990974134063, 0.0015249990974134063, 0.006099996389653625, 0.9897244142213006, 0.9959040411555309, 0.1884047669181552, 0.11927835446875841, 0.17557965197427264, 0.23551792237432076, 0.20929343360847136, 0.047184937815926094, 0.02471705921087812, 0.9913736208000573, 0.41219436012616273, 0.28426022410684265, 0.18449090453917932, 0.04025978803271103, 0.013401001376191542, 0.03838591919620967, 0.0269723544647923, 0.9918558999723975, 0.9939999999328957, 0.9918358789908528, 0.07531579254858042, 0.6722721547101584, 0.12157082912986295, 0.022279912908261736, 0.018405145445955347, 0.08742444086828789, 0.0029060755967297916, 0.9847135714669726, 0.001336618968949613, 0.11717692961124941, 0.0066830948447480654, 0.1880177349655789, 0.0031187775942157635, 0.04366288631902069, 0.6397949464705481, 0.9883691416621934, 0.009295007601838809, 0.0015491679336398015, 0.9890526660116403, 0.0008117848024623848, 0.0008117848024623848, 0.9976835222262709, 0.0004058924012311924, 0.0016278008524798454, 0.9869899168869463, 0.01085200568319897, 0.001168835948089529, 0.0014610449351119112, 0.0014610449351119112, 0.9938027648631219, 0.001168835948089529, 0.0005844179740447645, 0.9763900423178682, 0.00040197202236223474, 0.023314377297009616, 0.9982387595520906, 0.1776891366299283, 0.015560540071989896, 0.12224197200659312, 0.20024852223648135, 0.16484659482378816, 0.28729241670032, 0.03214032949367345, 0.44886187484549916, 0.05898900178046005, 0.2768656056720474, 0.11885777987382778, 0.03307958936532883, 0.029208573588535028, 0.03417930975646343, 0.9919171371957649, 0.017171050641915285, 0.9755303145938121, 0.005365953325598526, 0.0010731906651197053, 0.10659530743328695, 0.1701784732706862, 0.02831855285195092, 0.048355264775501096, 0.06839197669905128, 0.5775916157162065, 0.0005343123179613381, 0.9956832566021139, 0.008986539572694076, 0.983127429252732, 0.006290577700885854, 0.001446199556573854, 0.001446199556573854, 0.001446199556573854, 0.9920928958096639, 0.002892399113147708, 0.001446199556573854, 0.9837383187860538, 0.007499910943731033, 0.007499910943731033, 0.025647002596818878, 0.004017000406730668, 0.28252902860672363, 0.46071904664887886, 0.17685101790657837, 0.033681003410280214, 0.01658300167906763, 0.006673731335501761, 0.9899368147660946, 0.5551299115101387, 0.17215094250382718, 0.10886882903325731, 0.05670953710478496, 0.04474407756707402, 0.043901439571460574, 0.018538035903495828, 0.005298084816030767, 0.005298084816030767, 0.0013245212040076918, 0.013245212040076917, 0.9721985637416457, 0.0008810272289376502, 0.010572326747251804, 0.016739517349815356, 0.004405136144688251, 0.013215408434064754, 0.0008810272289376502, 0.9541524889394752, 0.9945686740327045, 0.002097361188904278, 0.018876250700138503, 0.6940517734282406, 0.043083294422075376, 0.06650382769817315, 0.008564224854692468, 0.1668276045674278, 0.0015557297030365184, 0.003222582956289931, 0.7968669786053482, 0.09234367023023905, 0.06489615332666619, 0.013334826026027301, 0.02766976400400665, 0.9896221019906062, 0.0021145771410055686, 0.006343731423016707, 0.040550380877773094, 0.0010552143722840582, 0.0006029796413051762, 0.0015074491032629404, 0.8505027840609509, 0.09738121207078596, 0.008290970067946173, 0.9864185700505337, 0.0056690722416697335, 0.006300904440754442, 0.9892419971984473, 0.004426491095311985, 0.9915340053498847, 0.987483806617527, 0.011120313137584764, 0.28883558203654597, 0.04177416429312682, 0.0630196032412244, 0.2730166889402516, 0.24818768197681226, 0.07520373449338638, 0.009982796614166334, 0.029569237896693697, 0.9258230348344095, 0.04384404239854583, 0.012978015822774622, 0.9337682384486341, 0.05256096408223722, 0.0018212721639599813, 0.0006070907213199938, 0.0006070907213199938, 0.010927632983759887, 0.98287987781707, 0.0006070907213199938, 0.002428362885279975, 0.0028738062911646393, 0.9914631704518005, 0.0028738062911646393, 0.9487849766173396, 0.013066663794270935, 0.005081480364438697, 0.031940733719328956, 0.0007259257663483853, 0.0007259257663483853, 0.9169664155524165, 0.024380200118084932, 0.010158416715868722, 0.03589307239606948, 0.0013544555621158294, 0.0013544555621158294, 0.010158416715868722, 0.9684569743895711, 0.030709847432511882, 0.01746894022603329, 0.003493788045206658, 0.003493788045206658, 0.0026203410339049934, 0.9677792885222443, 0.0026203410339049934, 0.001746894022603329, 0.09738244161110145, 0.7763792822022675, 0.11480407107363795, 0.0008934168955146922, 0.0017868337910293844, 0.006700626716360191, 0.0013401253432720384, 0.001148750001040395, 0.00842416667429623, 0.00459500000416158, 0.14474250013108977, 0.00612666667221544, 0.8347583340893536, 0.011090726267848842, 0.01117805482113899, 0.003929784898056676, 0.020958852789635607, 0.006549641496761127, 0.8945063713509896, 0.05169850354776783, 0.016303858551601016, 0.027128551524385296, 0.6889048428975675, 0.12468442646429302, 0.04196239004264524, 0.004810974654570792, 0.09635313127626502, 0.002947798410496662, 0.02492229565238087, 0.5626275238943401, 0.13653666274073176, 0.027334130715514503, 0.002947798410496662, 0.2426574055186116, 0.990072580771551, 0.004648228078739676, 0.023643479580375788, 0.9644050881469072, 0.009955149297000332, 0.0013734521518357946, 0.019650930787804447, 0.018488778967020312, 0.18890249596018466, 0.02091873277411441, 0.0022186534760424374, 0.7484257725849822, 0.004635638739176501, 0.020860374326294256, 0.0023178193695882507, 0.0023178193695882507, 0.9688484964878887, 0.9948967043950397, 0.027126430374382747, 0.0016954018983989217, 0.0012110013559992298, 0.005570606237596457, 0.9595974744937896, 0.0016954018983989217, 0.0033908037967978434, 0.04331099280829986, 0.002433201843162913, 0.003893122949060661, 0.003893122949060661, 0.9411624729354148, 0.002433201843162913, 0.002919842211795496, 0.9933977338545319, 0.04261456214994926, 0.007704712836710826, 0.03340981672556022, 0.45256665003246116, 0.4082475053965139, 0.036409881900916645, 0.01902314054373735, 0.993877500792502, 0.002823515627251426, 0.9938907708415314, 0.990690251568903, 0.0005176332506074139, 0.0046586992554667256, 0.0005176332506074139, 0.9938558411662348, 0.0005176332506074139, 0.13026665804014187, 0.5737671035044426, 0.139544910037303, 0.030432666550688416, 0.05325716646370473, 0.058452987582114944, 0.014288508075628098, 0.9933595557541753, 0.00019022990954059444, 0.954954145893784, 0.004755747738514861, 0.039567821184443644, 0.00038045981908118887, 0.00019022990954059444, 0.004105166814032691, 0.9934503689959112, 0.997216456675407, 0.006169087915240104, 0.003084543957620052, 0.04626815936430078, 0.004626815936430078, 0.9361590911376858, 0.9956320769573528, 0.0023203699590391195, 0.0023203699590391195, 0.0011601849795195597, 0.0011601849795195597, 0.9896377875301844, 0.003480554938558679, 0.0013122995496623719, 0.009973476577434028, 0.0028870590092572182, 0.1086584027120444, 0.0036744387390546416, 0.8655927829573006, 0.007873797297974232, 0.9945913287106547, 0.9575435628093234, 0.030422353067810118, 0.01064782357373354, 0.004244368134302794, 0.005069661938195003, 0.07580913084324156, 0.4763124239606468, 0.1552731342465772, 0.004362267249144538, 0.2790672048304087, 0.006945370353473341, 0.9779081457690465, 0.013890740706946682, 0.0004630246902315561, 0.0004630246902315561, 0.0004630246902315561, 0.9988917790307876, 0.0021639589252716034, 0.004327917850543207, 0.9900112083117585, 0.0021639589252716034, 0.005497300071268897, 0.9895140128284016, 0.0010207913518231612, 0.0010207913518231612, 0.0020415827036463223, 0.0020415827036463223, 0.9942507766757591, 0.9912886002071907, 0.0009119780835255382, 0.0009119780835255382, 0.0036479123341021527, 0.0009119780835255382, 0.0009119780835255382, 0.9931441329593111, 0.8141081915594957, 0.04884649149356974, 0.011898504338177246, 0.007514844845164576, 0.08328953036724071, 0.026615075493291205, 0.007514844845164576, 0.003868561164071244, 0.9942202191663098, 0.9923278917579619, 0.006306532005652271, 0.0003603732574658441, 0.004684852347055973, 0.9549891322844868, 0.031532660028261356, 0.0018018662873292204, 0.9871452009739891, 0.03593804818942913, 0.7895903208997876, 0.15352175925581377, 0.01953913299619448, 0.00034891308921775857, 0.00034891308921775857, 0.0010467392676532757, 0.996497765547326, 0.006641290321218799, 0.05078633775049669, 0.003906641365422823, 0.5059100568222555, 0.008203946867387927, 0.005078633775049669, 0.41937795057814004, 0.01350833336193942, 0.08447748774108384, 0.004233955232846684, 0.3352889310582874, 0.009072761213242894, 0.005242039812095894, 0.5479947772798708, 0.0004661665518029868, 7.76944253004978e-05, 0.8046811628372557, 0.0072255815529462955, 0.18568967646818973, 0.001165416379507467, 0.0006215554024039824, 0.9834582868074461, 0.01298294768062635, 0.04920179124001442, 0.025592867217588147, 0.6709695886037451, 0.0573359583401781, 0.1583186669739174, 0.02460089562000721, 0.013887602366133104, 0.9925290291322396, 0.9954297670743026, 0.9939324268813476, 0.9900906617633587, 0.006816458945014517, 0.044415721925135904, 0.004840174825175066, 0.009110917317976596, 0.8532943500617456, 0.03416593994241223, 0.053526639243112496, 0.00028471616618676863, 0.09437161886632801, 0.7033236189835121, 0.1989455749073942, 0.0015941151835528382, 0.0003188230367105676, 0.0003188230367105676, 0.0012752921468422705, 0.9888061578661926, 0.010734166464703241, 0.03824300684949209, 0.4109172062501548, 0.004877934547129093, 0.0009755869094258187, 0.004877934547129093, 0.5398897956762481, 0.00019511738188516373, 0.0010975855821213577, 0.0362203242100048, 0.01426861256757765, 0.017561369313941724, 0.005487927910606789, 0.9252646457283046, 0.0221439757230139, 0.008303990896130212, 0.005535993930753475, 0.9604949469857279, 0.09001113897125147, 0.8218802320160243, 0.06343066840255976, 0.013592286086262806, 0.002114355613418659, 0.006645117642172927, 0.00241640641533561, 0.9950419059304547, 0.00283487722487309, 0.007474437110835691, 0.004024696905834603, 0.02069844123000653, 0.9665022141011381, 0.0005749567008335147, 0.0005749567008335147, 0.9246395621588819, 0.030868088569795754, 0.042794395517216845, 0.000701547467495358, 0.18212255634804678, 0.13544766391168295, 0.0789800916483055, 0.23859012861142423, 0.17451194104770468, 0.09686237654980863, 0.09345622704476042, 0.04153609100440624, 0.10589832211033304, 0.08681417218938962, 0.029561722426559398, 0.003367791162519425, 0.7001263627859827, 0.033303712607136535, 0.9920663997833588, 0.8973883935793137, 0.06581220039922872, 0.0340215612233301, 0.001115461023715741, 0.001115461023715741, 0.0005577305118578705, 0.9913438709114024, 0.9946552816651383, 0.003616928296964139, 0.9952017781987248, 0.9914993561112462, 0.0034881662023370946, 0.9941273676660719, 0.0034881662023370946, 0.997651894268382, 0.00039494482731474963, 0.8669038959558754, 0.004739337927776996, 0.12401267577683138, 0.0035545034458327462, 0.00039494482731474963, 0.9899687980626102, 0.03328302167588265, 0.6566345293343627, 0.058386317685658544, 0.016359451332213504, 0.0022564760458225522, 0.22564760458225525, 0.007615606654651114, 0.13259216098488186, 0.4751131893223075, 0.07932506553002404, 0.03453465913576244, 0.03715092119150202, 0.237242643214465, 0.004081368806953743, 0.0031853669499056327, 0.12422931104631968, 0.023166305090222782, 0.019112201699433794, 0.0005791576272555696, 0.8284849857890922, 0.0011583152545111392, 0.00485753671498146, 0.9933662582137085, 0.2581632232440009, 0.17362514396692996, 0.1798343430340204, 0.17126764057782076, 0.0606310026551184, 0.09778658423840289, 0.058705154816127786, 0.5227641942990507, 0.06628498539755556, 0.0546441439722389, 0.20750082385321741, 0.020456235902740934, 0.06588942282485064, 0.06244237754842191, 0.019019511146081143, 0.11362305359996527, 0.012350331913039704, 0.323825702759901, 0.05532948697041787, 0.009880265530431762, 0.4661015263981184, 0.9917490914334512, 0.9965039258983623, 0.005955675913981538, 0.991620039677926, 0.01248485117157546, 0.9870835457526849, 0.006548442340348411, 0.0007276047044831568, 0.9924528169150258, 0.0011098926886392124, 0.0005549463443196062, 0.0002774731721598031, 0.9855847075116206, 0.0011098926886392124, 0.011098926886392125, 0.0017503768386328065, 0.012252637870429645, 0.9802110296343717, 0.0017503768386328065, 0.003500753677265613, 0.0017503768386328065, 0.0014071355042663332, 0.007035677521331666, 0.9878091239949659, 0.0028142710085326665, 0.0014071355042663332, 0.11147798886118032, 0.13322979156580086, 0.14979082317045517, 0.2167764883176389, 0.10348584923107353, 0.24380145531428868, 0.04144377560766718, 0.1970583013411604, 0.7643989399756459, 0.037879457493225216, 0.00042561188194635075, 0.06323323087834176, 0.0077113696193099705, 0.0024676382781791905, 0.025601747136109104, 0.8602803947302203, 0.0259102019208815, 0.014805829669075144, 0.06280978862402338, 0.003984203009732826, 0.0030467434780309848, 0.014999352507229464, 0.8915240146484512, 0.016171176921856767, 0.007499676253614732, 0.007014676185618878, 0.08838491993879787, 0.019641093319732857, 0.8824462641508548, 0.09856215085213944, 0.7915225393957757, 0.014489750771477688, 0.04633535686263744, 0.009553681827347926, 0.007165261370510945, 0.03216406215207135, 0.01918846840650856, 0.9795256253227227, 0.0009137365907861219, 0.012159647686872797, 0.9864514185975557, 0.34840611440957125, 0.1859203244502406, 0.16724890672577578, 0.1091388821751455, 0.10281981393166166, 0.06176174740490486, 0.024736453073738247, 0.23923527571151423, 0.2379959525257485, 0.11791930608267077, 0.08445758006699658, 0.12925681818949042, 0.13352559805157233, 0.05760557770873952, 0.0018097801424917682, 0.9971888585129642, 0.991538571279613, 0.061459541571169826, 0.8069276281579474, 0.10592732753148681, 0.006507480872241511, 0.0021691602907471705, 0.013014961744483022, 0.004338320581494341, 0.9950576700338022, 0.0029881611712726792, 0.012874919135128497, 0.9823563300103043, 0.0025749838270256995, 0.0012874919135128498, 0.9963270991602071, 0.01114882939573605, 0.07804180577015235, 0.013087756247168408, 0.897238400500323, 0.00048473171285808915, 0.0032055294442766063, 0.993714127725748, 0.0008443349971188141, 0.005066009982712885, 0.0033773399884752565, 0.021319458677250058, 0.0012665024956782212, 0.00042216749855940707, 0.9673968229488813, 0.004176796712899335, 0.004176796712899335, 0.9899008209571424, 0.9250100646557127, 0.040872537740601254, 0.02473864126404813, 0.004840168942965939, 0.00215118619687375, 0.0016133896476553126, 0.0016133896476553126, 0.990706076229456, 0.004695289460803108, 0.9964325814860174, 0.27022977992646485, 0.22184939258346012, 0.09754146327845074, 0.09635927769561106, 0.1140028398847843, 0.16280702960654286, 0.037205387776916496, 0.06789533154841605, 0.2190007310847405, 0.2949107747031575, 0.08336321535230332, 0.22553501863225722, 0.09581920098975709, 0.013528017188218236, 0.04246683606642932, 0.05018807898759829, 0.19092527950526902, 0.05018807898759829, 0.10002519238787072, 0.1151167126428828, 0.4509907797137329, 0.9940343876025365, 0.004525194480739923, 0.008248202456134073, 0.000392771545530194, 0.014532547184617177, 0.9752517475514716, 0.000785543091060388, 0.000392771545530194, 0.000392771545530194, 0.38559744632178494, 0.1067853770886537, 0.03191151279904427, 0.026888404302898416, 0.21528452060540423, 0.20263810627393114, 0.03102508188795971, 0.9900910616288747, 0.4600372590968107, 0.13697767500099517, 0.2056207666400074, 0.0771270692573171, 0.05008117697108457, 0.05748537561978701, 0.012648839358200005, 0.008641912967777778, 0.0007856284516161617, 0.0013748497903282829, 0.007463470290353535, 0.976732572471793, 0.000982035564520202, 0.003928142258080808, 0.015759463078187392, 0.0011256759341562424, 0.001407094917695303, 0.002814189835390606, 0.9647042755718996, 0.002532770851851545, 0.011538178325101484, 0.002105878124822871, 0.000701959374940957, 0.006317634374468613, 0.9841470436672218, 0.000701959374940957, 0.005615674999527656, 0.008041589202420991, 0.0006701324335350827, 0.006701324335350826, 0.01005198650302624, 0.9596296448222383, 0.004020794601210496, 0.011392251370096404, 0.016122395850563433, 0.0005374131950187811, 0.004030598962640858, 0.0037618923651314673, 0.9651940982537308, 0.0034931857676220772, 0.006717664937734764, 0.0047513178627652105, 0.0014619439577739108, 0.001279200963052172, 0.04294460375960863, 0.9387507638855725, 0.001279200963052172, 0.009502635725530421, 0.37662464574818594, 0.561813304498775, 0.04542700111038546, 0.001695703381330695, 0.0006247328247007823, 0.009370992370511736, 0.004462377319291303, 0.08936407591306951, 0.0297880253043565, 0.027474392271008424, 0.026317575754334386, 0.8123743988343438, 0.008965328004223802, 0.005494878454201685, 0.0033136832525061705, 0.9941049757518512, 0.005598694751734792, 0.012724306253942708, 0.0020358890006308334, 0.013233278504100417, 0.00305383350094625, 0.9609396082977534, 0.0025448612507885417, 0.0007229853209736669, 0.004699404586328835, 0.00036149266048683345, 0.009037316512170837, 0.00036149266048683345, 0.9821755585427265, 0.0025304486234078343, 0.1897701470311862, 0.5666962604967004, 0.20913444774865417, 0.013361367495052906, 0.0024205375896834973, 0.015394619070387043, 0.0031951096183822168, 0.9960917738672133, 0.00038472371791133564, 0.0017312567306010105, 0.5061040509123621, 0.02481467980528115, 0.07252042082628678, 0.00038472371791133564, 0.39376472528225204, 0.008590782377391474, 0.0006608294136454981, 0.004625805895518486, 0.007269123550100479, 0.9634892850951362, 0.007929952963745976, 0.007929952963745976, 0.001002473110320887, 0.9924483792176783, 0.0025061827758022176, 0.0030074193309626612, 0.7031434508563584, 0.05608294634659903, 0.21993128709208867, 0.001498041972530191, 0.009081879458464283, 0.009081879458464283, 0.0012171591026807803, 0.06770571023927285, 0.001574551400913322, 0.00787275700456661, 0.010592436697053257, 0.8927706443178537, 0.00658448767654662, 0.012882693280199909, 0.978337554356778, 0.01879516029603517, 0.0009892189629492195, 0.001978437925898439, 0.0349660378361272, 0.1522571774130096, 0.046916455830752955, 0.0022130403693751393, 0.007524337255875474, 0.7546467659569226, 0.0013278242216250838, 0.9654347760796004, 0.017691213174233514, 0.00926682594840803, 0.007581948503242934, 0.0008424387225825483, 0.06884120879593833, 0.036089193253826396, 0.09863743836481746, 0.3247073913498172, 0.2072625728811232, 0.18943250910710593, 0.07503882454626519, 0.005388571213755326, 0.0002694285606877663, 0.01158542810957395, 0.028828855993590995, 0.9254871059624773, 0.01966828493020694, 0.008352285381320755, 0.2704680542541549, 0.20965865853093701, 0.18394542750943188, 0.1736840915272474, 0.09374948204735101, 0.04396004247620675, 0.02451540970062756, 0.0160996974187046, 0.09621023999611422, 0.006983001290040549, 0.3815434315974933, 0.037048701288826244, 0.0017457503225101372, 0.46049014062656285, 0.00023993617369235187, 0.00011996808684617594, 0.9248339814971702, 0.011277000163540538, 0.06250337324685766, 0.0007198085210770556, 0.0003599042605385278, 0.4040175394710808, 0.18618821971194013, 0.15779685134240412, 0.11019898497373715, 0.05635462837434978, 0.0586313864958273, 0.02683461067963686, 0.18919152722904212, 0.3568714813912252, 0.2418366590365404, 0.0832271117515514, 0.039100808024661114, 0.0592027908335778, 0.03058197994405313, 0.9516529138438292, 0.013683898107558328, 0.023635824003964384, 0.0012439907370507572, 0.006219953685253785, 0.0012439907370507572, 0.0012439907370507572, 0.0031553639320368925, 0.08913903108004222, 0.0023665229490276696, 0.11201541958730969, 0.0015776819660184463, 0.0007888409830092231, 0.7904186649752416, 0.0038532209576700054, 0.9941310070788614, 0.855580550714999, 0.021298339369887443, 0.023194766848028108, 0.07862880082444748, 0.005251645324081835, 0.007439830875782601, 0.00875274220680306, 0.01381975548564214, 0.010364816614231605, 0.9725652923020657, 0.0017274694357052676, 0.5413366224131527, 0.0608680448417282, 0.20062027348916558, 0.05963592718693507, 0.0896867037093606, 0.03419126492050944, 0.013660746323782003, 0.011362106672917458, 0.23749030810451, 0.011584893078268781, 0.0004455728107026454, 0.0013367184321079362, 0.7367546424968242, 0.0011139320267566136, 0.014519903681755047, 0.16441655639634392, 0.004697615897038398, 0.00042705599063985435, 0.008114063822157232, 0.8067087663186848, 0.00042705599063985435, 0.16989453828405052, 0.0605205394760134, 0.09013697368767953, 0.10114070813786379, 0.41338142824557444, 0.10757906340126946, 0.05732087201177542, 0.44240913815191363, 0.12418353612415352, 0.10767652211992043, 0.08922252697672653, 0.15459453500118292, 0.057033849668472004, 0.02484517236021749, 0.5098889541390197, 0.20151224567677695, 0.19660038468840552, 0.028274686971522765, 0.01738043118962201, 0.03432005434182608, 0.012090734740606617, 0.9802370100524993, 0.19109933485390668, 0.06743772561416699, 0.06388023091433707, 0.07648613604634306, 0.43308631128364117, 0.10525544101018494, 0.06264284145352667, 0.38641415724948097, 0.11835294577043506, 0.20709980577002332, 0.09160275251767637, 0.12099464634966657, 0.057998417221506185, 0.01753993988192452, 0.15123321910190302, 0.17816442732792476, 0.06249971630142497, 0.1864798402263976, 0.14978472782281418, 0.19007424451154395, 0.08181293335594256, 0.29980558683563946, 0.32934033795513556, 0.14990279341781973, 0.16989447636898808, 0.015254977582947268, 0.006060196574047545, 0.02967406598326729, 0.003859020926482923, 0.9544645091501096, 0.018008764323586973, 0.001286340308827641, 0.003859020926482923, 0.018008764323586973, 0.42537230181168545, 0.2611773656866842, 0.17877299120152004, 0.0513045236552574, 0.03468042576098157, 0.03974438173493021, 0.008951437327686983, 0.00275905240509152, 0.9932588658329471, 0.40185132696794656, 0.03870110534883193, 0.31208222170392663, 0.1088771698096838, 0.06387137311329781, 0.05771217464299498, 0.01687717376114475, 0.0006727951219233116, 0.0006727951219233116, 0.9257660877664768, 0.0006727951219233116, 0.07131628292387103, 0.0006727951219233116, 0.0013455902438466233, 0.2690622638895275, 0.04573308080055959, 0.3013297247278439, 0.1643806176815009, 0.11910611836572357, 0.06328424489995393, 0.03714510026736426, 0.008582967780819573, 0.002145741945204893, 0.982749810903841, 0.002145741945204893, 0.8137827759415336, 0.06555868247514982, 0.014964481869327674, 0.03741120467331919, 0.024940803115546126, 0.04061787935960369, 0.002850377498919557, 0.996582469500072, 0.008251358738123655, 0.8221889599773212, 0.04037271954010502, 0.004715062136070659, 0.0038309879855574105, 0.08162951323072329, 0.03889926262258294, 0.10185501064846457, 0.0013154706172310922, 0.09978784253567285, 0.7387307137622033, 0.0033826387300228086, 0.05431014405425509, 0.0007516974955606241, 0.9088786193298076, 0.04124192365109572, 0.04824526917675349, 0.9959484351111272, 0.9914599498449211, 0.9968327050646913, 0.25473516840231347, 0.06443785207162935, 0.07485758985342474, 0.14340849631260488, 0.02152498462818257, 0.40568426442542815, 0.0352351659200186, 0.9901941265211265, 0.007866171397589777, 0.9771532913894855, 0.00961420948594306, 0.0008740190441766418, 0.0034960761767065672, 0.004786082016201695, 0.9871294158415996, 0.005982602520252119, 0.35600569595275056, 0.05753379408155945, 0.1616552300990047, 0.15480109744704085, 0.13626424914053556, 0.11013670467319864, 0.023590492381236863, 0.19777863994127054, 0.15482515658822874, 0.20382679858380648, 0.09207069525898648, 0.13436928245328236, 0.09811885390152242, 0.1190370076779365, 0.9955607494343646, 0.9965106708611162, 0.007194914153747931, 0.0035974570768739656, 0.014389828307495862, 0.9749108678328446, 0.6336657489623738, 0.10098026397429133, 0.21783719372951169, 0.017627768624413863, 0.014242303127009874, 0.010740097440040234, 0.004903087961757498, 0.005886652356114106, 0.0006727602692701835, 0.0008409503365877294, 0.007063982827336927, 0.912599305265004, 0.05567091228210769, 0.016987196799072134, 0.3721959559618945, 0.20793908264400793, 0.15863848814530127, 0.08256967109658088, 0.09736573257202803, 0.05774288007217252, 0.02356191896984727, 0.5270589604313569, 0.1185295050110017, 0.1724218153630294, 0.05842530841902067, 0.04516209185263379, 0.055459272646790694, 0.022944805030458308, 0.9933927231836907, 0.12477539234291762, 0.0060375189843347235, 0.1431115611101564, 0.04561681010386236, 0.6150442950523206, 0.05545572993018561, 0.010062531640557874, 0.9674572974131673, 0.0008318635403380631, 0.02162845204878964, 0.007486771863042568, 0.002495590621014189, 0.9934459993819998], \"Term\": [\"aandelen\", \"aandelen\", \"aandelen\", \"aandelen\", \"aandelen\", \"aandelen\", \"aangehouden\", \"aangehouden\", \"aangehouden\", \"aangehouden\", \"aangehouden\", \"aangehouden\", \"aangehouden\", \"aangifte\", \"aangifte\", \"aangifte\", \"aangifte\", \"aangifte\", \"aangifte\", \"aangifte\", \"aanhangers\", \"aanhangers\", \"aanhangers\", \"aanhangers\", \"aanhangers\", \"aanhangers\", \"aanhangers\", \"aantal\", \"aantal\", \"aantal\", \"aantal\", \"aantal\", \"aantal\", \"aantal\", \"abiy\", \"abiy\", \"abn\", \"abn\", \"abn\", \"abn\", \"abn\", \"abn\", \"acteur\", \"acteur\", \"acteur\", \"acteur\", \"acteur\", \"acteur\", \"acteur\", \"acteurs\", \"acteurs\", \"acteurs\", \"acteurs\", \"acteurs\", \"actrice\", \"actrice\", \"actrice\", \"actrice\", \"actrice\", \"actrice\", \"advocaat\", \"advocaat\", \"advocaat\", \"advocaat\", \"advocaat\", \"advocaat\", \"advocaat\", \"adyen\", \"aeb\", \"afgelopen\", \"afgelopen\", \"afgelopen\", \"afgelopen\", \"afgelopen\", \"afgelopen\", \"afgelopen\", \"afgevaardigden\", \"afgevaardigden\", \"afgevaardigden\", \"afgevaardigden\", \"afgevaardigden\", \"afgevaardigden\", \"afghaanse\", \"afghaanse\", \"afghaanse\", \"afghaanse\", \"afghaanse\", \"afghaanse\", \"afghanen\", \"afghanen\", \"afghanen\", \"afghanen\", \"afghanistan\", \"afghanistan\", \"afghanistan\", \"afghanistan\", \"afghanistan\", \"afghanistan\", \"afghanistan\", \"afkeuring\", \"afkeuring\", \"afkeuring\", \"afkeuring\", \"afkeuring\", \"agenten\", \"agenten\", \"agenten\", \"agenten\", \"agenten\", \"agenten\", \"agenten\", \"ajax\", \"ajax\", \"ajax\", \"ajax\", \"ajax\", \"ajax\", \"album\", \"album\", \"album\", \"albums\", \"albums\", \"albums\", \"alle\", \"alle\", \"alle\", \"alle\", \"alle\", \"alle\", \"alle\", \"alleen\", \"alleen\", \"alleen\", \"alleen\", \"alleen\", \"alleen\", \"alleen\", \"allemaal\", \"allemaal\", \"allemaal\", \"allemaal\", \"allemaal\", \"allemaal\", \"allemaal\", \"amerikaanse\", \"amerikaanse\", \"amerikaanse\", \"amerikaanse\", \"amerikaanse\", \"amerikaanse\", \"amerikaanse\", \"amerikanen\", \"amerikanen\", \"amerikanen\", \"amerikanen\", \"amerikanen\", \"amerikanen\", \"amerikanen\", \"amfi\", \"amhara\", \"amrish\", \"amsterdam\", \"amsterdam\", \"amsterdam\", \"amsterdam\", \"amsterdam\", \"amsterdam\", \"amsterdam\", \"anis\", \"antistoffen\", \"antistoffen\", \"antistoffen\", \"antistoffen\", \"armoedebeleid\", \"artiesten\", \"artiesten\", \"artiesten\", \"artiesten\", \"artiesten\", \"artiesten\", \"artiesten\", \"assange\", \"assange\", \"asscher\", \"asscher\", \"asscher\", \"astrazeneca\", \"astrazeneca\", \"astrazeneca\", \"astrazeneca\", \"astrazeneca\", \"astrazeneca\", \"astrazeneca\", \"aung\", \"aung\", \"avondlockdown\", \"avr\", \"az\", \"az\", \"az\", \"az\", \"az\", \"az\", \"baerbock\", \"baidjoe\", \"bak\", \"bak\", \"bak\", \"bak\", \"bak\", \"bak\", \"bak\", \"baldwin\", \"basisplaats\", \"baudet\", \"baudet\", \"baudet\", \"baudet\", \"baudet\", \"baudet\", \"bediening\", \"bediening\", \"bediening\", \"bedrijf\", \"bedrijf\", \"bedrijf\", \"bedrijf\", \"bedrijf\", \"bedrijf\", \"bedrijf\", \"bedrijven\", \"bedrijven\", \"bedrijven\", \"bedrijven\", \"bedrijven\", \"bedrijven\", \"bedrijven\", \"beetje\", \"beetje\", \"beetje\", \"beetje\", \"beetje\", \"beetje\", \"beetje\", \"belarus\", \"belarus\", \"beleggers\", \"beleggers\", \"beleggers\", \"beleggers\", \"beleggers\", \"benzema\", \"bereiding\", \"berghuis\", \"berghuis\", \"berghuis\", \"bergwijn\", \"besiktas\", \"besmet\", \"besmet\", \"besmet\", \"besmet\", \"besmet\", \"besmet\", \"besmet\", \"besmettelijker\", \"besmettelijker\", \"besmettelijker\", \"besmettelijker\", \"besmettelijker\", \"besmettelijker\", \"besmetting\", \"besmetting\", \"besmetting\", \"besmetting\", \"besmetting\", \"besmetting\", \"besmetting\", \"besmettingen\", \"besmettingen\", \"besmettingen\", \"besmettingen\", \"besmettingen\", \"besmettingen\", \"besmettingen\", \"beste\", \"beste\", \"beste\", \"beste\", \"beste\", \"beste\", \"beste\", \"bestorming\", \"bestorming\", \"bestorming\", \"bestorming\", \"bestorming\", \"bestorming\", \"bestorming\", \"bestuurscultuur\", \"bestuurscultuur\", \"bestuurscultuur\", \"betalen\", \"betalen\", \"betalen\", \"betalen\", \"betalen\", \"betalen\", \"betalen\", \"beyer\", \"biden\", \"biden\", \"biden\", \"biden\", \"biden\", \"biden\", \"biden\", \"bloedplaatjes\", \"blokjes\", \"blokjes\", \"blokjes\", \"boek\", \"boek\", \"boek\", \"boek\", \"boek\", \"boek\", \"boek\", \"bolsonaro\", \"bolsonaro\", \"bolsonaro\", \"bolsonaro\", \"bomen\", \"bomen\", \"bomen\", \"bomen\", \"bomen\", \"bomen\", \"bomen\", \"boom\", \"boom\", \"boom\", \"boom\", \"boom\", \"boom\", \"boom\", \"boostercampagne\", \"boosteren\", \"boosterprik\", \"boosterprik\", \"boosterprikken\", \"boosters\", \"brandstoffen\", \"brandstoffen\", \"brandstoffen\", \"breitner\", \"brievenbusfirma\", \"broeikasgassen\", \"broeikasgassen\", \"broeikasgassen\", \"broodje\", \"broodje\", \"broodje\", \"broodje\", \"broodje\", \"broodje\", \"brunswijk\", \"brunswijk\", \"buitenlandse\", \"buitenlandse\", \"buitenlandse\", \"buitenlandse\", \"buitenlandse\", \"buitenlandse\", \"buitenlandse\", \"buk\", \"buk\", \"buk\", \"buk\", \"burgemeester\", \"burgemeester\", \"burgemeester\", \"burgemeester\", \"burgemeester\", \"burgemeester\", \"burgemeester\", \"buurt\", \"buurt\", \"buurt\", \"buurt\", \"buurt\", \"buurt\", \"buurt\", \"campion\", \"cannes\", \"cannes\", \"capitool\", \"capitool\", \"capitool\", \"capitool\", \"capitool\", \"capitool\", \"capitool\", \"cbg\", \"cd\", \"cd\", \"cd\", \"cd\", \"cd\", \"cd\", \"cda\", \"cda\", \"cda\", \"cda\", \"cda\", \"cda\", \"cda\", \"ceder\", \"champignons\", \"champions\", \"champions\", \"champions\", \"champions\", \"champions\", \"cheney\", \"china\", \"china\", \"china\", \"china\", \"china\", \"china\", \"china\", \"chinese\", \"chinese\", \"chinese\", \"chinese\", \"chinese\", \"chinese\", \"chinese\", \"christenunie\", \"christenunie\", \"christenunie\", \"christenunie\", \"cinema\", \"cinema\", \"cinema\", \"club\", \"club\", \"club\", \"club\", \"club\", \"club\", \"club\", \"co\", \"co\", \"co\", \"co\", \"co\", \"co\", \"co\", \"coalitie\", \"coalitie\", \"coalitie\", \"coalitie\", \"coalitie\", \"commissie\", \"commissie\", \"commissie\", \"commissie\", \"commissie\", \"commissie\", \"commissie\", \"componist\", \"componist\", \"componist\", \"componisten\", \"componisten\", \"componisten\", \"concert\", \"concert\", \"concert\", \"concert\", \"concert\", \"concert\", \"concert\", \"congreslid\", \"corona\", \"corona\", \"corona\", \"corona\", \"corona\", \"corona\", \"corona\", \"coronapatienten\", \"coronapatienten\", \"coronapatienten\", \"coronapatienten\", \"coronapatienten\", \"coronavirus\", \"coronavirus\", \"coronavirus\", \"coronavirus\", \"coronavirus\", \"coronavirus\", \"coronavirus\", \"covid\", \"covid\", \"covid\", \"covid\", \"covid\", \"covid\", \"covid\", \"covidzorg\", \"croissants\", \"cuomo\", \"cuomo\", \"dag\", \"dag\", \"dag\", \"dag\", \"dag\", \"dag\", \"dag\", \"datacenters\", \"debat\", \"debat\", \"debat\", \"debat\", \"debat\", \"debat\", \"debat\", \"deelnemingen\", \"deltavariant\", \"deltavariant\", \"deltavariant\", \"deltavariant\", \"democraten\", \"democraten\", \"democraten\", \"democraten\", \"democraten\", \"democratische\", \"democratische\", \"democratische\", \"democratische\", \"democratische\", \"democratische\", \"democratische\", \"desantis\", \"devyne\", \"dingen\", \"dingen\", \"dingen\", \"dingen\", \"dingen\", \"dingen\", \"dingen\", \"dirigent\", \"dirigent\", \"dirigent\", \"dissel\", \"dissel\", \"dissel\", \"dissel\", \"dissel\", \"dnb\", \"dnb\", \"dnb\", \"dnb\", \"documentaire\", \"documentaire\", \"documentaire\", \"documentaire\", \"documentaire\", \"documentaire\", \"documentaire\", \"doe\", \"doe\", \"doe\", \"doe\", \"doe\", \"doe\", \"doe\", \"donald\", \"donald\", \"donald\", \"donald\", \"donald\", \"donald\", \"donald\", \"drees\", \"drie\", \"drie\", \"drie\", \"drie\", \"drie\", \"drie\", \"drie\", \"ducournau\", \"duels\", \"duels\", \"dzeszes\", \"dzeszes\", \"dzeszes\", \"dzeszes\", \"dzeszes\", \"dzeszes\", \"dzeszes\", \"ebi\", \"ecb\", \"ecdc\", \"echt\", \"echt\", \"echt\", \"echt\", \"echt\", \"echt\", \"echt\", \"economie\", \"economie\", \"economie\", \"economie\", \"economie\", \"economie\", \"economie\", \"economische\", \"economische\", \"economische\", \"economische\", \"economische\", \"economische\", \"economische\", \"eerder\", \"eerder\", \"eerder\", \"eerder\", \"eerder\", \"eerder\", \"eerder\", \"eerdmans\", \"eerdmans\", \"eerdmans\", \"eerste\", \"eerste\", \"eerste\", \"eerste\", \"eerste\", \"eerste\", \"eerste\", \"eet\", \"eet\", \"eet\", \"eet\", \"eet\", \"eet\", \"eet\", \"eigen\", \"eigen\", \"eigen\", \"eigen\", \"eigen\", \"eigen\", \"eigen\", \"eilish\", \"eitjes\", \"eitjes\", \"elektroden\", \"elftal\", \"elftal\", \"elftal\", \"elftal\", \"elftal\", \"elftal\", \"elkaar\", \"elkaar\", \"elkaar\", \"elkaar\", \"elkaar\", \"elkaar\", \"elkaar\", \"ema\", \"ema\", \"ema\", \"ema\", \"ema\", \"ema\", \"energieprijzen\", \"eredivisie\", \"eredivisie\", \"eredivisie\", \"eredivisie\", \"eredivisie\", \"eten\", \"eten\", \"eten\", \"eten\", \"eten\", \"eten\", \"eten\", \"eu\", \"eu\", \"eu\", \"eu\", \"eu\", \"eu\", \"eu\", \"euro\", \"euro\", \"euro\", \"euro\", \"euro\", \"euro\", \"euro\", \"europa\", \"europa\", \"europa\", \"europa\", \"europa\", \"europa\", \"europa\", \"europese\", \"europese\", \"europese\", \"europese\", \"europese\", \"europese\", \"europese\", \"evacuatielijst\", \"evacues\", \"evacues\", \"even\", \"even\", \"even\", \"even\", \"even\", \"even\", \"even\", \"everhardt\", \"everhardt\", \"facebook\", \"facebook\", \"facebook\", \"facebook\", \"facebook\", \"facebook\", \"facebook\", \"falafel\", \"fc\", \"fc\", \"fc\", \"fc\", \"fc\", \"fc\", \"fdp\", \"fdp\", \"festival\", \"festival\", \"festival\", \"festival\", \"festival\", \"festival\", \"festival\", \"feyenoord\", \"feyenoord\", \"feyenoord\", \"feyenoord\", \"feyenoord\", \"feyenoord\", \"fiets\", \"fiets\", \"fiets\", \"fiets\", \"fiets\", \"fiets\", \"fiets\", \"fietsen\", \"fietsen\", \"fietsen\", \"fietsen\", \"fietsen\", \"fietsen\", \"fietsen\", \"fietsers\", \"fietsers\", \"fietsers\", \"fietsers\", \"fietsers\", \"fietsers\", \"fietsers\", \"fijn\", \"fijn\", \"fijn\", \"fijn\", \"fijn\", \"fijn\", \"fijn\", \"film\", \"film\", \"film\", \"film\", \"film\", \"film\", \"film\", \"filmfestival\", \"filmmaker\", \"filmmaker\", \"filmmaker\", \"films\", \"films\", \"films\", \"films\", \"films\", \"films\", \"films\", \"finale\", \"finale\", \"finale\", \"finale\", \"finale\", \"finale\", \"finale\", \"financiele\", \"financiele\", \"financiele\", \"financiele\", \"financiele\", \"financiele\", \"financiele\", \"formatie\", \"formatie\", \"formatie\", \"formatie\", \"formatie\", \"fossiele\", \"fossiele\", \"fossiele\", \"fossiele\", \"fossiele\", \"fractieleiders\", \"fractieleiders\", \"freddie\", \"frontex\", \"frost\", \"ga\", \"ga\", \"ga\", \"ga\", \"ga\", \"ga\", \"ga\", \"gaan\", \"gaan\", \"gaan\", \"gaan\", \"gaan\", \"gaan\", \"gaan\", \"gaat\", \"gaat\", \"gaat\", \"gaat\", \"gaat\", \"gaat\", \"gaat\", \"galen\", \"galgut\", \"gario\", \"garnalen\", \"garnalen\", \"garnalen\", \"gas\", \"gas\", \"gas\", \"gas\", \"gas\", \"gas\", \"gas\", \"gasprijs\", \"gasprijzen\", \"gaza\", \"gaza\", \"gaza\", \"gaza\", \"gaza\", \"gaza\", \"gazastrook\", \"gazastrook\", \"gazastrook\", \"gebit\", \"geld\", \"geld\", \"geld\", \"geld\", \"geld\", \"geld\", \"geld\", \"gemeente\", \"gemeente\", \"gemeente\", \"gemeente\", \"gemeente\", \"gemeente\", \"gemeente\", \"gepolst\", \"gerechten\", \"gerechten\", \"gerechten\", \"gerechten\", \"gerichtheid\", \"gevaccineerd\", \"gevaccineerd\", \"gevaccineerd\", \"gevaccineerd\", \"gevaccineerd\", \"gevaccineerd\", \"gevaccineerd\", \"gevaccineerden\", \"gevaccineerden\", \"gevaccineerden\", \"gevaccineerden\", \"gevaccineerden\", \"gevaccineerden\", \"geweld\", \"geweld\", \"geweld\", \"geweld\", \"geweld\", \"geweld\", \"geweld\", \"gewoon\", \"gewoon\", \"gewoon\", \"gewoon\", \"gewoon\", \"gewoon\", \"gewoon\", \"gezondheidsraad\", \"gezondheidsraad\", \"gezondheidsraad\", \"gezondheidsraad\", \"gezondheidsraad\", \"ggd\", \"ggd\", \"ggd\", \"ggd\", \"ggd\", \"ggd\", \"ggd\", \"giet\", \"giet\", \"giet\", \"giet\", \"ging\", \"ging\", \"ging\", \"ging\", \"ging\", \"ging\", \"ging\", \"gl\", \"goals\", \"goals\", \"goals\", \"goals\", \"goed\", \"goed\", \"goed\", \"goed\", \"goed\", \"goed\", \"goed\", \"gospel\", \"gouden\", \"gouden\", \"gouden\", \"gouden\", \"gouden\", \"gouden\", \"gouden\", \"gr\", \"graaff\", \"gram\", \"gram\", \"gram\", \"gram\", \"gram\", \"gram\", \"gram\", \"groenlinks\", \"groenlinks\", \"groenlinks\", \"groenlinks\", \"groenlinks\", \"groenten\", \"groenten\", \"groenten\", \"groenten\", \"groenten\", \"grote\", \"grote\", \"grote\", \"grote\", \"grote\", \"grote\", \"grote\", \"haaland\", \"hag\", \"hag\", \"haitink\", \"haitink\", \"haller\", \"haller\", \"halsema\", \"halsema\", \"halsema\", \"halsema\", \"halsema\", \"halsema\", \"halsema\", \"hamas\", \"hamas\", \"hamas\", \"hamas\", \"hamer\", \"hamer\", \"hamer\", \"hamer\", \"hamer\", \"hamer\", \"hamilton\", \"hamilton\", \"hebt\", \"hebt\", \"hebt\", \"hebt\", \"hebt\", \"hebt\", \"hebt\", \"heel\", \"heel\", \"heel\", \"heel\", \"heel\", \"heel\", \"heel\", \"herstelbewijs\", \"hoekstra\", \"hoekstra\", \"hoekstra\", \"hoekstra\", \"hoekstra\", \"homofoob\", \"hooggerechtshof\", \"hooggerechtshof\", \"hooggerechtshof\", \"hooggerechtshof\", \"hooggerechtshof\", \"hooggerechtshof\", \"horeca\", \"horeca\", \"horeca\", \"horeca\", \"horeca\", \"horeca\", \"horeca\", \"huis\", \"huis\", \"huis\", \"huis\", \"huis\", \"huis\", \"huis\", \"huisartsen\", \"huisartsen\", \"huisartsen\", \"huisartsen\", \"huisartsen\", \"huisartsen\", \"huisgemaakte\", \"ic\", \"ic\", \"ic\", \"ic\", \"ic\", \"ic\", \"ic\", \"idfa\", \"ilt\", \"immunoloog\", \"immunoloog\", \"impeachment\", \"inflatie\", \"inflatie\", \"inflatie\", \"inflatie\", \"informateur\", \"informateur\", \"informateurs\", \"investeringen\", \"investeringen\", \"investeringen\", \"investeringen\", \"investeringen\", \"investeringen\", \"investeringen\", \"iran\", \"iran\", \"iran\", \"iran\", \"iran\", \"iran\", \"islamabad\", \"israel\", \"israel\", \"israel\", \"israel\", \"israel\", \"israel\", \"israel\", \"israelische\", \"israelische\", \"israelische\", \"israelische\", \"israelische\", \"israelische\", \"israelische\", \"israels\", \"israels\", \"iv\", \"iv\", \"iv\", \"iv\", \"iv\", \"jaar\", \"jaar\", \"jaar\", \"jaar\", \"jaar\", \"jaar\", \"jaar\", \"janssenvaccin\", \"jaren\", \"jaren\", \"jaren\", \"jaren\", \"jaren\", \"jaren\", \"jaren\", \"jarige\", \"jarige\", \"jarige\", \"jarige\", \"jarige\", \"jarige\", \"jarige\", \"jazz\", \"jazz\", \"jazz\", \"jazz\", \"jfvd\", \"joe\", \"joe\", \"joe\", \"joe\", \"joe\", \"joe\", \"joe\", \"jonge\", \"jonge\", \"jonge\", \"jonge\", \"jonge\", \"jonge\", \"jonge\", \"jurrien\", \"jurrien\", \"justitie\", \"justitie\", \"justitie\", \"justitie\", \"justitie\", \"justitie\", \"justitie\", \"kaag\", \"kaag\", \"kaag\", \"kaag\", \"kaag\", \"kabinet\", \"kabinet\", \"kabinet\", \"kabinet\", \"kabinet\", \"kabinet\", \"kabinet\", \"kabul\", \"kabul\", \"kabul\", \"kabul\", \"kabul\", \"kamer\", \"kamer\", \"kamer\", \"kamer\", \"kamer\", \"kamer\", \"kamer\", \"kamerleden\", \"kamerleden\", \"kamerleden\", \"kamerleden\", \"kamerlid\", \"kamerlid\", \"kamerlid\", \"kamerlid\", \"kamerlid\", \"kane\", \"kavala\", \"kavala\", \"keer\", \"keer\", \"keer\", \"keer\", \"keer\", \"keer\", \"keer\", \"kerstbomen\", \"keuken\", \"keuken\", \"keuken\", \"keuken\", \"keuken\", \"keuken\", \"keuken\", \"kinderen\", \"kinderen\", \"kinderen\", \"kinderen\", \"kinderen\", \"kinderen\", \"kinderen\", \"klaassen\", \"klaassen\", \"klaassen\", \"klaassen\", \"klaver\", \"klaver\", \"klaver\", \"klaver\", \"klm\", \"klm\", \"klm\", \"klm\", \"klm\", \"klm\", \"knapperig\", \"knapperig\", \"knoflook\", \"knoflook\", \"knvb\", \"knvb\", \"knvb\", \"knvb\", \"knvb\", \"knvb\", \"kockelmann\", \"koekenpan\", \"koekenpan\", \"koken\", \"koken\", \"koken\", \"koken\", \"koken\", \"kom\", \"kom\", \"kom\", \"kom\", \"kom\", \"kom\", \"kom\", \"komen\", \"komen\", \"komen\", \"komen\", \"komen\", \"komen\", \"komen\", \"komt\", \"komt\", \"komt\", \"komt\", \"komt\", \"komt\", \"komt\", \"kook\", \"kook\", \"kook\", \"kosten\", \"kosten\", \"kosten\", \"kosten\", \"kosten\", \"kosten\", \"kosten\", \"kroongetuige\", \"kroongetuige\", \"kroongetuige\", \"kukenheim\", \"kukenheim\", \"kun\", \"kun\", \"kun\", \"kun\", \"kun\", \"kun\", \"kun\", \"kunstenaar\", \"kunstenaar\", \"kunstenaar\", \"kunstenaar\", \"kunstenaar\", \"kunstenaar\", \"kunstenaar\", \"kunt\", \"kunt\", \"kunt\", \"kunt\", \"kunt\", \"kunt\", \"kunt\", \"kwam\", \"kwam\", \"kwam\", \"kwam\", \"kwam\", \"kwam\", \"kwam\", \"kyi\", \"kyi\", \"laatste\", \"laatste\", \"laatste\", \"laatste\", \"laatste\", \"laatste\", \"laatste\", \"land\", \"land\", \"land\", \"land\", \"land\", \"land\", \"land\", \"landen\", \"landen\", \"landen\", \"landen\", \"landen\", \"landen\", \"landen\", \"lapid\", \"lapid\", \"lareb\", \"later\", \"later\", \"later\", \"later\", \"later\", \"later\", \"later\", \"league\", \"league\", \"league\", \"league\", \"league\", \"league\", \"league\", \"leerlingen\", \"leerlingen\", \"leerlingen\", \"leerlingen\", \"leerlingen\", \"leerlingen\", \"leerlingen\", \"leger\", \"leger\", \"leger\", \"leger\", \"leger\", \"leger\", \"leger\", \"leider\", \"leider\", \"leider\", \"leider\", \"leider\", \"leider\", \"leider\", \"lekker\", \"lekker\", \"lekker\", \"lekker\", \"lekker\", \"lekker\", \"lekker\", \"lennon\", \"lennon\", \"leuk\", \"leuk\", \"leuk\", \"leuk\", \"leuk\", \"leuk\", \"leuk\", \"leven\", \"leven\", \"leven\", \"leven\", \"leven\", \"leven\", \"leven\", \"liander\", \"liander\", \"liedjes\", \"liedjes\", \"liedjes\", \"liedjes\", \"lijsttrekker\", \"lijsttrekker\", \"lijsttrekker\", \"lil\", \"lil\", \"lira\", \"liz\", \"lpf\", \"lubbers\", \"luchthaven\", \"luchthaven\", \"luchthaven\", \"luchthaven\", \"luchthaven\", \"luchthaven\", \"luchthaven\", \"luchtvaart\", \"luchtvaart\", \"luchtvaart\", \"luchtvaart\", \"maakte\", \"maakte\", \"maakte\", \"maakte\", \"maakte\", \"maakte\", \"maakte\", \"maatregelen\", \"maatregelen\", \"maatregelen\", \"maatregelen\", \"maatregelen\", \"maatregelen\", \"maatregelen\", \"maatschappijen\", \"magritte\", \"maken\", \"maken\", \"maken\", \"maken\", \"maken\", \"maken\", \"maken\", \"man\", \"man\", \"man\", \"man\", \"man\", \"man\", \"man\", \"manchin\", \"marengoproces\", \"mayo\", \"mayonaise\", \"mayonaise\", \"mazraoui\", \"mcconnell\", \"media\", \"media\", \"media\", \"media\", \"media\", \"media\", \"media\", \"mee\", \"mee\", \"mee\", \"mee\", \"mee\", \"mee\", \"mee\", \"mensen\", \"mensen\", \"mensen\", \"mensen\", \"mensen\", \"mensen\", \"mensen\", \"menu\", \"menu\", \"menu\", \"militaire\", \"militaire\", \"militaire\", \"militaire\", \"militaire\", \"militaire\", \"militaire\", \"miljard\", \"miljard\", \"miljard\", \"miljard\", \"miljard\", \"miljard\", \"miljard\", \"miljoen\", \"miljoen\", \"miljoen\", \"miljoen\", \"miljoen\", \"miljoen\", \"miljoen\", \"minder\", \"minder\", \"minder\", \"minder\", \"minder\", \"minder\", \"minder\", \"moderna\", \"moderna\", \"moderna\", \"moderna\", \"moderna\", \"moeder\", \"moeder\", \"moeder\", \"moeder\", \"moeder\", \"moeder\", \"moeder\", \"moeten\", \"moeten\", \"moeten\", \"moeten\", \"moeten\", \"moeten\", \"moeten\", \"morawiecki\", \"most\", \"motie\", \"motie\", \"motie\", \"motie\", \"motie\", \"motie\", \"musici\", \"musici\", \"musici\", \"muziek\", \"muziek\", \"muziek\", \"muziek\", \"muziek\", \"muziek\", \"muziek\", \"muzikale\", \"muzikale\", \"muzikale\", \"nabil\", \"nabil\", \"nabil\", \"naftali\", \"navalny\", \"navalny\", \"navalny\", \"navalny\", \"navalny\", \"navalny\", \"navalny\", \"ncsc\", \"nec\", \"nederland\", \"nederland\", \"nederland\", \"nederland\", \"nederland\", \"nederland\", \"nederland\", \"nederlandse\", \"nederlandse\", \"nederlandse\", \"nederlandse\", \"nederlandse\", \"nederlandse\", \"nederlandse\", \"neres\", \"neres\", \"netanyahu\", \"netanyahu\", \"netanyahu\", \"netanyahu\", \"nft\", \"nieuwe\", \"nieuwe\", \"nieuwe\", \"nieuwe\", \"nieuwe\", \"nieuwe\", \"nieuwe\", \"noedels\", \"nooit\", \"nooit\", \"nooit\", \"nooit\", \"nooit\", \"nooit\", \"nooit\", \"noordermarkt\", \"noussair\", \"novavax\", \"nummer\", \"nummer\", \"nummer\", \"nummer\", \"nummer\", \"nummer\", \"nummer\", \"obrador\", \"oekraine\", \"oekraine\", \"oekraine\", \"oekraine\", \"oekraine\", \"oekraine\", \"oekraine\", \"olijfolie\", \"olijfolie\", \"olijfolie\", \"omgetoverd\", \"omikron\", \"omikron\", \"omikron\", \"omikron\", \"omikronvariant\", \"omikronvariant\", \"omikronvariant\", \"omt\", \"omt\", \"omt\", \"omt\", \"omt\", \"omt\", \"omtzigt\", \"omtzigt\", \"omtzigt\", \"onana\", \"onderzoek\", \"onderzoek\", \"onderzoek\", \"onderzoek\", \"onderzoek\", \"onderzoek\", \"onderzoek\", \"onze\", \"onze\", \"onze\", \"onze\", \"onze\", \"onze\", \"onze\", \"openingsplan\", \"opera\", \"opera\", \"opera\", \"opera\", \"oranje\", \"oranje\", \"oranje\", \"oranje\", \"oranje\", \"oranje\", \"oranje\", \"orchestra\", \"orkest\", \"orkest\", \"orkest\", \"outbreak\", \"outbreak\", \"outbreak\", \"outbreak\", \"outbreak\", \"outbreak\", \"oven\", \"oven\", \"oven\", \"overheid\", \"overheid\", \"overheid\", \"overheid\", \"overheid\", \"overheid\", \"overheid\", \"overvallers\", \"overvallers\", \"paar\", \"paar\", \"paar\", \"paar\", \"paar\", \"paar\", \"paar\", \"palestijnen\", \"palestijnen\", \"palestijnen\", \"palestijnen\", \"palestijnen\", \"palestijnse\", \"palestijnse\", \"palestijnse\", \"palestijnse\", \"palestijnse\", \"palestijnse\", \"palestijnse\", \"parler\", \"partij\", \"partij\", \"partij\", \"partij\", \"partij\", \"partij\", \"partij\", \"partijen\", \"partijen\", \"partijen\", \"partijen\", \"partijen\", \"partijen\", \"partijen\", \"pasta\", \"pasta\", \"pasta\", \"patienten\", \"patienten\", \"patienten\", \"patienten\", \"patienten\", \"patienten\", \"patienten\", \"pechtold\", \"pechtold\", \"pelosi\", \"pelosi\", \"pence\", \"pence\", \"peper\", \"peper\", \"per\", \"per\", \"per\", \"per\", \"per\", \"per\", \"per\", \"personage\", \"personage\", \"personage\", \"personages\", \"personages\", \"personages\", \"pfizer\", \"pfizer\", \"pfizer\", \"pfizer\", \"pfizer\", \"pfizer\", \"pfizer\", \"pianist\", \"pianist\", \"pianist\", \"planten\", \"planten\", \"planten\", \"planten\", \"planten\", \"planten\", \"plastic\", \"plastic\", \"plastic\", \"plastic\", \"plastic\", \"plastic\", \"plastic\", \"ploumen\", \"ploumen\", \"plussers\", \"plussers\", \"plussers\", \"plussers\", \"plussers\", \"plussers\", \"plussers\", \"podium\", \"podium\", \"podium\", \"podium\", \"podium\", \"podium\", \"podium\", \"poetin\", \"poetin\", \"poetin\", \"poetin\", \"poetin\", \"poetin\", \"politie\", \"politie\", \"politie\", \"politie\", \"politie\", \"politie\", \"politie\", \"politiek\", \"politiek\", \"politiek\", \"politiek\", \"politiek\", \"politiek\", \"politiek\", \"politieke\", \"politieke\", \"politieke\", \"politieke\", \"politieke\", \"politieke\", \"politieke\", \"pompoen\", \"pompoen\", \"premiere\", \"premiere\", \"premiere\", \"president\", \"president\", \"president\", \"president\", \"president\", \"president\", \"president\", \"presidentschap\", \"presidentschap\", \"presidentschap\", \"presidentschap\", \"presidentschap\", \"prijsstijging\", \"prik\", \"prik\", \"prik\", \"prik\", \"prik\", \"prik\", \"prik\", \"prikken\", \"prikken\", \"prikken\", \"prikken\", \"prikken\", \"prikken\", \"prikken\", \"prints\", \"procent\", \"procent\", \"procent\", \"procent\", \"procent\", \"procent\", \"procent\", \"producer\", \"producer\", \"prometheus\", \"prothese\", \"psv\", \"psv\", \"psv\", \"psv\", \"psv\", \"publiek\", \"publiek\", \"publiek\", \"publiek\", \"publiek\", \"publiek\", \"publiek\", \"puree\", \"pvda\", \"pvda\", \"pvda\", \"pvda\", \"pvda\", \"pvda\", \"raiola\", \"raiola\", \"raisi\", \"raketten\", \"raketten\", \"raketten\", \"raketten\", \"raketten\", \"razzouki\", \"recherche\", \"recherche\", \"recherche\", \"recherche\", \"recherche\", \"recherche\", \"rechtbank\", \"rechtbank\", \"rechtbank\", \"rechtbank\", \"rechtbank\", \"rechtbank\", \"rechtbank\", \"rechtsback\", \"regeerakkoord\", \"regeerakkoord\", \"regeerakkoord\", \"regering\", \"regering\", \"regering\", \"regering\", \"regering\", \"regering\", \"regering\", \"regisseur\", \"regisseur\", \"regisseur\", \"regisseur\", \"regisseur\", \"regisseur\", \"rensch\", \"rente\", \"rente\", \"rente\", \"rente\", \"republikein\", \"republikein\", \"republikeinen\", \"republikeinen\", \"republikeinen\", \"republikeinen\", \"republikeinen\", \"republikeins\", \"republikeinse\", \"republikeinse\", \"republikeinse\", \"republikeinse\", \"republikeinse\", \"republikeinse\", \"restaurant\", \"restaurant\", \"restaurant\", \"restaurant\", \"restaurant\", \"restaurant\", \"restaurant\", \"ridouan\", \"ridouan\", \"rijkers\", \"rivm\", \"rivm\", \"rivm\", \"rivm\", \"rivm\", \"rivm\", \"roelvink\", \"roman\", \"roman\", \"roman\", \"roman\", \"roman\", \"roman\", \"roman\", \"rosendaal\", \"rusland\", \"rusland\", \"rusland\", \"rusland\", \"rusland\", \"rusland\", \"rusland\", \"russische\", \"russische\", \"russische\", \"russische\", \"russische\", \"russische\", \"russische\", \"rutte\", \"rutte\", \"rutte\", \"rutte\", \"rutte\", \"rutte\", \"rutte\", \"ruttes\", \"ruttes\", \"samenleving\", \"samenleving\", \"samenleving\", \"samenleving\", \"samenleving\", \"samenleving\", \"samenleving\", \"samsom\", \"sangare\", \"sanquin\", \"saus\", \"saus\", \"schiphol\", \"schiphol\", \"schiphol\", \"schiphol\", \"schiphol\", \"schiphol\", \"schiphol\", \"schrijver\", \"schrijver\", \"schrijver\", \"schrijver\", \"schrijver\", \"schrijver\", \"schrijver\", \"segers\", \"segers\", \"seizoen\", \"seizoen\", \"seizoen\", \"seizoen\", \"seizoen\", \"seizoen\", \"seizoen\", \"senaat\", \"senaat\", \"senaat\", \"senaat\", \"senaat\", \"senaat\", \"senatoren\", \"senatoren\", \"senatoren\", \"senatoren\", \"serie\", \"serie\", \"serie\", \"serie\", \"serie\", \"serie\", \"serie\", \"serveer\", \"serveer\", \"shell\", \"shell\", \"shell\", \"shell\", \"shell\", \"shell\", \"sigrid\", \"sigrid\", \"sigrid\", \"sigrid\", \"sinds\", \"sinds\", \"sinds\", \"sinds\", \"sinds\", \"sinds\", \"sinds\", \"slachtoffer\", \"slachtoffer\", \"slachtoffer\", \"slachtoffer\", \"slachtoffer\", \"slachtoffer\", \"slachtoffer\", \"sloveen\", \"smaak\", \"smaak\", \"smaak\", \"smaak\", \"smaak\", \"smaak\", \"snij\", \"snijd\", \"snijd\", \"sobibor\", \"sojasaus\", \"song\", \"song\", \"song\", \"songs\", \"sp\", \"sp\", \"sp\", \"sp\", \"sp\", \"sp\", \"spaarders\", \"speelde\", \"speelde\", \"speelde\", \"speelde\", \"speelde\", \"speelde\", \"speelde\", \"spelen\", \"spelen\", \"spelen\", \"spelen\", \"spelen\", \"spelen\", \"spelen\", \"spelers\", \"spelers\", \"spelers\", \"spelers\", \"spelers\", \"spelers\", \"spelers\", \"sporting\", \"sporting\", \"staat\", \"staat\", \"staat\", \"staat\", \"staat\", \"staat\", \"staat\", \"stad\", \"stad\", \"stad\", \"stad\", \"stad\", \"stad\", \"stad\", \"staten\", \"staten\", \"staten\", \"staten\", \"staten\", \"staten\", \"staten\", \"steekpartij\", \"strafeis\", \"suu\", \"suu\", \"tadic\", \"tadic\", \"taghi\", \"taghi\", \"taghi\", \"taliban\", \"taliban\", \"taliban\", \"taliban\", \"taliban\", \"taliban\", \"tarief\", \"tarief\", \"tarief\", \"tarief\", \"tarief\", \"tarief\", \"tarieven\", \"tarieven\", \"tarieven\", \"tarieven\", \"tarieven\", \"ten\", \"ten\", \"ten\", \"ten\", \"ten\", \"ten\", \"ten\", \"tentoonstelling\", \"tentoonstelling\", \"tentoonstelling\", \"tentoonstelling\", \"test\", \"test\", \"test\", \"test\", \"test\", \"test\", \"test\", \"testen\", \"testen\", \"testen\", \"testen\", \"testen\", \"testen\", \"testen\", \"texas\", \"texas\", \"texas\", \"texas\", \"the\", \"the\", \"the\", \"the\", \"the\", \"the\", \"the\", \"thijn\", \"thijn\", \"thijn\", \"tigray\", \"tigray\", \"tijd\", \"tijd\", \"tijd\", \"tijd\", \"tijd\", \"tijd\", \"tijd\", \"tijdens\", \"tijdens\", \"tijdens\", \"tijdens\", \"tijdens\", \"tijdens\", \"tijdens\", \"timber\", \"timber\", \"timman\", \"titel\", \"titel\", \"titel\", \"titel\", \"titel\", \"titel\", \"titel\", \"tjeenk\", \"tjeenk\", \"tolken\", \"tolken\", \"tolken\", \"tolken\", \"tplf\", \"trainer\", \"trainer\", \"trainer\", \"trainer\", \"trainer\", \"trombose\", \"trombose\", \"trump\", \"trump\", \"trump\", \"trump\", \"trump\", \"trump\", \"trump\", \"trumps\", \"trumps\", \"trumps\", \"tuin\", \"tuin\", \"tuin\", \"tuin\", \"tuin\", \"tuin\", \"tuin\", \"tuindorp\", \"tuindorp\", \"tuschinski\", \"twee\", \"twee\", \"twee\", \"twee\", \"twee\", \"twee\", \"twee\", \"tweede\", \"tweede\", \"tweede\", \"tweede\", \"tweede\", \"tweede\", \"tweede\", \"twitter\", \"twitter\", \"twitter\", \"twitter\", \"twitter\", \"twitter\", \"twitter\", \"ui\", \"ui\", \"uitstoot\", \"uitstoot\", \"uitstoot\", \"uitstoot\", \"uitstoot\", \"uitstoot\", \"uitstoot\", \"uur\", \"uur\", \"uur\", \"uur\", \"uur\", \"uur\", \"uur\", \"uyl\", \"vaak\", \"vaak\", \"vaak\", \"vaak\", \"vaak\", \"vaak\", \"vaak\", \"vaccin\", \"vaccin\", \"vaccin\", \"vaccin\", \"vaccin\", \"vaccin\", \"vaccin\", \"vaccinatie\", \"vaccinatie\", \"vaccinatie\", \"vaccinatie\", \"vaccinatie\", \"vaccinatie\", \"vaccinatie\", \"vaccinatiegraad\", \"vaccinatiegraad\", \"vaccinatiegraad\", \"vaccinatiegraad\", \"vaccinatiegraad\", \"vaccinatiegraad\", \"vaccinaties\", \"vaccinaties\", \"vaccinaties\", \"vaccinaties\", \"vaccinaties\", \"vaccinaties\", \"vaccinaties\", \"vaccineren\", \"vaccineren\", \"vaccineren\", \"vaccineren\", \"vaccineren\", \"vaccineren\", \"vaccineren\", \"vaccins\", \"vaccins\", \"vaccins\", \"vaccins\", \"vaccins\", \"vaccins\", \"vaccins\", \"vader\", \"vader\", \"vader\", \"vader\", \"vader\", \"vader\", \"vader\", \"variant\", \"variant\", \"variant\", \"variant\", \"variant\", \"variant\", \"variant\", \"vattenfall\", \"vattenfall\", \"verdachte\", \"verdachte\", \"verdachte\", \"verdachte\", \"verdachte\", \"verdachte\", \"verdachte\", \"verdachten\", \"verdachten\", \"verdachten\", \"verdachten\", \"verdachten\", \"verdachten\", \"verdachten\", \"verhaal\", \"verhaal\", \"verhaal\", \"verhaal\", \"verhaal\", \"verhaal\", \"verhaal\", \"verkenners\", \"verkiezingen\", \"verkiezingen\", \"verkiezingen\", \"verkiezingen\", \"verkiezingen\", \"verkiezingen\", \"verkiezingen\", \"versoepelingen\", \"versoepelingen\", \"versoepelingen\", \"versoepelingen\", \"versoepelingen\", \"versoepelingen\", \"versoepelingen\", \"verstappen\", \"verstappen\", \"verstappen\", \"verstappen\", \"vind\", \"vind\", \"vind\", \"vind\", \"vind\", \"vind\", \"vind\", \"virus\", \"virus\", \"virus\", \"virus\", \"virus\", \"virus\", \"virus\", \"voeg\", \"voeg\", \"voeg\", \"voeg\", \"voetbal\", \"voetbal\", \"voetbal\", \"voetbal\", \"voetbal\", \"voetbal\", \"voetbal\", \"vogels\", \"vogels\", \"vogels\", \"vogels\", \"vogels\", \"volgens\", \"volgens\", \"volgens\", \"volgens\", \"volgens\", \"volgens\", \"volgens\", \"volksgezondheid\", \"volksgezondheid\", \"volksgezondheid\", \"volksgezondheid\", \"volksgezondheid\", \"volksgezondheid\", \"volksgezondheid\", \"vooral\", \"vooral\", \"vooral\", \"vooral\", \"vooral\", \"vooral\", \"vooral\", \"vs\", \"vs\", \"vs\", \"vs\", \"vs\", \"vs\", \"vs\", \"vvd\", \"vvd\", \"vvd\", \"vvd\", \"vvd\", \"vvd\", \"vvd\", \"waar\", \"waar\", \"waar\", \"waar\", \"waar\", \"waar\", \"waar\", \"waarin\", \"waarin\", \"waarin\", \"waarin\", \"waarin\", \"waarin\", \"waarin\", \"wandelen\", \"wandelen\", \"wandelen\", \"wandelen\", \"wandelen\", \"wandelen\", \"wandelen\", \"washington\", \"washington\", \"washington\", \"washington\", \"washington\", \"washington\", \"washington\", \"wassink\", \"wassink\", \"water\", \"water\", \"water\", \"water\", \"water\", \"water\", \"water\", \"waterstof\", \"waterstof\", \"waterstof\", \"waterstof\", \"we\", \"we\", \"we\", \"we\", \"we\", \"we\", \"we\", \"wedstrijd\", \"wedstrijd\", \"wedstrijd\", \"wedstrijd\", \"wedstrijd\", \"wedstrijd\", \"wedstrijd\", \"wedstrijden\", \"wedstrijden\", \"wedstrijden\", \"wedstrijden\", \"wedstrijden\", \"wedstrijden\", \"wedstrijden\", \"week\", \"week\", \"week\", \"week\", \"week\", \"week\", \"week\", \"weer\", \"weer\", \"weer\", \"weer\", \"weer\", \"weer\", \"weer\", \"weet\", \"weet\", \"weet\", \"weet\", \"weet\", \"weet\", \"weet\", \"weisselberg\", \"weken\", \"weken\", \"weken\", \"weken\", \"weken\", \"weken\", \"weken\", \"wel\", \"wel\", \"wel\", \"wel\", \"wel\", \"wel\", \"wel\", \"werden\", \"werden\", \"werden\", \"werden\", \"werden\", \"werden\", \"werden\", \"wereld\", \"wereld\", \"wereld\", \"wereld\", \"wereld\", \"wereld\", \"wereld\", \"wereldkampioen\", \"wereldkampioen\", \"wereldkampioen\", \"wereldkampioen\", \"wereldkampioen\", \"wereldkampioen\", \"werk\", \"werk\", \"werk\", \"werk\", \"werk\", \"werk\", \"werk\", \"wiersum\", \"wiersum\", \"wij\", \"wij\", \"wij\", \"wij\", \"wij\", \"wij\", \"wij\", \"wilders\", \"wilders\", \"wilders\", \"wilders\", \"wilders\", \"wilders\", \"wilders\", \"willen\", \"willen\", \"willen\", \"willen\", \"willen\", \"willen\", \"willen\", \"willink\", \"willink\", \"willink\", \"willink\", \"winkel\", \"winkel\", \"winkel\", \"winkel\", \"winkel\", \"winkel\", \"winkel\", \"winterstop\", \"won\", \"won\", \"won\", \"won\", \"won\", \"won\", \"won\", \"woningen\", \"woningen\", \"woningen\", \"woningen\", \"woningen\", \"woningen\", \"woningen\", \"wopke\", \"wopke\", \"wopke\", \"xinjiang\", \"yair\", \"youssef\", \"zaak\", \"zaak\", \"zaak\", \"zaak\", \"zaak\", \"zaak\", \"zaak\", \"zandschulp\", \"zanger\", \"zanger\", \"zanger\", \"zanger\", \"zanger\", \"zangeres\", \"zangeres\", \"zangeres\", \"zegt\", \"zegt\", \"zegt\", \"zegt\", \"zegt\", \"zegt\", \"zegt\", \"zei\", \"zei\", \"zei\", \"zei\", \"zei\", \"zei\", \"zei\", \"zeijl\", \"zeijst\", \"zemmour\", \"zemmour\", \"zemmour\", \"zemmour\", \"zie\", \"zie\", \"zie\", \"zie\", \"zie\", \"zie\", \"zie\", \"ziekenhuizen\", \"ziekenhuizen\", \"ziekenhuizen\", \"ziekenhuizen\", \"ziekenhuizen\", \"ziekenhuizen\", \"ziekenhuizen\", \"zien\", \"zien\", \"zien\", \"zien\", \"zien\", \"zien\", \"zien\", \"zit\", \"zit\", \"zit\", \"zit\", \"zit\", \"zit\", \"zit\", \"ziyech\", \"zorg\", \"zorg\", \"zorg\", \"zorg\", \"zorg\", \"zorg\", \"zorg\", \"zout\", \"zout\", \"zout\", \"zout\", \"zout\", \"zwanen\"]}, \"R\": 30, \"lambda.step\": 0.01, \"plot.opts\": {\"xlab\": \"PC1\", \"ylab\": \"PC2\"}, \"topic.order\": [6, 5, 1, 7, 4, 2, 3]};\n",
              "\n",
              "function LDAvis_load_lib(url, callback){\n",
              "  var s = document.createElement('script');\n",
              "  s.src = url;\n",
              "  s.async = true;\n",
              "  s.onreadystatechange = s.onload = callback;\n",
              "  s.onerror = function(){console.warn(\"failed to load library \" + url);};\n",
              "  document.getElementsByTagName(\"head\")[0].appendChild(s);\n",
              "}\n",
              "\n",
              "if(typeof(LDAvis) !== \"undefined\"){\n",
              "   // already loaded: just create the visualization\n",
              "   !function(LDAvis){\n",
              "       new LDAvis(\"#\" + \"ldavis_el591405239486480164813387746\", ldavis_el591405239486480164813387746_data);\n",
              "   }(LDAvis);\n",
              "}else if(typeof define === \"function\" && define.amd){\n",
              "   // require.js is available: use it to load d3/LDAvis\n",
              "   require.config({paths: {d3: \"https://d3js.org/d3.v5\"}});\n",
              "   require([\"d3\"], function(d3){\n",
              "      window.d3 = d3;\n",
              "      LDAvis_load_lib(\"https://cdn.jsdelivr.net/gh/bmabey/pyLDAvis@3.3.1/pyLDAvis/js/ldavis.v3.0.0.js\", function(){\n",
              "        new LDAvis(\"#\" + \"ldavis_el591405239486480164813387746\", ldavis_el591405239486480164813387746_data);\n",
              "      });\n",
              "    });\n",
              "}else{\n",
              "    // require.js not available: dynamically load d3 & LDAvis\n",
              "    LDAvis_load_lib(\"https://d3js.org/d3.v5.js\", function(){\n",
              "         LDAvis_load_lib(\"https://cdn.jsdelivr.net/gh/bmabey/pyLDAvis@3.3.1/pyLDAvis/js/ldavis.v3.0.0.js\", function(){\n",
              "                 new LDAvis(\"#\" + \"ldavis_el591405239486480164813387746\", ldavis_el591405239486480164813387746_data);\n",
              "            })\n",
              "         });\n",
              "}\n",
              "</script>"
            ]
          },
          "metadata": {},
          "execution_count": 43
        }
      ]
    }
  ]
}